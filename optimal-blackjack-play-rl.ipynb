{
 "cells": [
  {
   "cell_type": "markdown",
   "id": "1121941f",
   "metadata": {
    "papermill": {
     "duration": 0.008401,
     "end_time": "2023-06-19T08:37:13.883794",
     "exception": false,
     "start_time": "2023-06-19T08:37:13.875393",
     "status": "completed"
    },
    "tags": []
   },
   "source": [
    "# Optimal Blackjack with Reinforcement Learning \n",
    "\n",
    "You will enjoy this notebook if you:\n",
    "- Are interested in learning more about the card game Blackjack\n",
    "- Would like to see reinforcement learning applied to simply but highly stochastic games\n",
    "- Are interested in Monte Carlo methods and how they are used to evaluate and improve policies\n",
    "\n",
    "Existing Reinforcement Learning (RL) environments often miss nuances of the real game of Blackjack. Cards not being replaced and drawing based on inflexible probabilities will inevitably introduce inacuracies and \n",
    "\n",
    "### Why a Custom Environment?\n",
    "To better account for the complexities of real-world Blackjack, we've built an environment that incorporates card counting. This enhancement over standard environments brings us closer to the dynamic nature of the game, setting the stage for more effective RL strategies.\n",
    "\n",
    "Features:\n",
    "- **Card Dealing with Memory**: Unlike other environments where each card drawn is an independent event with equal probabilities, our environment emulates a real-life card dealing scenario. Once a card is drawn, it is removed from the deck until reshuffling, significantly affecting the probabilities of future card draws.\n",
    "- **Redeal Mechanics**: Passing `redeal=True` into our `reset()` function provides an alternate to the conventional `reset()` method. Instead of reshuffling and redealing from a full deck, it continues dealing from the same deck until a certain proportion of cards `(1-shuffle_frequency)` have been dealt. This simulates realistic gameplay where games are often played with the same deck until a significant number of cards have been dealt.\n",
    "- **Flexible Observation Output**: Our environment is versatile, capable of outputting both conventional and comprehensive observations. It can provide the standard `(player_total, dealer_card, usable_ace)` tuple or a more detailed observation pattern that includes the remaining deck: `(player_hand, dealer_card, remaining_cards)`.\n",
    "- **Beginning From a Specified State**: We can specify a state in the `reset()` method to restart the hand to, even when redealing from a depleted deck. This allows us to explore certain states without having to randomly encounter them."
   ]
  },
  {
   "cell_type": "code",
   "execution_count": 1,
   "id": "a6ef747f",
   "metadata": {
    "_kg_hide-input": true,
    "execution": {
     "iopub.execute_input": "2023-06-19T08:37:13.902285Z",
     "iopub.status.busy": "2023-06-19T08:37:13.901829Z",
     "iopub.status.idle": "2023-06-19T08:37:13.952570Z",
     "shell.execute_reply": "2023-06-19T08:37:13.951342Z"
    },
    "papermill": {
     "duration": 0.064021,
     "end_time": "2023-06-19T08:37:13.955612",
     "exception": false,
     "start_time": "2023-06-19T08:37:13.891591",
     "status": "completed"
    },
    "tags": []
   },
   "outputs": [],
   "source": [
    "import random\n",
    "\n",
    "class Blackjack:\n",
    "    '''\n",
    "    A class representing a Blackjack environment for reinforcement learning.\n",
    " \n",
    "    The environment follows OpenAI's Gym API conventions, allowing for easy interaction and \n",
    "    integration with reinforcement learning algorithms.\n",
    "    '''\n",
    "    def __init__(self, stake=10, n_decks=4, shuffle_frequency=0.5, simple_observations=True):\n",
    "        # Instantiate instance variables\n",
    "        self.stake=stake\n",
    "        self.n_decks = n_decks\n",
    "        self.shuffle_frequency = shuffle_frequency\n",
    "        self.simple_observations = simple_observations\n",
    "        \n",
    "        # Initialize game state\n",
    "        self.deck = []\n",
    "        self.player_hand = []\n",
    "        self.dealer_hand = []\n",
    "        self.game_over = False\n",
    "        \n",
    "    def reset(self, state=None, redeal=False):\n",
    "        '''\n",
    "        Resets the game state, shuffles the deck, and deals initial cards.\n",
    "        Returns the initial observations.\n",
    "        Parameters:\n",
    "            state: An optional parameter representing a new game state. \n",
    "                We can optionally choose the inital state of the game, cards will be removed from the deck\n",
    "                and the dealer will be given one specified card and one random hole card.\n",
    "            redeal: An optional parameter, if True will deal following hands from the same deck without shuffling.\n",
    "                The deck will be shuffled until shuffle_frequency is the proportion remaining.\n",
    "        '''\n",
    "        self.game_over = False\n",
    "        \n",
    "        if redeal:\n",
    "            # Shuffle deck and initialize player hands if there are few enough cards left\n",
    "            proportion_of_deck_left = len(self.deck) / (self.n_decks * 52)\n",
    "            if proportion_of_deck_left <= self.shuffle_frequency:\n",
    "                self.deck = self.shuffle_deck()\n",
    "        else:\n",
    "            self.deck = self.shuffle_deck()\n",
    "            \n",
    "        self.player_hand = []\n",
    "        self.dealer_hand = []\n",
    "        \n",
    "        if state: # If we're reading in a specific state to use:\n",
    "            player_total = state[0]\n",
    "            dealer_card = state[1]\n",
    "            usable_ace = state[2]\n",
    "            \n",
    "            if dealer_card not in self.deck:\n",
    "                raise Exception(\"Dealer upcard not in deck.\")\n",
    "            self.deal_card(self.dealer_hand, dealer_card)\n",
    "            self.deal_card(self.dealer_hand)\n",
    "            \n",
    "            \n",
    "            if usable_ace:\n",
    "                player_card1 = 11\n",
    "                player_card2 = player_total - 11\n",
    "                if player_card2 == 1: # Bug fixing the possible case that player is dealt two aces. \n",
    "                    player_card2 = 11\n",
    "            else:\n",
    "                choice = random.choice(self.deck)\n",
    "                attempts = 1 # Error handling if there aren't any eligible cards in the deck.\n",
    "                while (choice == 11) or (player_total - choice < 2) or (player_total - choice > 10) or ((player_total - choice) not in self.deck): \n",
    "                    choice = random.choice(self.deck) # This may be less optimal but it's most accurate\n",
    "                    attempts += 1\n",
    "                    if attempts > 1000:\n",
    "                        raise Exception(\"Player hand not possible with current deck.\")\n",
    "                player_card1 = choice\n",
    "                player_card2 = player_total - player_card1\n",
    "            \n",
    "            self.deal_card(self.player_hand, player_card1)\n",
    "            self.deal_card(self.player_hand, player_card2)\n",
    "            \n",
    "            \n",
    "        else:\n",
    "            for _ in range(2): # Deal 2 random cards to the player and dealer\n",
    "                self.deal_card(self.player_hand)\n",
    "                self.deal_card(self.dealer_hand)\n",
    "            \n",
    "        if self.calculate_hand(self.player_hand) == 21 or self.calculate_hand(self.dealer_hand) == 21:\n",
    "            self.game_over = True\n",
    "            \n",
    "        return self.get_observations()\n",
    "    \n",
    "    def shuffle_deck(self):\n",
    "        '''\n",
    "        Returns a shuffled deck with the specified number of decks.\n",
    "        '''\n",
    "        deck = [2,3,4,5,6,7,8,9,10,10,10,10,11] * 4 * self.n_decks\n",
    "        random.shuffle(deck)\n",
    "        return deck\n",
    "    \n",
    "    def deal_card(self, hand, card=None):\n",
    "        '''\n",
    "        Deals a card from the deck to a specified hand.\n",
    "        '''\n",
    "        if card:\n",
    "            card_index = self.deck.index(card)\n",
    "            hand.append(self.deck.pop(card_index))\n",
    "            \n",
    "        else:\n",
    "            hand.append(self.deck.pop())\n",
    "   \n",
    "    def stick(self):\n",
    "        '''\n",
    "        Ends the player's turn without drawing any more cards.\n",
    "        '''\n",
    "        self.game_over = True\n",
    "        \n",
    "    def hit(self):\n",
    "        '''\n",
    "        Deals another card to the player's hand. If the total exceeds 21, the game ends.\n",
    "        '''\n",
    "        self.deal_card(self.player_hand)\n",
    "        if self.calculate_hand(self.player_hand) > 21:\n",
    "            self.game_over = True\n",
    "    \n",
    "    def calculate_hand(self, hand):\n",
    "        '''\n",
    "        Calculates the total points in a hand.\n",
    "        If the hand's total is over 21 and contains an ace, the value of that ace\n",
    "        is reduced to 1.\n",
    "        '''\n",
    "        total = sum(hand)\n",
    "        # Handle \"soft\" aces (value 11)\n",
    "        while total > 21 and 11 in hand:\n",
    "            for i in range(len(hand)):\n",
    "                if hand[i] == 11:\n",
    "                    hand[i] = 1\n",
    "                    break # In case of more than 1 ace, don't set both to 1.\n",
    "            total = sum(hand)\n",
    "        return total\n",
    "    \n",
    "    def resolve_dealer_hand(self):\n",
    "        '''\n",
    "        Draws cards for the dealer until they reach at least 17 points.\n",
    "        '''\n",
    "        while self.calculate_hand(self.dealer_hand) < 17:\n",
    "            self.deal_card(self.dealer_hand)\n",
    "            \n",
    "        \n",
    "    def action(self, action):\n",
    "        '''\n",
    "        Handles an action taken by the player. It throws an error if the game is over.\n",
    "        Returns observations, reward, done, info.\n",
    "        '''\n",
    "        if self.is_done():\n",
    "            raise Exception(\"Game is over, actions are not possible.\")\n",
    "    \n",
    "        if action == 0:\n",
    "            self.stick()\n",
    "            self.resolve_dealer_hand()\n",
    "        if action == 1:\n",
    "            self.hit()\n",
    "            \n",
    "        observations = self.get_observations()\n",
    "        reward = self.calculate_reward()\n",
    "        done = self.is_done()\n",
    "        info = self.get_info()\n",
    "        \n",
    "        return observations, reward, done, info\n",
    "    \n",
    "    def get_observations(self):\n",
    "        '''\n",
    "        Returns the current game state. If the game is over, all of the dealer's cards are revealed.\n",
    "        '''\n",
    "        def format_deck(deck):\n",
    "            '''\n",
    "            Reformats a long list of cards into a more readable nested tuple format.\n",
    "            '''\n",
    "            counter_dict = {i: 0 for i in range(2,12)}\n",
    "            for card in deck:\n",
    "                counter_dict[card] += 1\n",
    "\n",
    "            return tuple((card, count) for card, count in counter_dict.items())\n",
    "\n",
    "        if self.simple_observations:\n",
    "            obs1 = self.calculate_hand(self.player_hand)\n",
    "            obs2 = self.dealer_hand[1] if not self.game_over else self.calculate_hand(self.dealer_hand)\n",
    "            obs3 = 11 in self.player_hand\n",
    "        else:\n",
    "            obs1 = tuple(self.player_hand)\n",
    "            obs2 = tuple(self.dealer_hand[1:]) if not self.game_over else tuple(self.dealer_hand)\n",
    "            deck = self.deck.copy()\n",
    "            if not self.game_over:\n",
    "                deck.append(self.dealer_hand[0])\n",
    "            obs3 = format_deck(deck)\n",
    "\n",
    "        return obs1, obs2, obs3\n",
    "        \n",
    "    def get_actions(self):\n",
    "        '''\n",
    "        Returns the available actions for the player. \n",
    "        '''\n",
    "        # If game is over, no actions can be performed\n",
    "        if self.game_over:\n",
    "            return []\n",
    "        else:\n",
    "            # 0 stands for 'stick', 1 stands for 'hit'\n",
    "            return [0, 1]\n",
    "\n",
    "    def calculate_reward(self):\n",
    "        '''\n",
    "        Calculates the reward after the game ends. The reward depends on the result of the game.\n",
    "        If the game has not yet finished, this method will return 0.\n",
    "        '''\n",
    "        if self.is_done() == False:\n",
    "            return 0\n",
    "        player_n_cards = len(self.player_hand)\n",
    "        player_total = self.calculate_hand(self.player_hand)\n",
    "        dealer_total = self.calculate_hand(self.dealer_hand)\n",
    "        \n",
    "        if player_total == dealer_total:\n",
    "            return 0 # Push \n",
    "        elif player_total == 21 and player_n_cards == 2:\n",
    "            return self.stake * 1.5 # Dealt Blackjack\n",
    "        elif player_total > 21:\n",
    "            return -self.stake # Player bust\n",
    "        elif dealer_total > 21:\n",
    "            return self.stake # Dealer bust\n",
    "        elif player_total < dealer_total:\n",
    "            return -self.stake # Dealer has a higher total\n",
    "        elif player_total > dealer_total:\n",
    "            return self.stake # Player has a higher total\n",
    "        \n",
    "    def is_done(self):\n",
    "        '''\n",
    "        Checks if the game is over.\n",
    "        '''\n",
    "        return self.game_over\n",
    "    \n",
    "    def get_info(self):\n",
    "        '''\n",
    "        Returns a string of the game's current status.\n",
    "        This method is used to make interpreting game states more simple.\n",
    "        '''\n",
    "        player_n_cards = len(self.player_hand)\n",
    "        player_total = self.calculate_hand(self.player_hand)\n",
    "        dealer_total = self.calculate_hand(self.dealer_hand)\n",
    "        \n",
    "        if player_total == 21 and dealer_total == 21 and player_n_cards == 2:\n",
    "            return \"Player and dealer both dealt 21.\"\n",
    "        elif player_total == 21 and player_n_cards == 2:\n",
    "            return \"Player dealt Blackjack.\"\n",
    "        elif dealer_total == 21 and player_n_cards == 2:\n",
    "            return \"Dealer dealt 21.\"\n",
    "        \n",
    "        if self.is_done():\n",
    "            if player_total > 21:\n",
    "                return \"Player busted.\"\n",
    "            elif dealer_total > 21:\n",
    "                return \"Dealer busted.\"\n",
    "            elif player_total > dealer_total:\n",
    "                return f\"Player's {player_total} beats dealer's {dealer_total}.\"\n",
    "            elif player_total < dealer_total:\n",
    "                return f\"Player's {player_total} loses to dealer's {dealer_total}.\"\n",
    "            elif player_total == dealer_total:\n",
    "                return \"Push.\"\n",
    "        else:\n",
    "            return f\"Player has {sum(self.player_hand)} vs dealer's {self.dealer_hand[1]} and x.\""
   ]
  },
  {
   "cell_type": "markdown",
   "id": "3642c83d",
   "metadata": {
    "papermill": {
     "duration": 0.007326,
     "end_time": "2023-06-19T08:37:13.970712",
     "exception": false,
     "start_time": "2023-06-19T08:37:13.963386",
     "status": "completed"
    },
    "tags": []
   },
   "source": [
    "## Agents and Policies\n",
    "We're about to introduce a straightforward agent whose strategy for playing Blackjack adheres to a simple policy:\n",
    "\n",
    "- The agent \"sticks\" if the total value of the cards held is 20 or higher.\n",
    "- The agent \"hits\" if the total value is less than 20.\n",
    "\n",
    "Let's delve into this policy and explore its implications in the game:"
   ]
  },
  {
   "cell_type": "code",
   "execution_count": 2,
   "id": "0e73150d",
   "metadata": {
    "_kg_hide-input": true,
    "execution": {
     "iopub.execute_input": "2023-06-19T08:37:13.988034Z",
     "iopub.status.busy": "2023-06-19T08:37:13.987622Z",
     "iopub.status.idle": "2023-06-19T08:37:14.395004Z",
     "shell.execute_reply": "2023-06-19T08:37:14.393919Z"
    },
    "papermill": {
     "duration": 0.419081,
     "end_time": "2023-06-19T08:37:14.397443",
     "exception": false,
     "start_time": "2023-06-19T08:37:13.978362",
     "status": "completed"
    },
    "tags": []
   },
   "outputs": [
    {
     "data": {
      "text/html": [
       "        <script type=\"text/javascript\">\n",
       "        window.PlotlyConfig = {MathJaxConfig: 'local'};\n",
       "        if (window.MathJax && window.MathJax.Hub && window.MathJax.Hub.Config) {window.MathJax.Hub.Config({SVG: {font: \"STIX-Web\"}});}\n",
       "        if (typeof require !== 'undefined') {\n",
       "        require.undef(\"plotly\");\n",
       "        requirejs.config({\n",
       "            paths: {\n",
       "                'plotly': ['https://cdn.plot.ly/plotly-2.20.0.min']\n",
       "            }\n",
       "        });\n",
       "        require(['plotly'], function(Plotly) {\n",
       "            window._Plotly = Plotly;\n",
       "        });\n",
       "        }\n",
       "        </script>\n",
       "        "
      ]
     },
     "metadata": {},
     "output_type": "display_data"
    },
    {
     "data": {
      "text/html": [
       "<div>                            <div id=\"e5d2d1ac-f1f2-4f6f-b2ca-720809ddcf33\" class=\"plotly-graph-div\" style=\"height:525px; width:100%;\"></div>            <script type=\"text/javascript\">                require([\"plotly\"], function(Plotly) {                    window.PLOTLYENV=window.PLOTLYENV || {};                                    if (document.getElementById(\"e5d2d1ac-f1f2-4f6f-b2ca-720809ddcf33\")) {                    Plotly.newPlot(                        \"e5d2d1ac-f1f2-4f6f-b2ca-720809ddcf33\",                        [{\"colorscale\":[[0.0,\"#cccccc\"],[1.0,\"#eb7632\"]],\"hoverinfo\":\"text\",\"hovertext\":[[\"Player Total: 4<br>Dealer Upcard: 2<br>Action: Hit\",\"Player Total: 5<br>Dealer Upcard: 2<br>Action: Hit\",\"Player Total: 6<br>Dealer Upcard: 2<br>Action: Hit\",\"Player Total: 7<br>Dealer Upcard: 2<br>Action: Hit\",\"Player Total: 8<br>Dealer Upcard: 2<br>Action: Hit\",\"Player Total: 9<br>Dealer Upcard: 2<br>Action: Hit\",\"Player Total: 10<br>Dealer Upcard: 2<br>Action: Hit\",\"Player Total: 11<br>Dealer Upcard: 2<br>Action: Hit\",\"Player Total: 12<br>Dealer Upcard: 2<br>Action: Hit\",\"Player Total: 13<br>Dealer Upcard: 2<br>Action: Hit\",\"Player Total: 14<br>Dealer Upcard: 2<br>Action: Hit\",\"Player Total: 15<br>Dealer Upcard: 2<br>Action: Hit\",\"Player Total: 16<br>Dealer Upcard: 2<br>Action: Hit\",\"Player Total: 17<br>Dealer Upcard: 2<br>Action: Hit\",\"Player Total: 18<br>Dealer Upcard: 2<br>Action: Hit\",\"Player Total: 19<br>Dealer Upcard: 2<br>Action: Hit\",\"Player Total: 20<br>Dealer Upcard: 2<br>Action: Stick\",\"Player Total: 21<br>Dealer Upcard: 2<br>Action: Stick\"],[\"Player Total: 4<br>Dealer Upcard: 3<br>Action: Hit\",\"Player Total: 5<br>Dealer Upcard: 3<br>Action: Hit\",\"Player Total: 6<br>Dealer Upcard: 3<br>Action: Hit\",\"Player Total: 7<br>Dealer Upcard: 3<br>Action: Hit\",\"Player Total: 8<br>Dealer Upcard: 3<br>Action: Hit\",\"Player Total: 9<br>Dealer Upcard: 3<br>Action: Hit\",\"Player Total: 10<br>Dealer Upcard: 3<br>Action: Hit\",\"Player Total: 11<br>Dealer Upcard: 3<br>Action: Hit\",\"Player Total: 12<br>Dealer Upcard: 3<br>Action: Hit\",\"Player Total: 13<br>Dealer Upcard: 3<br>Action: Hit\",\"Player Total: 14<br>Dealer Upcard: 3<br>Action: Hit\",\"Player Total: 15<br>Dealer Upcard: 3<br>Action: Hit\",\"Player Total: 16<br>Dealer Upcard: 3<br>Action: Hit\",\"Player Total: 17<br>Dealer Upcard: 3<br>Action: Hit\",\"Player Total: 18<br>Dealer Upcard: 3<br>Action: Hit\",\"Player Total: 19<br>Dealer Upcard: 3<br>Action: Hit\",\"Player Total: 20<br>Dealer Upcard: 3<br>Action: Stick\",\"Player Total: 21<br>Dealer Upcard: 3<br>Action: Stick\"],[\"Player Total: 4<br>Dealer Upcard: 4<br>Action: Hit\",\"Player Total: 5<br>Dealer Upcard: 4<br>Action: Hit\",\"Player Total: 6<br>Dealer Upcard: 4<br>Action: Hit\",\"Player Total: 7<br>Dealer Upcard: 4<br>Action: Hit\",\"Player Total: 8<br>Dealer Upcard: 4<br>Action: Hit\",\"Player Total: 9<br>Dealer Upcard: 4<br>Action: Hit\",\"Player Total: 10<br>Dealer Upcard: 4<br>Action: Hit\",\"Player Total: 11<br>Dealer Upcard: 4<br>Action: Hit\",\"Player Total: 12<br>Dealer Upcard: 4<br>Action: Hit\",\"Player Total: 13<br>Dealer Upcard: 4<br>Action: Hit\",\"Player Total: 14<br>Dealer Upcard: 4<br>Action: Hit\",\"Player Total: 15<br>Dealer Upcard: 4<br>Action: Hit\",\"Player Total: 16<br>Dealer Upcard: 4<br>Action: Hit\",\"Player Total: 17<br>Dealer Upcard: 4<br>Action: Hit\",\"Player Total: 18<br>Dealer Upcard: 4<br>Action: Hit\",\"Player Total: 19<br>Dealer Upcard: 4<br>Action: Hit\",\"Player Total: 20<br>Dealer Upcard: 4<br>Action: Stick\",\"Player Total: 21<br>Dealer Upcard: 4<br>Action: Stick\"],[\"Player Total: 4<br>Dealer Upcard: 5<br>Action: Hit\",\"Player Total: 5<br>Dealer Upcard: 5<br>Action: Hit\",\"Player Total: 6<br>Dealer Upcard: 5<br>Action: Hit\",\"Player Total: 7<br>Dealer Upcard: 5<br>Action: Hit\",\"Player Total: 8<br>Dealer Upcard: 5<br>Action: Hit\",\"Player Total: 9<br>Dealer Upcard: 5<br>Action: Hit\",\"Player Total: 10<br>Dealer Upcard: 5<br>Action: Hit\",\"Player Total: 11<br>Dealer Upcard: 5<br>Action: Hit\",\"Player Total: 12<br>Dealer Upcard: 5<br>Action: Hit\",\"Player Total: 13<br>Dealer Upcard: 5<br>Action: Hit\",\"Player Total: 14<br>Dealer Upcard: 5<br>Action: Hit\",\"Player Total: 15<br>Dealer Upcard: 5<br>Action: Hit\",\"Player Total: 16<br>Dealer Upcard: 5<br>Action: Hit\",\"Player Total: 17<br>Dealer Upcard: 5<br>Action: Hit\",\"Player Total: 18<br>Dealer Upcard: 5<br>Action: Hit\",\"Player Total: 19<br>Dealer Upcard: 5<br>Action: Hit\",\"Player Total: 20<br>Dealer Upcard: 5<br>Action: Stick\",\"Player Total: 21<br>Dealer Upcard: 5<br>Action: Stick\"],[\"Player Total: 4<br>Dealer Upcard: 6<br>Action: Hit\",\"Player Total: 5<br>Dealer Upcard: 6<br>Action: Hit\",\"Player Total: 6<br>Dealer Upcard: 6<br>Action: Hit\",\"Player Total: 7<br>Dealer Upcard: 6<br>Action: Hit\",\"Player Total: 8<br>Dealer Upcard: 6<br>Action: Hit\",\"Player Total: 9<br>Dealer Upcard: 6<br>Action: Hit\",\"Player Total: 10<br>Dealer Upcard: 6<br>Action: Hit\",\"Player Total: 11<br>Dealer Upcard: 6<br>Action: Hit\",\"Player Total: 12<br>Dealer Upcard: 6<br>Action: Hit\",\"Player Total: 13<br>Dealer Upcard: 6<br>Action: Hit\",\"Player Total: 14<br>Dealer Upcard: 6<br>Action: Hit\",\"Player Total: 15<br>Dealer Upcard: 6<br>Action: Hit\",\"Player Total: 16<br>Dealer Upcard: 6<br>Action: Hit\",\"Player Total: 17<br>Dealer Upcard: 6<br>Action: Hit\",\"Player Total: 18<br>Dealer Upcard: 6<br>Action: Hit\",\"Player Total: 19<br>Dealer Upcard: 6<br>Action: Hit\",\"Player Total: 20<br>Dealer Upcard: 6<br>Action: Stick\",\"Player Total: 21<br>Dealer Upcard: 6<br>Action: Stick\"],[\"Player Total: 4<br>Dealer Upcard: 7<br>Action: Hit\",\"Player Total: 5<br>Dealer Upcard: 7<br>Action: Hit\",\"Player Total: 6<br>Dealer Upcard: 7<br>Action: Hit\",\"Player Total: 7<br>Dealer Upcard: 7<br>Action: Hit\",\"Player Total: 8<br>Dealer Upcard: 7<br>Action: Hit\",\"Player Total: 9<br>Dealer Upcard: 7<br>Action: Hit\",\"Player Total: 10<br>Dealer Upcard: 7<br>Action: Hit\",\"Player Total: 11<br>Dealer Upcard: 7<br>Action: Hit\",\"Player Total: 12<br>Dealer Upcard: 7<br>Action: Hit\",\"Player Total: 13<br>Dealer Upcard: 7<br>Action: Hit\",\"Player Total: 14<br>Dealer Upcard: 7<br>Action: Hit\",\"Player Total: 15<br>Dealer Upcard: 7<br>Action: Hit\",\"Player Total: 16<br>Dealer Upcard: 7<br>Action: Hit\",\"Player Total: 17<br>Dealer Upcard: 7<br>Action: Hit\",\"Player Total: 18<br>Dealer Upcard: 7<br>Action: Hit\",\"Player Total: 19<br>Dealer Upcard: 7<br>Action: Hit\",\"Player Total: 20<br>Dealer Upcard: 7<br>Action: Stick\",\"Player Total: 21<br>Dealer Upcard: 7<br>Action: Stick\"],[\"Player Total: 4<br>Dealer Upcard: 8<br>Action: Hit\",\"Player Total: 5<br>Dealer Upcard: 8<br>Action: Hit\",\"Player Total: 6<br>Dealer Upcard: 8<br>Action: Hit\",\"Player Total: 7<br>Dealer Upcard: 8<br>Action: Hit\",\"Player Total: 8<br>Dealer Upcard: 8<br>Action: Hit\",\"Player Total: 9<br>Dealer Upcard: 8<br>Action: Hit\",\"Player Total: 10<br>Dealer Upcard: 8<br>Action: Hit\",\"Player Total: 11<br>Dealer Upcard: 8<br>Action: Hit\",\"Player Total: 12<br>Dealer Upcard: 8<br>Action: Hit\",\"Player Total: 13<br>Dealer Upcard: 8<br>Action: Hit\",\"Player Total: 14<br>Dealer Upcard: 8<br>Action: Hit\",\"Player Total: 15<br>Dealer Upcard: 8<br>Action: Hit\",\"Player Total: 16<br>Dealer Upcard: 8<br>Action: Hit\",\"Player Total: 17<br>Dealer Upcard: 8<br>Action: Hit\",\"Player Total: 18<br>Dealer Upcard: 8<br>Action: Hit\",\"Player Total: 19<br>Dealer Upcard: 8<br>Action: Hit\",\"Player Total: 20<br>Dealer Upcard: 8<br>Action: Stick\",\"Player Total: 21<br>Dealer Upcard: 8<br>Action: Stick\"],[\"Player Total: 4<br>Dealer Upcard: 9<br>Action: Hit\",\"Player Total: 5<br>Dealer Upcard: 9<br>Action: Hit\",\"Player Total: 6<br>Dealer Upcard: 9<br>Action: Hit\",\"Player Total: 7<br>Dealer Upcard: 9<br>Action: Hit\",\"Player Total: 8<br>Dealer Upcard: 9<br>Action: Hit\",\"Player Total: 9<br>Dealer Upcard: 9<br>Action: Hit\",\"Player Total: 10<br>Dealer Upcard: 9<br>Action: Hit\",\"Player Total: 11<br>Dealer Upcard: 9<br>Action: Hit\",\"Player Total: 12<br>Dealer Upcard: 9<br>Action: Hit\",\"Player Total: 13<br>Dealer Upcard: 9<br>Action: Hit\",\"Player Total: 14<br>Dealer Upcard: 9<br>Action: Hit\",\"Player Total: 15<br>Dealer Upcard: 9<br>Action: Hit\",\"Player Total: 16<br>Dealer Upcard: 9<br>Action: Hit\",\"Player Total: 17<br>Dealer Upcard: 9<br>Action: Hit\",\"Player Total: 18<br>Dealer Upcard: 9<br>Action: Hit\",\"Player Total: 19<br>Dealer Upcard: 9<br>Action: Hit\",\"Player Total: 20<br>Dealer Upcard: 9<br>Action: Stick\",\"Player Total: 21<br>Dealer Upcard: 9<br>Action: Stick\"],[\"Player Total: 4<br>Dealer Upcard: 10<br>Action: Hit\",\"Player Total: 5<br>Dealer Upcard: 10<br>Action: Hit\",\"Player Total: 6<br>Dealer Upcard: 10<br>Action: Hit\",\"Player Total: 7<br>Dealer Upcard: 10<br>Action: Hit\",\"Player Total: 8<br>Dealer Upcard: 10<br>Action: Hit\",\"Player Total: 9<br>Dealer Upcard: 10<br>Action: Hit\",\"Player Total: 10<br>Dealer Upcard: 10<br>Action: Hit\",\"Player Total: 11<br>Dealer Upcard: 10<br>Action: Hit\",\"Player Total: 12<br>Dealer Upcard: 10<br>Action: Hit\",\"Player Total: 13<br>Dealer Upcard: 10<br>Action: Hit\",\"Player Total: 14<br>Dealer Upcard: 10<br>Action: Hit\",\"Player Total: 15<br>Dealer Upcard: 10<br>Action: Hit\",\"Player Total: 16<br>Dealer Upcard: 10<br>Action: Hit\",\"Player Total: 17<br>Dealer Upcard: 10<br>Action: Hit\",\"Player Total: 18<br>Dealer Upcard: 10<br>Action: Hit\",\"Player Total: 19<br>Dealer Upcard: 10<br>Action: Hit\",\"Player Total: 20<br>Dealer Upcard: 10<br>Action: Stick\",\"Player Total: 21<br>Dealer Upcard: 10<br>Action: Stick\"],[\"Player Total: 4<br>Dealer Upcard: 11<br>Action: Hit\",\"Player Total: 5<br>Dealer Upcard: 11<br>Action: Hit\",\"Player Total: 6<br>Dealer Upcard: 11<br>Action: Hit\",\"Player Total: 7<br>Dealer Upcard: 11<br>Action: Hit\",\"Player Total: 8<br>Dealer Upcard: 11<br>Action: Hit\",\"Player Total: 9<br>Dealer Upcard: 11<br>Action: Hit\",\"Player Total: 10<br>Dealer Upcard: 11<br>Action: Hit\",\"Player Total: 11<br>Dealer Upcard: 11<br>Action: Hit\",\"Player Total: 12<br>Dealer Upcard: 11<br>Action: Hit\",\"Player Total: 13<br>Dealer Upcard: 11<br>Action: Hit\",\"Player Total: 14<br>Dealer Upcard: 11<br>Action: Hit\",\"Player Total: 15<br>Dealer Upcard: 11<br>Action: Hit\",\"Player Total: 16<br>Dealer Upcard: 11<br>Action: Hit\",\"Player Total: 17<br>Dealer Upcard: 11<br>Action: Hit\",\"Player Total: 18<br>Dealer Upcard: 11<br>Action: Hit\",\"Player Total: 19<br>Dealer Upcard: 11<br>Action: Hit\",\"Player Total: 20<br>Dealer Upcard: 11<br>Action: Stick\",\"Player Total: 21<br>Dealer Upcard: 11<br>Action: Stick\"]],\"showscale\":false,\"x\":[4,5,6,7,8,9,10,11,12,13,14,15,16,17,18,19,20,21],\"xgap\":4,\"y\":[2,3,4,5,6,7,8,9,10,11],\"ygap\":4,\"z\":[[1,1,1,1,1,1,1,1,1,1,1,1,1,1,1,1,0,0],[1,1,1,1,1,1,1,1,1,1,1,1,1,1,1,1,0,0],[1,1,1,1,1,1,1,1,1,1,1,1,1,1,1,1,0,0],[1,1,1,1,1,1,1,1,1,1,1,1,1,1,1,1,0,0],[1,1,1,1,1,1,1,1,1,1,1,1,1,1,1,1,0,0],[1,1,1,1,1,1,1,1,1,1,1,1,1,1,1,1,0,0],[1,1,1,1,1,1,1,1,1,1,1,1,1,1,1,1,0,0],[1,1,1,1,1,1,1,1,1,1,1,1,1,1,1,1,0,0],[1,1,1,1,1,1,1,1,1,1,1,1,1,1,1,1,0,0],[1,1,1,1,1,1,1,1,1,1,1,1,1,1,1,1,0,0]],\"zmax\":1,\"zmin\":0,\"type\":\"heatmap\"}],                        {\"template\":{\"data\":{\"histogram2dcontour\":[{\"type\":\"histogram2dcontour\",\"colorbar\":{\"outlinewidth\":0,\"ticks\":\"\"},\"colorscale\":[[0.0,\"#0d0887\"],[0.1111111111111111,\"#46039f\"],[0.2222222222222222,\"#7201a8\"],[0.3333333333333333,\"#9c179e\"],[0.4444444444444444,\"#bd3786\"],[0.5555555555555556,\"#d8576b\"],[0.6666666666666666,\"#ed7953\"],[0.7777777777777778,\"#fb9f3a\"],[0.8888888888888888,\"#fdca26\"],[1.0,\"#f0f921\"]]}],\"choropleth\":[{\"type\":\"choropleth\",\"colorbar\":{\"outlinewidth\":0,\"ticks\":\"\"}}],\"histogram2d\":[{\"type\":\"histogram2d\",\"colorbar\":{\"outlinewidth\":0,\"ticks\":\"\"},\"colorscale\":[[0.0,\"#0d0887\"],[0.1111111111111111,\"#46039f\"],[0.2222222222222222,\"#7201a8\"],[0.3333333333333333,\"#9c179e\"],[0.4444444444444444,\"#bd3786\"],[0.5555555555555556,\"#d8576b\"],[0.6666666666666666,\"#ed7953\"],[0.7777777777777778,\"#fb9f3a\"],[0.8888888888888888,\"#fdca26\"],[1.0,\"#f0f921\"]]}],\"heatmap\":[{\"type\":\"heatmap\",\"colorbar\":{\"outlinewidth\":0,\"ticks\":\"\"},\"colorscale\":[[0.0,\"#0d0887\"],[0.1111111111111111,\"#46039f\"],[0.2222222222222222,\"#7201a8\"],[0.3333333333333333,\"#9c179e\"],[0.4444444444444444,\"#bd3786\"],[0.5555555555555556,\"#d8576b\"],[0.6666666666666666,\"#ed7953\"],[0.7777777777777778,\"#fb9f3a\"],[0.8888888888888888,\"#fdca26\"],[1.0,\"#f0f921\"]]}],\"heatmapgl\":[{\"type\":\"heatmapgl\",\"colorbar\":{\"outlinewidth\":0,\"ticks\":\"\"},\"colorscale\":[[0.0,\"#0d0887\"],[0.1111111111111111,\"#46039f\"],[0.2222222222222222,\"#7201a8\"],[0.3333333333333333,\"#9c179e\"],[0.4444444444444444,\"#bd3786\"],[0.5555555555555556,\"#d8576b\"],[0.6666666666666666,\"#ed7953\"],[0.7777777777777778,\"#fb9f3a\"],[0.8888888888888888,\"#fdca26\"],[1.0,\"#f0f921\"]]}],\"contourcarpet\":[{\"type\":\"contourcarpet\",\"colorbar\":{\"outlinewidth\":0,\"ticks\":\"\"}}],\"contour\":[{\"type\":\"contour\",\"colorbar\":{\"outlinewidth\":0,\"ticks\":\"\"},\"colorscale\":[[0.0,\"#0d0887\"],[0.1111111111111111,\"#46039f\"],[0.2222222222222222,\"#7201a8\"],[0.3333333333333333,\"#9c179e\"],[0.4444444444444444,\"#bd3786\"],[0.5555555555555556,\"#d8576b\"],[0.6666666666666666,\"#ed7953\"],[0.7777777777777778,\"#fb9f3a\"],[0.8888888888888888,\"#fdca26\"],[1.0,\"#f0f921\"]]}],\"surface\":[{\"type\":\"surface\",\"colorbar\":{\"outlinewidth\":0,\"ticks\":\"\"},\"colorscale\":[[0.0,\"#0d0887\"],[0.1111111111111111,\"#46039f\"],[0.2222222222222222,\"#7201a8\"],[0.3333333333333333,\"#9c179e\"],[0.4444444444444444,\"#bd3786\"],[0.5555555555555556,\"#d8576b\"],[0.6666666666666666,\"#ed7953\"],[0.7777777777777778,\"#fb9f3a\"],[0.8888888888888888,\"#fdca26\"],[1.0,\"#f0f921\"]]}],\"mesh3d\":[{\"type\":\"mesh3d\",\"colorbar\":{\"outlinewidth\":0,\"ticks\":\"\"}}],\"scatter\":[{\"fillpattern\":{\"fillmode\":\"overlay\",\"size\":10,\"solidity\":0.2},\"type\":\"scatter\"}],\"parcoords\":[{\"type\":\"parcoords\",\"line\":{\"colorbar\":{\"outlinewidth\":0,\"ticks\":\"\"}}}],\"scatterpolargl\":[{\"type\":\"scatterpolargl\",\"marker\":{\"colorbar\":{\"outlinewidth\":0,\"ticks\":\"\"}}}],\"bar\":[{\"error_x\":{\"color\":\"#2a3f5f\"},\"error_y\":{\"color\":\"#2a3f5f\"},\"marker\":{\"line\":{\"color\":\"#E5ECF6\",\"width\":0.5},\"pattern\":{\"fillmode\":\"overlay\",\"size\":10,\"solidity\":0.2}},\"type\":\"bar\"}],\"scattergeo\":[{\"type\":\"scattergeo\",\"marker\":{\"colorbar\":{\"outlinewidth\":0,\"ticks\":\"\"}}}],\"scatterpolar\":[{\"type\":\"scatterpolar\",\"marker\":{\"colorbar\":{\"outlinewidth\":0,\"ticks\":\"\"}}}],\"histogram\":[{\"marker\":{\"pattern\":{\"fillmode\":\"overlay\",\"size\":10,\"solidity\":0.2}},\"type\":\"histogram\"}],\"scattergl\":[{\"type\":\"scattergl\",\"marker\":{\"colorbar\":{\"outlinewidth\":0,\"ticks\":\"\"}}}],\"scatter3d\":[{\"type\":\"scatter3d\",\"line\":{\"colorbar\":{\"outlinewidth\":0,\"ticks\":\"\"}},\"marker\":{\"colorbar\":{\"outlinewidth\":0,\"ticks\":\"\"}}}],\"scattermapbox\":[{\"type\":\"scattermapbox\",\"marker\":{\"colorbar\":{\"outlinewidth\":0,\"ticks\":\"\"}}}],\"scatterternary\":[{\"type\":\"scatterternary\",\"marker\":{\"colorbar\":{\"outlinewidth\":0,\"ticks\":\"\"}}}],\"scattercarpet\":[{\"type\":\"scattercarpet\",\"marker\":{\"colorbar\":{\"outlinewidth\":0,\"ticks\":\"\"}}}],\"carpet\":[{\"aaxis\":{\"endlinecolor\":\"#2a3f5f\",\"gridcolor\":\"white\",\"linecolor\":\"white\",\"minorgridcolor\":\"white\",\"startlinecolor\":\"#2a3f5f\"},\"baxis\":{\"endlinecolor\":\"#2a3f5f\",\"gridcolor\":\"white\",\"linecolor\":\"white\",\"minorgridcolor\":\"white\",\"startlinecolor\":\"#2a3f5f\"},\"type\":\"carpet\"}],\"table\":[{\"cells\":{\"fill\":{\"color\":\"#EBF0F8\"},\"line\":{\"color\":\"white\"}},\"header\":{\"fill\":{\"color\":\"#C8D4E3\"},\"line\":{\"color\":\"white\"}},\"type\":\"table\"}],\"barpolar\":[{\"marker\":{\"line\":{\"color\":\"#E5ECF6\",\"width\":0.5},\"pattern\":{\"fillmode\":\"overlay\",\"size\":10,\"solidity\":0.2}},\"type\":\"barpolar\"}],\"pie\":[{\"automargin\":true,\"type\":\"pie\"}]},\"layout\":{\"autotypenumbers\":\"strict\",\"colorway\":[\"#636efa\",\"#EF553B\",\"#00cc96\",\"#ab63fa\",\"#FFA15A\",\"#19d3f3\",\"#FF6692\",\"#B6E880\",\"#FF97FF\",\"#FECB52\"],\"font\":{\"color\":\"#2a3f5f\"},\"hovermode\":\"closest\",\"hoverlabel\":{\"align\":\"left\"},\"paper_bgcolor\":\"white\",\"plot_bgcolor\":\"#E5ECF6\",\"polar\":{\"bgcolor\":\"#E5ECF6\",\"angularaxis\":{\"gridcolor\":\"white\",\"linecolor\":\"white\",\"ticks\":\"\"},\"radialaxis\":{\"gridcolor\":\"white\",\"linecolor\":\"white\",\"ticks\":\"\"}},\"ternary\":{\"bgcolor\":\"#E5ECF6\",\"aaxis\":{\"gridcolor\":\"white\",\"linecolor\":\"white\",\"ticks\":\"\"},\"baxis\":{\"gridcolor\":\"white\",\"linecolor\":\"white\",\"ticks\":\"\"},\"caxis\":{\"gridcolor\":\"white\",\"linecolor\":\"white\",\"ticks\":\"\"}},\"coloraxis\":{\"colorbar\":{\"outlinewidth\":0,\"ticks\":\"\"}},\"colorscale\":{\"sequential\":[[0.0,\"#0d0887\"],[0.1111111111111111,\"#46039f\"],[0.2222222222222222,\"#7201a8\"],[0.3333333333333333,\"#9c179e\"],[0.4444444444444444,\"#bd3786\"],[0.5555555555555556,\"#d8576b\"],[0.6666666666666666,\"#ed7953\"],[0.7777777777777778,\"#fb9f3a\"],[0.8888888888888888,\"#fdca26\"],[1.0,\"#f0f921\"]],\"sequentialminus\":[[0.0,\"#0d0887\"],[0.1111111111111111,\"#46039f\"],[0.2222222222222222,\"#7201a8\"],[0.3333333333333333,\"#9c179e\"],[0.4444444444444444,\"#bd3786\"],[0.5555555555555556,\"#d8576b\"],[0.6666666666666666,\"#ed7953\"],[0.7777777777777778,\"#fb9f3a\"],[0.8888888888888888,\"#fdca26\"],[1.0,\"#f0f921\"]],\"diverging\":[[0,\"#8e0152\"],[0.1,\"#c51b7d\"],[0.2,\"#de77ae\"],[0.3,\"#f1b6da\"],[0.4,\"#fde0ef\"],[0.5,\"#f7f7f7\"],[0.6,\"#e6f5d0\"],[0.7,\"#b8e186\"],[0.8,\"#7fbc41\"],[0.9,\"#4d9221\"],[1,\"#276419\"]]},\"xaxis\":{\"gridcolor\":\"white\",\"linecolor\":\"white\",\"ticks\":\"\",\"title\":{\"standoff\":15},\"zerolinecolor\":\"white\",\"automargin\":true,\"zerolinewidth\":2},\"yaxis\":{\"gridcolor\":\"white\",\"linecolor\":\"white\",\"ticks\":\"\",\"title\":{\"standoff\":15},\"zerolinecolor\":\"white\",\"automargin\":true,\"zerolinewidth\":2},\"scene\":{\"xaxis\":{\"backgroundcolor\":\"#E5ECF6\",\"gridcolor\":\"white\",\"linecolor\":\"white\",\"showbackground\":true,\"ticks\":\"\",\"zerolinecolor\":\"white\",\"gridwidth\":2},\"yaxis\":{\"backgroundcolor\":\"#E5ECF6\",\"gridcolor\":\"white\",\"linecolor\":\"white\",\"showbackground\":true,\"ticks\":\"\",\"zerolinecolor\":\"white\",\"gridwidth\":2},\"zaxis\":{\"backgroundcolor\":\"#E5ECF6\",\"gridcolor\":\"white\",\"linecolor\":\"white\",\"showbackground\":true,\"ticks\":\"\",\"zerolinecolor\":\"white\",\"gridwidth\":2}},\"shapedefaults\":{\"line\":{\"color\":\"#2a3f5f\"}},\"annotationdefaults\":{\"arrowcolor\":\"#2a3f5f\",\"arrowhead\":0,\"arrowwidth\":1},\"geo\":{\"bgcolor\":\"white\",\"landcolor\":\"#E5ECF6\",\"subunitcolor\":\"white\",\"showland\":true,\"showlakes\":true,\"lakecolor\":\"white\"},\"title\":{\"x\":0.05},\"mapbox\":{\"style\":\"light\"}}},\"title\":{\"text\":\"Blackjack Strategy - Always Hit Under 20\"},\"xaxis\":{\"title\":{\"text\":\"Player Total\"}},\"yaxis\":{\"title\":{\"text\":\"Dealer Upcard\"}},\"autosize\":true},                        {\"responsive\": true}                    ).then(function(){\n",
       "                            \n",
       "var gd = document.getElementById('e5d2d1ac-f1f2-4f6f-b2ca-720809ddcf33');\n",
       "var x = new MutationObserver(function (mutations, observer) {{\n",
       "        var display = window.getComputedStyle(gd).display;\n",
       "        if (!display || display === 'none') {{\n",
       "            console.log([gd, 'removed!']);\n",
       "            Plotly.purge(gd);\n",
       "            observer.disconnect();\n",
       "        }}\n",
       "}});\n",
       "\n",
       "// Listen for the removal of the full notebook cells\n",
       "var notebookContainer = gd.closest('#notebook-container');\n",
       "if (notebookContainer) {{\n",
       "    x.observe(notebookContainer, {childList: true});\n",
       "}}\n",
       "\n",
       "// Listen for the clearing of the current output cell\n",
       "var outputEl = gd.closest('.output');\n",
       "if (outputEl) {{\n",
       "    x.observe(outputEl, {childList: true});\n",
       "}}\n",
       "\n",
       "                        })                };                });            </script>        </div>"
      ]
     },
     "metadata": {},
     "output_type": "display_data"
    }
   ],
   "source": [
    "from collections import defaultdict\n",
    "\n",
    "class SimpleAgent:\n",
    "    def __init__(self):\n",
    "        self.reward = 0\n",
    "        self.policy = defaultdict(int)  # Initialize policy dictionary\n",
    "        \n",
    "        # Populate policy dictionary with all possible states for plotting\n",
    "        for player_total in range(4, 22):\n",
    "            for dealer_upcard in range(2, 12):\n",
    "                for usable_ace in [False, True]:\n",
    "                    if player_total <= 19:\n",
    "                        self.policy[(player_total, dealer_upcard, usable_ace)] = 1\n",
    "                    else:\n",
    "                        self.policy[(player_total, dealer_upcard, usable_ace)] = 0\n",
    "                        \n",
    "    def reset(self):\n",
    "        self.reward = 0\n",
    "\n",
    "    def step(self, env: Blackjack):\n",
    "        # Get observations from environment to make decision with (discarded with random agent)\n",
    "        observations = env.get_observations()\n",
    "\n",
    "        # Get available actions and choose a random one\n",
    "        actions = env.get_actions()\n",
    "\n",
    "        # Use policy dictionary to make decision\n",
    "        player_total, dealer_upcard, usable_ace = observations\n",
    "        action = self.policy[(player_total, dealer_upcard, usable_ace)]\n",
    "\n",
    "        obs, reward, done, info = env.action(action)\n",
    "        self.reward += reward\n",
    "        \n",
    "import pandas as pd\n",
    "import numpy as np\n",
    "import plotly.graph_objects as go\n",
    "\n",
    "def plot_policy(policy, usable_ace=False, policy_name=\"\"):\n",
    "    # Convert policy dictionary to DataFrame\n",
    "    data = pd.DataFrame([(obs[0], obs[1], obs[2], action) \n",
    "                         for obs, action in policy.items()],\n",
    "                        columns=[\"player_total\", \"dealer_card\", \"usable_ace\", \"action\"])\n",
    "\n",
    "    # Filter data based on usability of ace\n",
    "    data = data[data['usable_ace'] == usable_ace]\n",
    "    \n",
    "    # Create grid of player totals and dealer cards\n",
    "    player_totals = np.arange(4, 22)\n",
    "    dealer_cards = np.arange(2, 12)\n",
    "\n",
    "    # Create 2D grid representing the action at each state\n",
    "    policy_grid = data.pivot(index='player_total', columns='dealer_card', values='action').reindex(index=player_totals, columns=dealer_cards)\n",
    "\n",
    "    # Prepare hover text\n",
    "    hovertext = np.vectorize(lambda x, y, z: f\"Player Total: {y}<br>Dealer Upcard: {x}<br>Action: {'Hit' if z==1 else 'Stick'}\")(np.array(policy_grid.columns)[None, :], np.array(policy_grid.index)[:, None], policy_grid.values)\n",
    "\n",
    "    # Create heatmap\n",
    "    fig = go.Figure(data=go.Heatmap(\n",
    "        z=policy_grid.T,  # Transpose policy grid\n",
    "        x=player_totals,  # Swap x and y\n",
    "        y=dealer_cards,  # Swap x and y\n",
    "        hovertext=hovertext.T,  # Transpose hover text\n",
    "        hoverinfo='text',  # show only custom hover text\n",
    "        colorscale=['#cccccc', '#eb7632'],\n",
    "        zmin=0,\n",
    "        zmax=1,\n",
    "        xgap=4,\n",
    "        ygap=4,\n",
    "        showscale=False  # hide color bar\n",
    "    ))\n",
    "\n",
    "    fig.update_layout(\n",
    "        title=\"Blackjack Strategy \" + policy_name,\n",
    "        xaxis_title='Player Total',  # Swap titles\n",
    "        yaxis_title='Dealer Upcard',  # Swap titles\n",
    "        autosize=True,\n",
    "    )\n",
    "\n",
    "    # Show the figure\n",
    "    fig.show()\n",
    "\n",
    "# Call the function with policy dictionary\n",
    "plot_policy(SimpleAgent().policy, usable_ace=False, policy_name=\"- Always Hit Under 20\")\n"
   ]
  },
  {
   "cell_type": "markdown",
   "id": "5bc9c88e",
   "metadata": {
    "papermill": {
     "duration": 0.008386,
     "end_time": "2023-06-19T08:37:14.414531",
     "exception": false,
     "start_time": "2023-06-19T08:37:14.406145",
     "status": "completed"
    },
    "tags": []
   },
   "source": [
    "Our current strategy isn't exactly optimal, but what's the real impact? How much might we stand to lose if we stick to it?\n",
    "\n",
    "One approach to answer this question is using Monte Carlo simulations.\n",
    "\n",
    "Here's the setup: Picture us playing Blackjack for a couple of hours each night, taking on 50 hands with each hand having a $10 stake. Blackjack, by nature, has quite a bit of variance, which means there's a slim chance we could end up with more than we started, even with a less than ideal strategy.\n",
    "\n",
    "To get a comprehensive view of this, let's run our nightly scenario 5000 times, which is like playing a round of Blackjack every night for nearly 14 years. This should provide a solid understanding of how our strategy would fare in the long run."
   ]
  },
  {
   "cell_type": "code",
   "execution_count": 3,
   "id": "b02e9976",
   "metadata": {
    "_kg_hide-input": true,
    "execution": {
     "iopub.execute_input": "2023-06-19T08:37:14.433454Z",
     "iopub.status.busy": "2023-06-19T08:37:14.433020Z",
     "iopub.status.idle": "2023-06-19T08:38:04.962256Z",
     "shell.execute_reply": "2023-06-19T08:38:04.960696Z"
    },
    "papermill": {
     "duration": 50.551925,
     "end_time": "2023-06-19T08:38:04.975043",
     "exception": false,
     "start_time": "2023-06-19T08:37:14.423118",
     "status": "completed"
    },
    "tags": []
   },
   "outputs": [
    {
     "data": {
      "text/html": [
       "<div>                            <div id=\"0a71d325-63ae-4af3-9aa2-ae2789ffb052\" class=\"plotly-graph-div\" style=\"height:525px; width:100%;\"></div>            <script type=\"text/javascript\">                require([\"plotly\"], function(Plotly) {                    window.PLOTLYENV=window.PLOTLYENV || {};                                    if (document.getElementById(\"0a71d325-63ae-4af3-9aa2-ae2789ffb052\")) {                    Plotly.newPlot(                        \"0a71d325-63ae-4af3-9aa2-ae2789ffb052\",                        [{\"x\":[-380.0,-350.6666666666667,-321.3333333333333,-292.0,-262.6666666666667,-233.33333333333334,-204.0,-174.66666666666669,-145.33333333333334,-116.0,-86.66666666666669,-57.33333333333337,-28.0,1.3333333333333144,30.66666666666663,60.0],\"y\":[4,18,86,255,531,811,907,921,727,425,202,76,30,6,1],\"type\":\"bar\"}],                        {\"template\":{\"data\":{\"histogram2dcontour\":[{\"type\":\"histogram2dcontour\",\"colorbar\":{\"outlinewidth\":0,\"ticks\":\"\"},\"colorscale\":[[0.0,\"#0d0887\"],[0.1111111111111111,\"#46039f\"],[0.2222222222222222,\"#7201a8\"],[0.3333333333333333,\"#9c179e\"],[0.4444444444444444,\"#bd3786\"],[0.5555555555555556,\"#d8576b\"],[0.6666666666666666,\"#ed7953\"],[0.7777777777777778,\"#fb9f3a\"],[0.8888888888888888,\"#fdca26\"],[1.0,\"#f0f921\"]]}],\"choropleth\":[{\"type\":\"choropleth\",\"colorbar\":{\"outlinewidth\":0,\"ticks\":\"\"}}],\"histogram2d\":[{\"type\":\"histogram2d\",\"colorbar\":{\"outlinewidth\":0,\"ticks\":\"\"},\"colorscale\":[[0.0,\"#0d0887\"],[0.1111111111111111,\"#46039f\"],[0.2222222222222222,\"#7201a8\"],[0.3333333333333333,\"#9c179e\"],[0.4444444444444444,\"#bd3786\"],[0.5555555555555556,\"#d8576b\"],[0.6666666666666666,\"#ed7953\"],[0.7777777777777778,\"#fb9f3a\"],[0.8888888888888888,\"#fdca26\"],[1.0,\"#f0f921\"]]}],\"heatmap\":[{\"type\":\"heatmap\",\"colorbar\":{\"outlinewidth\":0,\"ticks\":\"\"},\"colorscale\":[[0.0,\"#0d0887\"],[0.1111111111111111,\"#46039f\"],[0.2222222222222222,\"#7201a8\"],[0.3333333333333333,\"#9c179e\"],[0.4444444444444444,\"#bd3786\"],[0.5555555555555556,\"#d8576b\"],[0.6666666666666666,\"#ed7953\"],[0.7777777777777778,\"#fb9f3a\"],[0.8888888888888888,\"#fdca26\"],[1.0,\"#f0f921\"]]}],\"heatmapgl\":[{\"type\":\"heatmapgl\",\"colorbar\":{\"outlinewidth\":0,\"ticks\":\"\"},\"colorscale\":[[0.0,\"#0d0887\"],[0.1111111111111111,\"#46039f\"],[0.2222222222222222,\"#7201a8\"],[0.3333333333333333,\"#9c179e\"],[0.4444444444444444,\"#bd3786\"],[0.5555555555555556,\"#d8576b\"],[0.6666666666666666,\"#ed7953\"],[0.7777777777777778,\"#fb9f3a\"],[0.8888888888888888,\"#fdca26\"],[1.0,\"#f0f921\"]]}],\"contourcarpet\":[{\"type\":\"contourcarpet\",\"colorbar\":{\"outlinewidth\":0,\"ticks\":\"\"}}],\"contour\":[{\"type\":\"contour\",\"colorbar\":{\"outlinewidth\":0,\"ticks\":\"\"},\"colorscale\":[[0.0,\"#0d0887\"],[0.1111111111111111,\"#46039f\"],[0.2222222222222222,\"#7201a8\"],[0.3333333333333333,\"#9c179e\"],[0.4444444444444444,\"#bd3786\"],[0.5555555555555556,\"#d8576b\"],[0.6666666666666666,\"#ed7953\"],[0.7777777777777778,\"#fb9f3a\"],[0.8888888888888888,\"#fdca26\"],[1.0,\"#f0f921\"]]}],\"surface\":[{\"type\":\"surface\",\"colorbar\":{\"outlinewidth\":0,\"ticks\":\"\"},\"colorscale\":[[0.0,\"#0d0887\"],[0.1111111111111111,\"#46039f\"],[0.2222222222222222,\"#7201a8\"],[0.3333333333333333,\"#9c179e\"],[0.4444444444444444,\"#bd3786\"],[0.5555555555555556,\"#d8576b\"],[0.6666666666666666,\"#ed7953\"],[0.7777777777777778,\"#fb9f3a\"],[0.8888888888888888,\"#fdca26\"],[1.0,\"#f0f921\"]]}],\"mesh3d\":[{\"type\":\"mesh3d\",\"colorbar\":{\"outlinewidth\":0,\"ticks\":\"\"}}],\"scatter\":[{\"fillpattern\":{\"fillmode\":\"overlay\",\"size\":10,\"solidity\":0.2},\"type\":\"scatter\"}],\"parcoords\":[{\"type\":\"parcoords\",\"line\":{\"colorbar\":{\"outlinewidth\":0,\"ticks\":\"\"}}}],\"scatterpolargl\":[{\"type\":\"scatterpolargl\",\"marker\":{\"colorbar\":{\"outlinewidth\":0,\"ticks\":\"\"}}}],\"bar\":[{\"error_x\":{\"color\":\"#2a3f5f\"},\"error_y\":{\"color\":\"#2a3f5f\"},\"marker\":{\"line\":{\"color\":\"#E5ECF6\",\"width\":0.5},\"pattern\":{\"fillmode\":\"overlay\",\"size\":10,\"solidity\":0.2}},\"type\":\"bar\"}],\"scattergeo\":[{\"type\":\"scattergeo\",\"marker\":{\"colorbar\":{\"outlinewidth\":0,\"ticks\":\"\"}}}],\"scatterpolar\":[{\"type\":\"scatterpolar\",\"marker\":{\"colorbar\":{\"outlinewidth\":0,\"ticks\":\"\"}}}],\"histogram\":[{\"marker\":{\"pattern\":{\"fillmode\":\"overlay\",\"size\":10,\"solidity\":0.2}},\"type\":\"histogram\"}],\"scattergl\":[{\"type\":\"scattergl\",\"marker\":{\"colorbar\":{\"outlinewidth\":0,\"ticks\":\"\"}}}],\"scatter3d\":[{\"type\":\"scatter3d\",\"line\":{\"colorbar\":{\"outlinewidth\":0,\"ticks\":\"\"}},\"marker\":{\"colorbar\":{\"outlinewidth\":0,\"ticks\":\"\"}}}],\"scattermapbox\":[{\"type\":\"scattermapbox\",\"marker\":{\"colorbar\":{\"outlinewidth\":0,\"ticks\":\"\"}}}],\"scatterternary\":[{\"type\":\"scatterternary\",\"marker\":{\"colorbar\":{\"outlinewidth\":0,\"ticks\":\"\"}}}],\"scattercarpet\":[{\"type\":\"scattercarpet\",\"marker\":{\"colorbar\":{\"outlinewidth\":0,\"ticks\":\"\"}}}],\"carpet\":[{\"aaxis\":{\"endlinecolor\":\"#2a3f5f\",\"gridcolor\":\"white\",\"linecolor\":\"white\",\"minorgridcolor\":\"white\",\"startlinecolor\":\"#2a3f5f\"},\"baxis\":{\"endlinecolor\":\"#2a3f5f\",\"gridcolor\":\"white\",\"linecolor\":\"white\",\"minorgridcolor\":\"white\",\"startlinecolor\":\"#2a3f5f\"},\"type\":\"carpet\"}],\"table\":[{\"cells\":{\"fill\":{\"color\":\"#EBF0F8\"},\"line\":{\"color\":\"white\"}},\"header\":{\"fill\":{\"color\":\"#C8D4E3\"},\"line\":{\"color\":\"white\"}},\"type\":\"table\"}],\"barpolar\":[{\"marker\":{\"line\":{\"color\":\"#E5ECF6\",\"width\":0.5},\"pattern\":{\"fillmode\":\"overlay\",\"size\":10,\"solidity\":0.2}},\"type\":\"barpolar\"}],\"pie\":[{\"automargin\":true,\"type\":\"pie\"}]},\"layout\":{\"autotypenumbers\":\"strict\",\"colorway\":[\"#636efa\",\"#EF553B\",\"#00cc96\",\"#ab63fa\",\"#FFA15A\",\"#19d3f3\",\"#FF6692\",\"#B6E880\",\"#FF97FF\",\"#FECB52\"],\"font\":{\"color\":\"#2a3f5f\"},\"hovermode\":\"closest\",\"hoverlabel\":{\"align\":\"left\"},\"paper_bgcolor\":\"white\",\"plot_bgcolor\":\"#E5ECF6\",\"polar\":{\"bgcolor\":\"#E5ECF6\",\"angularaxis\":{\"gridcolor\":\"white\",\"linecolor\":\"white\",\"ticks\":\"\"},\"radialaxis\":{\"gridcolor\":\"white\",\"linecolor\":\"white\",\"ticks\":\"\"}},\"ternary\":{\"bgcolor\":\"#E5ECF6\",\"aaxis\":{\"gridcolor\":\"white\",\"linecolor\":\"white\",\"ticks\":\"\"},\"baxis\":{\"gridcolor\":\"white\",\"linecolor\":\"white\",\"ticks\":\"\"},\"caxis\":{\"gridcolor\":\"white\",\"linecolor\":\"white\",\"ticks\":\"\"}},\"coloraxis\":{\"colorbar\":{\"outlinewidth\":0,\"ticks\":\"\"}},\"colorscale\":{\"sequential\":[[0.0,\"#0d0887\"],[0.1111111111111111,\"#46039f\"],[0.2222222222222222,\"#7201a8\"],[0.3333333333333333,\"#9c179e\"],[0.4444444444444444,\"#bd3786\"],[0.5555555555555556,\"#d8576b\"],[0.6666666666666666,\"#ed7953\"],[0.7777777777777778,\"#fb9f3a\"],[0.8888888888888888,\"#fdca26\"],[1.0,\"#f0f921\"]],\"sequentialminus\":[[0.0,\"#0d0887\"],[0.1111111111111111,\"#46039f\"],[0.2222222222222222,\"#7201a8\"],[0.3333333333333333,\"#9c179e\"],[0.4444444444444444,\"#bd3786\"],[0.5555555555555556,\"#d8576b\"],[0.6666666666666666,\"#ed7953\"],[0.7777777777777778,\"#fb9f3a\"],[0.8888888888888888,\"#fdca26\"],[1.0,\"#f0f921\"]],\"diverging\":[[0,\"#8e0152\"],[0.1,\"#c51b7d\"],[0.2,\"#de77ae\"],[0.3,\"#f1b6da\"],[0.4,\"#fde0ef\"],[0.5,\"#f7f7f7\"],[0.6,\"#e6f5d0\"],[0.7,\"#b8e186\"],[0.8,\"#7fbc41\"],[0.9,\"#4d9221\"],[1,\"#276419\"]]},\"xaxis\":{\"gridcolor\":\"white\",\"linecolor\":\"white\",\"ticks\":\"\",\"title\":{\"standoff\":15},\"zerolinecolor\":\"white\",\"automargin\":true,\"zerolinewidth\":2},\"yaxis\":{\"gridcolor\":\"white\",\"linecolor\":\"white\",\"ticks\":\"\",\"title\":{\"standoff\":15},\"zerolinecolor\":\"white\",\"automargin\":true,\"zerolinewidth\":2},\"scene\":{\"xaxis\":{\"backgroundcolor\":\"#E5ECF6\",\"gridcolor\":\"white\",\"linecolor\":\"white\",\"showbackground\":true,\"ticks\":\"\",\"zerolinecolor\":\"white\",\"gridwidth\":2},\"yaxis\":{\"backgroundcolor\":\"#E5ECF6\",\"gridcolor\":\"white\",\"linecolor\":\"white\",\"showbackground\":true,\"ticks\":\"\",\"zerolinecolor\":\"white\",\"gridwidth\":2},\"zaxis\":{\"backgroundcolor\":\"#E5ECF6\",\"gridcolor\":\"white\",\"linecolor\":\"white\",\"showbackground\":true,\"ticks\":\"\",\"zerolinecolor\":\"white\",\"gridwidth\":2}},\"shapedefaults\":{\"line\":{\"color\":\"#2a3f5f\"}},\"annotationdefaults\":{\"arrowcolor\":\"#2a3f5f\",\"arrowhead\":0,\"arrowwidth\":1},\"geo\":{\"bgcolor\":\"white\",\"landcolor\":\"#E5ECF6\",\"subunitcolor\":\"white\",\"showland\":true,\"showlakes\":true,\"lakecolor\":\"white\"},\"title\":{\"x\":0.05},\"mapbox\":{\"style\":\"light\"}}},\"title\":{\"text\":\"Total Rewards Distribution\"},\"xaxis\":{\"title\":{\"text\":\"Reward\"},\"range\":[-500,500]},\"yaxis\":{\"title\":{\"text\":\"Count\"}},\"shapes\":[{\"line\":{\"color\":\"Black\",\"dash\":\"dot\",\"width\":1.5},\"type\":\"line\",\"x0\":-177.968,\"x1\":-177.968,\"y0\":0,\"y1\":921},{\"line\":{\"color\":\"#cccccc\",\"width\":0.5},\"type\":\"line\",\"x0\":0,\"x1\":0,\"y0\":0,\"y1\":921}]},                        {\"responsive\": true}                    ).then(function(){\n",
       "                            \n",
       "var gd = document.getElementById('0a71d325-63ae-4af3-9aa2-ae2789ffb052');\n",
       "var x = new MutationObserver(function (mutations, observer) {{\n",
       "        var display = window.getComputedStyle(gd).display;\n",
       "        if (!display || display === 'none') {{\n",
       "            console.log([gd, 'removed!']);\n",
       "            Plotly.purge(gd);\n",
       "            observer.disconnect();\n",
       "        }}\n",
       "}});\n",
       "\n",
       "// Listen for the removal of the full notebook cells\n",
       "var notebookContainer = gd.closest('#notebook-container');\n",
       "if (notebookContainer) {{\n",
       "    x.observe(notebookContainer, {childList: true});\n",
       "}}\n",
       "\n",
       "// Listen for the clearing of the current output cell\n",
       "var outputEl = gd.closest('.output');\n",
       "if (outputEl) {{\n",
       "    x.observe(outputEl, {childList: true});\n",
       "}}\n",
       "\n",
       "                        })                };                });            </script>        </div>"
      ]
     },
     "metadata": {},
     "output_type": "display_data"
    },
    {
     "name": "stdout",
     "output_type": "stream",
     "text": [
      "Mean reward of: $-177.97\n",
      "Profitable 0.14% of the time.\n"
     ]
    }
   ],
   "source": [
    "def run_simulations(agent, env, n_episodes, n_simulations):\n",
    "    total_rewards = []\n",
    "\n",
    "    for _ in range(n_simulations):\n",
    "        total_reward = 0\n",
    "        for _ in range(n_episodes):\n",
    "            while not env.is_done():\n",
    "                agent.step(env)\n",
    "            total_reward += agent.reward\n",
    "            agent.reset()\n",
    "            env.reset()\n",
    "        total_rewards.append(total_reward)\n",
    "\n",
    "    return total_rewards\n",
    "\n",
    "def plot_rewards_histogram(rewards, bins=10):\n",
    "    # Calculate histogram data\n",
    "    hist, bin_edges = np.histogram(rewards, bins=bins)\n",
    "\n",
    "    # Calculate statistics\n",
    "    mean = np.mean(rewards)\n",
    "    \n",
    "    # Create bar plot\n",
    "    fig = go.Figure(data=go.Bar(x=bin_edges, y=hist))\n",
    "    \n",
    "    fig.update_layout(\n",
    "        title=\"Total Rewards Distribution\",\n",
    "        xaxis_title=\"Reward\",\n",
    "        yaxis_title=\"Count\",\n",
    "    )\n",
    "\n",
    "    # Limit x-axis range\n",
    "    fig.update_xaxes(range=[-500, 500])\n",
    "\n",
    "    # Add mean line\n",
    "    fig.add_shape(\n",
    "        type='line',\n",
    "        x0=mean, y0=0, x1=mean, y1=max(hist),\n",
    "        line=dict(color='Black', width=1.5, dash='dot')\n",
    "    )\n",
    "    \n",
    "    # Add mean line\n",
    "    fig.add_shape(\n",
    "        type='line',\n",
    "        x0=0, y0=0, x1=0, y1=max(hist),\n",
    "        line=dict(color='#cccccc', width=0.5)\n",
    "    )\n",
    "\n",
    "    # Show the figure\n",
    "    fig.show()\n",
    "    \n",
    "    \n",
    "agent = SimpleAgent()\n",
    "env = Blackjack(stake=10)\n",
    "env.reset()\n",
    "n_episodes = 50\n",
    "n_simulations = 5000\n",
    "\n",
    "\n",
    "total_rewards = run_simulations(agent, env, n_episodes, n_simulations)\n",
    "\n",
    "plot_rewards_histogram(total_rewards, bins=15)\n",
    "\n",
    "print(f\"Mean reward of: ${(sum(total_rewards)/n_simulations):.2f}\")\n",
    "print(f\"Profitable {(100*sum([i>0 for i in total_rewards])/n_simulations):.2f}% of the time.\")"
   ]
  },
  {
   "cell_type": "markdown",
   "id": "cc59c092",
   "metadata": {
    "execution": {
     "iopub.execute_input": "2023-06-14T19:57:14.688091Z",
     "iopub.status.busy": "2023-06-14T19:57:14.687627Z",
     "iopub.status.idle": "2023-06-14T19:57:31.135093Z",
     "shell.execute_reply": "2023-06-14T19:57:31.133854Z",
     "shell.execute_reply.started": "2023-06-14T19:57:14.688059Z"
    },
    "papermill": {
     "duration": 0.008666,
     "end_time": "2023-06-19T08:38:04.992734",
     "exception": false,
     "start_time": "2023-06-19T08:38:04.984068",
     "status": "completed"
    },
    "tags": []
   },
   "source": [
    "#### Observations:\n",
    "- The dotted line indicates the mean profit.\n",
    "- On average we lose about $\\$$180 a night.\n",
    "- Over the course of 5000 sessions, we manage to end up ahead about 0.15% of the time.\n",
    "\n",
    "### Finding an optimal policy\n",
    "This strategy is clearly suboptimal, and since we aspire for more, we want to identify an optimal strategy for Blackjack, enabling mathematically perfect decisions. However, due to Blackjack's inherent randomness and numerous possible game states, deriving an optimal solution through traditional dynamic programming methods is quite complex. So, let's outline the approach we're going to use to uncover the optimal policy:\n",
    "\n",
    "1. We begin with a provisional policy—say, always stick if our hand total is 20 or higher.\n",
    "2. We assess this policy's performance using reinforcement learning to approximate a state-action value function, mapping each possible game state to its corresponding reward when we apply our policy.\n",
    "3. We update our current policy by selecting actions that yield the highest state-action value.\n",
    "4. We return to step 2 and continue iterating.\n",
    "\n",
    "\n",
    "## Monte Carlo Methods\n",
    "Monte Carlo methods are a class of computational algorithms that rely on repeated random sampling to make numerical estimations of unknown parameters. \n",
    "The term \"Monte Carlo\" is often used broadly to describe any estimation method involving significant randomness.\n",
    "\n",
    "First, we will explore the prediction problem, where we aim to compute $v_π$ and $q_π$ for a fixed, arbitrary policy $π$. After understanding policy prediction, we will delve into policy improvement and finally address the control problem, solved via Generalized Policy Iteration (GPI).\n",
    "\n",
    "### Monte Carlo prediction\n",
    "Our initial focus will be Monte Carlo methods for estimating the state-value function (V function) for a given policy. Remember, a state's value signifies the expected return - the anticipated cumulative future discounted reward beginning from that state. A logical method to estimate this from experience is by averaging the returns observed following visits to the state. As more returns accumulate, this average should converge to the expected value. This principle underlies all Monte Carlo methods.\n",
    "\n",
    "Consider a scenario where we want to estimate $v_π(s)$, the value of a state $s$ under policy $π$. We have a set of episodes that have been collected by following $π$ and include visits to $s$. An episode might include multiple visits to $s$. We distinguish the first occurrence of $s$ in an episode as the first visit to $s$.\n",
    "\n",
    "The first-visit Monte Carlo (MC) method estimates $v_π(s)$ as the average of the returns following the first visits to $s$, while the every-visit MC method averages the returns after all visits to $s$. Though these two MC methods are quite similar, they exhibit slightly different theoretical properties.\n",
    "\n",
    "Let's consider an agent following the simple stick over 20 strategy we saw earlier.\n",
    "\n",
    "Using this simple agent and policy, we will use the first-visit Monte Carlo method to compute the state-value function. We will then visualize this state-value function with a 3D surface plot. This visual exploration will give us insights into how the policy performs in different game states."
   ]
  },
  {
   "cell_type": "code",
   "execution_count": 4,
   "id": "6cd44923",
   "metadata": {
    "_kg_hide-input": true,
    "execution": {
     "iopub.execute_input": "2023-06-19T08:38:05.013442Z",
     "iopub.status.busy": "2023-06-19T08:38:05.012991Z",
     "iopub.status.idle": "2023-06-19T08:38:07.289156Z",
     "shell.execute_reply": "2023-06-19T08:38:07.287536Z"
    },
    "papermill": {
     "duration": 2.290597,
     "end_time": "2023-06-19T08:38:07.292388",
     "exception": false,
     "start_time": "2023-06-19T08:38:05.001791",
     "status": "completed"
    },
    "tags": []
   },
   "outputs": [
    {
     "data": {
      "text/html": [
       "        <script type=\"text/javascript\">\n",
       "        window.PlotlyConfig = {MathJaxConfig: 'local'};\n",
       "        if (window.MathJax && window.MathJax.Hub && window.MathJax.Hub.Config) {window.MathJax.Hub.Config({SVG: {font: \"STIX-Web\"}});}\n",
       "        if (typeof require !== 'undefined') {\n",
       "        require.undef(\"plotly\");\n",
       "        requirejs.config({\n",
       "            paths: {\n",
       "                'plotly': ['https://cdn.plot.ly/plotly-2.20.0.min']\n",
       "            }\n",
       "        });\n",
       "        require(['plotly'], function(Plotly) {\n",
       "            window._Plotly = Plotly;\n",
       "        });\n",
       "        }\n",
       "        </script>\n",
       "        "
      ]
     },
     "metadata": {},
     "output_type": "display_data"
    },
    {
     "data": {
      "application/vnd.plotly.v1+json": {
       "config": {
        "plotlyServerURL": "https://plot.ly"
       },
       "data": [
        {
         "cmid": 0,
         "colorscale": [
          [
           0,
           "#0C3584"
          ],
          [
           0.3,
           "#4394A9"
          ],
          [
           0.5,
           "#BCBCBC"
          ],
          [
           0.7,
           "#F29B39"
          ],
          [
           1,
           "#DA201F"
          ]
         ],
         "contours": {
          "x": {
           "color": "rgba(200, 200, 200, 0.95)",
           "end": 11,
           "show": true,
           "size": 1,
           "start": 2
          },
          "y": {
           "color": "rgba(200, 200, 200, 0.95)",
           "end": 21,
           "show": true,
           "size": 1,
           "start": 4
          },
          "z": {
           "color": "white",
           "end": 0.9746835443037974,
           "show": false,
           "size": 1,
           "start": -1.0
          }
         },
         "opacity": 0.85,
         "showscale": true,
         "type": "surface",
         "x": [
          2,
          3,
          4,
          5,
          6,
          7,
          8,
          9,
          10,
          11
         ],
         "y": [
          4,
          5,
          6,
          7,
          8,
          9,
          10,
          11,
          12,
          13,
          14,
          15,
          16,
          17,
          18,
          19,
          20,
          21
         ],
         "z": [
          [
           0.0,
           0.0,
           -1.0,
           0.3333333333333333,
           0.2,
           -0.2,
           -1.0,
           0.5,
           -0.9411764705882353,
           -1.0
          ],
          [
           -0.2857142857142857,
           -0.2727272727272727,
           -0.7777777777777778,
           -0.7,
           -0.42857142857142855,
           -0.5,
           -0.2,
           -0.6153846153846154,
           -0.5,
           -0.6
          ],
          [
           -0.25,
           -0.3333333333333333,
           -0.6,
           -0.7,
           -0.5,
           -0.21428571428571427,
           -0.21428571428571427,
           -0.4666666666666667,
           -0.2857142857142857,
           -0.25
          ],
          [
           -0.782608695652174,
           -0.45,
           -0.47368421052631576,
           -0.5555555555555556,
           -0.3793103448275862,
           -0.4583333333333333,
           -0.65,
           -0.5454545454545454,
           -0.6818181818181818,
           -0.5263157894736842
          ],
          [
           -0.625,
           -0.8695652173913043,
           -0.7241379310344828,
           -0.45454545454545453,
           -0.32,
           -0.5833333333333334,
           -0.7407407407407407,
           -0.3870967741935484,
           -0.5595238095238095,
           -0.47058823529411764
          ],
          [
           -0.5,
           -0.896551724137931,
           -0.6571428571428571,
           -0.4375,
           -0.4117647058823529,
           -0.17857142857142858,
           -0.6,
           -0.5,
           -0.5677966101694916,
           -0.3793103448275862
          ],
          [
           -0.2564102564102564,
           0.034482758620689655,
           -0.07894736842105263,
           -0.025,
           0.08823529411764706,
           0.09523809523809523,
           -0.025,
           -0.0625,
           -0.21710526315789475,
           0.4117647058823529
          ],
          [
           -0.0784313725490196,
           0.0425531914893617,
           0.037037037037037035,
           -0.2692307692307692,
           -0.23076923076923078,
           0.10526315789473684,
           0.13953488372093023,
           -0.22857142857142856,
           -0.09933774834437085,
           0.03571428571428571
          ],
          [
           -0.6288659793814433,
           -0.6195652173913043,
           -0.5824175824175825,
           -0.47572815533980584,
           -0.49333333333333335,
           -0.3950617283950617,
           -0.5652173913043478,
           -0.5978260869565217,
           -0.5964391691394659,
           -0.6
          ],
          [
           -0.6601941747572816,
           -0.5930232558139535,
           -0.6039603960396039,
           -0.5210084033613446,
           -0.36904761904761907,
           -0.4835164835164835,
           -0.56,
           -0.504950495049505,
           -0.6170212765957447,
           -0.5230769230769231
          ],
          [
           -0.6346153846153846,
           -0.7087378640776699,
           -0.6197183098591549,
           -0.57,
           -0.5656565656565656,
           -0.4897959183673469,
           -0.6464646464646465,
           -0.4942528735632184,
           -0.5958702064896755,
           -0.6065573770491803
          ],
          [
           -0.711340206185567,
           -0.5283018867924528,
           -0.6195652173913043,
           -0.6138613861386139,
           -0.6161616161616161,
           -0.5263157894736842,
           -0.75,
           -0.6428571428571429,
           -0.5855072463768116,
           -0.6666666666666666
          ],
          [
           -0.7142857142857143,
           -0.5047619047619047,
           -0.7368421052631579,
           -0.6346153846153846,
           -0.6521739130434783,
           -0.5697674418604651,
           -0.6216216216216216,
           -0.628099173553719,
           -0.6542553191489362,
           -0.8028169014084507
          ],
          [
           -0.6962962962962963,
           -0.578125,
           -0.7058823529411765,
           -0.7023809523809523,
           -0.6306306306306306,
           -0.594059405940594,
           -0.7168141592920354,
           -0.6407766990291263,
           -0.6881188118811881,
           -0.5571428571428572
          ],
          [
           -0.7419354838709677,
           -0.6886792452830188,
           -0.6486486486486487,
           -0.6140350877192983,
           -0.6226415094339622,
           -0.6777777777777778,
           -0.6534653465346535,
           -0.6984126984126984,
           -0.6658291457286433,
           -0.7361111111111112
          ],
          [
           -0.8275862068965517,
           -0.8137254901960784,
           -0.8380952380952381,
           -0.6767676767676768,
           -0.64,
           -0.49,
           -0.7818181818181819,
           -0.7383177570093458,
           -0.6888361045130641,
           -0.5789473684210527
          ],
          [
           0.6267605633802817,
           0.6610169491525424,
           0.6944444444444444,
           0.6363636363636364,
           0.7532467532467533,
           0.7590361445783133,
           0.8116883116883117,
           0.78125,
           0.5682656826568265,
           0.5918367346938775
          ],
          [
           0.8676470588235294,
           0.8658536585365854,
           0.9310344827586207,
           0.8505747126436781,
           0.8933333333333333,
           0.9021739130434783,
           0.9130434782608695,
           0.9746835443037974,
           0.971830985915493,
           0.8627450980392157
          ]
         ]
        }
       ],
       "layout": {
        "autosize": false,
        "height": 600,
        "scene": {
         "aspectratio": {
          "x": 1,
          "y": 1,
          "z": 0.3
         },
         "camera": {
          "center": {
           "x": 0,
           "y": 0,
           "z": 0
          },
          "eye": {
           "x": 1.4,
           "y": -0.75,
           "z": 0.4
          },
          "up": {
           "x": 0,
           "y": 0,
           "z": 1
          }
         },
         "xaxis": {
          "title": {
           "text": "Dealer Card"
          }
         },
         "yaxis": {
          "title": {
           "text": "Player Total"
          }
         },
         "zaxis": {
          "title": {
           "text": "Value"
          }
         }
        },
        "template": {
         "data": {
          "bar": [
           {
            "error_x": {
             "color": "#2a3f5f"
            },
            "error_y": {
             "color": "#2a3f5f"
            },
            "marker": {
             "line": {
              "color": "#E5ECF6",
              "width": 0.5
             },
             "pattern": {
              "fillmode": "overlay",
              "size": 10,
              "solidity": 0.2
             }
            },
            "type": "bar"
           }
          ],
          "barpolar": [
           {
            "marker": {
             "line": {
              "color": "#E5ECF6",
              "width": 0.5
             },
             "pattern": {
              "fillmode": "overlay",
              "size": 10,
              "solidity": 0.2
             }
            },
            "type": "barpolar"
           }
          ],
          "carpet": [
           {
            "aaxis": {
             "endlinecolor": "#2a3f5f",
             "gridcolor": "white",
             "linecolor": "white",
             "minorgridcolor": "white",
             "startlinecolor": "#2a3f5f"
            },
            "baxis": {
             "endlinecolor": "#2a3f5f",
             "gridcolor": "white",
             "linecolor": "white",
             "minorgridcolor": "white",
             "startlinecolor": "#2a3f5f"
            },
            "type": "carpet"
           }
          ],
          "choropleth": [
           {
            "colorbar": {
             "outlinewidth": 0,
             "ticks": ""
            },
            "type": "choropleth"
           }
          ],
          "contour": [
           {
            "colorbar": {
             "outlinewidth": 0,
             "ticks": ""
            },
            "colorscale": [
             [
              0.0,
              "#0d0887"
             ],
             [
              0.1111111111111111,
              "#46039f"
             ],
             [
              0.2222222222222222,
              "#7201a8"
             ],
             [
              0.3333333333333333,
              "#9c179e"
             ],
             [
              0.4444444444444444,
              "#bd3786"
             ],
             [
              0.5555555555555556,
              "#d8576b"
             ],
             [
              0.6666666666666666,
              "#ed7953"
             ],
             [
              0.7777777777777778,
              "#fb9f3a"
             ],
             [
              0.8888888888888888,
              "#fdca26"
             ],
             [
              1.0,
              "#f0f921"
             ]
            ],
            "type": "contour"
           }
          ],
          "contourcarpet": [
           {
            "colorbar": {
             "outlinewidth": 0,
             "ticks": ""
            },
            "type": "contourcarpet"
           }
          ],
          "heatmap": [
           {
            "colorbar": {
             "outlinewidth": 0,
             "ticks": ""
            },
            "colorscale": [
             [
              0.0,
              "#0d0887"
             ],
             [
              0.1111111111111111,
              "#46039f"
             ],
             [
              0.2222222222222222,
              "#7201a8"
             ],
             [
              0.3333333333333333,
              "#9c179e"
             ],
             [
              0.4444444444444444,
              "#bd3786"
             ],
             [
              0.5555555555555556,
              "#d8576b"
             ],
             [
              0.6666666666666666,
              "#ed7953"
             ],
             [
              0.7777777777777778,
              "#fb9f3a"
             ],
             [
              0.8888888888888888,
              "#fdca26"
             ],
             [
              1.0,
              "#f0f921"
             ]
            ],
            "type": "heatmap"
           }
          ],
          "heatmapgl": [
           {
            "colorbar": {
             "outlinewidth": 0,
             "ticks": ""
            },
            "colorscale": [
             [
              0.0,
              "#0d0887"
             ],
             [
              0.1111111111111111,
              "#46039f"
             ],
             [
              0.2222222222222222,
              "#7201a8"
             ],
             [
              0.3333333333333333,
              "#9c179e"
             ],
             [
              0.4444444444444444,
              "#bd3786"
             ],
             [
              0.5555555555555556,
              "#d8576b"
             ],
             [
              0.6666666666666666,
              "#ed7953"
             ],
             [
              0.7777777777777778,
              "#fb9f3a"
             ],
             [
              0.8888888888888888,
              "#fdca26"
             ],
             [
              1.0,
              "#f0f921"
             ]
            ],
            "type": "heatmapgl"
           }
          ],
          "histogram": [
           {
            "marker": {
             "pattern": {
              "fillmode": "overlay",
              "size": 10,
              "solidity": 0.2
             }
            },
            "type": "histogram"
           }
          ],
          "histogram2d": [
           {
            "colorbar": {
             "outlinewidth": 0,
             "ticks": ""
            },
            "colorscale": [
             [
              0.0,
              "#0d0887"
             ],
             [
              0.1111111111111111,
              "#46039f"
             ],
             [
              0.2222222222222222,
              "#7201a8"
             ],
             [
              0.3333333333333333,
              "#9c179e"
             ],
             [
              0.4444444444444444,
              "#bd3786"
             ],
             [
              0.5555555555555556,
              "#d8576b"
             ],
             [
              0.6666666666666666,
              "#ed7953"
             ],
             [
              0.7777777777777778,
              "#fb9f3a"
             ],
             [
              0.8888888888888888,
              "#fdca26"
             ],
             [
              1.0,
              "#f0f921"
             ]
            ],
            "type": "histogram2d"
           }
          ],
          "histogram2dcontour": [
           {
            "colorbar": {
             "outlinewidth": 0,
             "ticks": ""
            },
            "colorscale": [
             [
              0.0,
              "#0d0887"
             ],
             [
              0.1111111111111111,
              "#46039f"
             ],
             [
              0.2222222222222222,
              "#7201a8"
             ],
             [
              0.3333333333333333,
              "#9c179e"
             ],
             [
              0.4444444444444444,
              "#bd3786"
             ],
             [
              0.5555555555555556,
              "#d8576b"
             ],
             [
              0.6666666666666666,
              "#ed7953"
             ],
             [
              0.7777777777777778,
              "#fb9f3a"
             ],
             [
              0.8888888888888888,
              "#fdca26"
             ],
             [
              1.0,
              "#f0f921"
             ]
            ],
            "type": "histogram2dcontour"
           }
          ],
          "mesh3d": [
           {
            "colorbar": {
             "outlinewidth": 0,
             "ticks": ""
            },
            "type": "mesh3d"
           }
          ],
          "parcoords": [
           {
            "line": {
             "colorbar": {
              "outlinewidth": 0,
              "ticks": ""
             }
            },
            "type": "parcoords"
           }
          ],
          "pie": [
           {
            "automargin": true,
            "type": "pie"
           }
          ],
          "scatter": [
           {
            "fillpattern": {
             "fillmode": "overlay",
             "size": 10,
             "solidity": 0.2
            },
            "type": "scatter"
           }
          ],
          "scatter3d": [
           {
            "line": {
             "colorbar": {
              "outlinewidth": 0,
              "ticks": ""
             }
            },
            "marker": {
             "colorbar": {
              "outlinewidth": 0,
              "ticks": ""
             }
            },
            "type": "scatter3d"
           }
          ],
          "scattercarpet": [
           {
            "marker": {
             "colorbar": {
              "outlinewidth": 0,
              "ticks": ""
             }
            },
            "type": "scattercarpet"
           }
          ],
          "scattergeo": [
           {
            "marker": {
             "colorbar": {
              "outlinewidth": 0,
              "ticks": ""
             }
            },
            "type": "scattergeo"
           }
          ],
          "scattergl": [
           {
            "marker": {
             "colorbar": {
              "outlinewidth": 0,
              "ticks": ""
             }
            },
            "type": "scattergl"
           }
          ],
          "scattermapbox": [
           {
            "marker": {
             "colorbar": {
              "outlinewidth": 0,
              "ticks": ""
             }
            },
            "type": "scattermapbox"
           }
          ],
          "scatterpolar": [
           {
            "marker": {
             "colorbar": {
              "outlinewidth": 0,
              "ticks": ""
             }
            },
            "type": "scatterpolar"
           }
          ],
          "scatterpolargl": [
           {
            "marker": {
             "colorbar": {
              "outlinewidth": 0,
              "ticks": ""
             }
            },
            "type": "scatterpolargl"
           }
          ],
          "scatterternary": [
           {
            "marker": {
             "colorbar": {
              "outlinewidth": 0,
              "ticks": ""
             }
            },
            "type": "scatterternary"
           }
          ],
          "surface": [
           {
            "colorbar": {
             "outlinewidth": 0,
             "ticks": ""
            },
            "colorscale": [
             [
              0.0,
              "#0d0887"
             ],
             [
              0.1111111111111111,
              "#46039f"
             ],
             [
              0.2222222222222222,
              "#7201a8"
             ],
             [
              0.3333333333333333,
              "#9c179e"
             ],
             [
              0.4444444444444444,
              "#bd3786"
             ],
             [
              0.5555555555555556,
              "#d8576b"
             ],
             [
              0.6666666666666666,
              "#ed7953"
             ],
             [
              0.7777777777777778,
              "#fb9f3a"
             ],
             [
              0.8888888888888888,
              "#fdca26"
             ],
             [
              1.0,
              "#f0f921"
             ]
            ],
            "type": "surface"
           }
          ],
          "table": [
           {
            "cells": {
             "fill": {
              "color": "#EBF0F8"
             },
             "line": {
              "color": "white"
             }
            },
            "header": {
             "fill": {
              "color": "#C8D4E3"
             },
             "line": {
              "color": "white"
             }
            },
            "type": "table"
           }
          ]
         },
         "layout": {
          "annotationdefaults": {
           "arrowcolor": "#2a3f5f",
           "arrowhead": 0,
           "arrowwidth": 1
          },
          "autotypenumbers": "strict",
          "coloraxis": {
           "colorbar": {
            "outlinewidth": 0,
            "ticks": ""
           }
          },
          "colorscale": {
           "diverging": [
            [
             0,
             "#8e0152"
            ],
            [
             0.1,
             "#c51b7d"
            ],
            [
             0.2,
             "#de77ae"
            ],
            [
             0.3,
             "#f1b6da"
            ],
            [
             0.4,
             "#fde0ef"
            ],
            [
             0.5,
             "#f7f7f7"
            ],
            [
             0.6,
             "#e6f5d0"
            ],
            [
             0.7,
             "#b8e186"
            ],
            [
             0.8,
             "#7fbc41"
            ],
            [
             0.9,
             "#4d9221"
            ],
            [
             1,
             "#276419"
            ]
           ],
           "sequential": [
            [
             0.0,
             "#0d0887"
            ],
            [
             0.1111111111111111,
             "#46039f"
            ],
            [
             0.2222222222222222,
             "#7201a8"
            ],
            [
             0.3333333333333333,
             "#9c179e"
            ],
            [
             0.4444444444444444,
             "#bd3786"
            ],
            [
             0.5555555555555556,
             "#d8576b"
            ],
            [
             0.6666666666666666,
             "#ed7953"
            ],
            [
             0.7777777777777778,
             "#fb9f3a"
            ],
            [
             0.8888888888888888,
             "#fdca26"
            ],
            [
             1.0,
             "#f0f921"
            ]
           ],
           "sequentialminus": [
            [
             0.0,
             "#0d0887"
            ],
            [
             0.1111111111111111,
             "#46039f"
            ],
            [
             0.2222222222222222,
             "#7201a8"
            ],
            [
             0.3333333333333333,
             "#9c179e"
            ],
            [
             0.4444444444444444,
             "#bd3786"
            ],
            [
             0.5555555555555556,
             "#d8576b"
            ],
            [
             0.6666666666666666,
             "#ed7953"
            ],
            [
             0.7777777777777778,
             "#fb9f3a"
            ],
            [
             0.8888888888888888,
             "#fdca26"
            ],
            [
             1.0,
             "#f0f921"
            ]
           ]
          },
          "colorway": [
           "#636efa",
           "#EF553B",
           "#00cc96",
           "#ab63fa",
           "#FFA15A",
           "#19d3f3",
           "#FF6692",
           "#B6E880",
           "#FF97FF",
           "#FECB52"
          ],
          "font": {
           "color": "#2a3f5f"
          },
          "geo": {
           "bgcolor": "white",
           "lakecolor": "white",
           "landcolor": "#E5ECF6",
           "showlakes": true,
           "showland": true,
           "subunitcolor": "white"
          },
          "hoverlabel": {
           "align": "left"
          },
          "hovermode": "closest",
          "mapbox": {
           "style": "light"
          },
          "paper_bgcolor": "white",
          "plot_bgcolor": "#E5ECF6",
          "polar": {
           "angularaxis": {
            "gridcolor": "white",
            "linecolor": "white",
            "ticks": ""
           },
           "bgcolor": "#E5ECF6",
           "radialaxis": {
            "gridcolor": "white",
            "linecolor": "white",
            "ticks": ""
           }
          },
          "scene": {
           "xaxis": {
            "backgroundcolor": "#E5ECF6",
            "gridcolor": "white",
            "gridwidth": 2,
            "linecolor": "white",
            "showbackground": true,
            "ticks": "",
            "zerolinecolor": "white"
           },
           "yaxis": {
            "backgroundcolor": "#E5ECF6",
            "gridcolor": "white",
            "gridwidth": 2,
            "linecolor": "white",
            "showbackground": true,
            "ticks": "",
            "zerolinecolor": "white"
           },
           "zaxis": {
            "backgroundcolor": "#E5ECF6",
            "gridcolor": "white",
            "gridwidth": 2,
            "linecolor": "white",
            "showbackground": true,
            "ticks": "",
            "zerolinecolor": "white"
           }
          },
          "shapedefaults": {
           "line": {
            "color": "#2a3f5f"
           }
          },
          "ternary": {
           "aaxis": {
            "gridcolor": "white",
            "linecolor": "white",
            "ticks": ""
           },
           "baxis": {
            "gridcolor": "white",
            "linecolor": "white",
            "ticks": ""
           },
           "bgcolor": "#E5ECF6",
           "caxis": {
            "gridcolor": "white",
            "linecolor": "white",
            "ticks": ""
           }
          },
          "title": {
           "x": 0.05
          },
          "xaxis": {
           "automargin": true,
           "gridcolor": "white",
           "linecolor": "white",
           "ticks": "",
           "title": {
            "standoff": 15
           },
           "zerolinecolor": "white",
           "zerolinewidth": 2
          },
          "yaxis": {
           "automargin": true,
           "gridcolor": "white",
           "linecolor": "white",
           "ticks": "",
           "title": {
            "standoff": 15
           },
           "zerolinecolor": "white",
           "zerolinewidth": 2
          }
         }
        },
        "title": {
         "text": "State Value Estimates"
        },
        "width": 700
       }
      },
      "text/html": [
       "<div>                            <div id=\"64222a8c-843d-47e5-b8fe-fd9ba279a5a8\" class=\"plotly-graph-div\" style=\"height:600px; width:700px;\"></div>            <script type=\"text/javascript\">                require([\"plotly\"], function(Plotly) {                    window.PLOTLYENV=window.PLOTLYENV || {};                                    if (document.getElementById(\"64222a8c-843d-47e5-b8fe-fd9ba279a5a8\")) {                    Plotly.newPlot(                        \"64222a8c-843d-47e5-b8fe-fd9ba279a5a8\",                        [{\"cmid\":0,\"colorscale\":[[0,\"#0C3584\"],[0.3,\"#4394A9\"],[0.5,\"#BCBCBC\"],[0.7,\"#F29B39\"],[1,\"#DA201F\"]],\"contours\":{\"x\":{\"color\":\"rgba(200, 200, 200, 0.95)\",\"end\":11,\"show\":true,\"size\":1,\"start\":2},\"y\":{\"color\":\"rgba(200, 200, 200, 0.95)\",\"end\":21,\"show\":true,\"size\":1,\"start\":4},\"z\":{\"color\":\"white\",\"end\":0.9746835443037974,\"show\":false,\"size\":1,\"start\":-1.0}},\"opacity\":0.85,\"showscale\":true,\"x\":[2,3,4,5,6,7,8,9,10,11],\"y\":[4,5,6,7,8,9,10,11,12,13,14,15,16,17,18,19,20,21],\"z\":[[0.0,0.0,-1.0,0.3333333333333333,0.2,-0.2,-1.0,0.5,-0.9411764705882353,-1.0],[-0.2857142857142857,-0.2727272727272727,-0.7777777777777778,-0.7,-0.42857142857142855,-0.5,-0.2,-0.6153846153846154,-0.5,-0.6],[-0.25,-0.3333333333333333,-0.6,-0.7,-0.5,-0.21428571428571427,-0.21428571428571427,-0.4666666666666667,-0.2857142857142857,-0.25],[-0.782608695652174,-0.45,-0.47368421052631576,-0.5555555555555556,-0.3793103448275862,-0.4583333333333333,-0.65,-0.5454545454545454,-0.6818181818181818,-0.5263157894736842],[-0.625,-0.8695652173913043,-0.7241379310344828,-0.45454545454545453,-0.32,-0.5833333333333334,-0.7407407407407407,-0.3870967741935484,-0.5595238095238095,-0.47058823529411764],[-0.5,-0.896551724137931,-0.6571428571428571,-0.4375,-0.4117647058823529,-0.17857142857142858,-0.6,-0.5,-0.5677966101694916,-0.3793103448275862],[-0.2564102564102564,0.034482758620689655,-0.07894736842105263,-0.025,0.08823529411764706,0.09523809523809523,-0.025,-0.0625,-0.21710526315789475,0.4117647058823529],[-0.0784313725490196,0.0425531914893617,0.037037037037037035,-0.2692307692307692,-0.23076923076923078,0.10526315789473684,0.13953488372093023,-0.22857142857142856,-0.09933774834437085,0.03571428571428571],[-0.6288659793814433,-0.6195652173913043,-0.5824175824175825,-0.47572815533980584,-0.49333333333333335,-0.3950617283950617,-0.5652173913043478,-0.5978260869565217,-0.5964391691394659,-0.6],[-0.6601941747572816,-0.5930232558139535,-0.6039603960396039,-0.5210084033613446,-0.36904761904761907,-0.4835164835164835,-0.56,-0.504950495049505,-0.6170212765957447,-0.5230769230769231],[-0.6346153846153846,-0.7087378640776699,-0.6197183098591549,-0.57,-0.5656565656565656,-0.4897959183673469,-0.6464646464646465,-0.4942528735632184,-0.5958702064896755,-0.6065573770491803],[-0.711340206185567,-0.5283018867924528,-0.6195652173913043,-0.6138613861386139,-0.6161616161616161,-0.5263157894736842,-0.75,-0.6428571428571429,-0.5855072463768116,-0.6666666666666666],[-0.7142857142857143,-0.5047619047619047,-0.7368421052631579,-0.6346153846153846,-0.6521739130434783,-0.5697674418604651,-0.6216216216216216,-0.628099173553719,-0.6542553191489362,-0.8028169014084507],[-0.6962962962962963,-0.578125,-0.7058823529411765,-0.7023809523809523,-0.6306306306306306,-0.594059405940594,-0.7168141592920354,-0.6407766990291263,-0.6881188118811881,-0.5571428571428572],[-0.7419354838709677,-0.6886792452830188,-0.6486486486486487,-0.6140350877192983,-0.6226415094339622,-0.6777777777777778,-0.6534653465346535,-0.6984126984126984,-0.6658291457286433,-0.7361111111111112],[-0.8275862068965517,-0.8137254901960784,-0.8380952380952381,-0.6767676767676768,-0.64,-0.49,-0.7818181818181819,-0.7383177570093458,-0.6888361045130641,-0.5789473684210527],[0.6267605633802817,0.6610169491525424,0.6944444444444444,0.6363636363636364,0.7532467532467533,0.7590361445783133,0.8116883116883117,0.78125,0.5682656826568265,0.5918367346938775],[0.8676470588235294,0.8658536585365854,0.9310344827586207,0.8505747126436781,0.8933333333333333,0.9021739130434783,0.9130434782608695,0.9746835443037974,0.971830985915493,0.8627450980392157]],\"type\":\"surface\"}],                        {\"template\":{\"data\":{\"histogram2dcontour\":[{\"type\":\"histogram2dcontour\",\"colorbar\":{\"outlinewidth\":0,\"ticks\":\"\"},\"colorscale\":[[0.0,\"#0d0887\"],[0.1111111111111111,\"#46039f\"],[0.2222222222222222,\"#7201a8\"],[0.3333333333333333,\"#9c179e\"],[0.4444444444444444,\"#bd3786\"],[0.5555555555555556,\"#d8576b\"],[0.6666666666666666,\"#ed7953\"],[0.7777777777777778,\"#fb9f3a\"],[0.8888888888888888,\"#fdca26\"],[1.0,\"#f0f921\"]]}],\"choropleth\":[{\"type\":\"choropleth\",\"colorbar\":{\"outlinewidth\":0,\"ticks\":\"\"}}],\"histogram2d\":[{\"type\":\"histogram2d\",\"colorbar\":{\"outlinewidth\":0,\"ticks\":\"\"},\"colorscale\":[[0.0,\"#0d0887\"],[0.1111111111111111,\"#46039f\"],[0.2222222222222222,\"#7201a8\"],[0.3333333333333333,\"#9c179e\"],[0.4444444444444444,\"#bd3786\"],[0.5555555555555556,\"#d8576b\"],[0.6666666666666666,\"#ed7953\"],[0.7777777777777778,\"#fb9f3a\"],[0.8888888888888888,\"#fdca26\"],[1.0,\"#f0f921\"]]}],\"heatmap\":[{\"type\":\"heatmap\",\"colorbar\":{\"outlinewidth\":0,\"ticks\":\"\"},\"colorscale\":[[0.0,\"#0d0887\"],[0.1111111111111111,\"#46039f\"],[0.2222222222222222,\"#7201a8\"],[0.3333333333333333,\"#9c179e\"],[0.4444444444444444,\"#bd3786\"],[0.5555555555555556,\"#d8576b\"],[0.6666666666666666,\"#ed7953\"],[0.7777777777777778,\"#fb9f3a\"],[0.8888888888888888,\"#fdca26\"],[1.0,\"#f0f921\"]]}],\"heatmapgl\":[{\"type\":\"heatmapgl\",\"colorbar\":{\"outlinewidth\":0,\"ticks\":\"\"},\"colorscale\":[[0.0,\"#0d0887\"],[0.1111111111111111,\"#46039f\"],[0.2222222222222222,\"#7201a8\"],[0.3333333333333333,\"#9c179e\"],[0.4444444444444444,\"#bd3786\"],[0.5555555555555556,\"#d8576b\"],[0.6666666666666666,\"#ed7953\"],[0.7777777777777778,\"#fb9f3a\"],[0.8888888888888888,\"#fdca26\"],[1.0,\"#f0f921\"]]}],\"contourcarpet\":[{\"type\":\"contourcarpet\",\"colorbar\":{\"outlinewidth\":0,\"ticks\":\"\"}}],\"contour\":[{\"type\":\"contour\",\"colorbar\":{\"outlinewidth\":0,\"ticks\":\"\"},\"colorscale\":[[0.0,\"#0d0887\"],[0.1111111111111111,\"#46039f\"],[0.2222222222222222,\"#7201a8\"],[0.3333333333333333,\"#9c179e\"],[0.4444444444444444,\"#bd3786\"],[0.5555555555555556,\"#d8576b\"],[0.6666666666666666,\"#ed7953\"],[0.7777777777777778,\"#fb9f3a\"],[0.8888888888888888,\"#fdca26\"],[1.0,\"#f0f921\"]]}],\"surface\":[{\"type\":\"surface\",\"colorbar\":{\"outlinewidth\":0,\"ticks\":\"\"},\"colorscale\":[[0.0,\"#0d0887\"],[0.1111111111111111,\"#46039f\"],[0.2222222222222222,\"#7201a8\"],[0.3333333333333333,\"#9c179e\"],[0.4444444444444444,\"#bd3786\"],[0.5555555555555556,\"#d8576b\"],[0.6666666666666666,\"#ed7953\"],[0.7777777777777778,\"#fb9f3a\"],[0.8888888888888888,\"#fdca26\"],[1.0,\"#f0f921\"]]}],\"mesh3d\":[{\"type\":\"mesh3d\",\"colorbar\":{\"outlinewidth\":0,\"ticks\":\"\"}}],\"scatter\":[{\"fillpattern\":{\"fillmode\":\"overlay\",\"size\":10,\"solidity\":0.2},\"type\":\"scatter\"}],\"parcoords\":[{\"type\":\"parcoords\",\"line\":{\"colorbar\":{\"outlinewidth\":0,\"ticks\":\"\"}}}],\"scatterpolargl\":[{\"type\":\"scatterpolargl\",\"marker\":{\"colorbar\":{\"outlinewidth\":0,\"ticks\":\"\"}}}],\"bar\":[{\"error_x\":{\"color\":\"#2a3f5f\"},\"error_y\":{\"color\":\"#2a3f5f\"},\"marker\":{\"line\":{\"color\":\"#E5ECF6\",\"width\":0.5},\"pattern\":{\"fillmode\":\"overlay\",\"size\":10,\"solidity\":0.2}},\"type\":\"bar\"}],\"scattergeo\":[{\"type\":\"scattergeo\",\"marker\":{\"colorbar\":{\"outlinewidth\":0,\"ticks\":\"\"}}}],\"scatterpolar\":[{\"type\":\"scatterpolar\",\"marker\":{\"colorbar\":{\"outlinewidth\":0,\"ticks\":\"\"}}}],\"histogram\":[{\"marker\":{\"pattern\":{\"fillmode\":\"overlay\",\"size\":10,\"solidity\":0.2}},\"type\":\"histogram\"}],\"scattergl\":[{\"type\":\"scattergl\",\"marker\":{\"colorbar\":{\"outlinewidth\":0,\"ticks\":\"\"}}}],\"scatter3d\":[{\"type\":\"scatter3d\",\"line\":{\"colorbar\":{\"outlinewidth\":0,\"ticks\":\"\"}},\"marker\":{\"colorbar\":{\"outlinewidth\":0,\"ticks\":\"\"}}}],\"scattermapbox\":[{\"type\":\"scattermapbox\",\"marker\":{\"colorbar\":{\"outlinewidth\":0,\"ticks\":\"\"}}}],\"scatterternary\":[{\"type\":\"scatterternary\",\"marker\":{\"colorbar\":{\"outlinewidth\":0,\"ticks\":\"\"}}}],\"scattercarpet\":[{\"type\":\"scattercarpet\",\"marker\":{\"colorbar\":{\"outlinewidth\":0,\"ticks\":\"\"}}}],\"carpet\":[{\"aaxis\":{\"endlinecolor\":\"#2a3f5f\",\"gridcolor\":\"white\",\"linecolor\":\"white\",\"minorgridcolor\":\"white\",\"startlinecolor\":\"#2a3f5f\"},\"baxis\":{\"endlinecolor\":\"#2a3f5f\",\"gridcolor\":\"white\",\"linecolor\":\"white\",\"minorgridcolor\":\"white\",\"startlinecolor\":\"#2a3f5f\"},\"type\":\"carpet\"}],\"table\":[{\"cells\":{\"fill\":{\"color\":\"#EBF0F8\"},\"line\":{\"color\":\"white\"}},\"header\":{\"fill\":{\"color\":\"#C8D4E3\"},\"line\":{\"color\":\"white\"}},\"type\":\"table\"}],\"barpolar\":[{\"marker\":{\"line\":{\"color\":\"#E5ECF6\",\"width\":0.5},\"pattern\":{\"fillmode\":\"overlay\",\"size\":10,\"solidity\":0.2}},\"type\":\"barpolar\"}],\"pie\":[{\"automargin\":true,\"type\":\"pie\"}]},\"layout\":{\"autotypenumbers\":\"strict\",\"colorway\":[\"#636efa\",\"#EF553B\",\"#00cc96\",\"#ab63fa\",\"#FFA15A\",\"#19d3f3\",\"#FF6692\",\"#B6E880\",\"#FF97FF\",\"#FECB52\"],\"font\":{\"color\":\"#2a3f5f\"},\"hovermode\":\"closest\",\"hoverlabel\":{\"align\":\"left\"},\"paper_bgcolor\":\"white\",\"plot_bgcolor\":\"#E5ECF6\",\"polar\":{\"bgcolor\":\"#E5ECF6\",\"angularaxis\":{\"gridcolor\":\"white\",\"linecolor\":\"white\",\"ticks\":\"\"},\"radialaxis\":{\"gridcolor\":\"white\",\"linecolor\":\"white\",\"ticks\":\"\"}},\"ternary\":{\"bgcolor\":\"#E5ECF6\",\"aaxis\":{\"gridcolor\":\"white\",\"linecolor\":\"white\",\"ticks\":\"\"},\"baxis\":{\"gridcolor\":\"white\",\"linecolor\":\"white\",\"ticks\":\"\"},\"caxis\":{\"gridcolor\":\"white\",\"linecolor\":\"white\",\"ticks\":\"\"}},\"coloraxis\":{\"colorbar\":{\"outlinewidth\":0,\"ticks\":\"\"}},\"colorscale\":{\"sequential\":[[0.0,\"#0d0887\"],[0.1111111111111111,\"#46039f\"],[0.2222222222222222,\"#7201a8\"],[0.3333333333333333,\"#9c179e\"],[0.4444444444444444,\"#bd3786\"],[0.5555555555555556,\"#d8576b\"],[0.6666666666666666,\"#ed7953\"],[0.7777777777777778,\"#fb9f3a\"],[0.8888888888888888,\"#fdca26\"],[1.0,\"#f0f921\"]],\"sequentialminus\":[[0.0,\"#0d0887\"],[0.1111111111111111,\"#46039f\"],[0.2222222222222222,\"#7201a8\"],[0.3333333333333333,\"#9c179e\"],[0.4444444444444444,\"#bd3786\"],[0.5555555555555556,\"#d8576b\"],[0.6666666666666666,\"#ed7953\"],[0.7777777777777778,\"#fb9f3a\"],[0.8888888888888888,\"#fdca26\"],[1.0,\"#f0f921\"]],\"diverging\":[[0,\"#8e0152\"],[0.1,\"#c51b7d\"],[0.2,\"#de77ae\"],[0.3,\"#f1b6da\"],[0.4,\"#fde0ef\"],[0.5,\"#f7f7f7\"],[0.6,\"#e6f5d0\"],[0.7,\"#b8e186\"],[0.8,\"#7fbc41\"],[0.9,\"#4d9221\"],[1,\"#276419\"]]},\"xaxis\":{\"gridcolor\":\"white\",\"linecolor\":\"white\",\"ticks\":\"\",\"title\":{\"standoff\":15},\"zerolinecolor\":\"white\",\"automargin\":true,\"zerolinewidth\":2},\"yaxis\":{\"gridcolor\":\"white\",\"linecolor\":\"white\",\"ticks\":\"\",\"title\":{\"standoff\":15},\"zerolinecolor\":\"white\",\"automargin\":true,\"zerolinewidth\":2},\"scene\":{\"xaxis\":{\"backgroundcolor\":\"#E5ECF6\",\"gridcolor\":\"white\",\"linecolor\":\"white\",\"showbackground\":true,\"ticks\":\"\",\"zerolinecolor\":\"white\",\"gridwidth\":2},\"yaxis\":{\"backgroundcolor\":\"#E5ECF6\",\"gridcolor\":\"white\",\"linecolor\":\"white\",\"showbackground\":true,\"ticks\":\"\",\"zerolinecolor\":\"white\",\"gridwidth\":2},\"zaxis\":{\"backgroundcolor\":\"#E5ECF6\",\"gridcolor\":\"white\",\"linecolor\":\"white\",\"showbackground\":true,\"ticks\":\"\",\"zerolinecolor\":\"white\",\"gridwidth\":2}},\"shapedefaults\":{\"line\":{\"color\":\"#2a3f5f\"}},\"annotationdefaults\":{\"arrowcolor\":\"#2a3f5f\",\"arrowhead\":0,\"arrowwidth\":1},\"geo\":{\"bgcolor\":\"white\",\"landcolor\":\"#E5ECF6\",\"subunitcolor\":\"white\",\"showland\":true,\"showlakes\":true,\"lakecolor\":\"white\"},\"title\":{\"x\":0.05},\"mapbox\":{\"style\":\"light\"}}},\"scene\":{\"aspectratio\":{\"x\":1,\"y\":1,\"z\":0.3},\"camera\":{\"up\":{\"x\":0,\"y\":0,\"z\":1},\"center\":{\"x\":0,\"y\":0,\"z\":0},\"eye\":{\"x\":1.4,\"y\":-0.75,\"z\":0.4}},\"xaxis\":{\"title\":{\"text\":\"Dealer Card\"}},\"yaxis\":{\"title\":{\"text\":\"Player Total\"}},\"zaxis\":{\"title\":{\"text\":\"Value\"}}},\"title\":{\"text\":\"State Value Estimates\"},\"autosize\":false,\"width\":700,\"height\":600},                        {\"responsive\": true}                    ).then(function(){\n",
       "                            \n",
       "var gd = document.getElementById('64222a8c-843d-47e5-b8fe-fd9ba279a5a8');\n",
       "var x = new MutationObserver(function (mutations, observer) {{\n",
       "        var display = window.getComputedStyle(gd).display;\n",
       "        if (!display || display === 'none') {{\n",
       "            console.log([gd, 'removed!']);\n",
       "            Plotly.purge(gd);\n",
       "            observer.disconnect();\n",
       "        }}\n",
       "}});\n",
       "\n",
       "// Listen for the removal of the full notebook cells\n",
       "var notebookContainer = gd.closest('#notebook-container');\n",
       "if (notebookContainer) {{\n",
       "    x.observe(notebookContainer, {childList: true});\n",
       "}}\n",
       "\n",
       "// Listen for the clearing of the current output cell\n",
       "var outputEl = gd.closest('.output');\n",
       "if (outputEl) {{\n",
       "    x.observe(outputEl, {childList: true});\n",
       "}}\n",
       "\n",
       "                        })                };                });            </script>        </div>"
      ]
     },
     "metadata": {},
     "output_type": "display_data"
    }
   ],
   "source": [
    "def first_visit_mc(env: Blackjack, agent, n_iterations=10000):\n",
    "    '''\n",
    "    Performs First-Visit Monte Carlo prediction for a Blackjack environment and agent.\n",
    "    \n",
    "    Args:\n",
    "        env: Blackjack environment in which the agent acts.\n",
    "        agent: The agent that interacts with the environment.\n",
    "        n_iterations: The number of episodes to generate for the evaluation.\n",
    "    \n",
    "    Returns:\n",
    "        value_estimates: A dictionary where keys are states and values are the estimated values of those states.\n",
    "        average_return_per_episode: The average return per episode over all episodes.\n",
    "    '''\n",
    "    \n",
    "    # Initialize dictionaries for the cumulative return and the count of visits for each state\n",
    "    value_sums = defaultdict(float)\n",
    "    state_counts = defaultdict(float)\n",
    "\n",
    "    # Variable to keep track of the total return from all episodes\n",
    "    total_return = 0 \n",
    "\n",
    "    for i in range(n_iterations):\n",
    "        # Reset the environment and agent for the new episode\n",
    "        observations = env.reset()\n",
    "        agent.reset()\n",
    "        \n",
    "        # Generate an episode by following the agent's policy\n",
    "        episode = []\n",
    "        while not env.is_done():\n",
    "            # Get the current action, using the agent's policy\n",
    "            action = agent.policy[observations]\n",
    "\n",
    "            # Perform the action and get the reward\n",
    "            next_observations, reward, _, _ = env.action(action)\n",
    "            \n",
    "            # Add the observed state-action-reward tuple to the episode\n",
    "            episode.append((observations, action, reward))\n",
    "            \n",
    "            # Move to the next state\n",
    "            observations = next_observations\n",
    "\n",
    "        # Initialize the total return for the current episode\n",
    "        G = 0   \n",
    "        \n",
    "        # Create a set to store visited states of the current episode\n",
    "        visited_states = set()  \n",
    "        \n",
    "        # Loop backwards through the episode\n",
    "        for t in range(len(episode)-1, -1, -1):\n",
    "            # Get the state, action, and reward of the current step\n",
    "            obs, action, reward = episode[t]\n",
    "            \n",
    "            # Update the total return\n",
    "            G += reward \n",
    "\n",
    "            # If it's the first visit of the state in the current episode,\n",
    "            # update the state's cumulative return and count of visits\n",
    "            if obs not in visited_states:\n",
    "                value_sums[obs] += G\n",
    "                state_counts[obs] += 1\n",
    "                visited_states.add(obs)\n",
    "\n",
    "        # Add the total return of the current episode to the total return from all episodes\n",
    "        total_return += G\n",
    "\n",
    "    # Compute the value estimates by averaging the cumulative returns over the number of visits for each state\n",
    "    value_estimates = {state: value_sums[state] / state_counts[state]\n",
    "                        for state in value_sums}\n",
    "    \n",
    "    # Calculate the average return per episode\n",
    "    average_return_per_episode = total_return / n_iterations\n",
    "\n",
    "    return value_estimates, average_return_per_episode\n",
    "\n",
    "\n",
    "import pandas as pd\n",
    "import numpy as np\n",
    "import plotly \n",
    "plotly.offline.init_notebook_mode(connected=True)\n",
    "import plotly.graph_objects as go\n",
    "\n",
    "\n",
    "def plot_value_function(value_estimates, usable_ace=False):\n",
    "    \n",
    "    colorscale = [[0, '#0C3584'],   # Blue\n",
    "                  [0.3, '#4394A9'], # Teal\n",
    "                  [0.5, '#BCBCBC'], # Light gray\n",
    "                  [0.7, '#F29B39'], # Orange\n",
    "                  [1, '#DA201F']]   # Red\n",
    "    \n",
    "    # Convert the dictionary to a pandas DataFrame\n",
    "    data = pd.DataFrame([(obs[0], obs[1], obs[2], value) \n",
    "                        for obs, value in value_estimates.items()],\n",
    "                        columns=[\"player_total\", \"dealer_card\", \"usable_ace\", \"value\"])\n",
    "\n",
    "    # Create a grid of player totals and dealer cards\n",
    "    player_totals = np.arange(4, 22)\n",
    "    dealer_cards = np.arange(2, 12)\n",
    "\n",
    "    # Create 3D surfaces for the cases with and without a usable ace\n",
    "    fig = go.Figure()\n",
    "\n",
    "    # Filter data based on the usability of the ace and pivot to create a 2D array of values\n",
    "    filtered_data = data[data['usable_ace'] == usable_ace]\n",
    "    z_values = filtered_data.pivot(index='player_total', columns='dealer_card', values='value').reindex(index=player_totals, columns=dealer_cards)\n",
    "\n",
    "    fig.add_trace(go.Surface(x=dealer_cards, y=player_totals, z=z_values, \n",
    "                         showscale=True, colorscale=colorscale, opacity=0.85, cmid=0,\n",
    "                         contours = {\n",
    "                             \"x\": {\"show\": True, \"start\": dealer_cards[0], \"end\": dealer_cards[-1], \"size\": 1, \"color\":\"rgba(200, 200, 200, 0.95)\"},\n",
    "                             \"y\": {\"show\": True, \"start\": player_totals[0], \"end\": player_totals[-1], \"size\": 1, \"color\":\"rgba(200, 200, 200, 0.95)\"},\n",
    "                             \"z\": {\"show\": False, \"start\": z_values.min().min(), \"end\": z_values.max().max(), \"size\": 1, \"color\":\"white\"}\n",
    "                         }))\n",
    "    fig.update_layout(\n",
    "    title=\"State Value Estimates\",\n",
    "    autosize=False,\n",
    "    width=700,\n",
    "    height=600,\n",
    "    scene=dict(\n",
    "        xaxis_title='Dealer Card',\n",
    "        yaxis_title='Player Total',\n",
    "        zaxis_title='Value',\n",
    "        aspectratio=dict(x=1, y=1, z=0.3),\n",
    "        camera=dict(\n",
    "            up=dict(x=0, y=0, z=1),\n",
    "            center=dict(x=0, y=0, z=0),\n",
    "            eye=dict(x=1.4, y=-0.75, z=0.4)\n",
    "        )\n",
    "    )\n",
    ")\n",
    "\n",
    "    # Show the figure\n",
    "    fig.show()\n",
    "    \n",
    "    \n",
    "# Call the function\n",
    "env = Blackjack(stake=1, n_decks=4)\n",
    "agent_simple = SimpleAgent()\n",
    "value_estimates_simple_agent, avg_return = first_visit_mc(env, agent_simple, n_iterations=10000)\n",
    "\n",
    "plot_value_function(value_estimates_simple_agent, usable_ace=False)"
   ]
  },
  {
   "cell_type": "markdown",
   "id": "f9919afe",
   "metadata": {
    "papermill": {
     "duration": 0.016767,
     "end_time": "2023-06-19T08:38:07.328245",
     "exception": false,
     "start_time": "2023-06-19T08:38:07.311478",
     "status": "completed"
    },
    "tags": []
   },
   "source": [
    "#### Observations:\n",
    "- Since we're evaluating our policy using simulations, we need to choose the right number of simulations to use. Too few simulations means we're not going to evaluate rare states enough. Think about how often we're going to evaluate the state `player_total=4`, `dealer_card=2` for example.\n",
    "- This surface shows many peaks and troughs in areas that should be fairly flat, so let's increase the number of simulations to smooth that out somewhat."
   ]
  },
  {
   "cell_type": "code",
   "execution_count": 5,
   "id": "4151ea77",
   "metadata": {
    "_kg_hide-input": true,
    "execution": {
     "iopub.execute_input": "2023-06-19T08:38:07.364664Z",
     "iopub.status.busy": "2023-06-19T08:38:07.364177Z",
     "iopub.status.idle": "2023-06-19T08:38:47.956120Z",
     "shell.execute_reply": "2023-06-19T08:38:47.954608Z"
    },
    "papermill": {
     "duration": 40.63822,
     "end_time": "2023-06-19T08:38:47.983630",
     "exception": false,
     "start_time": "2023-06-19T08:38:07.345410",
     "status": "completed"
    },
    "tags": []
   },
   "outputs": [
    {
     "data": {
      "application/vnd.plotly.v1+json": {
       "config": {
        "plotlyServerURL": "https://plot.ly"
       },
       "data": [
        {
         "cmid": 0,
         "colorscale": [
          [
           0,
           "#0C3584"
          ],
          [
           0.3,
           "#4394A9"
          ],
          [
           0.5,
           "#BCBCBC"
          ],
          [
           0.7,
           "#F29B39"
          ],
          [
           1,
           "#DA201F"
          ]
         ],
         "contours": {
          "x": {
           "color": "rgba(200, 200, 200, 0.95)",
           "end": 11,
           "show": true,
           "size": 1,
           "start": 2
          },
          "y": {
           "color": "rgba(200, 200, 200, 0.95)",
           "end": 21,
           "show": true,
           "size": 1,
           "start": 4
          },
          "z": {
           "color": "white",
           "end": 0.9581782739677477,
           "show": false,
           "size": 1,
           "start": -0.7514712539610684
          }
         },
         "opacity": 0.85,
         "showscale": true,
         "type": "surface",
         "x": [
          2,
          3,
          4,
          5,
          6,
          7,
          8,
          9,
          10,
          11
         ],
         "y": [
          4,
          5,
          6,
          7,
          8,
          9,
          10,
          11,
          12,
          13,
          14,
          15,
          16,
          17,
          18,
          19,
          20,
          21
         ],
         "z": [
          [
           -0.4342105263157895,
           -0.41414141414141414,
           -0.5714285714285714,
           -0.49473684210526314,
           -0.5104166666666666,
           -0.37037037037037035,
           -0.47297297297297297,
           -0.38961038961038963,
           -0.5152439024390244,
           -0.5645161290322581
          ],
          [
           -0.5621890547263682,
           -0.4943181818181818,
           -0.46987951807228917,
           -0.5398773006134969,
           -0.4034090909090909,
           -0.5647058823529412,
           -0.457286432160804,
           -0.5057471264367817,
           -0.5055401662049861,
           -0.5166666666666667
          ],
          [
           -0.550561797752809,
           -0.5103448275862069,
           -0.5789473684210527,
           -0.5502008032128514,
           -0.5485074626865671,
           -0.4714828897338403,
           -0.4444444444444444,
           -0.43508771929824563,
           -0.5042016806722689,
           -0.4864864864864865
          ],
          [
           -0.551622418879056,
           -0.5171428571428571,
           -0.5654450261780105,
           -0.5142857142857142,
           -0.5081521739130435,
           -0.4642857142857143,
           -0.4872448979591837,
           -0.45989304812834225,
           -0.5280437756497948,
           -0.424
          ],
          [
           -0.576271186440678,
           -0.49469214437367304,
           -0.5955555555555555,
           -0.6038543897216274,
           -0.5458248472505092,
           -0.5596707818930041,
           -0.5294117647058824,
           -0.5283757338551859,
           -0.545603495357728,
           -0.5490196078431373
          ],
          [
           -0.5396578538102644,
           -0.5341098169717138,
           -0.49838187702265374,
           -0.55,
           -0.48013245033112584,
           -0.5413153456998314,
           -0.4623115577889447,
           -0.48297213622291024,
           -0.5381301163291684,
           -0.6197530864197531
          ],
          [
           -0.13297872340425532,
           -0.10410958904109589,
           -0.12314540059347182,
           -0.13351134846461948,
           -0.1398002853067047,
           -0.05366492146596859,
           -0.06077348066298342,
           -0.027777777777777776,
           -0.16908212560386474,
           -0.09580838323353294
          ],
          [
           -0.08851674641148326,
           -0.082039911308204,
           -0.08232445520581114,
           -0.13976164680390032,
           -0.05454545454545454,
           -0.08187134502923976,
           -0.0033975084937712344,
           -0.04128440366972477,
           -0.06747919143876338,
           -0.024549918166939442
          ],
          [
           -0.5410879629629629,
           -0.5416666666666666,
           -0.5275204359673025,
           -0.5354200988467874,
           -0.5475138121546961,
           -0.5251116071428571,
           -0.5529672767609539,
           -0.5448048378229796,
           -0.5430744478572473,
           -0.5489731437598736
          ],
          [
           -0.5899318300996329,
           -0.6099405726634252,
           -0.5503500269251481,
           -0.5889070146818923,
           -0.551396942540854,
           -0.5803523758675921,
           -0.5700164744645799,
           -0.5463362068965517,
           -0.583890707271951,
           -0.5642414860681114
          ],
          [
           -0.631279129984464,
           -0.6044352759154203,
           -0.6327956989247312,
           -0.6101238556812062,
           -0.6298969072164948,
           -0.6339937434827946,
           -0.5903242408646423,
           -0.5802861685214626,
           -0.6078431372549019,
           -0.5966386554621849
          ],
          [
           -0.6669936243256498,
           -0.6547277936962751,
           -0.6313253012048192,
           -0.6654676258992805,
           -0.6300200803212851,
           -0.6407914764079148,
           -0.588477366255144,
           -0.6186943620178041,
           -0.6383898419559638,
           -0.6319886765746638
          ],
          [
           -0.6629485935984482,
           -0.6811735941320294,
           -0.6318383440118285,
           -0.6709401709401709,
           -0.6504663721158567,
           -0.6453831041257367,
           -0.6368876080691642,
           -0.6354823073194377,
           -0.661315380631797,
           -0.6118326118326118
          ],
          [
           -0.6947266569908079,
           -0.7180359747204667,
           -0.686476368741226,
           -0.6968559361801971,
           -0.6784565916398714,
           -0.6889744824265768,
           -0.6777777777777778,
           -0.6578587699316629,
           -0.6891009542943245,
           -0.7009536784741145
          ],
          [
           -0.7081182543406851,
           -0.717756183745583,
           -0.7081545064377682,
           -0.70953032375741,
           -0.7019806540764625,
           -0.7217153284671532,
           -0.6551561021759698,
           -0.7030956848030019,
           -0.6934704497583942,
           -0.7191601049868767
          ],
          [
           -0.7421944692239072,
           -0.7514712539610684,
           -0.7423230974632844,
           -0.7070979335130279,
           -0.7148047229791099,
           -0.7362997658079625,
           -0.7174303683737646,
           -0.7068201948627104,
           -0.7276876876876877,
           -0.7177215189873418
          ],
          [
           0.6292436974789916,
           0.6530677802762609,
           0.6631650288037954,
           0.6707887700534759,
           0.7138927097661623,
           0.7868686868686868,
           0.7999328633769721,
           0.7595345830639948,
           0.550199709513435,
           0.6537882589061716
          ],
          [
           0.89553264604811,
           0.8788083953960731,
           0.8880842659644503,
           0.8853242320819112,
           0.9056728232189973,
           0.9168384879725086,
           0.9433354797166774,
           0.9375410913872453,
           0.9581782739677477,
           0.9248395967002749
          ]
         ]
        }
       ],
       "layout": {
        "autosize": false,
        "height": 600,
        "scene": {
         "aspectratio": {
          "x": 1,
          "y": 1,
          "z": 0.3
         },
         "camera": {
          "center": {
           "x": 0,
           "y": 0,
           "z": 0
          },
          "eye": {
           "x": 1.4,
           "y": -0.75,
           "z": 0.4
          },
          "up": {
           "x": 0,
           "y": 0,
           "z": 1
          }
         },
         "xaxis": {
          "title": {
           "text": "Dealer Card"
          }
         },
         "yaxis": {
          "title": {
           "text": "Player Total"
          }
         },
         "zaxis": {
          "title": {
           "text": "Value"
          }
         }
        },
        "template": {
         "data": {
          "bar": [
           {
            "error_x": {
             "color": "#2a3f5f"
            },
            "error_y": {
             "color": "#2a3f5f"
            },
            "marker": {
             "line": {
              "color": "#E5ECF6",
              "width": 0.5
             },
             "pattern": {
              "fillmode": "overlay",
              "size": 10,
              "solidity": 0.2
             }
            },
            "type": "bar"
           }
          ],
          "barpolar": [
           {
            "marker": {
             "line": {
              "color": "#E5ECF6",
              "width": 0.5
             },
             "pattern": {
              "fillmode": "overlay",
              "size": 10,
              "solidity": 0.2
             }
            },
            "type": "barpolar"
           }
          ],
          "carpet": [
           {
            "aaxis": {
             "endlinecolor": "#2a3f5f",
             "gridcolor": "white",
             "linecolor": "white",
             "minorgridcolor": "white",
             "startlinecolor": "#2a3f5f"
            },
            "baxis": {
             "endlinecolor": "#2a3f5f",
             "gridcolor": "white",
             "linecolor": "white",
             "minorgridcolor": "white",
             "startlinecolor": "#2a3f5f"
            },
            "type": "carpet"
           }
          ],
          "choropleth": [
           {
            "colorbar": {
             "outlinewidth": 0,
             "ticks": ""
            },
            "type": "choropleth"
           }
          ],
          "contour": [
           {
            "colorbar": {
             "outlinewidth": 0,
             "ticks": ""
            },
            "colorscale": [
             [
              0.0,
              "#0d0887"
             ],
             [
              0.1111111111111111,
              "#46039f"
             ],
             [
              0.2222222222222222,
              "#7201a8"
             ],
             [
              0.3333333333333333,
              "#9c179e"
             ],
             [
              0.4444444444444444,
              "#bd3786"
             ],
             [
              0.5555555555555556,
              "#d8576b"
             ],
             [
              0.6666666666666666,
              "#ed7953"
             ],
             [
              0.7777777777777778,
              "#fb9f3a"
             ],
             [
              0.8888888888888888,
              "#fdca26"
             ],
             [
              1.0,
              "#f0f921"
             ]
            ],
            "type": "contour"
           }
          ],
          "contourcarpet": [
           {
            "colorbar": {
             "outlinewidth": 0,
             "ticks": ""
            },
            "type": "contourcarpet"
           }
          ],
          "heatmap": [
           {
            "colorbar": {
             "outlinewidth": 0,
             "ticks": ""
            },
            "colorscale": [
             [
              0.0,
              "#0d0887"
             ],
             [
              0.1111111111111111,
              "#46039f"
             ],
             [
              0.2222222222222222,
              "#7201a8"
             ],
             [
              0.3333333333333333,
              "#9c179e"
             ],
             [
              0.4444444444444444,
              "#bd3786"
             ],
             [
              0.5555555555555556,
              "#d8576b"
             ],
             [
              0.6666666666666666,
              "#ed7953"
             ],
             [
              0.7777777777777778,
              "#fb9f3a"
             ],
             [
              0.8888888888888888,
              "#fdca26"
             ],
             [
              1.0,
              "#f0f921"
             ]
            ],
            "type": "heatmap"
           }
          ],
          "heatmapgl": [
           {
            "colorbar": {
             "outlinewidth": 0,
             "ticks": ""
            },
            "colorscale": [
             [
              0.0,
              "#0d0887"
             ],
             [
              0.1111111111111111,
              "#46039f"
             ],
             [
              0.2222222222222222,
              "#7201a8"
             ],
             [
              0.3333333333333333,
              "#9c179e"
             ],
             [
              0.4444444444444444,
              "#bd3786"
             ],
             [
              0.5555555555555556,
              "#d8576b"
             ],
             [
              0.6666666666666666,
              "#ed7953"
             ],
             [
              0.7777777777777778,
              "#fb9f3a"
             ],
             [
              0.8888888888888888,
              "#fdca26"
             ],
             [
              1.0,
              "#f0f921"
             ]
            ],
            "type": "heatmapgl"
           }
          ],
          "histogram": [
           {
            "marker": {
             "pattern": {
              "fillmode": "overlay",
              "size": 10,
              "solidity": 0.2
             }
            },
            "type": "histogram"
           }
          ],
          "histogram2d": [
           {
            "colorbar": {
             "outlinewidth": 0,
             "ticks": ""
            },
            "colorscale": [
             [
              0.0,
              "#0d0887"
             ],
             [
              0.1111111111111111,
              "#46039f"
             ],
             [
              0.2222222222222222,
              "#7201a8"
             ],
             [
              0.3333333333333333,
              "#9c179e"
             ],
             [
              0.4444444444444444,
              "#bd3786"
             ],
             [
              0.5555555555555556,
              "#d8576b"
             ],
             [
              0.6666666666666666,
              "#ed7953"
             ],
             [
              0.7777777777777778,
              "#fb9f3a"
             ],
             [
              0.8888888888888888,
              "#fdca26"
             ],
             [
              1.0,
              "#f0f921"
             ]
            ],
            "type": "histogram2d"
           }
          ],
          "histogram2dcontour": [
           {
            "colorbar": {
             "outlinewidth": 0,
             "ticks": ""
            },
            "colorscale": [
             [
              0.0,
              "#0d0887"
             ],
             [
              0.1111111111111111,
              "#46039f"
             ],
             [
              0.2222222222222222,
              "#7201a8"
             ],
             [
              0.3333333333333333,
              "#9c179e"
             ],
             [
              0.4444444444444444,
              "#bd3786"
             ],
             [
              0.5555555555555556,
              "#d8576b"
             ],
             [
              0.6666666666666666,
              "#ed7953"
             ],
             [
              0.7777777777777778,
              "#fb9f3a"
             ],
             [
              0.8888888888888888,
              "#fdca26"
             ],
             [
              1.0,
              "#f0f921"
             ]
            ],
            "type": "histogram2dcontour"
           }
          ],
          "mesh3d": [
           {
            "colorbar": {
             "outlinewidth": 0,
             "ticks": ""
            },
            "type": "mesh3d"
           }
          ],
          "parcoords": [
           {
            "line": {
             "colorbar": {
              "outlinewidth": 0,
              "ticks": ""
             }
            },
            "type": "parcoords"
           }
          ],
          "pie": [
           {
            "automargin": true,
            "type": "pie"
           }
          ],
          "scatter": [
           {
            "fillpattern": {
             "fillmode": "overlay",
             "size": 10,
             "solidity": 0.2
            },
            "type": "scatter"
           }
          ],
          "scatter3d": [
           {
            "line": {
             "colorbar": {
              "outlinewidth": 0,
              "ticks": ""
             }
            },
            "marker": {
             "colorbar": {
              "outlinewidth": 0,
              "ticks": ""
             }
            },
            "type": "scatter3d"
           }
          ],
          "scattercarpet": [
           {
            "marker": {
             "colorbar": {
              "outlinewidth": 0,
              "ticks": ""
             }
            },
            "type": "scattercarpet"
           }
          ],
          "scattergeo": [
           {
            "marker": {
             "colorbar": {
              "outlinewidth": 0,
              "ticks": ""
             }
            },
            "type": "scattergeo"
           }
          ],
          "scattergl": [
           {
            "marker": {
             "colorbar": {
              "outlinewidth": 0,
              "ticks": ""
             }
            },
            "type": "scattergl"
           }
          ],
          "scattermapbox": [
           {
            "marker": {
             "colorbar": {
              "outlinewidth": 0,
              "ticks": ""
             }
            },
            "type": "scattermapbox"
           }
          ],
          "scatterpolar": [
           {
            "marker": {
             "colorbar": {
              "outlinewidth": 0,
              "ticks": ""
             }
            },
            "type": "scatterpolar"
           }
          ],
          "scatterpolargl": [
           {
            "marker": {
             "colorbar": {
              "outlinewidth": 0,
              "ticks": ""
             }
            },
            "type": "scatterpolargl"
           }
          ],
          "scatterternary": [
           {
            "marker": {
             "colorbar": {
              "outlinewidth": 0,
              "ticks": ""
             }
            },
            "type": "scatterternary"
           }
          ],
          "surface": [
           {
            "colorbar": {
             "outlinewidth": 0,
             "ticks": ""
            },
            "colorscale": [
             [
              0.0,
              "#0d0887"
             ],
             [
              0.1111111111111111,
              "#46039f"
             ],
             [
              0.2222222222222222,
              "#7201a8"
             ],
             [
              0.3333333333333333,
              "#9c179e"
             ],
             [
              0.4444444444444444,
              "#bd3786"
             ],
             [
              0.5555555555555556,
              "#d8576b"
             ],
             [
              0.6666666666666666,
              "#ed7953"
             ],
             [
              0.7777777777777778,
              "#fb9f3a"
             ],
             [
              0.8888888888888888,
              "#fdca26"
             ],
             [
              1.0,
              "#f0f921"
             ]
            ],
            "type": "surface"
           }
          ],
          "table": [
           {
            "cells": {
             "fill": {
              "color": "#EBF0F8"
             },
             "line": {
              "color": "white"
             }
            },
            "header": {
             "fill": {
              "color": "#C8D4E3"
             },
             "line": {
              "color": "white"
             }
            },
            "type": "table"
           }
          ]
         },
         "layout": {
          "annotationdefaults": {
           "arrowcolor": "#2a3f5f",
           "arrowhead": 0,
           "arrowwidth": 1
          },
          "autotypenumbers": "strict",
          "coloraxis": {
           "colorbar": {
            "outlinewidth": 0,
            "ticks": ""
           }
          },
          "colorscale": {
           "diverging": [
            [
             0,
             "#8e0152"
            ],
            [
             0.1,
             "#c51b7d"
            ],
            [
             0.2,
             "#de77ae"
            ],
            [
             0.3,
             "#f1b6da"
            ],
            [
             0.4,
             "#fde0ef"
            ],
            [
             0.5,
             "#f7f7f7"
            ],
            [
             0.6,
             "#e6f5d0"
            ],
            [
             0.7,
             "#b8e186"
            ],
            [
             0.8,
             "#7fbc41"
            ],
            [
             0.9,
             "#4d9221"
            ],
            [
             1,
             "#276419"
            ]
           ],
           "sequential": [
            [
             0.0,
             "#0d0887"
            ],
            [
             0.1111111111111111,
             "#46039f"
            ],
            [
             0.2222222222222222,
             "#7201a8"
            ],
            [
             0.3333333333333333,
             "#9c179e"
            ],
            [
             0.4444444444444444,
             "#bd3786"
            ],
            [
             0.5555555555555556,
             "#d8576b"
            ],
            [
             0.6666666666666666,
             "#ed7953"
            ],
            [
             0.7777777777777778,
             "#fb9f3a"
            ],
            [
             0.8888888888888888,
             "#fdca26"
            ],
            [
             1.0,
             "#f0f921"
            ]
           ],
           "sequentialminus": [
            [
             0.0,
             "#0d0887"
            ],
            [
             0.1111111111111111,
             "#46039f"
            ],
            [
             0.2222222222222222,
             "#7201a8"
            ],
            [
             0.3333333333333333,
             "#9c179e"
            ],
            [
             0.4444444444444444,
             "#bd3786"
            ],
            [
             0.5555555555555556,
             "#d8576b"
            ],
            [
             0.6666666666666666,
             "#ed7953"
            ],
            [
             0.7777777777777778,
             "#fb9f3a"
            ],
            [
             0.8888888888888888,
             "#fdca26"
            ],
            [
             1.0,
             "#f0f921"
            ]
           ]
          },
          "colorway": [
           "#636efa",
           "#EF553B",
           "#00cc96",
           "#ab63fa",
           "#FFA15A",
           "#19d3f3",
           "#FF6692",
           "#B6E880",
           "#FF97FF",
           "#FECB52"
          ],
          "font": {
           "color": "#2a3f5f"
          },
          "geo": {
           "bgcolor": "white",
           "lakecolor": "white",
           "landcolor": "#E5ECF6",
           "showlakes": true,
           "showland": true,
           "subunitcolor": "white"
          },
          "hoverlabel": {
           "align": "left"
          },
          "hovermode": "closest",
          "mapbox": {
           "style": "light"
          },
          "paper_bgcolor": "white",
          "plot_bgcolor": "#E5ECF6",
          "polar": {
           "angularaxis": {
            "gridcolor": "white",
            "linecolor": "white",
            "ticks": ""
           },
           "bgcolor": "#E5ECF6",
           "radialaxis": {
            "gridcolor": "white",
            "linecolor": "white",
            "ticks": ""
           }
          },
          "scene": {
           "xaxis": {
            "backgroundcolor": "#E5ECF6",
            "gridcolor": "white",
            "gridwidth": 2,
            "linecolor": "white",
            "showbackground": true,
            "ticks": "",
            "zerolinecolor": "white"
           },
           "yaxis": {
            "backgroundcolor": "#E5ECF6",
            "gridcolor": "white",
            "gridwidth": 2,
            "linecolor": "white",
            "showbackground": true,
            "ticks": "",
            "zerolinecolor": "white"
           },
           "zaxis": {
            "backgroundcolor": "#E5ECF6",
            "gridcolor": "white",
            "gridwidth": 2,
            "linecolor": "white",
            "showbackground": true,
            "ticks": "",
            "zerolinecolor": "white"
           }
          },
          "shapedefaults": {
           "line": {
            "color": "#2a3f5f"
           }
          },
          "ternary": {
           "aaxis": {
            "gridcolor": "white",
            "linecolor": "white",
            "ticks": ""
           },
           "baxis": {
            "gridcolor": "white",
            "linecolor": "white",
            "ticks": ""
           },
           "bgcolor": "#E5ECF6",
           "caxis": {
            "gridcolor": "white",
            "linecolor": "white",
            "ticks": ""
           }
          },
          "title": {
           "x": 0.05
          },
          "xaxis": {
           "automargin": true,
           "gridcolor": "white",
           "linecolor": "white",
           "ticks": "",
           "title": {
            "standoff": 15
           },
           "zerolinecolor": "white",
           "zerolinewidth": 2
          },
          "yaxis": {
           "automargin": true,
           "gridcolor": "white",
           "linecolor": "white",
           "ticks": "",
           "title": {
            "standoff": 15
           },
           "zerolinecolor": "white",
           "zerolinewidth": 2
          }
         }
        },
        "title": {
         "text": "State Value Estimates"
        },
        "width": 700
       }
      },
      "text/html": [
       "<div>                            <div id=\"a6ae8581-e0cf-45e6-9e12-a58a6cf0468b\" class=\"plotly-graph-div\" style=\"height:600px; width:700px;\"></div>            <script type=\"text/javascript\">                require([\"plotly\"], function(Plotly) {                    window.PLOTLYENV=window.PLOTLYENV || {};                                    if (document.getElementById(\"a6ae8581-e0cf-45e6-9e12-a58a6cf0468b\")) {                    Plotly.newPlot(                        \"a6ae8581-e0cf-45e6-9e12-a58a6cf0468b\",                        [{\"cmid\":0,\"colorscale\":[[0,\"#0C3584\"],[0.3,\"#4394A9\"],[0.5,\"#BCBCBC\"],[0.7,\"#F29B39\"],[1,\"#DA201F\"]],\"contours\":{\"x\":{\"color\":\"rgba(200, 200, 200, 0.95)\",\"end\":11,\"show\":true,\"size\":1,\"start\":2},\"y\":{\"color\":\"rgba(200, 200, 200, 0.95)\",\"end\":21,\"show\":true,\"size\":1,\"start\":4},\"z\":{\"color\":\"white\",\"end\":0.9581782739677477,\"show\":false,\"size\":1,\"start\":-0.7514712539610684}},\"opacity\":0.85,\"showscale\":true,\"x\":[2,3,4,5,6,7,8,9,10,11],\"y\":[4,5,6,7,8,9,10,11,12,13,14,15,16,17,18,19,20,21],\"z\":[[-0.4342105263157895,-0.41414141414141414,-0.5714285714285714,-0.49473684210526314,-0.5104166666666666,-0.37037037037037035,-0.47297297297297297,-0.38961038961038963,-0.5152439024390244,-0.5645161290322581],[-0.5621890547263682,-0.4943181818181818,-0.46987951807228917,-0.5398773006134969,-0.4034090909090909,-0.5647058823529412,-0.457286432160804,-0.5057471264367817,-0.5055401662049861,-0.5166666666666667],[-0.550561797752809,-0.5103448275862069,-0.5789473684210527,-0.5502008032128514,-0.5485074626865671,-0.4714828897338403,-0.4444444444444444,-0.43508771929824563,-0.5042016806722689,-0.4864864864864865],[-0.551622418879056,-0.5171428571428571,-0.5654450261780105,-0.5142857142857142,-0.5081521739130435,-0.4642857142857143,-0.4872448979591837,-0.45989304812834225,-0.5280437756497948,-0.424],[-0.576271186440678,-0.49469214437367304,-0.5955555555555555,-0.6038543897216274,-0.5458248472505092,-0.5596707818930041,-0.5294117647058824,-0.5283757338551859,-0.545603495357728,-0.5490196078431373],[-0.5396578538102644,-0.5341098169717138,-0.49838187702265374,-0.55,-0.48013245033112584,-0.5413153456998314,-0.4623115577889447,-0.48297213622291024,-0.5381301163291684,-0.6197530864197531],[-0.13297872340425532,-0.10410958904109589,-0.12314540059347182,-0.13351134846461948,-0.1398002853067047,-0.05366492146596859,-0.06077348066298342,-0.027777777777777776,-0.16908212560386474,-0.09580838323353294],[-0.08851674641148326,-0.082039911308204,-0.08232445520581114,-0.13976164680390032,-0.05454545454545454,-0.08187134502923976,-0.0033975084937712344,-0.04128440366972477,-0.06747919143876338,-0.024549918166939442],[-0.5410879629629629,-0.5416666666666666,-0.5275204359673025,-0.5354200988467874,-0.5475138121546961,-0.5251116071428571,-0.5529672767609539,-0.5448048378229796,-0.5430744478572473,-0.5489731437598736],[-0.5899318300996329,-0.6099405726634252,-0.5503500269251481,-0.5889070146818923,-0.551396942540854,-0.5803523758675921,-0.5700164744645799,-0.5463362068965517,-0.583890707271951,-0.5642414860681114],[-0.631279129984464,-0.6044352759154203,-0.6327956989247312,-0.6101238556812062,-0.6298969072164948,-0.6339937434827946,-0.5903242408646423,-0.5802861685214626,-0.6078431372549019,-0.5966386554621849],[-0.6669936243256498,-0.6547277936962751,-0.6313253012048192,-0.6654676258992805,-0.6300200803212851,-0.6407914764079148,-0.588477366255144,-0.6186943620178041,-0.6383898419559638,-0.6319886765746638],[-0.6629485935984482,-0.6811735941320294,-0.6318383440118285,-0.6709401709401709,-0.6504663721158567,-0.6453831041257367,-0.6368876080691642,-0.6354823073194377,-0.661315380631797,-0.6118326118326118],[-0.6947266569908079,-0.7180359747204667,-0.686476368741226,-0.6968559361801971,-0.6784565916398714,-0.6889744824265768,-0.6777777777777778,-0.6578587699316629,-0.6891009542943245,-0.7009536784741145],[-0.7081182543406851,-0.717756183745583,-0.7081545064377682,-0.70953032375741,-0.7019806540764625,-0.7217153284671532,-0.6551561021759698,-0.7030956848030019,-0.6934704497583942,-0.7191601049868767],[-0.7421944692239072,-0.7514712539610684,-0.7423230974632844,-0.7070979335130279,-0.7148047229791099,-0.7362997658079625,-0.7174303683737646,-0.7068201948627104,-0.7276876876876877,-0.7177215189873418],[0.6292436974789916,0.6530677802762609,0.6631650288037954,0.6707887700534759,0.7138927097661623,0.7868686868686868,0.7999328633769721,0.7595345830639948,0.550199709513435,0.6537882589061716],[0.89553264604811,0.8788083953960731,0.8880842659644503,0.8853242320819112,0.9056728232189973,0.9168384879725086,0.9433354797166774,0.9375410913872453,0.9581782739677477,0.9248395967002749]],\"type\":\"surface\"}],                        {\"template\":{\"data\":{\"histogram2dcontour\":[{\"type\":\"histogram2dcontour\",\"colorbar\":{\"outlinewidth\":0,\"ticks\":\"\"},\"colorscale\":[[0.0,\"#0d0887\"],[0.1111111111111111,\"#46039f\"],[0.2222222222222222,\"#7201a8\"],[0.3333333333333333,\"#9c179e\"],[0.4444444444444444,\"#bd3786\"],[0.5555555555555556,\"#d8576b\"],[0.6666666666666666,\"#ed7953\"],[0.7777777777777778,\"#fb9f3a\"],[0.8888888888888888,\"#fdca26\"],[1.0,\"#f0f921\"]]}],\"choropleth\":[{\"type\":\"choropleth\",\"colorbar\":{\"outlinewidth\":0,\"ticks\":\"\"}}],\"histogram2d\":[{\"type\":\"histogram2d\",\"colorbar\":{\"outlinewidth\":0,\"ticks\":\"\"},\"colorscale\":[[0.0,\"#0d0887\"],[0.1111111111111111,\"#46039f\"],[0.2222222222222222,\"#7201a8\"],[0.3333333333333333,\"#9c179e\"],[0.4444444444444444,\"#bd3786\"],[0.5555555555555556,\"#d8576b\"],[0.6666666666666666,\"#ed7953\"],[0.7777777777777778,\"#fb9f3a\"],[0.8888888888888888,\"#fdca26\"],[1.0,\"#f0f921\"]]}],\"heatmap\":[{\"type\":\"heatmap\",\"colorbar\":{\"outlinewidth\":0,\"ticks\":\"\"},\"colorscale\":[[0.0,\"#0d0887\"],[0.1111111111111111,\"#46039f\"],[0.2222222222222222,\"#7201a8\"],[0.3333333333333333,\"#9c179e\"],[0.4444444444444444,\"#bd3786\"],[0.5555555555555556,\"#d8576b\"],[0.6666666666666666,\"#ed7953\"],[0.7777777777777778,\"#fb9f3a\"],[0.8888888888888888,\"#fdca26\"],[1.0,\"#f0f921\"]]}],\"heatmapgl\":[{\"type\":\"heatmapgl\",\"colorbar\":{\"outlinewidth\":0,\"ticks\":\"\"},\"colorscale\":[[0.0,\"#0d0887\"],[0.1111111111111111,\"#46039f\"],[0.2222222222222222,\"#7201a8\"],[0.3333333333333333,\"#9c179e\"],[0.4444444444444444,\"#bd3786\"],[0.5555555555555556,\"#d8576b\"],[0.6666666666666666,\"#ed7953\"],[0.7777777777777778,\"#fb9f3a\"],[0.8888888888888888,\"#fdca26\"],[1.0,\"#f0f921\"]]}],\"contourcarpet\":[{\"type\":\"contourcarpet\",\"colorbar\":{\"outlinewidth\":0,\"ticks\":\"\"}}],\"contour\":[{\"type\":\"contour\",\"colorbar\":{\"outlinewidth\":0,\"ticks\":\"\"},\"colorscale\":[[0.0,\"#0d0887\"],[0.1111111111111111,\"#46039f\"],[0.2222222222222222,\"#7201a8\"],[0.3333333333333333,\"#9c179e\"],[0.4444444444444444,\"#bd3786\"],[0.5555555555555556,\"#d8576b\"],[0.6666666666666666,\"#ed7953\"],[0.7777777777777778,\"#fb9f3a\"],[0.8888888888888888,\"#fdca26\"],[1.0,\"#f0f921\"]]}],\"surface\":[{\"type\":\"surface\",\"colorbar\":{\"outlinewidth\":0,\"ticks\":\"\"},\"colorscale\":[[0.0,\"#0d0887\"],[0.1111111111111111,\"#46039f\"],[0.2222222222222222,\"#7201a8\"],[0.3333333333333333,\"#9c179e\"],[0.4444444444444444,\"#bd3786\"],[0.5555555555555556,\"#d8576b\"],[0.6666666666666666,\"#ed7953\"],[0.7777777777777778,\"#fb9f3a\"],[0.8888888888888888,\"#fdca26\"],[1.0,\"#f0f921\"]]}],\"mesh3d\":[{\"type\":\"mesh3d\",\"colorbar\":{\"outlinewidth\":0,\"ticks\":\"\"}}],\"scatter\":[{\"fillpattern\":{\"fillmode\":\"overlay\",\"size\":10,\"solidity\":0.2},\"type\":\"scatter\"}],\"parcoords\":[{\"type\":\"parcoords\",\"line\":{\"colorbar\":{\"outlinewidth\":0,\"ticks\":\"\"}}}],\"scatterpolargl\":[{\"type\":\"scatterpolargl\",\"marker\":{\"colorbar\":{\"outlinewidth\":0,\"ticks\":\"\"}}}],\"bar\":[{\"error_x\":{\"color\":\"#2a3f5f\"},\"error_y\":{\"color\":\"#2a3f5f\"},\"marker\":{\"line\":{\"color\":\"#E5ECF6\",\"width\":0.5},\"pattern\":{\"fillmode\":\"overlay\",\"size\":10,\"solidity\":0.2}},\"type\":\"bar\"}],\"scattergeo\":[{\"type\":\"scattergeo\",\"marker\":{\"colorbar\":{\"outlinewidth\":0,\"ticks\":\"\"}}}],\"scatterpolar\":[{\"type\":\"scatterpolar\",\"marker\":{\"colorbar\":{\"outlinewidth\":0,\"ticks\":\"\"}}}],\"histogram\":[{\"marker\":{\"pattern\":{\"fillmode\":\"overlay\",\"size\":10,\"solidity\":0.2}},\"type\":\"histogram\"}],\"scattergl\":[{\"type\":\"scattergl\",\"marker\":{\"colorbar\":{\"outlinewidth\":0,\"ticks\":\"\"}}}],\"scatter3d\":[{\"type\":\"scatter3d\",\"line\":{\"colorbar\":{\"outlinewidth\":0,\"ticks\":\"\"}},\"marker\":{\"colorbar\":{\"outlinewidth\":0,\"ticks\":\"\"}}}],\"scattermapbox\":[{\"type\":\"scattermapbox\",\"marker\":{\"colorbar\":{\"outlinewidth\":0,\"ticks\":\"\"}}}],\"scatterternary\":[{\"type\":\"scatterternary\",\"marker\":{\"colorbar\":{\"outlinewidth\":0,\"ticks\":\"\"}}}],\"scattercarpet\":[{\"type\":\"scattercarpet\",\"marker\":{\"colorbar\":{\"outlinewidth\":0,\"ticks\":\"\"}}}],\"carpet\":[{\"aaxis\":{\"endlinecolor\":\"#2a3f5f\",\"gridcolor\":\"white\",\"linecolor\":\"white\",\"minorgridcolor\":\"white\",\"startlinecolor\":\"#2a3f5f\"},\"baxis\":{\"endlinecolor\":\"#2a3f5f\",\"gridcolor\":\"white\",\"linecolor\":\"white\",\"minorgridcolor\":\"white\",\"startlinecolor\":\"#2a3f5f\"},\"type\":\"carpet\"}],\"table\":[{\"cells\":{\"fill\":{\"color\":\"#EBF0F8\"},\"line\":{\"color\":\"white\"}},\"header\":{\"fill\":{\"color\":\"#C8D4E3\"},\"line\":{\"color\":\"white\"}},\"type\":\"table\"}],\"barpolar\":[{\"marker\":{\"line\":{\"color\":\"#E5ECF6\",\"width\":0.5},\"pattern\":{\"fillmode\":\"overlay\",\"size\":10,\"solidity\":0.2}},\"type\":\"barpolar\"}],\"pie\":[{\"automargin\":true,\"type\":\"pie\"}]},\"layout\":{\"autotypenumbers\":\"strict\",\"colorway\":[\"#636efa\",\"#EF553B\",\"#00cc96\",\"#ab63fa\",\"#FFA15A\",\"#19d3f3\",\"#FF6692\",\"#B6E880\",\"#FF97FF\",\"#FECB52\"],\"font\":{\"color\":\"#2a3f5f\"},\"hovermode\":\"closest\",\"hoverlabel\":{\"align\":\"left\"},\"paper_bgcolor\":\"white\",\"plot_bgcolor\":\"#E5ECF6\",\"polar\":{\"bgcolor\":\"#E5ECF6\",\"angularaxis\":{\"gridcolor\":\"white\",\"linecolor\":\"white\",\"ticks\":\"\"},\"radialaxis\":{\"gridcolor\":\"white\",\"linecolor\":\"white\",\"ticks\":\"\"}},\"ternary\":{\"bgcolor\":\"#E5ECF6\",\"aaxis\":{\"gridcolor\":\"white\",\"linecolor\":\"white\",\"ticks\":\"\"},\"baxis\":{\"gridcolor\":\"white\",\"linecolor\":\"white\",\"ticks\":\"\"},\"caxis\":{\"gridcolor\":\"white\",\"linecolor\":\"white\",\"ticks\":\"\"}},\"coloraxis\":{\"colorbar\":{\"outlinewidth\":0,\"ticks\":\"\"}},\"colorscale\":{\"sequential\":[[0.0,\"#0d0887\"],[0.1111111111111111,\"#46039f\"],[0.2222222222222222,\"#7201a8\"],[0.3333333333333333,\"#9c179e\"],[0.4444444444444444,\"#bd3786\"],[0.5555555555555556,\"#d8576b\"],[0.6666666666666666,\"#ed7953\"],[0.7777777777777778,\"#fb9f3a\"],[0.8888888888888888,\"#fdca26\"],[1.0,\"#f0f921\"]],\"sequentialminus\":[[0.0,\"#0d0887\"],[0.1111111111111111,\"#46039f\"],[0.2222222222222222,\"#7201a8\"],[0.3333333333333333,\"#9c179e\"],[0.4444444444444444,\"#bd3786\"],[0.5555555555555556,\"#d8576b\"],[0.6666666666666666,\"#ed7953\"],[0.7777777777777778,\"#fb9f3a\"],[0.8888888888888888,\"#fdca26\"],[1.0,\"#f0f921\"]],\"diverging\":[[0,\"#8e0152\"],[0.1,\"#c51b7d\"],[0.2,\"#de77ae\"],[0.3,\"#f1b6da\"],[0.4,\"#fde0ef\"],[0.5,\"#f7f7f7\"],[0.6,\"#e6f5d0\"],[0.7,\"#b8e186\"],[0.8,\"#7fbc41\"],[0.9,\"#4d9221\"],[1,\"#276419\"]]},\"xaxis\":{\"gridcolor\":\"white\",\"linecolor\":\"white\",\"ticks\":\"\",\"title\":{\"standoff\":15},\"zerolinecolor\":\"white\",\"automargin\":true,\"zerolinewidth\":2},\"yaxis\":{\"gridcolor\":\"white\",\"linecolor\":\"white\",\"ticks\":\"\",\"title\":{\"standoff\":15},\"zerolinecolor\":\"white\",\"automargin\":true,\"zerolinewidth\":2},\"scene\":{\"xaxis\":{\"backgroundcolor\":\"#E5ECF6\",\"gridcolor\":\"white\",\"linecolor\":\"white\",\"showbackground\":true,\"ticks\":\"\",\"zerolinecolor\":\"white\",\"gridwidth\":2},\"yaxis\":{\"backgroundcolor\":\"#E5ECF6\",\"gridcolor\":\"white\",\"linecolor\":\"white\",\"showbackground\":true,\"ticks\":\"\",\"zerolinecolor\":\"white\",\"gridwidth\":2},\"zaxis\":{\"backgroundcolor\":\"#E5ECF6\",\"gridcolor\":\"white\",\"linecolor\":\"white\",\"showbackground\":true,\"ticks\":\"\",\"zerolinecolor\":\"white\",\"gridwidth\":2}},\"shapedefaults\":{\"line\":{\"color\":\"#2a3f5f\"}},\"annotationdefaults\":{\"arrowcolor\":\"#2a3f5f\",\"arrowhead\":0,\"arrowwidth\":1},\"geo\":{\"bgcolor\":\"white\",\"landcolor\":\"#E5ECF6\",\"subunitcolor\":\"white\",\"showland\":true,\"showlakes\":true,\"lakecolor\":\"white\"},\"title\":{\"x\":0.05},\"mapbox\":{\"style\":\"light\"}}},\"scene\":{\"aspectratio\":{\"x\":1,\"y\":1,\"z\":0.3},\"camera\":{\"up\":{\"x\":0,\"y\":0,\"z\":1},\"center\":{\"x\":0,\"y\":0,\"z\":0},\"eye\":{\"x\":1.4,\"y\":-0.75,\"z\":0.4}},\"xaxis\":{\"title\":{\"text\":\"Dealer Card\"}},\"yaxis\":{\"title\":{\"text\":\"Player Total\"}},\"zaxis\":{\"title\":{\"text\":\"Value\"}}},\"title\":{\"text\":\"State Value Estimates\"},\"autosize\":false,\"width\":700,\"height\":600},                        {\"responsive\": true}                    ).then(function(){\n",
       "                            \n",
       "var gd = document.getElementById('a6ae8581-e0cf-45e6-9e12-a58a6cf0468b');\n",
       "var x = new MutationObserver(function (mutations, observer) {{\n",
       "        var display = window.getComputedStyle(gd).display;\n",
       "        if (!display || display === 'none') {{\n",
       "            console.log([gd, 'removed!']);\n",
       "            Plotly.purge(gd);\n",
       "            observer.disconnect();\n",
       "        }}\n",
       "}});\n",
       "\n",
       "// Listen for the removal of the full notebook cells\n",
       "var notebookContainer = gd.closest('#notebook-container');\n",
       "if (notebookContainer) {{\n",
       "    x.observe(notebookContainer, {childList: true});\n",
       "}}\n",
       "\n",
       "// Listen for the clearing of the current output cell\n",
       "var outputEl = gd.closest('.output');\n",
       "if (outputEl) {{\n",
       "    x.observe(outputEl, {childList: true});\n",
       "}}\n",
       "\n",
       "                        })                };                });            </script>        </div>"
      ]
     },
     "metadata": {},
     "output_type": "display_data"
    }
   ],
   "source": [
    "env = Blackjack(stake=1, n_decks=4)\n",
    "agent_simple = SimpleAgent()\n",
    "value_estimates_simple_agent, avg_return = first_visit_mc(env, agent_simple, n_iterations=200000)\n",
    "\n",
    "plot_value_function(value_estimates_simple_agent, usable_ace=False)"
   ]
  },
  {
   "cell_type": "markdown",
   "id": "1dbeaa79",
   "metadata": {
    "papermill": {
     "duration": 0.024957,
     "end_time": "2023-06-19T08:38:48.034148",
     "exception": false,
     "start_time": "2023-06-19T08:38:48.009191",
     "status": "completed"
    },
    "tags": []
   },
   "source": [
    "\n"
   ]
  },
  {
   "cell_type": "markdown",
   "id": "cc5850ed",
   "metadata": {
    "papermill": {
     "duration": 0.024558,
     "end_time": "2023-06-19T08:38:48.083983",
     "exception": false,
     "start_time": "2023-06-19T08:38:48.059425",
     "status": "completed"
    },
    "tags": []
   },
   "source": [
    "#### Observations:\n",
    "- We can see our V function has flattened out significantly, indicating that our state-value function estimation has converged far closer to the true value.\n",
    "\n",
    "Now that we're able to evaluate policies, let's move on to how we can improve a policy using *Monte Carlo control*.\n",
    "\n",
    "## The Theory of Monte Carlo Control\n",
    "Monte Carlo control methods estimate the value of a policy by taking averages from actual returns instead of using the Bellman equation, which is used in dynamic programming methods. Monte Carlo methods require only experience-sample sequences of states, actions, and rewards from actual or simulated interaction with an environment.\n",
    "\n",
    "The core idea of Monte Carlo control is to use Monte Carlo methods to estimate the action-value function (Q function) and then refine the policy based on these estimates. One of the main advantages of Monte Carlo methods is that they do not require a model of the environment, in contrast to dynamic programming methods. They can learn using sample episodes alone.\n",
    "\n",
    "A breakdown of Monte Carlo control methods is as follows:\n",
    "- Initialize a starting policy and an arbitrary Q function.\n",
    "- Generate an episode following the current policy.\n",
    "- For each state-action pair in the episode:\n",
    "- Compute the return (total discounted reward from this point onwards).\n",
    "- Update the Q value of this state-action pair based on this calculated return.\n",
    "- Improve the policy based on new action-value function estimates."
   ]
  },
  {
   "cell_type": "code",
   "execution_count": 6,
   "id": "58abe624",
   "metadata": {
    "_kg_hide-input": true,
    "execution": {
     "iopub.execute_input": "2023-06-19T08:38:48.136893Z",
     "iopub.status.busy": "2023-06-19T08:38:48.136436Z",
     "iopub.status.idle": "2023-06-19T08:42:01.093776Z",
     "shell.execute_reply": "2023-06-19T08:42:01.092370Z"
    },
    "papermill": {
     "duration": 193.037484,
     "end_time": "2023-06-19T08:42:01.146875",
     "exception": false,
     "start_time": "2023-06-19T08:38:48.109391",
     "status": "completed"
    },
    "tags": []
   },
   "outputs": [
    {
     "data": {
      "application/vnd.plotly.v1+json": {
       "config": {
        "plotlyServerURL": "https://plot.ly"
       },
       "data": [
        {
         "cmid": 0,
         "colorscale": [
          [
           0,
           "#0C3584"
          ],
          [
           0.3,
           "#4394A9"
          ],
          [
           0.5,
           "#BCBCBC"
          ],
          [
           0.7,
           "#F29B39"
          ],
          [
           1,
           "#DA201F"
          ]
         ],
         "contours": {
          "x": {
           "color": "rgba(200, 200, 200, 0.95)",
           "end": 11,
           "show": true,
           "size": 1,
           "start": 2
          },
          "y": {
           "color": "rgba(200, 200, 200, 0.95)",
           "end": 21,
           "show": true,
           "size": 1,
           "start": 4
          },
          "z": {
           "color": "white",
           "end": 9.616110761485212,
           "show": false,
           "size": 1,
           "start": -7.894736842105263
          }
         },
         "opacity": 0.85,
         "showscale": true,
         "type": "surface",
         "x": [
          2,
          3,
          4,
          5,
          6,
          7,
          8,
          9,
          10,
          11
         ],
         "y": [
          4,
          5,
          6,
          7,
          8,
          9,
          10,
          11,
          12,
          13,
          14,
          15,
          16,
          17,
          18,
          19,
          20,
          21
         ],
         "z": [
          [
           0.967741935483871,
           -2.1052631578947367,
           -0.37037037037037035,
           -1.5384615384615385,
           0.0,
           -0.9090909090909091,
           -0.45454545454545453,
           -5.0,
           -2.389937106918239,
           -3.1578947368421053
          ],
          [
           -0.4444444444444444,
           -2.5,
           -1.1224489795918366,
           -1.7391304347826086,
           -0.7216494845360825,
           -1.4606741573033708,
           -0.9523809523809523,
           -4.936708860759493,
           -3.4782608695652173,
           -7.894736842105263
          ],
          [
           -1.68,
           -1.2396694214876034,
           -0.7092198581560284,
           0.2,
           -1.8918918918918919,
           -0.21897810218978103,
           -3.0120481927710845,
           -3.565891472868217,
           -5.179282868525896,
           -3.883495145631068
          ],
          [
           -1.1979166666666667,
           -3.0681818181818183,
           0.05,
           0.7486631016042781,
           -0.5319148936170213,
           -0.7804878048780488,
           -1.8461538461538463,
           -5.544041450777202,
           -3.4207077326343382,
           -2.5477707006369426
          ],
          [
           -1.1764705882352942,
           1.095890410958904,
           -2.931726907630522,
           -1.8777292576419213,
           1.8918918918918919,
           0.8695652173913043,
           -0.45454545454545453,
           -5.059760956175299,
           -2.1340782122905027,
           -1.1728395061728396
          ],
          [
           0.7241379310344828,
           0.14705882352941177,
           0.7482993197278912,
           2.247557003257329,
           2.277227722772277,
           0.9539473684210527,
           0.660377358490566,
           -1.1643835616438356,
           -1.8600531443755537,
           -1.3278008298755186
          ],
          [
           2.167630057803468,
           2.0,
           2.9310344827586206,
           3.6283185840707963,
           2.982456140350877,
           2.591549295774648,
           2.186588921282799,
           2.550724637681159,
           0.8632040965618142,
           0.5957446808510638
          ],
          [
           2.5829383886255926,
           1.9794344473007712,
           2.7918781725888326,
           3.6633663366336635,
           4.138702460850112,
           3.069977426636569,
           1.4942528735632183,
           2.2811671087533156,
           1.370527592480291,
           1.6339869281045751
          ],
          [
           -2.6776649746192893,
           -2.723004694835681,
           -2.37880496054115,
           -1.828978622327791,
           -1.2454655380894801,
           -2.384259259259259,
           -3.0486486486486486,
           -3.137019230769231,
           -3.6053783614759225,
           -3.9527027027027026
          ],
          [
           -3.5315101070154578,
           -2.6757090012330456,
           -1.2826899128268991,
           -2.3026315789473686,
           -0.9808612440191388,
           -2.662921348314607,
           -3.1715210355987056,
           -3.9404761904761907,
           -4.401885680612846,
           -3.952755905511811
          ],
          [
           -3.0089628681177976,
           -2.3096446700507616,
           -2.5244072524407253,
           -1.2679738562091503,
           -1.3975576662143827,
           -3.43042071197411,
           -3.6236559139784945,
           -4.374307862679956,
           -4.765332565505327,
           -4.6875
          ],
          [
           -3.0788177339901477,
           -2.5779036827195467,
           -2.179656538969617,
           -2.3950617283950617,
           -1.332436069986541,
           -3.1088082901554404,
           -4.409136047666336,
           -5.443037974683544,
           -5.139648718687014,
           -5.109170305676856
          ],
          [
           -2.577319587628866,
           -2.7298850574712645,
           -2.1511627906976742,
           -1.1462450592885376,
           -1.5081967213114753,
           -4.293948126801153,
           -5.165692007797271,
           -4.900816802800467,
           -5.342388228636106,
           -4.712482468443198
          ],
          [
           -1.5174506828528074,
           -1.1390284757118927,
           -0.3384615384615385,
           -0.17391304347826086,
           -0.060514372163388806,
           -0.8848614072494669,
           -3.4344528710725895,
           -3.645714285714286,
           -4.09303686366296,
           -4.5151953690303905
          ],
          [
           1.9193548387096775,
           1.6581196581196582,
           1.9879518072289157,
           2.177700348432056,
           2.9259896729776247,
           3.982300884955752,
           0.4260089686098655,
           -1.424287856071964,
           -2.0277514979501734,
           -1.411589895988113
          ],
          [
           4.06631762652705,
           3.208955223880597,
           4.595660749506903,
           4.810543657331137,
           5.730129390018484,
           5.932415519399249,
           6.030267753201397,
           2.7496580027359783,
           0.5207981061887048,
           2.6178861788617884
          ],
          [
           6.505263157894737,
           6.662665066026411,
           6.427732079905993,
           6.766220391349124,
           7.193816884661118,
           7.808455565142364,
           7.673841059602649,
           7.625531914893617,
           5.594745803940647,
           6.583924349881797
          ],
          [
           8.983050847457626,
           9.067796610169491,
           8.984375,
           9.108910891089108,
           8.955223880597014,
           9.428571428571429,
           9.160493827160494,
           9.555555555555555,
           9.616110761485212,
           9.25207756232687
          ]
         ]
        }
       ],
       "layout": {
        "autosize": false,
        "height": 600,
        "scene": {
         "aspectratio": {
          "x": 1,
          "y": 1,
          "z": 0.3
         },
         "camera": {
          "center": {
           "x": 0,
           "y": 0,
           "z": 0
          },
          "eye": {
           "x": 1.4,
           "y": -0.75,
           "z": 0.4
          },
          "up": {
           "x": 0,
           "y": 0,
           "z": 1
          }
         },
         "xaxis": {
          "title": {
           "text": "Dealer Card"
          }
         },
         "yaxis": {
          "title": {
           "text": "Player Total"
          }
         },
         "zaxis": {
          "title": {
           "text": "Value"
          }
         }
        },
        "template": {
         "data": {
          "bar": [
           {
            "error_x": {
             "color": "#2a3f5f"
            },
            "error_y": {
             "color": "#2a3f5f"
            },
            "marker": {
             "line": {
              "color": "#E5ECF6",
              "width": 0.5
             },
             "pattern": {
              "fillmode": "overlay",
              "size": 10,
              "solidity": 0.2
             }
            },
            "type": "bar"
           }
          ],
          "barpolar": [
           {
            "marker": {
             "line": {
              "color": "#E5ECF6",
              "width": 0.5
             },
             "pattern": {
              "fillmode": "overlay",
              "size": 10,
              "solidity": 0.2
             }
            },
            "type": "barpolar"
           }
          ],
          "carpet": [
           {
            "aaxis": {
             "endlinecolor": "#2a3f5f",
             "gridcolor": "white",
             "linecolor": "white",
             "minorgridcolor": "white",
             "startlinecolor": "#2a3f5f"
            },
            "baxis": {
             "endlinecolor": "#2a3f5f",
             "gridcolor": "white",
             "linecolor": "white",
             "minorgridcolor": "white",
             "startlinecolor": "#2a3f5f"
            },
            "type": "carpet"
           }
          ],
          "choropleth": [
           {
            "colorbar": {
             "outlinewidth": 0,
             "ticks": ""
            },
            "type": "choropleth"
           }
          ],
          "contour": [
           {
            "colorbar": {
             "outlinewidth": 0,
             "ticks": ""
            },
            "colorscale": [
             [
              0.0,
              "#0d0887"
             ],
             [
              0.1111111111111111,
              "#46039f"
             ],
             [
              0.2222222222222222,
              "#7201a8"
             ],
             [
              0.3333333333333333,
              "#9c179e"
             ],
             [
              0.4444444444444444,
              "#bd3786"
             ],
             [
              0.5555555555555556,
              "#d8576b"
             ],
             [
              0.6666666666666666,
              "#ed7953"
             ],
             [
              0.7777777777777778,
              "#fb9f3a"
             ],
             [
              0.8888888888888888,
              "#fdca26"
             ],
             [
              1.0,
              "#f0f921"
             ]
            ],
            "type": "contour"
           }
          ],
          "contourcarpet": [
           {
            "colorbar": {
             "outlinewidth": 0,
             "ticks": ""
            },
            "type": "contourcarpet"
           }
          ],
          "heatmap": [
           {
            "colorbar": {
             "outlinewidth": 0,
             "ticks": ""
            },
            "colorscale": [
             [
              0.0,
              "#0d0887"
             ],
             [
              0.1111111111111111,
              "#46039f"
             ],
             [
              0.2222222222222222,
              "#7201a8"
             ],
             [
              0.3333333333333333,
              "#9c179e"
             ],
             [
              0.4444444444444444,
              "#bd3786"
             ],
             [
              0.5555555555555556,
              "#d8576b"
             ],
             [
              0.6666666666666666,
              "#ed7953"
             ],
             [
              0.7777777777777778,
              "#fb9f3a"
             ],
             [
              0.8888888888888888,
              "#fdca26"
             ],
             [
              1.0,
              "#f0f921"
             ]
            ],
            "type": "heatmap"
           }
          ],
          "heatmapgl": [
           {
            "colorbar": {
             "outlinewidth": 0,
             "ticks": ""
            },
            "colorscale": [
             [
              0.0,
              "#0d0887"
             ],
             [
              0.1111111111111111,
              "#46039f"
             ],
             [
              0.2222222222222222,
              "#7201a8"
             ],
             [
              0.3333333333333333,
              "#9c179e"
             ],
             [
              0.4444444444444444,
              "#bd3786"
             ],
             [
              0.5555555555555556,
              "#d8576b"
             ],
             [
              0.6666666666666666,
              "#ed7953"
             ],
             [
              0.7777777777777778,
              "#fb9f3a"
             ],
             [
              0.8888888888888888,
              "#fdca26"
             ],
             [
              1.0,
              "#f0f921"
             ]
            ],
            "type": "heatmapgl"
           }
          ],
          "histogram": [
           {
            "marker": {
             "pattern": {
              "fillmode": "overlay",
              "size": 10,
              "solidity": 0.2
             }
            },
            "type": "histogram"
           }
          ],
          "histogram2d": [
           {
            "colorbar": {
             "outlinewidth": 0,
             "ticks": ""
            },
            "colorscale": [
             [
              0.0,
              "#0d0887"
             ],
             [
              0.1111111111111111,
              "#46039f"
             ],
             [
              0.2222222222222222,
              "#7201a8"
             ],
             [
              0.3333333333333333,
              "#9c179e"
             ],
             [
              0.4444444444444444,
              "#bd3786"
             ],
             [
              0.5555555555555556,
              "#d8576b"
             ],
             [
              0.6666666666666666,
              "#ed7953"
             ],
             [
              0.7777777777777778,
              "#fb9f3a"
             ],
             [
              0.8888888888888888,
              "#fdca26"
             ],
             [
              1.0,
              "#f0f921"
             ]
            ],
            "type": "histogram2d"
           }
          ],
          "histogram2dcontour": [
           {
            "colorbar": {
             "outlinewidth": 0,
             "ticks": ""
            },
            "colorscale": [
             [
              0.0,
              "#0d0887"
             ],
             [
              0.1111111111111111,
              "#46039f"
             ],
             [
              0.2222222222222222,
              "#7201a8"
             ],
             [
              0.3333333333333333,
              "#9c179e"
             ],
             [
              0.4444444444444444,
              "#bd3786"
             ],
             [
              0.5555555555555556,
              "#d8576b"
             ],
             [
              0.6666666666666666,
              "#ed7953"
             ],
             [
              0.7777777777777778,
              "#fb9f3a"
             ],
             [
              0.8888888888888888,
              "#fdca26"
             ],
             [
              1.0,
              "#f0f921"
             ]
            ],
            "type": "histogram2dcontour"
           }
          ],
          "mesh3d": [
           {
            "colorbar": {
             "outlinewidth": 0,
             "ticks": ""
            },
            "type": "mesh3d"
           }
          ],
          "parcoords": [
           {
            "line": {
             "colorbar": {
              "outlinewidth": 0,
              "ticks": ""
             }
            },
            "type": "parcoords"
           }
          ],
          "pie": [
           {
            "automargin": true,
            "type": "pie"
           }
          ],
          "scatter": [
           {
            "fillpattern": {
             "fillmode": "overlay",
             "size": 10,
             "solidity": 0.2
            },
            "type": "scatter"
           }
          ],
          "scatter3d": [
           {
            "line": {
             "colorbar": {
              "outlinewidth": 0,
              "ticks": ""
             }
            },
            "marker": {
             "colorbar": {
              "outlinewidth": 0,
              "ticks": ""
             }
            },
            "type": "scatter3d"
           }
          ],
          "scattercarpet": [
           {
            "marker": {
             "colorbar": {
              "outlinewidth": 0,
              "ticks": ""
             }
            },
            "type": "scattercarpet"
           }
          ],
          "scattergeo": [
           {
            "marker": {
             "colorbar": {
              "outlinewidth": 0,
              "ticks": ""
             }
            },
            "type": "scattergeo"
           }
          ],
          "scattergl": [
           {
            "marker": {
             "colorbar": {
              "outlinewidth": 0,
              "ticks": ""
             }
            },
            "type": "scattergl"
           }
          ],
          "scattermapbox": [
           {
            "marker": {
             "colorbar": {
              "outlinewidth": 0,
              "ticks": ""
             }
            },
            "type": "scattermapbox"
           }
          ],
          "scatterpolar": [
           {
            "marker": {
             "colorbar": {
              "outlinewidth": 0,
              "ticks": ""
             }
            },
            "type": "scatterpolar"
           }
          ],
          "scatterpolargl": [
           {
            "marker": {
             "colorbar": {
              "outlinewidth": 0,
              "ticks": ""
             }
            },
            "type": "scatterpolargl"
           }
          ],
          "scatterternary": [
           {
            "marker": {
             "colorbar": {
              "outlinewidth": 0,
              "ticks": ""
             }
            },
            "type": "scatterternary"
           }
          ],
          "surface": [
           {
            "colorbar": {
             "outlinewidth": 0,
             "ticks": ""
            },
            "colorscale": [
             [
              0.0,
              "#0d0887"
             ],
             [
              0.1111111111111111,
              "#46039f"
             ],
             [
              0.2222222222222222,
              "#7201a8"
             ],
             [
              0.3333333333333333,
              "#9c179e"
             ],
             [
              0.4444444444444444,
              "#bd3786"
             ],
             [
              0.5555555555555556,
              "#d8576b"
             ],
             [
              0.6666666666666666,
              "#ed7953"
             ],
             [
              0.7777777777777778,
              "#fb9f3a"
             ],
             [
              0.8888888888888888,
              "#fdca26"
             ],
             [
              1.0,
              "#f0f921"
             ]
            ],
            "type": "surface"
           }
          ],
          "table": [
           {
            "cells": {
             "fill": {
              "color": "#EBF0F8"
             },
             "line": {
              "color": "white"
             }
            },
            "header": {
             "fill": {
              "color": "#C8D4E3"
             },
             "line": {
              "color": "white"
             }
            },
            "type": "table"
           }
          ]
         },
         "layout": {
          "annotationdefaults": {
           "arrowcolor": "#2a3f5f",
           "arrowhead": 0,
           "arrowwidth": 1
          },
          "autotypenumbers": "strict",
          "coloraxis": {
           "colorbar": {
            "outlinewidth": 0,
            "ticks": ""
           }
          },
          "colorscale": {
           "diverging": [
            [
             0,
             "#8e0152"
            ],
            [
             0.1,
             "#c51b7d"
            ],
            [
             0.2,
             "#de77ae"
            ],
            [
             0.3,
             "#f1b6da"
            ],
            [
             0.4,
             "#fde0ef"
            ],
            [
             0.5,
             "#f7f7f7"
            ],
            [
             0.6,
             "#e6f5d0"
            ],
            [
             0.7,
             "#b8e186"
            ],
            [
             0.8,
             "#7fbc41"
            ],
            [
             0.9,
             "#4d9221"
            ],
            [
             1,
             "#276419"
            ]
           ],
           "sequential": [
            [
             0.0,
             "#0d0887"
            ],
            [
             0.1111111111111111,
             "#46039f"
            ],
            [
             0.2222222222222222,
             "#7201a8"
            ],
            [
             0.3333333333333333,
             "#9c179e"
            ],
            [
             0.4444444444444444,
             "#bd3786"
            ],
            [
             0.5555555555555556,
             "#d8576b"
            ],
            [
             0.6666666666666666,
             "#ed7953"
            ],
            [
             0.7777777777777778,
             "#fb9f3a"
            ],
            [
             0.8888888888888888,
             "#fdca26"
            ],
            [
             1.0,
             "#f0f921"
            ]
           ],
           "sequentialminus": [
            [
             0.0,
             "#0d0887"
            ],
            [
             0.1111111111111111,
             "#46039f"
            ],
            [
             0.2222222222222222,
             "#7201a8"
            ],
            [
             0.3333333333333333,
             "#9c179e"
            ],
            [
             0.4444444444444444,
             "#bd3786"
            ],
            [
             0.5555555555555556,
             "#d8576b"
            ],
            [
             0.6666666666666666,
             "#ed7953"
            ],
            [
             0.7777777777777778,
             "#fb9f3a"
            ],
            [
             0.8888888888888888,
             "#fdca26"
            ],
            [
             1.0,
             "#f0f921"
            ]
           ]
          },
          "colorway": [
           "#636efa",
           "#EF553B",
           "#00cc96",
           "#ab63fa",
           "#FFA15A",
           "#19d3f3",
           "#FF6692",
           "#B6E880",
           "#FF97FF",
           "#FECB52"
          ],
          "font": {
           "color": "#2a3f5f"
          },
          "geo": {
           "bgcolor": "white",
           "lakecolor": "white",
           "landcolor": "#E5ECF6",
           "showlakes": true,
           "showland": true,
           "subunitcolor": "white"
          },
          "hoverlabel": {
           "align": "left"
          },
          "hovermode": "closest",
          "mapbox": {
           "style": "light"
          },
          "paper_bgcolor": "white",
          "plot_bgcolor": "#E5ECF6",
          "polar": {
           "angularaxis": {
            "gridcolor": "white",
            "linecolor": "white",
            "ticks": ""
           },
           "bgcolor": "#E5ECF6",
           "radialaxis": {
            "gridcolor": "white",
            "linecolor": "white",
            "ticks": ""
           }
          },
          "scene": {
           "xaxis": {
            "backgroundcolor": "#E5ECF6",
            "gridcolor": "white",
            "gridwidth": 2,
            "linecolor": "white",
            "showbackground": true,
            "ticks": "",
            "zerolinecolor": "white"
           },
           "yaxis": {
            "backgroundcolor": "#E5ECF6",
            "gridcolor": "white",
            "gridwidth": 2,
            "linecolor": "white",
            "showbackground": true,
            "ticks": "",
            "zerolinecolor": "white"
           },
           "zaxis": {
            "backgroundcolor": "#E5ECF6",
            "gridcolor": "white",
            "gridwidth": 2,
            "linecolor": "white",
            "showbackground": true,
            "ticks": "",
            "zerolinecolor": "white"
           }
          },
          "shapedefaults": {
           "line": {
            "color": "#2a3f5f"
           }
          },
          "ternary": {
           "aaxis": {
            "gridcolor": "white",
            "linecolor": "white",
            "ticks": ""
           },
           "baxis": {
            "gridcolor": "white",
            "linecolor": "white",
            "ticks": ""
           },
           "bgcolor": "#E5ECF6",
           "caxis": {
            "gridcolor": "white",
            "linecolor": "white",
            "ticks": ""
           }
          },
          "title": {
           "x": 0.05
          },
          "xaxis": {
           "automargin": true,
           "gridcolor": "white",
           "linecolor": "white",
           "ticks": "",
           "title": {
            "standoff": 15
           },
           "zerolinecolor": "white",
           "zerolinewidth": 2
          },
          "yaxis": {
           "automargin": true,
           "gridcolor": "white",
           "linecolor": "white",
           "ticks": "",
           "title": {
            "standoff": 15
           },
           "zerolinecolor": "white",
           "zerolinewidth": 2
          }
         }
        },
        "title": {
         "text": "State Value Estimates"
        },
        "width": 700
       }
      },
      "text/html": [
       "<div>                            <div id=\"6a92c8dc-d349-4b12-b721-1e82d0549a02\" class=\"plotly-graph-div\" style=\"height:600px; width:700px;\"></div>            <script type=\"text/javascript\">                require([\"plotly\"], function(Plotly) {                    window.PLOTLYENV=window.PLOTLYENV || {};                                    if (document.getElementById(\"6a92c8dc-d349-4b12-b721-1e82d0549a02\")) {                    Plotly.newPlot(                        \"6a92c8dc-d349-4b12-b721-1e82d0549a02\",                        [{\"cmid\":0,\"colorscale\":[[0,\"#0C3584\"],[0.3,\"#4394A9\"],[0.5,\"#BCBCBC\"],[0.7,\"#F29B39\"],[1,\"#DA201F\"]],\"contours\":{\"x\":{\"color\":\"rgba(200, 200, 200, 0.95)\",\"end\":11,\"show\":true,\"size\":1,\"start\":2},\"y\":{\"color\":\"rgba(200, 200, 200, 0.95)\",\"end\":21,\"show\":true,\"size\":1,\"start\":4},\"z\":{\"color\":\"white\",\"end\":9.616110761485212,\"show\":false,\"size\":1,\"start\":-7.894736842105263}},\"opacity\":0.85,\"showscale\":true,\"x\":[2,3,4,5,6,7,8,9,10,11],\"y\":[4,5,6,7,8,9,10,11,12,13,14,15,16,17,18,19,20,21],\"z\":[[0.967741935483871,-2.1052631578947367,-0.37037037037037035,-1.5384615384615385,0.0,-0.9090909090909091,-0.45454545454545453,-5.0,-2.389937106918239,-3.1578947368421053],[-0.4444444444444444,-2.5,-1.1224489795918366,-1.7391304347826086,-0.7216494845360825,-1.4606741573033708,-0.9523809523809523,-4.936708860759493,-3.4782608695652173,-7.894736842105263],[-1.68,-1.2396694214876034,-0.7092198581560284,0.2,-1.8918918918918919,-0.21897810218978103,-3.0120481927710845,-3.565891472868217,-5.179282868525896,-3.883495145631068],[-1.1979166666666667,-3.0681818181818183,0.05,0.7486631016042781,-0.5319148936170213,-0.7804878048780488,-1.8461538461538463,-5.544041450777202,-3.4207077326343382,-2.5477707006369426],[-1.1764705882352942,1.095890410958904,-2.931726907630522,-1.8777292576419213,1.8918918918918919,0.8695652173913043,-0.45454545454545453,-5.059760956175299,-2.1340782122905027,-1.1728395061728396],[0.7241379310344828,0.14705882352941177,0.7482993197278912,2.247557003257329,2.277227722772277,0.9539473684210527,0.660377358490566,-1.1643835616438356,-1.8600531443755537,-1.3278008298755186],[2.167630057803468,2.0,2.9310344827586206,3.6283185840707963,2.982456140350877,2.591549295774648,2.186588921282799,2.550724637681159,0.8632040965618142,0.5957446808510638],[2.5829383886255926,1.9794344473007712,2.7918781725888326,3.6633663366336635,4.138702460850112,3.069977426636569,1.4942528735632183,2.2811671087533156,1.370527592480291,1.6339869281045751],[-2.6776649746192893,-2.723004694835681,-2.37880496054115,-1.828978622327791,-1.2454655380894801,-2.384259259259259,-3.0486486486486486,-3.137019230769231,-3.6053783614759225,-3.9527027027027026],[-3.5315101070154578,-2.6757090012330456,-1.2826899128268991,-2.3026315789473686,-0.9808612440191388,-2.662921348314607,-3.1715210355987056,-3.9404761904761907,-4.401885680612846,-3.952755905511811],[-3.0089628681177976,-2.3096446700507616,-2.5244072524407253,-1.2679738562091503,-1.3975576662143827,-3.43042071197411,-3.6236559139784945,-4.374307862679956,-4.765332565505327,-4.6875],[-3.0788177339901477,-2.5779036827195467,-2.179656538969617,-2.3950617283950617,-1.332436069986541,-3.1088082901554404,-4.409136047666336,-5.443037974683544,-5.139648718687014,-5.109170305676856],[-2.577319587628866,-2.7298850574712645,-2.1511627906976742,-1.1462450592885376,-1.5081967213114753,-4.293948126801153,-5.165692007797271,-4.900816802800467,-5.342388228636106,-4.712482468443198],[-1.5174506828528074,-1.1390284757118927,-0.3384615384615385,-0.17391304347826086,-0.060514372163388806,-0.8848614072494669,-3.4344528710725895,-3.645714285714286,-4.09303686366296,-4.5151953690303905],[1.9193548387096775,1.6581196581196582,1.9879518072289157,2.177700348432056,2.9259896729776247,3.982300884955752,0.4260089686098655,-1.424287856071964,-2.0277514979501734,-1.411589895988113],[4.06631762652705,3.208955223880597,4.595660749506903,4.810543657331137,5.730129390018484,5.932415519399249,6.030267753201397,2.7496580027359783,0.5207981061887048,2.6178861788617884],[6.505263157894737,6.662665066026411,6.427732079905993,6.766220391349124,7.193816884661118,7.808455565142364,7.673841059602649,7.625531914893617,5.594745803940647,6.583924349881797],[8.983050847457626,9.067796610169491,8.984375,9.108910891089108,8.955223880597014,9.428571428571429,9.160493827160494,9.555555555555555,9.616110761485212,9.25207756232687]],\"type\":\"surface\"}],                        {\"template\":{\"data\":{\"histogram2dcontour\":[{\"type\":\"histogram2dcontour\",\"colorbar\":{\"outlinewidth\":0,\"ticks\":\"\"},\"colorscale\":[[0.0,\"#0d0887\"],[0.1111111111111111,\"#46039f\"],[0.2222222222222222,\"#7201a8\"],[0.3333333333333333,\"#9c179e\"],[0.4444444444444444,\"#bd3786\"],[0.5555555555555556,\"#d8576b\"],[0.6666666666666666,\"#ed7953\"],[0.7777777777777778,\"#fb9f3a\"],[0.8888888888888888,\"#fdca26\"],[1.0,\"#f0f921\"]]}],\"choropleth\":[{\"type\":\"choropleth\",\"colorbar\":{\"outlinewidth\":0,\"ticks\":\"\"}}],\"histogram2d\":[{\"type\":\"histogram2d\",\"colorbar\":{\"outlinewidth\":0,\"ticks\":\"\"},\"colorscale\":[[0.0,\"#0d0887\"],[0.1111111111111111,\"#46039f\"],[0.2222222222222222,\"#7201a8\"],[0.3333333333333333,\"#9c179e\"],[0.4444444444444444,\"#bd3786\"],[0.5555555555555556,\"#d8576b\"],[0.6666666666666666,\"#ed7953\"],[0.7777777777777778,\"#fb9f3a\"],[0.8888888888888888,\"#fdca26\"],[1.0,\"#f0f921\"]]}],\"heatmap\":[{\"type\":\"heatmap\",\"colorbar\":{\"outlinewidth\":0,\"ticks\":\"\"},\"colorscale\":[[0.0,\"#0d0887\"],[0.1111111111111111,\"#46039f\"],[0.2222222222222222,\"#7201a8\"],[0.3333333333333333,\"#9c179e\"],[0.4444444444444444,\"#bd3786\"],[0.5555555555555556,\"#d8576b\"],[0.6666666666666666,\"#ed7953\"],[0.7777777777777778,\"#fb9f3a\"],[0.8888888888888888,\"#fdca26\"],[1.0,\"#f0f921\"]]}],\"heatmapgl\":[{\"type\":\"heatmapgl\",\"colorbar\":{\"outlinewidth\":0,\"ticks\":\"\"},\"colorscale\":[[0.0,\"#0d0887\"],[0.1111111111111111,\"#46039f\"],[0.2222222222222222,\"#7201a8\"],[0.3333333333333333,\"#9c179e\"],[0.4444444444444444,\"#bd3786\"],[0.5555555555555556,\"#d8576b\"],[0.6666666666666666,\"#ed7953\"],[0.7777777777777778,\"#fb9f3a\"],[0.8888888888888888,\"#fdca26\"],[1.0,\"#f0f921\"]]}],\"contourcarpet\":[{\"type\":\"contourcarpet\",\"colorbar\":{\"outlinewidth\":0,\"ticks\":\"\"}}],\"contour\":[{\"type\":\"contour\",\"colorbar\":{\"outlinewidth\":0,\"ticks\":\"\"},\"colorscale\":[[0.0,\"#0d0887\"],[0.1111111111111111,\"#46039f\"],[0.2222222222222222,\"#7201a8\"],[0.3333333333333333,\"#9c179e\"],[0.4444444444444444,\"#bd3786\"],[0.5555555555555556,\"#d8576b\"],[0.6666666666666666,\"#ed7953\"],[0.7777777777777778,\"#fb9f3a\"],[0.8888888888888888,\"#fdca26\"],[1.0,\"#f0f921\"]]}],\"surface\":[{\"type\":\"surface\",\"colorbar\":{\"outlinewidth\":0,\"ticks\":\"\"},\"colorscale\":[[0.0,\"#0d0887\"],[0.1111111111111111,\"#46039f\"],[0.2222222222222222,\"#7201a8\"],[0.3333333333333333,\"#9c179e\"],[0.4444444444444444,\"#bd3786\"],[0.5555555555555556,\"#d8576b\"],[0.6666666666666666,\"#ed7953\"],[0.7777777777777778,\"#fb9f3a\"],[0.8888888888888888,\"#fdca26\"],[1.0,\"#f0f921\"]]}],\"mesh3d\":[{\"type\":\"mesh3d\",\"colorbar\":{\"outlinewidth\":0,\"ticks\":\"\"}}],\"scatter\":[{\"fillpattern\":{\"fillmode\":\"overlay\",\"size\":10,\"solidity\":0.2},\"type\":\"scatter\"}],\"parcoords\":[{\"type\":\"parcoords\",\"line\":{\"colorbar\":{\"outlinewidth\":0,\"ticks\":\"\"}}}],\"scatterpolargl\":[{\"type\":\"scatterpolargl\",\"marker\":{\"colorbar\":{\"outlinewidth\":0,\"ticks\":\"\"}}}],\"bar\":[{\"error_x\":{\"color\":\"#2a3f5f\"},\"error_y\":{\"color\":\"#2a3f5f\"},\"marker\":{\"line\":{\"color\":\"#E5ECF6\",\"width\":0.5},\"pattern\":{\"fillmode\":\"overlay\",\"size\":10,\"solidity\":0.2}},\"type\":\"bar\"}],\"scattergeo\":[{\"type\":\"scattergeo\",\"marker\":{\"colorbar\":{\"outlinewidth\":0,\"ticks\":\"\"}}}],\"scatterpolar\":[{\"type\":\"scatterpolar\",\"marker\":{\"colorbar\":{\"outlinewidth\":0,\"ticks\":\"\"}}}],\"histogram\":[{\"marker\":{\"pattern\":{\"fillmode\":\"overlay\",\"size\":10,\"solidity\":0.2}},\"type\":\"histogram\"}],\"scattergl\":[{\"type\":\"scattergl\",\"marker\":{\"colorbar\":{\"outlinewidth\":0,\"ticks\":\"\"}}}],\"scatter3d\":[{\"type\":\"scatter3d\",\"line\":{\"colorbar\":{\"outlinewidth\":0,\"ticks\":\"\"}},\"marker\":{\"colorbar\":{\"outlinewidth\":0,\"ticks\":\"\"}}}],\"scattermapbox\":[{\"type\":\"scattermapbox\",\"marker\":{\"colorbar\":{\"outlinewidth\":0,\"ticks\":\"\"}}}],\"scatterternary\":[{\"type\":\"scatterternary\",\"marker\":{\"colorbar\":{\"outlinewidth\":0,\"ticks\":\"\"}}}],\"scattercarpet\":[{\"type\":\"scattercarpet\",\"marker\":{\"colorbar\":{\"outlinewidth\":0,\"ticks\":\"\"}}}],\"carpet\":[{\"aaxis\":{\"endlinecolor\":\"#2a3f5f\",\"gridcolor\":\"white\",\"linecolor\":\"white\",\"minorgridcolor\":\"white\",\"startlinecolor\":\"#2a3f5f\"},\"baxis\":{\"endlinecolor\":\"#2a3f5f\",\"gridcolor\":\"white\",\"linecolor\":\"white\",\"minorgridcolor\":\"white\",\"startlinecolor\":\"#2a3f5f\"},\"type\":\"carpet\"}],\"table\":[{\"cells\":{\"fill\":{\"color\":\"#EBF0F8\"},\"line\":{\"color\":\"white\"}},\"header\":{\"fill\":{\"color\":\"#C8D4E3\"},\"line\":{\"color\":\"white\"}},\"type\":\"table\"}],\"barpolar\":[{\"marker\":{\"line\":{\"color\":\"#E5ECF6\",\"width\":0.5},\"pattern\":{\"fillmode\":\"overlay\",\"size\":10,\"solidity\":0.2}},\"type\":\"barpolar\"}],\"pie\":[{\"automargin\":true,\"type\":\"pie\"}]},\"layout\":{\"autotypenumbers\":\"strict\",\"colorway\":[\"#636efa\",\"#EF553B\",\"#00cc96\",\"#ab63fa\",\"#FFA15A\",\"#19d3f3\",\"#FF6692\",\"#B6E880\",\"#FF97FF\",\"#FECB52\"],\"font\":{\"color\":\"#2a3f5f\"},\"hovermode\":\"closest\",\"hoverlabel\":{\"align\":\"left\"},\"paper_bgcolor\":\"white\",\"plot_bgcolor\":\"#E5ECF6\",\"polar\":{\"bgcolor\":\"#E5ECF6\",\"angularaxis\":{\"gridcolor\":\"white\",\"linecolor\":\"white\",\"ticks\":\"\"},\"radialaxis\":{\"gridcolor\":\"white\",\"linecolor\":\"white\",\"ticks\":\"\"}},\"ternary\":{\"bgcolor\":\"#E5ECF6\",\"aaxis\":{\"gridcolor\":\"white\",\"linecolor\":\"white\",\"ticks\":\"\"},\"baxis\":{\"gridcolor\":\"white\",\"linecolor\":\"white\",\"ticks\":\"\"},\"caxis\":{\"gridcolor\":\"white\",\"linecolor\":\"white\",\"ticks\":\"\"}},\"coloraxis\":{\"colorbar\":{\"outlinewidth\":0,\"ticks\":\"\"}},\"colorscale\":{\"sequential\":[[0.0,\"#0d0887\"],[0.1111111111111111,\"#46039f\"],[0.2222222222222222,\"#7201a8\"],[0.3333333333333333,\"#9c179e\"],[0.4444444444444444,\"#bd3786\"],[0.5555555555555556,\"#d8576b\"],[0.6666666666666666,\"#ed7953\"],[0.7777777777777778,\"#fb9f3a\"],[0.8888888888888888,\"#fdca26\"],[1.0,\"#f0f921\"]],\"sequentialminus\":[[0.0,\"#0d0887\"],[0.1111111111111111,\"#46039f\"],[0.2222222222222222,\"#7201a8\"],[0.3333333333333333,\"#9c179e\"],[0.4444444444444444,\"#bd3786\"],[0.5555555555555556,\"#d8576b\"],[0.6666666666666666,\"#ed7953\"],[0.7777777777777778,\"#fb9f3a\"],[0.8888888888888888,\"#fdca26\"],[1.0,\"#f0f921\"]],\"diverging\":[[0,\"#8e0152\"],[0.1,\"#c51b7d\"],[0.2,\"#de77ae\"],[0.3,\"#f1b6da\"],[0.4,\"#fde0ef\"],[0.5,\"#f7f7f7\"],[0.6,\"#e6f5d0\"],[0.7,\"#b8e186\"],[0.8,\"#7fbc41\"],[0.9,\"#4d9221\"],[1,\"#276419\"]]},\"xaxis\":{\"gridcolor\":\"white\",\"linecolor\":\"white\",\"ticks\":\"\",\"title\":{\"standoff\":15},\"zerolinecolor\":\"white\",\"automargin\":true,\"zerolinewidth\":2},\"yaxis\":{\"gridcolor\":\"white\",\"linecolor\":\"white\",\"ticks\":\"\",\"title\":{\"standoff\":15},\"zerolinecolor\":\"white\",\"automargin\":true,\"zerolinewidth\":2},\"scene\":{\"xaxis\":{\"backgroundcolor\":\"#E5ECF6\",\"gridcolor\":\"white\",\"linecolor\":\"white\",\"showbackground\":true,\"ticks\":\"\",\"zerolinecolor\":\"white\",\"gridwidth\":2},\"yaxis\":{\"backgroundcolor\":\"#E5ECF6\",\"gridcolor\":\"white\",\"linecolor\":\"white\",\"showbackground\":true,\"ticks\":\"\",\"zerolinecolor\":\"white\",\"gridwidth\":2},\"zaxis\":{\"backgroundcolor\":\"#E5ECF6\",\"gridcolor\":\"white\",\"linecolor\":\"white\",\"showbackground\":true,\"ticks\":\"\",\"zerolinecolor\":\"white\",\"gridwidth\":2}},\"shapedefaults\":{\"line\":{\"color\":\"#2a3f5f\"}},\"annotationdefaults\":{\"arrowcolor\":\"#2a3f5f\",\"arrowhead\":0,\"arrowwidth\":1},\"geo\":{\"bgcolor\":\"white\",\"landcolor\":\"#E5ECF6\",\"subunitcolor\":\"white\",\"showland\":true,\"showlakes\":true,\"lakecolor\":\"white\"},\"title\":{\"x\":0.05},\"mapbox\":{\"style\":\"light\"}}},\"scene\":{\"aspectratio\":{\"x\":1,\"y\":1,\"z\":0.3},\"camera\":{\"up\":{\"x\":0,\"y\":0,\"z\":1},\"center\":{\"x\":0,\"y\":0,\"z\":0},\"eye\":{\"x\":1.4,\"y\":-0.75,\"z\":0.4}},\"xaxis\":{\"title\":{\"text\":\"Dealer Card\"}},\"yaxis\":{\"title\":{\"text\":\"Player Total\"}},\"zaxis\":{\"title\":{\"text\":\"Value\"}}},\"title\":{\"text\":\"State Value Estimates\"},\"autosize\":false,\"width\":700,\"height\":600},                        {\"responsive\": true}                    ).then(function(){\n",
       "                            \n",
       "var gd = document.getElementById('6a92c8dc-d349-4b12-b721-1e82d0549a02');\n",
       "var x = new MutationObserver(function (mutations, observer) {{\n",
       "        var display = window.getComputedStyle(gd).display;\n",
       "        if (!display || display === 'none') {{\n",
       "            console.log([gd, 'removed!']);\n",
       "            Plotly.purge(gd);\n",
       "            observer.disconnect();\n",
       "        }}\n",
       "}});\n",
       "\n",
       "// Listen for the removal of the full notebook cells\n",
       "var notebookContainer = gd.closest('#notebook-container');\n",
       "if (notebookContainer) {{\n",
       "    x.observe(notebookContainer, {childList: true});\n",
       "}}\n",
       "\n",
       "// Listen for the clearing of the current output cell\n",
       "var outputEl = gd.closest('.output');\n",
       "if (outputEl) {{\n",
       "    x.observe(outputEl, {childList: true});\n",
       "}}\n",
       "\n",
       "                        })                };                });            </script>        </div>"
      ]
     },
     "metadata": {},
     "output_type": "display_data"
    },
    {
     "data": {
      "application/vnd.plotly.v1+json": {
       "config": {
        "plotlyServerURL": "https://plot.ly"
       },
       "data": [
        {
         "colorscale": [
          [
           0.0,
           "#cccccc"
          ],
          [
           1.0,
           "#eb7632"
          ]
         ],
         "hoverinfo": "text",
         "hovertext": [
          [
           "Player Total: 4<br>Dealer Upcard: 2<br>Action: Hit",
           "Player Total: 5<br>Dealer Upcard: 2<br>Action: Hit",
           "Player Total: 6<br>Dealer Upcard: 2<br>Action: Stick",
           "Player Total: 7<br>Dealer Upcard: 2<br>Action: Hit",
           "Player Total: 8<br>Dealer Upcard: 2<br>Action: Hit",
           "Player Total: 9<br>Dealer Upcard: 2<br>Action: Hit",
           "Player Total: 10<br>Dealer Upcard: 2<br>Action: Hit",
           "Player Total: 11<br>Dealer Upcard: 2<br>Action: Hit",
           "Player Total: 12<br>Dealer Upcard: 2<br>Action: Hit",
           "Player Total: 13<br>Dealer Upcard: 2<br>Action: Stick",
           "Player Total: 14<br>Dealer Upcard: 2<br>Action: Stick",
           "Player Total: 15<br>Dealer Upcard: 2<br>Action: Stick",
           "Player Total: 16<br>Dealer Upcard: 2<br>Action: Stick",
           "Player Total: 17<br>Dealer Upcard: 2<br>Action: Stick",
           "Player Total: 18<br>Dealer Upcard: 2<br>Action: Stick",
           "Player Total: 19<br>Dealer Upcard: 2<br>Action: Stick",
           "Player Total: 20<br>Dealer Upcard: 2<br>Action: Stick",
           "Player Total: 21<br>Dealer Upcard: 2<br>Action: Stick"
          ],
          [
           "Player Total: 4<br>Dealer Upcard: 3<br>Action: Hit",
           "Player Total: 5<br>Dealer Upcard: 3<br>Action: Stick",
           "Player Total: 6<br>Dealer Upcard: 3<br>Action: Hit",
           "Player Total: 7<br>Dealer Upcard: 3<br>Action: Stick",
           "Player Total: 8<br>Dealer Upcard: 3<br>Action: Hit",
           "Player Total: 9<br>Dealer Upcard: 3<br>Action: Hit",
           "Player Total: 10<br>Dealer Upcard: 3<br>Action: Hit",
           "Player Total: 11<br>Dealer Upcard: 3<br>Action: Hit",
           "Player Total: 12<br>Dealer Upcard: 3<br>Action: Stick",
           "Player Total: 13<br>Dealer Upcard: 3<br>Action: Stick",
           "Player Total: 14<br>Dealer Upcard: 3<br>Action: Stick",
           "Player Total: 15<br>Dealer Upcard: 3<br>Action: Stick",
           "Player Total: 16<br>Dealer Upcard: 3<br>Action: Stick",
           "Player Total: 17<br>Dealer Upcard: 3<br>Action: Stick",
           "Player Total: 18<br>Dealer Upcard: 3<br>Action: Stick",
           "Player Total: 19<br>Dealer Upcard: 3<br>Action: Stick",
           "Player Total: 20<br>Dealer Upcard: 3<br>Action: Stick",
           "Player Total: 21<br>Dealer Upcard: 3<br>Action: Stick"
          ],
          [
           "Player Total: 4<br>Dealer Upcard: 4<br>Action: Hit",
           "Player Total: 5<br>Dealer Upcard: 4<br>Action: Hit",
           "Player Total: 6<br>Dealer Upcard: 4<br>Action: Hit",
           "Player Total: 7<br>Dealer Upcard: 4<br>Action: Hit",
           "Player Total: 8<br>Dealer Upcard: 4<br>Action: Stick",
           "Player Total: 9<br>Dealer Upcard: 4<br>Action: Hit",
           "Player Total: 10<br>Dealer Upcard: 4<br>Action: Hit",
           "Player Total: 11<br>Dealer Upcard: 4<br>Action: Hit",
           "Player Total: 12<br>Dealer Upcard: 4<br>Action: Stick",
           "Player Total: 13<br>Dealer Upcard: 4<br>Action: Stick",
           "Player Total: 14<br>Dealer Upcard: 4<br>Action: Stick",
           "Player Total: 15<br>Dealer Upcard: 4<br>Action: Stick",
           "Player Total: 16<br>Dealer Upcard: 4<br>Action: Stick",
           "Player Total: 17<br>Dealer Upcard: 4<br>Action: Stick",
           "Player Total: 18<br>Dealer Upcard: 4<br>Action: Stick",
           "Player Total: 19<br>Dealer Upcard: 4<br>Action: Stick",
           "Player Total: 20<br>Dealer Upcard: 4<br>Action: Stick",
           "Player Total: 21<br>Dealer Upcard: 4<br>Action: Stick"
          ],
          [
           "Player Total: 4<br>Dealer Upcard: 5<br>Action: Hit",
           "Player Total: 5<br>Dealer Upcard: 5<br>Action: Stick",
           "Player Total: 6<br>Dealer Upcard: 5<br>Action: Hit",
           "Player Total: 7<br>Dealer Upcard: 5<br>Action: Hit",
           "Player Total: 8<br>Dealer Upcard: 5<br>Action: Stick",
           "Player Total: 9<br>Dealer Upcard: 5<br>Action: Hit",
           "Player Total: 10<br>Dealer Upcard: 5<br>Action: Hit",
           "Player Total: 11<br>Dealer Upcard: 5<br>Action: Hit",
           "Player Total: 12<br>Dealer Upcard: 5<br>Action: Hit",
           "Player Total: 13<br>Dealer Upcard: 5<br>Action: Stick",
           "Player Total: 14<br>Dealer Upcard: 5<br>Action: Stick",
           "Player Total: 15<br>Dealer Upcard: 5<br>Action: Stick",
           "Player Total: 16<br>Dealer Upcard: 5<br>Action: Stick",
           "Player Total: 17<br>Dealer Upcard: 5<br>Action: Stick",
           "Player Total: 18<br>Dealer Upcard: 5<br>Action: Stick",
           "Player Total: 19<br>Dealer Upcard: 5<br>Action: Stick",
           "Player Total: 20<br>Dealer Upcard: 5<br>Action: Stick",
           "Player Total: 21<br>Dealer Upcard: 5<br>Action: Stick"
          ],
          [
           "Player Total: 4<br>Dealer Upcard: 6<br>Action: Stick",
           "Player Total: 5<br>Dealer Upcard: 6<br>Action: Stick",
           "Player Total: 6<br>Dealer Upcard: 6<br>Action: Stick",
           "Player Total: 7<br>Dealer Upcard: 6<br>Action: Hit",
           "Player Total: 8<br>Dealer Upcard: 6<br>Action: Hit",
           "Player Total: 9<br>Dealer Upcard: 6<br>Action: Hit",
           "Player Total: 10<br>Dealer Upcard: 6<br>Action: Hit",
           "Player Total: 11<br>Dealer Upcard: 6<br>Action: Hit",
           "Player Total: 12<br>Dealer Upcard: 6<br>Action: Stick",
           "Player Total: 13<br>Dealer Upcard: 6<br>Action: Stick",
           "Player Total: 14<br>Dealer Upcard: 6<br>Action: Stick",
           "Player Total: 15<br>Dealer Upcard: 6<br>Action: Stick",
           "Player Total: 16<br>Dealer Upcard: 6<br>Action: Stick",
           "Player Total: 17<br>Dealer Upcard: 6<br>Action: Stick",
           "Player Total: 18<br>Dealer Upcard: 6<br>Action: Stick",
           "Player Total: 19<br>Dealer Upcard: 6<br>Action: Stick",
           "Player Total: 20<br>Dealer Upcard: 6<br>Action: Stick",
           "Player Total: 21<br>Dealer Upcard: 6<br>Action: Stick"
          ],
          [
           "Player Total: 4<br>Dealer Upcard: 7<br>Action: Hit",
           "Player Total: 5<br>Dealer Upcard: 7<br>Action: Hit",
           "Player Total: 6<br>Dealer Upcard: 7<br>Action: Hit",
           "Player Total: 7<br>Dealer Upcard: 7<br>Action: Hit",
           "Player Total: 8<br>Dealer Upcard: 7<br>Action: Hit",
           "Player Total: 9<br>Dealer Upcard: 7<br>Action: Hit",
           "Player Total: 10<br>Dealer Upcard: 7<br>Action: Hit",
           "Player Total: 11<br>Dealer Upcard: 7<br>Action: Hit",
           "Player Total: 12<br>Dealer Upcard: 7<br>Action: Hit",
           "Player Total: 13<br>Dealer Upcard: 7<br>Action: Hit",
           "Player Total: 14<br>Dealer Upcard: 7<br>Action: Hit",
           "Player Total: 15<br>Dealer Upcard: 7<br>Action: Hit",
           "Player Total: 16<br>Dealer Upcard: 7<br>Action: Stick",
           "Player Total: 17<br>Dealer Upcard: 7<br>Action: Stick",
           "Player Total: 18<br>Dealer Upcard: 7<br>Action: Stick",
           "Player Total: 19<br>Dealer Upcard: 7<br>Action: Stick",
           "Player Total: 20<br>Dealer Upcard: 7<br>Action: Stick",
           "Player Total: 21<br>Dealer Upcard: 7<br>Action: Stick"
          ],
          [
           "Player Total: 4<br>Dealer Upcard: 8<br>Action: Hit",
           "Player Total: 5<br>Dealer Upcard: 8<br>Action: Hit",
           "Player Total: 6<br>Dealer Upcard: 8<br>Action: Hit",
           "Player Total: 7<br>Dealer Upcard: 8<br>Action: Hit",
           "Player Total: 8<br>Dealer Upcard: 8<br>Action: Hit",
           "Player Total: 9<br>Dealer Upcard: 8<br>Action: Hit",
           "Player Total: 10<br>Dealer Upcard: 8<br>Action: Hit",
           "Player Total: 11<br>Dealer Upcard: 8<br>Action: Hit",
           "Player Total: 12<br>Dealer Upcard: 8<br>Action: Hit",
           "Player Total: 13<br>Dealer Upcard: 8<br>Action: Hit",
           "Player Total: 14<br>Dealer Upcard: 8<br>Action: Hit",
           "Player Total: 15<br>Dealer Upcard: 8<br>Action: Hit",
           "Player Total: 16<br>Dealer Upcard: 8<br>Action: Stick",
           "Player Total: 17<br>Dealer Upcard: 8<br>Action: Stick",
           "Player Total: 18<br>Dealer Upcard: 8<br>Action: Stick",
           "Player Total: 19<br>Dealer Upcard: 8<br>Action: Stick",
           "Player Total: 20<br>Dealer Upcard: 8<br>Action: Stick",
           "Player Total: 21<br>Dealer Upcard: 8<br>Action: Stick"
          ],
          [
           "Player Total: 4<br>Dealer Upcard: 9<br>Action: Stick",
           "Player Total: 5<br>Dealer Upcard: 9<br>Action: Stick",
           "Player Total: 6<br>Dealer Upcard: 9<br>Action: Hit",
           "Player Total: 7<br>Dealer Upcard: 9<br>Action: Stick",
           "Player Total: 8<br>Dealer Upcard: 9<br>Action: Stick",
           "Player Total: 9<br>Dealer Upcard: 9<br>Action: Hit",
           "Player Total: 10<br>Dealer Upcard: 9<br>Action: Hit",
           "Player Total: 11<br>Dealer Upcard: 9<br>Action: Hit",
           "Player Total: 12<br>Dealer Upcard: 9<br>Action: Hit",
           "Player Total: 13<br>Dealer Upcard: 9<br>Action: Hit",
           "Player Total: 14<br>Dealer Upcard: 9<br>Action: Hit",
           "Player Total: 15<br>Dealer Upcard: 9<br>Action: Stick",
           "Player Total: 16<br>Dealer Upcard: 9<br>Action: Hit",
           "Player Total: 17<br>Dealer Upcard: 9<br>Action: Stick",
           "Player Total: 18<br>Dealer Upcard: 9<br>Action: Stick",
           "Player Total: 19<br>Dealer Upcard: 9<br>Action: Stick",
           "Player Total: 20<br>Dealer Upcard: 9<br>Action: Stick",
           "Player Total: 21<br>Dealer Upcard: 9<br>Action: Stick"
          ],
          [
           "Player Total: 4<br>Dealer Upcard: 10<br>Action: Hit",
           "Player Total: 5<br>Dealer Upcard: 10<br>Action: Hit",
           "Player Total: 6<br>Dealer Upcard: 10<br>Action: Stick",
           "Player Total: 7<br>Dealer Upcard: 10<br>Action: Hit",
           "Player Total: 8<br>Dealer Upcard: 10<br>Action: Hit",
           "Player Total: 9<br>Dealer Upcard: 10<br>Action: Hit",
           "Player Total: 10<br>Dealer Upcard: 10<br>Action: Hit",
           "Player Total: 11<br>Dealer Upcard: 10<br>Action: Hit",
           "Player Total: 12<br>Dealer Upcard: 10<br>Action: Hit",
           "Player Total: 13<br>Dealer Upcard: 10<br>Action: Hit",
           "Player Total: 14<br>Dealer Upcard: 10<br>Action: Hit",
           "Player Total: 15<br>Dealer Upcard: 10<br>Action: Hit",
           "Player Total: 16<br>Dealer Upcard: 10<br>Action: Stick",
           "Player Total: 17<br>Dealer Upcard: 10<br>Action: Stick",
           "Player Total: 18<br>Dealer Upcard: 10<br>Action: Stick",
           "Player Total: 19<br>Dealer Upcard: 10<br>Action: Stick",
           "Player Total: 20<br>Dealer Upcard: 10<br>Action: Stick",
           "Player Total: 21<br>Dealer Upcard: 10<br>Action: Stick"
          ],
          [
           "Player Total: 4<br>Dealer Upcard: 11<br>Action: Hit",
           "Player Total: 5<br>Dealer Upcard: 11<br>Action: Stick",
           "Player Total: 6<br>Dealer Upcard: 11<br>Action: Hit",
           "Player Total: 7<br>Dealer Upcard: 11<br>Action: Hit",
           "Player Total: 8<br>Dealer Upcard: 11<br>Action: Hit",
           "Player Total: 9<br>Dealer Upcard: 11<br>Action: Hit",
           "Player Total: 10<br>Dealer Upcard: 11<br>Action: Hit",
           "Player Total: 11<br>Dealer Upcard: 11<br>Action: Hit",
           "Player Total: 12<br>Dealer Upcard: 11<br>Action: Hit",
           "Player Total: 13<br>Dealer Upcard: 11<br>Action: Hit",
           "Player Total: 14<br>Dealer Upcard: 11<br>Action: Hit",
           "Player Total: 15<br>Dealer Upcard: 11<br>Action: Hit",
           "Player Total: 16<br>Dealer Upcard: 11<br>Action: Hit",
           "Player Total: 17<br>Dealer Upcard: 11<br>Action: Stick",
           "Player Total: 18<br>Dealer Upcard: 11<br>Action: Stick",
           "Player Total: 19<br>Dealer Upcard: 11<br>Action: Stick",
           "Player Total: 20<br>Dealer Upcard: 11<br>Action: Stick",
           "Player Total: 21<br>Dealer Upcard: 11<br>Action: Stick"
          ]
         ],
         "showscale": false,
         "type": "heatmap",
         "x": [
          4,
          5,
          6,
          7,
          8,
          9,
          10,
          11,
          12,
          13,
          14,
          15,
          16,
          17,
          18,
          19,
          20,
          21
         ],
         "xgap": 4,
         "y": [
          2,
          3,
          4,
          5,
          6,
          7,
          8,
          9,
          10,
          11
         ],
         "ygap": 4,
         "z": [
          [
           1,
           1,
           0,
           1,
           1,
           1,
           1,
           1,
           1,
           0,
           0,
           0,
           0,
           0,
           0,
           0,
           0,
           0
          ],
          [
           1,
           0,
           1,
           0,
           1,
           1,
           1,
           1,
           0,
           0,
           0,
           0,
           0,
           0,
           0,
           0,
           0,
           0
          ],
          [
           1,
           1,
           1,
           1,
           0,
           1,
           1,
           1,
           0,
           0,
           0,
           0,
           0,
           0,
           0,
           0,
           0,
           0
          ],
          [
           1,
           0,
           1,
           1,
           0,
           1,
           1,
           1,
           1,
           0,
           0,
           0,
           0,
           0,
           0,
           0,
           0,
           0
          ],
          [
           0,
           0,
           0,
           1,
           1,
           1,
           1,
           1,
           0,
           0,
           0,
           0,
           0,
           0,
           0,
           0,
           0,
           0
          ],
          [
           1,
           1,
           1,
           1,
           1,
           1,
           1,
           1,
           1,
           1,
           1,
           1,
           0,
           0,
           0,
           0,
           0,
           0
          ],
          [
           1,
           1,
           1,
           1,
           1,
           1,
           1,
           1,
           1,
           1,
           1,
           1,
           0,
           0,
           0,
           0,
           0,
           0
          ],
          [
           0,
           0,
           1,
           0,
           0,
           1,
           1,
           1,
           1,
           1,
           1,
           0,
           1,
           0,
           0,
           0,
           0,
           0
          ],
          [
           1,
           1,
           0,
           1,
           1,
           1,
           1,
           1,
           1,
           1,
           1,
           1,
           0,
           0,
           0,
           0,
           0,
           0
          ],
          [
           1,
           0,
           1,
           1,
           1,
           1,
           1,
           1,
           1,
           1,
           1,
           1,
           1,
           0,
           0,
           0,
           0,
           0
          ]
         ],
         "zmax": 1,
         "zmin": 0
        }
       ],
       "layout": {
        "autosize": true,
        "template": {
         "data": {
          "bar": [
           {
            "error_x": {
             "color": "#2a3f5f"
            },
            "error_y": {
             "color": "#2a3f5f"
            },
            "marker": {
             "line": {
              "color": "#E5ECF6",
              "width": 0.5
             },
             "pattern": {
              "fillmode": "overlay",
              "size": 10,
              "solidity": 0.2
             }
            },
            "type": "bar"
           }
          ],
          "barpolar": [
           {
            "marker": {
             "line": {
              "color": "#E5ECF6",
              "width": 0.5
             },
             "pattern": {
              "fillmode": "overlay",
              "size": 10,
              "solidity": 0.2
             }
            },
            "type": "barpolar"
           }
          ],
          "carpet": [
           {
            "aaxis": {
             "endlinecolor": "#2a3f5f",
             "gridcolor": "white",
             "linecolor": "white",
             "minorgridcolor": "white",
             "startlinecolor": "#2a3f5f"
            },
            "baxis": {
             "endlinecolor": "#2a3f5f",
             "gridcolor": "white",
             "linecolor": "white",
             "minorgridcolor": "white",
             "startlinecolor": "#2a3f5f"
            },
            "type": "carpet"
           }
          ],
          "choropleth": [
           {
            "colorbar": {
             "outlinewidth": 0,
             "ticks": ""
            },
            "type": "choropleth"
           }
          ],
          "contour": [
           {
            "colorbar": {
             "outlinewidth": 0,
             "ticks": ""
            },
            "colorscale": [
             [
              0.0,
              "#0d0887"
             ],
             [
              0.1111111111111111,
              "#46039f"
             ],
             [
              0.2222222222222222,
              "#7201a8"
             ],
             [
              0.3333333333333333,
              "#9c179e"
             ],
             [
              0.4444444444444444,
              "#bd3786"
             ],
             [
              0.5555555555555556,
              "#d8576b"
             ],
             [
              0.6666666666666666,
              "#ed7953"
             ],
             [
              0.7777777777777778,
              "#fb9f3a"
             ],
             [
              0.8888888888888888,
              "#fdca26"
             ],
             [
              1.0,
              "#f0f921"
             ]
            ],
            "type": "contour"
           }
          ],
          "contourcarpet": [
           {
            "colorbar": {
             "outlinewidth": 0,
             "ticks": ""
            },
            "type": "contourcarpet"
           }
          ],
          "heatmap": [
           {
            "colorbar": {
             "outlinewidth": 0,
             "ticks": ""
            },
            "colorscale": [
             [
              0.0,
              "#0d0887"
             ],
             [
              0.1111111111111111,
              "#46039f"
             ],
             [
              0.2222222222222222,
              "#7201a8"
             ],
             [
              0.3333333333333333,
              "#9c179e"
             ],
             [
              0.4444444444444444,
              "#bd3786"
             ],
             [
              0.5555555555555556,
              "#d8576b"
             ],
             [
              0.6666666666666666,
              "#ed7953"
             ],
             [
              0.7777777777777778,
              "#fb9f3a"
             ],
             [
              0.8888888888888888,
              "#fdca26"
             ],
             [
              1.0,
              "#f0f921"
             ]
            ],
            "type": "heatmap"
           }
          ],
          "heatmapgl": [
           {
            "colorbar": {
             "outlinewidth": 0,
             "ticks": ""
            },
            "colorscale": [
             [
              0.0,
              "#0d0887"
             ],
             [
              0.1111111111111111,
              "#46039f"
             ],
             [
              0.2222222222222222,
              "#7201a8"
             ],
             [
              0.3333333333333333,
              "#9c179e"
             ],
             [
              0.4444444444444444,
              "#bd3786"
             ],
             [
              0.5555555555555556,
              "#d8576b"
             ],
             [
              0.6666666666666666,
              "#ed7953"
             ],
             [
              0.7777777777777778,
              "#fb9f3a"
             ],
             [
              0.8888888888888888,
              "#fdca26"
             ],
             [
              1.0,
              "#f0f921"
             ]
            ],
            "type": "heatmapgl"
           }
          ],
          "histogram": [
           {
            "marker": {
             "pattern": {
              "fillmode": "overlay",
              "size": 10,
              "solidity": 0.2
             }
            },
            "type": "histogram"
           }
          ],
          "histogram2d": [
           {
            "colorbar": {
             "outlinewidth": 0,
             "ticks": ""
            },
            "colorscale": [
             [
              0.0,
              "#0d0887"
             ],
             [
              0.1111111111111111,
              "#46039f"
             ],
             [
              0.2222222222222222,
              "#7201a8"
             ],
             [
              0.3333333333333333,
              "#9c179e"
             ],
             [
              0.4444444444444444,
              "#bd3786"
             ],
             [
              0.5555555555555556,
              "#d8576b"
             ],
             [
              0.6666666666666666,
              "#ed7953"
             ],
             [
              0.7777777777777778,
              "#fb9f3a"
             ],
             [
              0.8888888888888888,
              "#fdca26"
             ],
             [
              1.0,
              "#f0f921"
             ]
            ],
            "type": "histogram2d"
           }
          ],
          "histogram2dcontour": [
           {
            "colorbar": {
             "outlinewidth": 0,
             "ticks": ""
            },
            "colorscale": [
             [
              0.0,
              "#0d0887"
             ],
             [
              0.1111111111111111,
              "#46039f"
             ],
             [
              0.2222222222222222,
              "#7201a8"
             ],
             [
              0.3333333333333333,
              "#9c179e"
             ],
             [
              0.4444444444444444,
              "#bd3786"
             ],
             [
              0.5555555555555556,
              "#d8576b"
             ],
             [
              0.6666666666666666,
              "#ed7953"
             ],
             [
              0.7777777777777778,
              "#fb9f3a"
             ],
             [
              0.8888888888888888,
              "#fdca26"
             ],
             [
              1.0,
              "#f0f921"
             ]
            ],
            "type": "histogram2dcontour"
           }
          ],
          "mesh3d": [
           {
            "colorbar": {
             "outlinewidth": 0,
             "ticks": ""
            },
            "type": "mesh3d"
           }
          ],
          "parcoords": [
           {
            "line": {
             "colorbar": {
              "outlinewidth": 0,
              "ticks": ""
             }
            },
            "type": "parcoords"
           }
          ],
          "pie": [
           {
            "automargin": true,
            "type": "pie"
           }
          ],
          "scatter": [
           {
            "fillpattern": {
             "fillmode": "overlay",
             "size": 10,
             "solidity": 0.2
            },
            "type": "scatter"
           }
          ],
          "scatter3d": [
           {
            "line": {
             "colorbar": {
              "outlinewidth": 0,
              "ticks": ""
             }
            },
            "marker": {
             "colorbar": {
              "outlinewidth": 0,
              "ticks": ""
             }
            },
            "type": "scatter3d"
           }
          ],
          "scattercarpet": [
           {
            "marker": {
             "colorbar": {
              "outlinewidth": 0,
              "ticks": ""
             }
            },
            "type": "scattercarpet"
           }
          ],
          "scattergeo": [
           {
            "marker": {
             "colorbar": {
              "outlinewidth": 0,
              "ticks": ""
             }
            },
            "type": "scattergeo"
           }
          ],
          "scattergl": [
           {
            "marker": {
             "colorbar": {
              "outlinewidth": 0,
              "ticks": ""
             }
            },
            "type": "scattergl"
           }
          ],
          "scattermapbox": [
           {
            "marker": {
             "colorbar": {
              "outlinewidth": 0,
              "ticks": ""
             }
            },
            "type": "scattermapbox"
           }
          ],
          "scatterpolar": [
           {
            "marker": {
             "colorbar": {
              "outlinewidth": 0,
              "ticks": ""
             }
            },
            "type": "scatterpolar"
           }
          ],
          "scatterpolargl": [
           {
            "marker": {
             "colorbar": {
              "outlinewidth": 0,
              "ticks": ""
             }
            },
            "type": "scatterpolargl"
           }
          ],
          "scatterternary": [
           {
            "marker": {
             "colorbar": {
              "outlinewidth": 0,
              "ticks": ""
             }
            },
            "type": "scatterternary"
           }
          ],
          "surface": [
           {
            "colorbar": {
             "outlinewidth": 0,
             "ticks": ""
            },
            "colorscale": [
             [
              0.0,
              "#0d0887"
             ],
             [
              0.1111111111111111,
              "#46039f"
             ],
             [
              0.2222222222222222,
              "#7201a8"
             ],
             [
              0.3333333333333333,
              "#9c179e"
             ],
             [
              0.4444444444444444,
              "#bd3786"
             ],
             [
              0.5555555555555556,
              "#d8576b"
             ],
             [
              0.6666666666666666,
              "#ed7953"
             ],
             [
              0.7777777777777778,
              "#fb9f3a"
             ],
             [
              0.8888888888888888,
              "#fdca26"
             ],
             [
              1.0,
              "#f0f921"
             ]
            ],
            "type": "surface"
           }
          ],
          "table": [
           {
            "cells": {
             "fill": {
              "color": "#EBF0F8"
             },
             "line": {
              "color": "white"
             }
            },
            "header": {
             "fill": {
              "color": "#C8D4E3"
             },
             "line": {
              "color": "white"
             }
            },
            "type": "table"
           }
          ]
         },
         "layout": {
          "annotationdefaults": {
           "arrowcolor": "#2a3f5f",
           "arrowhead": 0,
           "arrowwidth": 1
          },
          "autotypenumbers": "strict",
          "coloraxis": {
           "colorbar": {
            "outlinewidth": 0,
            "ticks": ""
           }
          },
          "colorscale": {
           "diverging": [
            [
             0,
             "#8e0152"
            ],
            [
             0.1,
             "#c51b7d"
            ],
            [
             0.2,
             "#de77ae"
            ],
            [
             0.3,
             "#f1b6da"
            ],
            [
             0.4,
             "#fde0ef"
            ],
            [
             0.5,
             "#f7f7f7"
            ],
            [
             0.6,
             "#e6f5d0"
            ],
            [
             0.7,
             "#b8e186"
            ],
            [
             0.8,
             "#7fbc41"
            ],
            [
             0.9,
             "#4d9221"
            ],
            [
             1,
             "#276419"
            ]
           ],
           "sequential": [
            [
             0.0,
             "#0d0887"
            ],
            [
             0.1111111111111111,
             "#46039f"
            ],
            [
             0.2222222222222222,
             "#7201a8"
            ],
            [
             0.3333333333333333,
             "#9c179e"
            ],
            [
             0.4444444444444444,
             "#bd3786"
            ],
            [
             0.5555555555555556,
             "#d8576b"
            ],
            [
             0.6666666666666666,
             "#ed7953"
            ],
            [
             0.7777777777777778,
             "#fb9f3a"
            ],
            [
             0.8888888888888888,
             "#fdca26"
            ],
            [
             1.0,
             "#f0f921"
            ]
           ],
           "sequentialminus": [
            [
             0.0,
             "#0d0887"
            ],
            [
             0.1111111111111111,
             "#46039f"
            ],
            [
             0.2222222222222222,
             "#7201a8"
            ],
            [
             0.3333333333333333,
             "#9c179e"
            ],
            [
             0.4444444444444444,
             "#bd3786"
            ],
            [
             0.5555555555555556,
             "#d8576b"
            ],
            [
             0.6666666666666666,
             "#ed7953"
            ],
            [
             0.7777777777777778,
             "#fb9f3a"
            ],
            [
             0.8888888888888888,
             "#fdca26"
            ],
            [
             1.0,
             "#f0f921"
            ]
           ]
          },
          "colorway": [
           "#636efa",
           "#EF553B",
           "#00cc96",
           "#ab63fa",
           "#FFA15A",
           "#19d3f3",
           "#FF6692",
           "#B6E880",
           "#FF97FF",
           "#FECB52"
          ],
          "font": {
           "color": "#2a3f5f"
          },
          "geo": {
           "bgcolor": "white",
           "lakecolor": "white",
           "landcolor": "#E5ECF6",
           "showlakes": true,
           "showland": true,
           "subunitcolor": "white"
          },
          "hoverlabel": {
           "align": "left"
          },
          "hovermode": "closest",
          "mapbox": {
           "style": "light"
          },
          "paper_bgcolor": "white",
          "plot_bgcolor": "#E5ECF6",
          "polar": {
           "angularaxis": {
            "gridcolor": "white",
            "linecolor": "white",
            "ticks": ""
           },
           "bgcolor": "#E5ECF6",
           "radialaxis": {
            "gridcolor": "white",
            "linecolor": "white",
            "ticks": ""
           }
          },
          "scene": {
           "xaxis": {
            "backgroundcolor": "#E5ECF6",
            "gridcolor": "white",
            "gridwidth": 2,
            "linecolor": "white",
            "showbackground": true,
            "ticks": "",
            "zerolinecolor": "white"
           },
           "yaxis": {
            "backgroundcolor": "#E5ECF6",
            "gridcolor": "white",
            "gridwidth": 2,
            "linecolor": "white",
            "showbackground": true,
            "ticks": "",
            "zerolinecolor": "white"
           },
           "zaxis": {
            "backgroundcolor": "#E5ECF6",
            "gridcolor": "white",
            "gridwidth": 2,
            "linecolor": "white",
            "showbackground": true,
            "ticks": "",
            "zerolinecolor": "white"
           }
          },
          "shapedefaults": {
           "line": {
            "color": "#2a3f5f"
           }
          },
          "ternary": {
           "aaxis": {
            "gridcolor": "white",
            "linecolor": "white",
            "ticks": ""
           },
           "baxis": {
            "gridcolor": "white",
            "linecolor": "white",
            "ticks": ""
           },
           "bgcolor": "#E5ECF6",
           "caxis": {
            "gridcolor": "white",
            "linecolor": "white",
            "ticks": ""
           }
          },
          "title": {
           "x": 0.05
          },
          "xaxis": {
           "automargin": true,
           "gridcolor": "white",
           "linecolor": "white",
           "ticks": "",
           "title": {
            "standoff": 15
           },
           "zerolinecolor": "white",
           "zerolinewidth": 2
          },
          "yaxis": {
           "automargin": true,
           "gridcolor": "white",
           "linecolor": "white",
           "ticks": "",
           "title": {
            "standoff": 15
           },
           "zerolinecolor": "white",
           "zerolinewidth": 2
          }
         }
        },
        "title": {
         "text": "Blackjack Strategy - Blackjack Optimal Strategy (Partially Converged)"
        },
        "xaxis": {
         "title": {
          "text": "Player Total"
         }
        },
        "yaxis": {
         "title": {
          "text": "Dealer Upcard"
         }
        }
       }
      },
      "text/html": [
       "<div>                            <div id=\"b8eeae63-2e4b-4670-a7a5-3b7c64037ea8\" class=\"plotly-graph-div\" style=\"height:525px; width:100%;\"></div>            <script type=\"text/javascript\">                require([\"plotly\"], function(Plotly) {                    window.PLOTLYENV=window.PLOTLYENV || {};                                    if (document.getElementById(\"b8eeae63-2e4b-4670-a7a5-3b7c64037ea8\")) {                    Plotly.newPlot(                        \"b8eeae63-2e4b-4670-a7a5-3b7c64037ea8\",                        [{\"colorscale\":[[0.0,\"#cccccc\"],[1.0,\"#eb7632\"]],\"hoverinfo\":\"text\",\"hovertext\":[[\"Player Total: 4<br>Dealer Upcard: 2<br>Action: Hit\",\"Player Total: 5<br>Dealer Upcard: 2<br>Action: Hit\",\"Player Total: 6<br>Dealer Upcard: 2<br>Action: Stick\",\"Player Total: 7<br>Dealer Upcard: 2<br>Action: Hit\",\"Player Total: 8<br>Dealer Upcard: 2<br>Action: Hit\",\"Player Total: 9<br>Dealer Upcard: 2<br>Action: Hit\",\"Player Total: 10<br>Dealer Upcard: 2<br>Action: Hit\",\"Player Total: 11<br>Dealer Upcard: 2<br>Action: Hit\",\"Player Total: 12<br>Dealer Upcard: 2<br>Action: Hit\",\"Player Total: 13<br>Dealer Upcard: 2<br>Action: Stick\",\"Player Total: 14<br>Dealer Upcard: 2<br>Action: Stick\",\"Player Total: 15<br>Dealer Upcard: 2<br>Action: Stick\",\"Player Total: 16<br>Dealer Upcard: 2<br>Action: Stick\",\"Player Total: 17<br>Dealer Upcard: 2<br>Action: Stick\",\"Player Total: 18<br>Dealer Upcard: 2<br>Action: Stick\",\"Player Total: 19<br>Dealer Upcard: 2<br>Action: Stick\",\"Player Total: 20<br>Dealer Upcard: 2<br>Action: Stick\",\"Player Total: 21<br>Dealer Upcard: 2<br>Action: Stick\"],[\"Player Total: 4<br>Dealer Upcard: 3<br>Action: Hit\",\"Player Total: 5<br>Dealer Upcard: 3<br>Action: Stick\",\"Player Total: 6<br>Dealer Upcard: 3<br>Action: Hit\",\"Player Total: 7<br>Dealer Upcard: 3<br>Action: Stick\",\"Player Total: 8<br>Dealer Upcard: 3<br>Action: Hit\",\"Player Total: 9<br>Dealer Upcard: 3<br>Action: Hit\",\"Player Total: 10<br>Dealer Upcard: 3<br>Action: Hit\",\"Player Total: 11<br>Dealer Upcard: 3<br>Action: Hit\",\"Player Total: 12<br>Dealer Upcard: 3<br>Action: Stick\",\"Player Total: 13<br>Dealer Upcard: 3<br>Action: Stick\",\"Player Total: 14<br>Dealer Upcard: 3<br>Action: Stick\",\"Player Total: 15<br>Dealer Upcard: 3<br>Action: Stick\",\"Player Total: 16<br>Dealer Upcard: 3<br>Action: Stick\",\"Player Total: 17<br>Dealer Upcard: 3<br>Action: Stick\",\"Player Total: 18<br>Dealer Upcard: 3<br>Action: Stick\",\"Player Total: 19<br>Dealer Upcard: 3<br>Action: Stick\",\"Player Total: 20<br>Dealer Upcard: 3<br>Action: Stick\",\"Player Total: 21<br>Dealer Upcard: 3<br>Action: Stick\"],[\"Player Total: 4<br>Dealer Upcard: 4<br>Action: Hit\",\"Player Total: 5<br>Dealer Upcard: 4<br>Action: Hit\",\"Player Total: 6<br>Dealer Upcard: 4<br>Action: Hit\",\"Player Total: 7<br>Dealer Upcard: 4<br>Action: Hit\",\"Player Total: 8<br>Dealer Upcard: 4<br>Action: Stick\",\"Player Total: 9<br>Dealer Upcard: 4<br>Action: Hit\",\"Player Total: 10<br>Dealer Upcard: 4<br>Action: Hit\",\"Player Total: 11<br>Dealer Upcard: 4<br>Action: Hit\",\"Player Total: 12<br>Dealer Upcard: 4<br>Action: Stick\",\"Player Total: 13<br>Dealer Upcard: 4<br>Action: Stick\",\"Player Total: 14<br>Dealer Upcard: 4<br>Action: Stick\",\"Player Total: 15<br>Dealer Upcard: 4<br>Action: Stick\",\"Player Total: 16<br>Dealer Upcard: 4<br>Action: Stick\",\"Player Total: 17<br>Dealer Upcard: 4<br>Action: Stick\",\"Player Total: 18<br>Dealer Upcard: 4<br>Action: Stick\",\"Player Total: 19<br>Dealer Upcard: 4<br>Action: Stick\",\"Player Total: 20<br>Dealer Upcard: 4<br>Action: Stick\",\"Player Total: 21<br>Dealer Upcard: 4<br>Action: Stick\"],[\"Player Total: 4<br>Dealer Upcard: 5<br>Action: Hit\",\"Player Total: 5<br>Dealer Upcard: 5<br>Action: Stick\",\"Player Total: 6<br>Dealer Upcard: 5<br>Action: Hit\",\"Player Total: 7<br>Dealer Upcard: 5<br>Action: Hit\",\"Player Total: 8<br>Dealer Upcard: 5<br>Action: Stick\",\"Player Total: 9<br>Dealer Upcard: 5<br>Action: Hit\",\"Player Total: 10<br>Dealer Upcard: 5<br>Action: Hit\",\"Player Total: 11<br>Dealer Upcard: 5<br>Action: Hit\",\"Player Total: 12<br>Dealer Upcard: 5<br>Action: Hit\",\"Player Total: 13<br>Dealer Upcard: 5<br>Action: Stick\",\"Player Total: 14<br>Dealer Upcard: 5<br>Action: Stick\",\"Player Total: 15<br>Dealer Upcard: 5<br>Action: Stick\",\"Player Total: 16<br>Dealer Upcard: 5<br>Action: Stick\",\"Player Total: 17<br>Dealer Upcard: 5<br>Action: Stick\",\"Player Total: 18<br>Dealer Upcard: 5<br>Action: Stick\",\"Player Total: 19<br>Dealer Upcard: 5<br>Action: Stick\",\"Player Total: 20<br>Dealer Upcard: 5<br>Action: Stick\",\"Player Total: 21<br>Dealer Upcard: 5<br>Action: Stick\"],[\"Player Total: 4<br>Dealer Upcard: 6<br>Action: Stick\",\"Player Total: 5<br>Dealer Upcard: 6<br>Action: Stick\",\"Player Total: 6<br>Dealer Upcard: 6<br>Action: Stick\",\"Player Total: 7<br>Dealer Upcard: 6<br>Action: Hit\",\"Player Total: 8<br>Dealer Upcard: 6<br>Action: Hit\",\"Player Total: 9<br>Dealer Upcard: 6<br>Action: Hit\",\"Player Total: 10<br>Dealer Upcard: 6<br>Action: Hit\",\"Player Total: 11<br>Dealer Upcard: 6<br>Action: Hit\",\"Player Total: 12<br>Dealer Upcard: 6<br>Action: Stick\",\"Player Total: 13<br>Dealer Upcard: 6<br>Action: Stick\",\"Player Total: 14<br>Dealer Upcard: 6<br>Action: Stick\",\"Player Total: 15<br>Dealer Upcard: 6<br>Action: Stick\",\"Player Total: 16<br>Dealer Upcard: 6<br>Action: Stick\",\"Player Total: 17<br>Dealer Upcard: 6<br>Action: Stick\",\"Player Total: 18<br>Dealer Upcard: 6<br>Action: Stick\",\"Player Total: 19<br>Dealer Upcard: 6<br>Action: Stick\",\"Player Total: 20<br>Dealer Upcard: 6<br>Action: Stick\",\"Player Total: 21<br>Dealer Upcard: 6<br>Action: Stick\"],[\"Player Total: 4<br>Dealer Upcard: 7<br>Action: Hit\",\"Player Total: 5<br>Dealer Upcard: 7<br>Action: Hit\",\"Player Total: 6<br>Dealer Upcard: 7<br>Action: Hit\",\"Player Total: 7<br>Dealer Upcard: 7<br>Action: Hit\",\"Player Total: 8<br>Dealer Upcard: 7<br>Action: Hit\",\"Player Total: 9<br>Dealer Upcard: 7<br>Action: Hit\",\"Player Total: 10<br>Dealer Upcard: 7<br>Action: Hit\",\"Player Total: 11<br>Dealer Upcard: 7<br>Action: Hit\",\"Player Total: 12<br>Dealer Upcard: 7<br>Action: Hit\",\"Player Total: 13<br>Dealer Upcard: 7<br>Action: Hit\",\"Player Total: 14<br>Dealer Upcard: 7<br>Action: Hit\",\"Player Total: 15<br>Dealer Upcard: 7<br>Action: Hit\",\"Player Total: 16<br>Dealer Upcard: 7<br>Action: Stick\",\"Player Total: 17<br>Dealer Upcard: 7<br>Action: Stick\",\"Player Total: 18<br>Dealer Upcard: 7<br>Action: Stick\",\"Player Total: 19<br>Dealer Upcard: 7<br>Action: Stick\",\"Player Total: 20<br>Dealer Upcard: 7<br>Action: Stick\",\"Player Total: 21<br>Dealer Upcard: 7<br>Action: Stick\"],[\"Player Total: 4<br>Dealer Upcard: 8<br>Action: Hit\",\"Player Total: 5<br>Dealer Upcard: 8<br>Action: Hit\",\"Player Total: 6<br>Dealer Upcard: 8<br>Action: Hit\",\"Player Total: 7<br>Dealer Upcard: 8<br>Action: Hit\",\"Player Total: 8<br>Dealer Upcard: 8<br>Action: Hit\",\"Player Total: 9<br>Dealer Upcard: 8<br>Action: Hit\",\"Player Total: 10<br>Dealer Upcard: 8<br>Action: Hit\",\"Player Total: 11<br>Dealer Upcard: 8<br>Action: Hit\",\"Player Total: 12<br>Dealer Upcard: 8<br>Action: Hit\",\"Player Total: 13<br>Dealer Upcard: 8<br>Action: Hit\",\"Player Total: 14<br>Dealer Upcard: 8<br>Action: Hit\",\"Player Total: 15<br>Dealer Upcard: 8<br>Action: Hit\",\"Player Total: 16<br>Dealer Upcard: 8<br>Action: Stick\",\"Player Total: 17<br>Dealer Upcard: 8<br>Action: Stick\",\"Player Total: 18<br>Dealer Upcard: 8<br>Action: Stick\",\"Player Total: 19<br>Dealer Upcard: 8<br>Action: Stick\",\"Player Total: 20<br>Dealer Upcard: 8<br>Action: Stick\",\"Player Total: 21<br>Dealer Upcard: 8<br>Action: Stick\"],[\"Player Total: 4<br>Dealer Upcard: 9<br>Action: Stick\",\"Player Total: 5<br>Dealer Upcard: 9<br>Action: Stick\",\"Player Total: 6<br>Dealer Upcard: 9<br>Action: Hit\",\"Player Total: 7<br>Dealer Upcard: 9<br>Action: Stick\",\"Player Total: 8<br>Dealer Upcard: 9<br>Action: Stick\",\"Player Total: 9<br>Dealer Upcard: 9<br>Action: Hit\",\"Player Total: 10<br>Dealer Upcard: 9<br>Action: Hit\",\"Player Total: 11<br>Dealer Upcard: 9<br>Action: Hit\",\"Player Total: 12<br>Dealer Upcard: 9<br>Action: Hit\",\"Player Total: 13<br>Dealer Upcard: 9<br>Action: Hit\",\"Player Total: 14<br>Dealer Upcard: 9<br>Action: Hit\",\"Player Total: 15<br>Dealer Upcard: 9<br>Action: Stick\",\"Player Total: 16<br>Dealer Upcard: 9<br>Action: Hit\",\"Player Total: 17<br>Dealer Upcard: 9<br>Action: Stick\",\"Player Total: 18<br>Dealer Upcard: 9<br>Action: Stick\",\"Player Total: 19<br>Dealer Upcard: 9<br>Action: Stick\",\"Player Total: 20<br>Dealer Upcard: 9<br>Action: Stick\",\"Player Total: 21<br>Dealer Upcard: 9<br>Action: Stick\"],[\"Player Total: 4<br>Dealer Upcard: 10<br>Action: Hit\",\"Player Total: 5<br>Dealer Upcard: 10<br>Action: Hit\",\"Player Total: 6<br>Dealer Upcard: 10<br>Action: Stick\",\"Player Total: 7<br>Dealer Upcard: 10<br>Action: Hit\",\"Player Total: 8<br>Dealer Upcard: 10<br>Action: Hit\",\"Player Total: 9<br>Dealer Upcard: 10<br>Action: Hit\",\"Player Total: 10<br>Dealer Upcard: 10<br>Action: Hit\",\"Player Total: 11<br>Dealer Upcard: 10<br>Action: Hit\",\"Player Total: 12<br>Dealer Upcard: 10<br>Action: Hit\",\"Player Total: 13<br>Dealer Upcard: 10<br>Action: Hit\",\"Player Total: 14<br>Dealer Upcard: 10<br>Action: Hit\",\"Player Total: 15<br>Dealer Upcard: 10<br>Action: Hit\",\"Player Total: 16<br>Dealer Upcard: 10<br>Action: Stick\",\"Player Total: 17<br>Dealer Upcard: 10<br>Action: Stick\",\"Player Total: 18<br>Dealer Upcard: 10<br>Action: Stick\",\"Player Total: 19<br>Dealer Upcard: 10<br>Action: Stick\",\"Player Total: 20<br>Dealer Upcard: 10<br>Action: Stick\",\"Player Total: 21<br>Dealer Upcard: 10<br>Action: Stick\"],[\"Player Total: 4<br>Dealer Upcard: 11<br>Action: Hit\",\"Player Total: 5<br>Dealer Upcard: 11<br>Action: Stick\",\"Player Total: 6<br>Dealer Upcard: 11<br>Action: Hit\",\"Player Total: 7<br>Dealer Upcard: 11<br>Action: Hit\",\"Player Total: 8<br>Dealer Upcard: 11<br>Action: Hit\",\"Player Total: 9<br>Dealer Upcard: 11<br>Action: Hit\",\"Player Total: 10<br>Dealer Upcard: 11<br>Action: Hit\",\"Player Total: 11<br>Dealer Upcard: 11<br>Action: Hit\",\"Player Total: 12<br>Dealer Upcard: 11<br>Action: Hit\",\"Player Total: 13<br>Dealer Upcard: 11<br>Action: Hit\",\"Player Total: 14<br>Dealer Upcard: 11<br>Action: Hit\",\"Player Total: 15<br>Dealer Upcard: 11<br>Action: Hit\",\"Player Total: 16<br>Dealer Upcard: 11<br>Action: Hit\",\"Player Total: 17<br>Dealer Upcard: 11<br>Action: Stick\",\"Player Total: 18<br>Dealer Upcard: 11<br>Action: Stick\",\"Player Total: 19<br>Dealer Upcard: 11<br>Action: Stick\",\"Player Total: 20<br>Dealer Upcard: 11<br>Action: Stick\",\"Player Total: 21<br>Dealer Upcard: 11<br>Action: Stick\"]],\"showscale\":false,\"x\":[4,5,6,7,8,9,10,11,12,13,14,15,16,17,18,19,20,21],\"xgap\":4,\"y\":[2,3,4,5,6,7,8,9,10,11],\"ygap\":4,\"z\":[[1,1,0,1,1,1,1,1,1,0,0,0,0,0,0,0,0,0],[1,0,1,0,1,1,1,1,0,0,0,0,0,0,0,0,0,0],[1,1,1,1,0,1,1,1,0,0,0,0,0,0,0,0,0,0],[1,0,1,1,0,1,1,1,1,0,0,0,0,0,0,0,0,0],[0,0,0,1,1,1,1,1,0,0,0,0,0,0,0,0,0,0],[1,1,1,1,1,1,1,1,1,1,1,1,0,0,0,0,0,0],[1,1,1,1,1,1,1,1,1,1,1,1,0,0,0,0,0,0],[0,0,1,0,0,1,1,1,1,1,1,0,1,0,0,0,0,0],[1,1,0,1,1,1,1,1,1,1,1,1,0,0,0,0,0,0],[1,0,1,1,1,1,1,1,1,1,1,1,1,0,0,0,0,0]],\"zmax\":1,\"zmin\":0,\"type\":\"heatmap\"}],                        {\"template\":{\"data\":{\"histogram2dcontour\":[{\"type\":\"histogram2dcontour\",\"colorbar\":{\"outlinewidth\":0,\"ticks\":\"\"},\"colorscale\":[[0.0,\"#0d0887\"],[0.1111111111111111,\"#46039f\"],[0.2222222222222222,\"#7201a8\"],[0.3333333333333333,\"#9c179e\"],[0.4444444444444444,\"#bd3786\"],[0.5555555555555556,\"#d8576b\"],[0.6666666666666666,\"#ed7953\"],[0.7777777777777778,\"#fb9f3a\"],[0.8888888888888888,\"#fdca26\"],[1.0,\"#f0f921\"]]}],\"choropleth\":[{\"type\":\"choropleth\",\"colorbar\":{\"outlinewidth\":0,\"ticks\":\"\"}}],\"histogram2d\":[{\"type\":\"histogram2d\",\"colorbar\":{\"outlinewidth\":0,\"ticks\":\"\"},\"colorscale\":[[0.0,\"#0d0887\"],[0.1111111111111111,\"#46039f\"],[0.2222222222222222,\"#7201a8\"],[0.3333333333333333,\"#9c179e\"],[0.4444444444444444,\"#bd3786\"],[0.5555555555555556,\"#d8576b\"],[0.6666666666666666,\"#ed7953\"],[0.7777777777777778,\"#fb9f3a\"],[0.8888888888888888,\"#fdca26\"],[1.0,\"#f0f921\"]]}],\"heatmap\":[{\"type\":\"heatmap\",\"colorbar\":{\"outlinewidth\":0,\"ticks\":\"\"},\"colorscale\":[[0.0,\"#0d0887\"],[0.1111111111111111,\"#46039f\"],[0.2222222222222222,\"#7201a8\"],[0.3333333333333333,\"#9c179e\"],[0.4444444444444444,\"#bd3786\"],[0.5555555555555556,\"#d8576b\"],[0.6666666666666666,\"#ed7953\"],[0.7777777777777778,\"#fb9f3a\"],[0.8888888888888888,\"#fdca26\"],[1.0,\"#f0f921\"]]}],\"heatmapgl\":[{\"type\":\"heatmapgl\",\"colorbar\":{\"outlinewidth\":0,\"ticks\":\"\"},\"colorscale\":[[0.0,\"#0d0887\"],[0.1111111111111111,\"#46039f\"],[0.2222222222222222,\"#7201a8\"],[0.3333333333333333,\"#9c179e\"],[0.4444444444444444,\"#bd3786\"],[0.5555555555555556,\"#d8576b\"],[0.6666666666666666,\"#ed7953\"],[0.7777777777777778,\"#fb9f3a\"],[0.8888888888888888,\"#fdca26\"],[1.0,\"#f0f921\"]]}],\"contourcarpet\":[{\"type\":\"contourcarpet\",\"colorbar\":{\"outlinewidth\":0,\"ticks\":\"\"}}],\"contour\":[{\"type\":\"contour\",\"colorbar\":{\"outlinewidth\":0,\"ticks\":\"\"},\"colorscale\":[[0.0,\"#0d0887\"],[0.1111111111111111,\"#46039f\"],[0.2222222222222222,\"#7201a8\"],[0.3333333333333333,\"#9c179e\"],[0.4444444444444444,\"#bd3786\"],[0.5555555555555556,\"#d8576b\"],[0.6666666666666666,\"#ed7953\"],[0.7777777777777778,\"#fb9f3a\"],[0.8888888888888888,\"#fdca26\"],[1.0,\"#f0f921\"]]}],\"surface\":[{\"type\":\"surface\",\"colorbar\":{\"outlinewidth\":0,\"ticks\":\"\"},\"colorscale\":[[0.0,\"#0d0887\"],[0.1111111111111111,\"#46039f\"],[0.2222222222222222,\"#7201a8\"],[0.3333333333333333,\"#9c179e\"],[0.4444444444444444,\"#bd3786\"],[0.5555555555555556,\"#d8576b\"],[0.6666666666666666,\"#ed7953\"],[0.7777777777777778,\"#fb9f3a\"],[0.8888888888888888,\"#fdca26\"],[1.0,\"#f0f921\"]]}],\"mesh3d\":[{\"type\":\"mesh3d\",\"colorbar\":{\"outlinewidth\":0,\"ticks\":\"\"}}],\"scatter\":[{\"fillpattern\":{\"fillmode\":\"overlay\",\"size\":10,\"solidity\":0.2},\"type\":\"scatter\"}],\"parcoords\":[{\"type\":\"parcoords\",\"line\":{\"colorbar\":{\"outlinewidth\":0,\"ticks\":\"\"}}}],\"scatterpolargl\":[{\"type\":\"scatterpolargl\",\"marker\":{\"colorbar\":{\"outlinewidth\":0,\"ticks\":\"\"}}}],\"bar\":[{\"error_x\":{\"color\":\"#2a3f5f\"},\"error_y\":{\"color\":\"#2a3f5f\"},\"marker\":{\"line\":{\"color\":\"#E5ECF6\",\"width\":0.5},\"pattern\":{\"fillmode\":\"overlay\",\"size\":10,\"solidity\":0.2}},\"type\":\"bar\"}],\"scattergeo\":[{\"type\":\"scattergeo\",\"marker\":{\"colorbar\":{\"outlinewidth\":0,\"ticks\":\"\"}}}],\"scatterpolar\":[{\"type\":\"scatterpolar\",\"marker\":{\"colorbar\":{\"outlinewidth\":0,\"ticks\":\"\"}}}],\"histogram\":[{\"marker\":{\"pattern\":{\"fillmode\":\"overlay\",\"size\":10,\"solidity\":0.2}},\"type\":\"histogram\"}],\"scattergl\":[{\"type\":\"scattergl\",\"marker\":{\"colorbar\":{\"outlinewidth\":0,\"ticks\":\"\"}}}],\"scatter3d\":[{\"type\":\"scatter3d\",\"line\":{\"colorbar\":{\"outlinewidth\":0,\"ticks\":\"\"}},\"marker\":{\"colorbar\":{\"outlinewidth\":0,\"ticks\":\"\"}}}],\"scattermapbox\":[{\"type\":\"scattermapbox\",\"marker\":{\"colorbar\":{\"outlinewidth\":0,\"ticks\":\"\"}}}],\"scatterternary\":[{\"type\":\"scatterternary\",\"marker\":{\"colorbar\":{\"outlinewidth\":0,\"ticks\":\"\"}}}],\"scattercarpet\":[{\"type\":\"scattercarpet\",\"marker\":{\"colorbar\":{\"outlinewidth\":0,\"ticks\":\"\"}}}],\"carpet\":[{\"aaxis\":{\"endlinecolor\":\"#2a3f5f\",\"gridcolor\":\"white\",\"linecolor\":\"white\",\"minorgridcolor\":\"white\",\"startlinecolor\":\"#2a3f5f\"},\"baxis\":{\"endlinecolor\":\"#2a3f5f\",\"gridcolor\":\"white\",\"linecolor\":\"white\",\"minorgridcolor\":\"white\",\"startlinecolor\":\"#2a3f5f\"},\"type\":\"carpet\"}],\"table\":[{\"cells\":{\"fill\":{\"color\":\"#EBF0F8\"},\"line\":{\"color\":\"white\"}},\"header\":{\"fill\":{\"color\":\"#C8D4E3\"},\"line\":{\"color\":\"white\"}},\"type\":\"table\"}],\"barpolar\":[{\"marker\":{\"line\":{\"color\":\"#E5ECF6\",\"width\":0.5},\"pattern\":{\"fillmode\":\"overlay\",\"size\":10,\"solidity\":0.2}},\"type\":\"barpolar\"}],\"pie\":[{\"automargin\":true,\"type\":\"pie\"}]},\"layout\":{\"autotypenumbers\":\"strict\",\"colorway\":[\"#636efa\",\"#EF553B\",\"#00cc96\",\"#ab63fa\",\"#FFA15A\",\"#19d3f3\",\"#FF6692\",\"#B6E880\",\"#FF97FF\",\"#FECB52\"],\"font\":{\"color\":\"#2a3f5f\"},\"hovermode\":\"closest\",\"hoverlabel\":{\"align\":\"left\"},\"paper_bgcolor\":\"white\",\"plot_bgcolor\":\"#E5ECF6\",\"polar\":{\"bgcolor\":\"#E5ECF6\",\"angularaxis\":{\"gridcolor\":\"white\",\"linecolor\":\"white\",\"ticks\":\"\"},\"radialaxis\":{\"gridcolor\":\"white\",\"linecolor\":\"white\",\"ticks\":\"\"}},\"ternary\":{\"bgcolor\":\"#E5ECF6\",\"aaxis\":{\"gridcolor\":\"white\",\"linecolor\":\"white\",\"ticks\":\"\"},\"baxis\":{\"gridcolor\":\"white\",\"linecolor\":\"white\",\"ticks\":\"\"},\"caxis\":{\"gridcolor\":\"white\",\"linecolor\":\"white\",\"ticks\":\"\"}},\"coloraxis\":{\"colorbar\":{\"outlinewidth\":0,\"ticks\":\"\"}},\"colorscale\":{\"sequential\":[[0.0,\"#0d0887\"],[0.1111111111111111,\"#46039f\"],[0.2222222222222222,\"#7201a8\"],[0.3333333333333333,\"#9c179e\"],[0.4444444444444444,\"#bd3786\"],[0.5555555555555556,\"#d8576b\"],[0.6666666666666666,\"#ed7953\"],[0.7777777777777778,\"#fb9f3a\"],[0.8888888888888888,\"#fdca26\"],[1.0,\"#f0f921\"]],\"sequentialminus\":[[0.0,\"#0d0887\"],[0.1111111111111111,\"#46039f\"],[0.2222222222222222,\"#7201a8\"],[0.3333333333333333,\"#9c179e\"],[0.4444444444444444,\"#bd3786\"],[0.5555555555555556,\"#d8576b\"],[0.6666666666666666,\"#ed7953\"],[0.7777777777777778,\"#fb9f3a\"],[0.8888888888888888,\"#fdca26\"],[1.0,\"#f0f921\"]],\"diverging\":[[0,\"#8e0152\"],[0.1,\"#c51b7d\"],[0.2,\"#de77ae\"],[0.3,\"#f1b6da\"],[0.4,\"#fde0ef\"],[0.5,\"#f7f7f7\"],[0.6,\"#e6f5d0\"],[0.7,\"#b8e186\"],[0.8,\"#7fbc41\"],[0.9,\"#4d9221\"],[1,\"#276419\"]]},\"xaxis\":{\"gridcolor\":\"white\",\"linecolor\":\"white\",\"ticks\":\"\",\"title\":{\"standoff\":15},\"zerolinecolor\":\"white\",\"automargin\":true,\"zerolinewidth\":2},\"yaxis\":{\"gridcolor\":\"white\",\"linecolor\":\"white\",\"ticks\":\"\",\"title\":{\"standoff\":15},\"zerolinecolor\":\"white\",\"automargin\":true,\"zerolinewidth\":2},\"scene\":{\"xaxis\":{\"backgroundcolor\":\"#E5ECF6\",\"gridcolor\":\"white\",\"linecolor\":\"white\",\"showbackground\":true,\"ticks\":\"\",\"zerolinecolor\":\"white\",\"gridwidth\":2},\"yaxis\":{\"backgroundcolor\":\"#E5ECF6\",\"gridcolor\":\"white\",\"linecolor\":\"white\",\"showbackground\":true,\"ticks\":\"\",\"zerolinecolor\":\"white\",\"gridwidth\":2},\"zaxis\":{\"backgroundcolor\":\"#E5ECF6\",\"gridcolor\":\"white\",\"linecolor\":\"white\",\"showbackground\":true,\"ticks\":\"\",\"zerolinecolor\":\"white\",\"gridwidth\":2}},\"shapedefaults\":{\"line\":{\"color\":\"#2a3f5f\"}},\"annotationdefaults\":{\"arrowcolor\":\"#2a3f5f\",\"arrowhead\":0,\"arrowwidth\":1},\"geo\":{\"bgcolor\":\"white\",\"landcolor\":\"#E5ECF6\",\"subunitcolor\":\"white\",\"showland\":true,\"showlakes\":true,\"lakecolor\":\"white\"},\"title\":{\"x\":0.05},\"mapbox\":{\"style\":\"light\"}}},\"title\":{\"text\":\"Blackjack Strategy - Blackjack Optimal Strategy (Partially Converged)\"},\"xaxis\":{\"title\":{\"text\":\"Player Total\"}},\"yaxis\":{\"title\":{\"text\":\"Dealer Upcard\"}},\"autosize\":true},                        {\"responsive\": true}                    ).then(function(){\n",
       "                            \n",
       "var gd = document.getElementById('b8eeae63-2e4b-4670-a7a5-3b7c64037ea8');\n",
       "var x = new MutationObserver(function (mutations, observer) {{\n",
       "        var display = window.getComputedStyle(gd).display;\n",
       "        if (!display || display === 'none') {{\n",
       "            console.log([gd, 'removed!']);\n",
       "            Plotly.purge(gd);\n",
       "            observer.disconnect();\n",
       "        }}\n",
       "}});\n",
       "\n",
       "// Listen for the removal of the full notebook cells\n",
       "var notebookContainer = gd.closest('#notebook-container');\n",
       "if (notebookContainer) {{\n",
       "    x.observe(notebookContainer, {childList: true});\n",
       "}}\n",
       "\n",
       "// Listen for the clearing of the current output cell\n",
       "var outputEl = gd.closest('.output');\n",
       "if (outputEl) {{\n",
       "    x.observe(outputEl, {childList: true});\n",
       "}}\n",
       "\n",
       "                        })                };                });            </script>        </div>"
      ]
     },
     "metadata": {},
     "output_type": "display_data"
    },
    {
     "data": {
      "application/vnd.plotly.v1+json": {
       "config": {
        "plotlyServerURL": "https://plot.ly"
       },
       "data": [
        {
         "type": "bar",
         "x": [
          -320.0,
          -284.6666666666667,
          -249.33333333333331,
          -214.0,
          -178.66666666666666,
          -143.33333333333331,
          -108.0,
          -72.66666666666666,
          -37.333333333333314,
          -2.0,
          33.33333333333337,
          68.66666666666669,
          104.0,
          139.33333333333337,
          174.66666666666669,
          210.0
         ],
         "y": [
          1,
          1,
          6,
          37,
          111,
          418,
          592,
          1108,
          892,
          967,
          475,
          276,
          83,
          27,
          6
         ]
        }
       ],
       "layout": {
        "shapes": [
         {
          "line": {
           "color": "Black",
           "dash": "dot",
           "width": 1.5
          },
          "type": "line",
          "x0": -26.742,
          "x1": -26.742,
          "y0": 0,
          "y1": 1108
         },
         {
          "line": {
           "color": "#cccccc",
           "width": 0.5
          },
          "type": "line",
          "x0": 0,
          "x1": 0,
          "y0": 0,
          "y1": 1108
         }
        ],
        "template": {
         "data": {
          "bar": [
           {
            "error_x": {
             "color": "#2a3f5f"
            },
            "error_y": {
             "color": "#2a3f5f"
            },
            "marker": {
             "line": {
              "color": "#E5ECF6",
              "width": 0.5
             },
             "pattern": {
              "fillmode": "overlay",
              "size": 10,
              "solidity": 0.2
             }
            },
            "type": "bar"
           }
          ],
          "barpolar": [
           {
            "marker": {
             "line": {
              "color": "#E5ECF6",
              "width": 0.5
             },
             "pattern": {
              "fillmode": "overlay",
              "size": 10,
              "solidity": 0.2
             }
            },
            "type": "barpolar"
           }
          ],
          "carpet": [
           {
            "aaxis": {
             "endlinecolor": "#2a3f5f",
             "gridcolor": "white",
             "linecolor": "white",
             "minorgridcolor": "white",
             "startlinecolor": "#2a3f5f"
            },
            "baxis": {
             "endlinecolor": "#2a3f5f",
             "gridcolor": "white",
             "linecolor": "white",
             "minorgridcolor": "white",
             "startlinecolor": "#2a3f5f"
            },
            "type": "carpet"
           }
          ],
          "choropleth": [
           {
            "colorbar": {
             "outlinewidth": 0,
             "ticks": ""
            },
            "type": "choropleth"
           }
          ],
          "contour": [
           {
            "colorbar": {
             "outlinewidth": 0,
             "ticks": ""
            },
            "colorscale": [
             [
              0.0,
              "#0d0887"
             ],
             [
              0.1111111111111111,
              "#46039f"
             ],
             [
              0.2222222222222222,
              "#7201a8"
             ],
             [
              0.3333333333333333,
              "#9c179e"
             ],
             [
              0.4444444444444444,
              "#bd3786"
             ],
             [
              0.5555555555555556,
              "#d8576b"
             ],
             [
              0.6666666666666666,
              "#ed7953"
             ],
             [
              0.7777777777777778,
              "#fb9f3a"
             ],
             [
              0.8888888888888888,
              "#fdca26"
             ],
             [
              1.0,
              "#f0f921"
             ]
            ],
            "type": "contour"
           }
          ],
          "contourcarpet": [
           {
            "colorbar": {
             "outlinewidth": 0,
             "ticks": ""
            },
            "type": "contourcarpet"
           }
          ],
          "heatmap": [
           {
            "colorbar": {
             "outlinewidth": 0,
             "ticks": ""
            },
            "colorscale": [
             [
              0.0,
              "#0d0887"
             ],
             [
              0.1111111111111111,
              "#46039f"
             ],
             [
              0.2222222222222222,
              "#7201a8"
             ],
             [
              0.3333333333333333,
              "#9c179e"
             ],
             [
              0.4444444444444444,
              "#bd3786"
             ],
             [
              0.5555555555555556,
              "#d8576b"
             ],
             [
              0.6666666666666666,
              "#ed7953"
             ],
             [
              0.7777777777777778,
              "#fb9f3a"
             ],
             [
              0.8888888888888888,
              "#fdca26"
             ],
             [
              1.0,
              "#f0f921"
             ]
            ],
            "type": "heatmap"
           }
          ],
          "heatmapgl": [
           {
            "colorbar": {
             "outlinewidth": 0,
             "ticks": ""
            },
            "colorscale": [
             [
              0.0,
              "#0d0887"
             ],
             [
              0.1111111111111111,
              "#46039f"
             ],
             [
              0.2222222222222222,
              "#7201a8"
             ],
             [
              0.3333333333333333,
              "#9c179e"
             ],
             [
              0.4444444444444444,
              "#bd3786"
             ],
             [
              0.5555555555555556,
              "#d8576b"
             ],
             [
              0.6666666666666666,
              "#ed7953"
             ],
             [
              0.7777777777777778,
              "#fb9f3a"
             ],
             [
              0.8888888888888888,
              "#fdca26"
             ],
             [
              1.0,
              "#f0f921"
             ]
            ],
            "type": "heatmapgl"
           }
          ],
          "histogram": [
           {
            "marker": {
             "pattern": {
              "fillmode": "overlay",
              "size": 10,
              "solidity": 0.2
             }
            },
            "type": "histogram"
           }
          ],
          "histogram2d": [
           {
            "colorbar": {
             "outlinewidth": 0,
             "ticks": ""
            },
            "colorscale": [
             [
              0.0,
              "#0d0887"
             ],
             [
              0.1111111111111111,
              "#46039f"
             ],
             [
              0.2222222222222222,
              "#7201a8"
             ],
             [
              0.3333333333333333,
              "#9c179e"
             ],
             [
              0.4444444444444444,
              "#bd3786"
             ],
             [
              0.5555555555555556,
              "#d8576b"
             ],
             [
              0.6666666666666666,
              "#ed7953"
             ],
             [
              0.7777777777777778,
              "#fb9f3a"
             ],
             [
              0.8888888888888888,
              "#fdca26"
             ],
             [
              1.0,
              "#f0f921"
             ]
            ],
            "type": "histogram2d"
           }
          ],
          "histogram2dcontour": [
           {
            "colorbar": {
             "outlinewidth": 0,
             "ticks": ""
            },
            "colorscale": [
             [
              0.0,
              "#0d0887"
             ],
             [
              0.1111111111111111,
              "#46039f"
             ],
             [
              0.2222222222222222,
              "#7201a8"
             ],
             [
              0.3333333333333333,
              "#9c179e"
             ],
             [
              0.4444444444444444,
              "#bd3786"
             ],
             [
              0.5555555555555556,
              "#d8576b"
             ],
             [
              0.6666666666666666,
              "#ed7953"
             ],
             [
              0.7777777777777778,
              "#fb9f3a"
             ],
             [
              0.8888888888888888,
              "#fdca26"
             ],
             [
              1.0,
              "#f0f921"
             ]
            ],
            "type": "histogram2dcontour"
           }
          ],
          "mesh3d": [
           {
            "colorbar": {
             "outlinewidth": 0,
             "ticks": ""
            },
            "type": "mesh3d"
           }
          ],
          "parcoords": [
           {
            "line": {
             "colorbar": {
              "outlinewidth": 0,
              "ticks": ""
             }
            },
            "type": "parcoords"
           }
          ],
          "pie": [
           {
            "automargin": true,
            "type": "pie"
           }
          ],
          "scatter": [
           {
            "fillpattern": {
             "fillmode": "overlay",
             "size": 10,
             "solidity": 0.2
            },
            "type": "scatter"
           }
          ],
          "scatter3d": [
           {
            "line": {
             "colorbar": {
              "outlinewidth": 0,
              "ticks": ""
             }
            },
            "marker": {
             "colorbar": {
              "outlinewidth": 0,
              "ticks": ""
             }
            },
            "type": "scatter3d"
           }
          ],
          "scattercarpet": [
           {
            "marker": {
             "colorbar": {
              "outlinewidth": 0,
              "ticks": ""
             }
            },
            "type": "scattercarpet"
           }
          ],
          "scattergeo": [
           {
            "marker": {
             "colorbar": {
              "outlinewidth": 0,
              "ticks": ""
             }
            },
            "type": "scattergeo"
           }
          ],
          "scattergl": [
           {
            "marker": {
             "colorbar": {
              "outlinewidth": 0,
              "ticks": ""
             }
            },
            "type": "scattergl"
           }
          ],
          "scattermapbox": [
           {
            "marker": {
             "colorbar": {
              "outlinewidth": 0,
              "ticks": ""
             }
            },
            "type": "scattermapbox"
           }
          ],
          "scatterpolar": [
           {
            "marker": {
             "colorbar": {
              "outlinewidth": 0,
              "ticks": ""
             }
            },
            "type": "scatterpolar"
           }
          ],
          "scatterpolargl": [
           {
            "marker": {
             "colorbar": {
              "outlinewidth": 0,
              "ticks": ""
             }
            },
            "type": "scatterpolargl"
           }
          ],
          "scatterternary": [
           {
            "marker": {
             "colorbar": {
              "outlinewidth": 0,
              "ticks": ""
             }
            },
            "type": "scatterternary"
           }
          ],
          "surface": [
           {
            "colorbar": {
             "outlinewidth": 0,
             "ticks": ""
            },
            "colorscale": [
             [
              0.0,
              "#0d0887"
             ],
             [
              0.1111111111111111,
              "#46039f"
             ],
             [
              0.2222222222222222,
              "#7201a8"
             ],
             [
              0.3333333333333333,
              "#9c179e"
             ],
             [
              0.4444444444444444,
              "#bd3786"
             ],
             [
              0.5555555555555556,
              "#d8576b"
             ],
             [
              0.6666666666666666,
              "#ed7953"
             ],
             [
              0.7777777777777778,
              "#fb9f3a"
             ],
             [
              0.8888888888888888,
              "#fdca26"
             ],
             [
              1.0,
              "#f0f921"
             ]
            ],
            "type": "surface"
           }
          ],
          "table": [
           {
            "cells": {
             "fill": {
              "color": "#EBF0F8"
             },
             "line": {
              "color": "white"
             }
            },
            "header": {
             "fill": {
              "color": "#C8D4E3"
             },
             "line": {
              "color": "white"
             }
            },
            "type": "table"
           }
          ]
         },
         "layout": {
          "annotationdefaults": {
           "arrowcolor": "#2a3f5f",
           "arrowhead": 0,
           "arrowwidth": 1
          },
          "autotypenumbers": "strict",
          "coloraxis": {
           "colorbar": {
            "outlinewidth": 0,
            "ticks": ""
           }
          },
          "colorscale": {
           "diverging": [
            [
             0,
             "#8e0152"
            ],
            [
             0.1,
             "#c51b7d"
            ],
            [
             0.2,
             "#de77ae"
            ],
            [
             0.3,
             "#f1b6da"
            ],
            [
             0.4,
             "#fde0ef"
            ],
            [
             0.5,
             "#f7f7f7"
            ],
            [
             0.6,
             "#e6f5d0"
            ],
            [
             0.7,
             "#b8e186"
            ],
            [
             0.8,
             "#7fbc41"
            ],
            [
             0.9,
             "#4d9221"
            ],
            [
             1,
             "#276419"
            ]
           ],
           "sequential": [
            [
             0.0,
             "#0d0887"
            ],
            [
             0.1111111111111111,
             "#46039f"
            ],
            [
             0.2222222222222222,
             "#7201a8"
            ],
            [
             0.3333333333333333,
             "#9c179e"
            ],
            [
             0.4444444444444444,
             "#bd3786"
            ],
            [
             0.5555555555555556,
             "#d8576b"
            ],
            [
             0.6666666666666666,
             "#ed7953"
            ],
            [
             0.7777777777777778,
             "#fb9f3a"
            ],
            [
             0.8888888888888888,
             "#fdca26"
            ],
            [
             1.0,
             "#f0f921"
            ]
           ],
           "sequentialminus": [
            [
             0.0,
             "#0d0887"
            ],
            [
             0.1111111111111111,
             "#46039f"
            ],
            [
             0.2222222222222222,
             "#7201a8"
            ],
            [
             0.3333333333333333,
             "#9c179e"
            ],
            [
             0.4444444444444444,
             "#bd3786"
            ],
            [
             0.5555555555555556,
             "#d8576b"
            ],
            [
             0.6666666666666666,
             "#ed7953"
            ],
            [
             0.7777777777777778,
             "#fb9f3a"
            ],
            [
             0.8888888888888888,
             "#fdca26"
            ],
            [
             1.0,
             "#f0f921"
            ]
           ]
          },
          "colorway": [
           "#636efa",
           "#EF553B",
           "#00cc96",
           "#ab63fa",
           "#FFA15A",
           "#19d3f3",
           "#FF6692",
           "#B6E880",
           "#FF97FF",
           "#FECB52"
          ],
          "font": {
           "color": "#2a3f5f"
          },
          "geo": {
           "bgcolor": "white",
           "lakecolor": "white",
           "landcolor": "#E5ECF6",
           "showlakes": true,
           "showland": true,
           "subunitcolor": "white"
          },
          "hoverlabel": {
           "align": "left"
          },
          "hovermode": "closest",
          "mapbox": {
           "style": "light"
          },
          "paper_bgcolor": "white",
          "plot_bgcolor": "#E5ECF6",
          "polar": {
           "angularaxis": {
            "gridcolor": "white",
            "linecolor": "white",
            "ticks": ""
           },
           "bgcolor": "#E5ECF6",
           "radialaxis": {
            "gridcolor": "white",
            "linecolor": "white",
            "ticks": ""
           }
          },
          "scene": {
           "xaxis": {
            "backgroundcolor": "#E5ECF6",
            "gridcolor": "white",
            "gridwidth": 2,
            "linecolor": "white",
            "showbackground": true,
            "ticks": "",
            "zerolinecolor": "white"
           },
           "yaxis": {
            "backgroundcolor": "#E5ECF6",
            "gridcolor": "white",
            "gridwidth": 2,
            "linecolor": "white",
            "showbackground": true,
            "ticks": "",
            "zerolinecolor": "white"
           },
           "zaxis": {
            "backgroundcolor": "#E5ECF6",
            "gridcolor": "white",
            "gridwidth": 2,
            "linecolor": "white",
            "showbackground": true,
            "ticks": "",
            "zerolinecolor": "white"
           }
          },
          "shapedefaults": {
           "line": {
            "color": "#2a3f5f"
           }
          },
          "ternary": {
           "aaxis": {
            "gridcolor": "white",
            "linecolor": "white",
            "ticks": ""
           },
           "baxis": {
            "gridcolor": "white",
            "linecolor": "white",
            "ticks": ""
           },
           "bgcolor": "#E5ECF6",
           "caxis": {
            "gridcolor": "white",
            "linecolor": "white",
            "ticks": ""
           }
          },
          "title": {
           "x": 0.05
          },
          "xaxis": {
           "automargin": true,
           "gridcolor": "white",
           "linecolor": "white",
           "ticks": "",
           "title": {
            "standoff": 15
           },
           "zerolinecolor": "white",
           "zerolinewidth": 2
          },
          "yaxis": {
           "automargin": true,
           "gridcolor": "white",
           "linecolor": "white",
           "ticks": "",
           "title": {
            "standoff": 15
           },
           "zerolinecolor": "white",
           "zerolinewidth": 2
          }
         }
        },
        "title": {
         "text": "Total Rewards Distribution"
        },
        "xaxis": {
         "range": [
          -500,
          500
         ],
         "title": {
          "text": "Reward"
         }
        },
        "yaxis": {
         "title": {
          "text": "Count"
         }
        }
       }
      },
      "text/html": [
       "<div>                            <div id=\"1b880089-fa2f-484e-88eb-7493643a56d6\" class=\"plotly-graph-div\" style=\"height:525px; width:100%;\"></div>            <script type=\"text/javascript\">                require([\"plotly\"], function(Plotly) {                    window.PLOTLYENV=window.PLOTLYENV || {};                                    if (document.getElementById(\"1b880089-fa2f-484e-88eb-7493643a56d6\")) {                    Plotly.newPlot(                        \"1b880089-fa2f-484e-88eb-7493643a56d6\",                        [{\"x\":[-320.0,-284.6666666666667,-249.33333333333331,-214.0,-178.66666666666666,-143.33333333333331,-108.0,-72.66666666666666,-37.333333333333314,-2.0,33.33333333333337,68.66666666666669,104.0,139.33333333333337,174.66666666666669,210.0],\"y\":[1,1,6,37,111,418,592,1108,892,967,475,276,83,27,6],\"type\":\"bar\"}],                        {\"template\":{\"data\":{\"histogram2dcontour\":[{\"type\":\"histogram2dcontour\",\"colorbar\":{\"outlinewidth\":0,\"ticks\":\"\"},\"colorscale\":[[0.0,\"#0d0887\"],[0.1111111111111111,\"#46039f\"],[0.2222222222222222,\"#7201a8\"],[0.3333333333333333,\"#9c179e\"],[0.4444444444444444,\"#bd3786\"],[0.5555555555555556,\"#d8576b\"],[0.6666666666666666,\"#ed7953\"],[0.7777777777777778,\"#fb9f3a\"],[0.8888888888888888,\"#fdca26\"],[1.0,\"#f0f921\"]]}],\"choropleth\":[{\"type\":\"choropleth\",\"colorbar\":{\"outlinewidth\":0,\"ticks\":\"\"}}],\"histogram2d\":[{\"type\":\"histogram2d\",\"colorbar\":{\"outlinewidth\":0,\"ticks\":\"\"},\"colorscale\":[[0.0,\"#0d0887\"],[0.1111111111111111,\"#46039f\"],[0.2222222222222222,\"#7201a8\"],[0.3333333333333333,\"#9c179e\"],[0.4444444444444444,\"#bd3786\"],[0.5555555555555556,\"#d8576b\"],[0.6666666666666666,\"#ed7953\"],[0.7777777777777778,\"#fb9f3a\"],[0.8888888888888888,\"#fdca26\"],[1.0,\"#f0f921\"]]}],\"heatmap\":[{\"type\":\"heatmap\",\"colorbar\":{\"outlinewidth\":0,\"ticks\":\"\"},\"colorscale\":[[0.0,\"#0d0887\"],[0.1111111111111111,\"#46039f\"],[0.2222222222222222,\"#7201a8\"],[0.3333333333333333,\"#9c179e\"],[0.4444444444444444,\"#bd3786\"],[0.5555555555555556,\"#d8576b\"],[0.6666666666666666,\"#ed7953\"],[0.7777777777777778,\"#fb9f3a\"],[0.8888888888888888,\"#fdca26\"],[1.0,\"#f0f921\"]]}],\"heatmapgl\":[{\"type\":\"heatmapgl\",\"colorbar\":{\"outlinewidth\":0,\"ticks\":\"\"},\"colorscale\":[[0.0,\"#0d0887\"],[0.1111111111111111,\"#46039f\"],[0.2222222222222222,\"#7201a8\"],[0.3333333333333333,\"#9c179e\"],[0.4444444444444444,\"#bd3786\"],[0.5555555555555556,\"#d8576b\"],[0.6666666666666666,\"#ed7953\"],[0.7777777777777778,\"#fb9f3a\"],[0.8888888888888888,\"#fdca26\"],[1.0,\"#f0f921\"]]}],\"contourcarpet\":[{\"type\":\"contourcarpet\",\"colorbar\":{\"outlinewidth\":0,\"ticks\":\"\"}}],\"contour\":[{\"type\":\"contour\",\"colorbar\":{\"outlinewidth\":0,\"ticks\":\"\"},\"colorscale\":[[0.0,\"#0d0887\"],[0.1111111111111111,\"#46039f\"],[0.2222222222222222,\"#7201a8\"],[0.3333333333333333,\"#9c179e\"],[0.4444444444444444,\"#bd3786\"],[0.5555555555555556,\"#d8576b\"],[0.6666666666666666,\"#ed7953\"],[0.7777777777777778,\"#fb9f3a\"],[0.8888888888888888,\"#fdca26\"],[1.0,\"#f0f921\"]]}],\"surface\":[{\"type\":\"surface\",\"colorbar\":{\"outlinewidth\":0,\"ticks\":\"\"},\"colorscale\":[[0.0,\"#0d0887\"],[0.1111111111111111,\"#46039f\"],[0.2222222222222222,\"#7201a8\"],[0.3333333333333333,\"#9c179e\"],[0.4444444444444444,\"#bd3786\"],[0.5555555555555556,\"#d8576b\"],[0.6666666666666666,\"#ed7953\"],[0.7777777777777778,\"#fb9f3a\"],[0.8888888888888888,\"#fdca26\"],[1.0,\"#f0f921\"]]}],\"mesh3d\":[{\"type\":\"mesh3d\",\"colorbar\":{\"outlinewidth\":0,\"ticks\":\"\"}}],\"scatter\":[{\"fillpattern\":{\"fillmode\":\"overlay\",\"size\":10,\"solidity\":0.2},\"type\":\"scatter\"}],\"parcoords\":[{\"type\":\"parcoords\",\"line\":{\"colorbar\":{\"outlinewidth\":0,\"ticks\":\"\"}}}],\"scatterpolargl\":[{\"type\":\"scatterpolargl\",\"marker\":{\"colorbar\":{\"outlinewidth\":0,\"ticks\":\"\"}}}],\"bar\":[{\"error_x\":{\"color\":\"#2a3f5f\"},\"error_y\":{\"color\":\"#2a3f5f\"},\"marker\":{\"line\":{\"color\":\"#E5ECF6\",\"width\":0.5},\"pattern\":{\"fillmode\":\"overlay\",\"size\":10,\"solidity\":0.2}},\"type\":\"bar\"}],\"scattergeo\":[{\"type\":\"scattergeo\",\"marker\":{\"colorbar\":{\"outlinewidth\":0,\"ticks\":\"\"}}}],\"scatterpolar\":[{\"type\":\"scatterpolar\",\"marker\":{\"colorbar\":{\"outlinewidth\":0,\"ticks\":\"\"}}}],\"histogram\":[{\"marker\":{\"pattern\":{\"fillmode\":\"overlay\",\"size\":10,\"solidity\":0.2}},\"type\":\"histogram\"}],\"scattergl\":[{\"type\":\"scattergl\",\"marker\":{\"colorbar\":{\"outlinewidth\":0,\"ticks\":\"\"}}}],\"scatter3d\":[{\"type\":\"scatter3d\",\"line\":{\"colorbar\":{\"outlinewidth\":0,\"ticks\":\"\"}},\"marker\":{\"colorbar\":{\"outlinewidth\":0,\"ticks\":\"\"}}}],\"scattermapbox\":[{\"type\":\"scattermapbox\",\"marker\":{\"colorbar\":{\"outlinewidth\":0,\"ticks\":\"\"}}}],\"scatterternary\":[{\"type\":\"scatterternary\",\"marker\":{\"colorbar\":{\"outlinewidth\":0,\"ticks\":\"\"}}}],\"scattercarpet\":[{\"type\":\"scattercarpet\",\"marker\":{\"colorbar\":{\"outlinewidth\":0,\"ticks\":\"\"}}}],\"carpet\":[{\"aaxis\":{\"endlinecolor\":\"#2a3f5f\",\"gridcolor\":\"white\",\"linecolor\":\"white\",\"minorgridcolor\":\"white\",\"startlinecolor\":\"#2a3f5f\"},\"baxis\":{\"endlinecolor\":\"#2a3f5f\",\"gridcolor\":\"white\",\"linecolor\":\"white\",\"minorgridcolor\":\"white\",\"startlinecolor\":\"#2a3f5f\"},\"type\":\"carpet\"}],\"table\":[{\"cells\":{\"fill\":{\"color\":\"#EBF0F8\"},\"line\":{\"color\":\"white\"}},\"header\":{\"fill\":{\"color\":\"#C8D4E3\"},\"line\":{\"color\":\"white\"}},\"type\":\"table\"}],\"barpolar\":[{\"marker\":{\"line\":{\"color\":\"#E5ECF6\",\"width\":0.5},\"pattern\":{\"fillmode\":\"overlay\",\"size\":10,\"solidity\":0.2}},\"type\":\"barpolar\"}],\"pie\":[{\"automargin\":true,\"type\":\"pie\"}]},\"layout\":{\"autotypenumbers\":\"strict\",\"colorway\":[\"#636efa\",\"#EF553B\",\"#00cc96\",\"#ab63fa\",\"#FFA15A\",\"#19d3f3\",\"#FF6692\",\"#B6E880\",\"#FF97FF\",\"#FECB52\"],\"font\":{\"color\":\"#2a3f5f\"},\"hovermode\":\"closest\",\"hoverlabel\":{\"align\":\"left\"},\"paper_bgcolor\":\"white\",\"plot_bgcolor\":\"#E5ECF6\",\"polar\":{\"bgcolor\":\"#E5ECF6\",\"angularaxis\":{\"gridcolor\":\"white\",\"linecolor\":\"white\",\"ticks\":\"\"},\"radialaxis\":{\"gridcolor\":\"white\",\"linecolor\":\"white\",\"ticks\":\"\"}},\"ternary\":{\"bgcolor\":\"#E5ECF6\",\"aaxis\":{\"gridcolor\":\"white\",\"linecolor\":\"white\",\"ticks\":\"\"},\"baxis\":{\"gridcolor\":\"white\",\"linecolor\":\"white\",\"ticks\":\"\"},\"caxis\":{\"gridcolor\":\"white\",\"linecolor\":\"white\",\"ticks\":\"\"}},\"coloraxis\":{\"colorbar\":{\"outlinewidth\":0,\"ticks\":\"\"}},\"colorscale\":{\"sequential\":[[0.0,\"#0d0887\"],[0.1111111111111111,\"#46039f\"],[0.2222222222222222,\"#7201a8\"],[0.3333333333333333,\"#9c179e\"],[0.4444444444444444,\"#bd3786\"],[0.5555555555555556,\"#d8576b\"],[0.6666666666666666,\"#ed7953\"],[0.7777777777777778,\"#fb9f3a\"],[0.8888888888888888,\"#fdca26\"],[1.0,\"#f0f921\"]],\"sequentialminus\":[[0.0,\"#0d0887\"],[0.1111111111111111,\"#46039f\"],[0.2222222222222222,\"#7201a8\"],[0.3333333333333333,\"#9c179e\"],[0.4444444444444444,\"#bd3786\"],[0.5555555555555556,\"#d8576b\"],[0.6666666666666666,\"#ed7953\"],[0.7777777777777778,\"#fb9f3a\"],[0.8888888888888888,\"#fdca26\"],[1.0,\"#f0f921\"]],\"diverging\":[[0,\"#8e0152\"],[0.1,\"#c51b7d\"],[0.2,\"#de77ae\"],[0.3,\"#f1b6da\"],[0.4,\"#fde0ef\"],[0.5,\"#f7f7f7\"],[0.6,\"#e6f5d0\"],[0.7,\"#b8e186\"],[0.8,\"#7fbc41\"],[0.9,\"#4d9221\"],[1,\"#276419\"]]},\"xaxis\":{\"gridcolor\":\"white\",\"linecolor\":\"white\",\"ticks\":\"\",\"title\":{\"standoff\":15},\"zerolinecolor\":\"white\",\"automargin\":true,\"zerolinewidth\":2},\"yaxis\":{\"gridcolor\":\"white\",\"linecolor\":\"white\",\"ticks\":\"\",\"title\":{\"standoff\":15},\"zerolinecolor\":\"white\",\"automargin\":true,\"zerolinewidth\":2},\"scene\":{\"xaxis\":{\"backgroundcolor\":\"#E5ECF6\",\"gridcolor\":\"white\",\"linecolor\":\"white\",\"showbackground\":true,\"ticks\":\"\",\"zerolinecolor\":\"white\",\"gridwidth\":2},\"yaxis\":{\"backgroundcolor\":\"#E5ECF6\",\"gridcolor\":\"white\",\"linecolor\":\"white\",\"showbackground\":true,\"ticks\":\"\",\"zerolinecolor\":\"white\",\"gridwidth\":2},\"zaxis\":{\"backgroundcolor\":\"#E5ECF6\",\"gridcolor\":\"white\",\"linecolor\":\"white\",\"showbackground\":true,\"ticks\":\"\",\"zerolinecolor\":\"white\",\"gridwidth\":2}},\"shapedefaults\":{\"line\":{\"color\":\"#2a3f5f\"}},\"annotationdefaults\":{\"arrowcolor\":\"#2a3f5f\",\"arrowhead\":0,\"arrowwidth\":1},\"geo\":{\"bgcolor\":\"white\",\"landcolor\":\"#E5ECF6\",\"subunitcolor\":\"white\",\"showland\":true,\"showlakes\":true,\"lakecolor\":\"white\"},\"title\":{\"x\":0.05},\"mapbox\":{\"style\":\"light\"}}},\"title\":{\"text\":\"Total Rewards Distribution\"},\"xaxis\":{\"title\":{\"text\":\"Reward\"},\"range\":[-500,500]},\"yaxis\":{\"title\":{\"text\":\"Count\"}},\"shapes\":[{\"line\":{\"color\":\"Black\",\"dash\":\"dot\",\"width\":1.5},\"type\":\"line\",\"x0\":-26.742,\"x1\":-26.742,\"y0\":0,\"y1\":1108},{\"line\":{\"color\":\"#cccccc\",\"width\":0.5},\"type\":\"line\",\"x0\":0,\"x1\":0,\"y0\":0,\"y1\":1108}]},                        {\"responsive\": true}                    ).then(function(){\n",
       "                            \n",
       "var gd = document.getElementById('1b880089-fa2f-484e-88eb-7493643a56d6');\n",
       "var x = new MutationObserver(function (mutations, observer) {{\n",
       "        var display = window.getComputedStyle(gd).display;\n",
       "        if (!display || display === 'none') {{\n",
       "            console.log([gd, 'removed!']);\n",
       "            Plotly.purge(gd);\n",
       "            observer.disconnect();\n",
       "        }}\n",
       "}});\n",
       "\n",
       "// Listen for the removal of the full notebook cells\n",
       "var notebookContainer = gd.closest('#notebook-container');\n",
       "if (notebookContainer) {{\n",
       "    x.observe(notebookContainer, {childList: true});\n",
       "}}\n",
       "\n",
       "// Listen for the clearing of the current output cell\n",
       "var outputEl = gd.closest('.output');\n",
       "if (outputEl) {{\n",
       "    x.observe(outputEl, {childList: true});\n",
       "}}\n",
       "\n",
       "                        })                };                });            </script>        </div>"
      ]
     },
     "metadata": {},
     "output_type": "display_data"
    },
    {
     "name": "stdout",
     "output_type": "stream",
     "text": [
      "Mean reward of: $-26.74\n",
      "Profitable 31.42% of the time.\n"
     ]
    }
   ],
   "source": [
    "from collections import defaultdict\n",
    "\n",
    "class MonteCarloAgent:\n",
    "    def __init__(self, env, epsilon=0.25):\n",
    "        '''\n",
    "        Initialize a new agent.\n",
    "\n",
    "        Parameters:\n",
    "            env: The environment in which the agent acts.\n",
    "            epsilon: The probability with which the agent will take a random action (exploration). \n",
    "                     The remaining (1-epsilon) probability will be to choose the best known action (exploitation).\n",
    "\n",
    "        '''\n",
    "        self.reward = 0 \n",
    "        self.epsilon = epsilon\n",
    "        self.action_space_size = 2 # Number of actions, in this case just two: hit and stick.\n",
    "        \n",
    "        # State-Action pair Function: Each state-action pair maps to a vector of Q-values.\n",
    "        # For each possible action, there is a Q-value, which is an estimate of the total reward \n",
    "        # the agent can achieve starting from the given state and taking the given action.\n",
    "        self.Q_table = defaultdict(lambda: np.zeros(self.action_space_size))\n",
    "        \n",
    "        # Cumulative sum of rewards for state-action pairs.\n",
    "        self.returns_sum = defaultdict(float)\n",
    "        \n",
    "        # Number of times each state-action pair has been visited.\n",
    "        self.returns_count = defaultdict(float)\n",
    "        \n",
    "        # The policy: Mapping from each state to an action.\n",
    "        self.policy = defaultdict(int)  # Initialize policy dictionary\n",
    "        \n",
    "        # Using the simple stick on 20 strategy as an initial policy.\n",
    "        for player_total in range(4, 22):\n",
    "            for dealer_upcard in range(2, 12):\n",
    "                for usable_ace in [False, True]:\n",
    "                    if player_total < 20:\n",
    "                        self.policy[(player_total, dealer_upcard, usable_ace)] = 1\n",
    "\n",
    "    def reset(self):\n",
    "        '''\n",
    "        Resets the cumulative reward.\n",
    "        '''\n",
    "        self.reward = 0\n",
    "        \n",
    "    def get_probs(self, Q_s):\n",
    "        '''\n",
    "        This function implements an epsilon-greedy policy for a given state.\n",
    "\n",
    "        Parameters:\n",
    "        - Q_s: A numpy array containing the Q-values of all possible actions in the given state.\n",
    "\n",
    "        Returns:\n",
    "        - policy_s: A numpy array representing a probability distribution over all possible actions in the given state. \n",
    "                     The action with the highest Q-value has a probability of 1 - epsilon / action_space_size, \n",
    "                     and all other actions have a probability of epsilon / action_space_size.\n",
    "        '''\n",
    "        # Initialize an array of equal probabilities for each possible action.\n",
    "        # Initially, set all actions to have a probability of epsilon / action_space_size.\n",
    "        # This represents the 'exploration' part of the policy where we choose a random action.\n",
    "        policy_s = np.ones(self.action_space_size) * self.epsilon / self.action_space_size\n",
    "        \n",
    "        # Find the action that has the highest Q-value in the given state.\n",
    "        best_a = np.argmax(Q_s)\n",
    "        \n",
    "        # Update the probability of the best action to be 1 - epsilon (the 'exploitation' part where we choose the best known action),\n",
    "        # plus epsilon / action_space_size (the small chance of selecting the best action randomly during the 'exploration' part).\n",
    "        policy_s[best_a] = 1 - self.epsilon + (self.epsilon / self.action_space_size)\n",
    "        return policy_s\n",
    "        \n",
    "    def generate_episode(self, env):\n",
    "        '''\n",
    "        Generate an episode following the epsilon-greedy policy.\n",
    "\n",
    "        Parameters:\n",
    "            env: The environment in which the agent acts.\n",
    "\n",
    "        Returns:\n",
    "            episode: List of tuples, where each tuple is a (state, action, reward) triplet.\n",
    "            initial_reward: Reward from the initial state, before any actions were taken.\n",
    "\n",
    "        '''\n",
    "        state = env.reset()\n",
    "        initial_reward, done = env.calculate_reward(), env.is_done()\n",
    "\n",
    "        episode = []\n",
    "\n",
    "        # If the game ends before the agent can take an action, return the reward but do not generate an episode\n",
    "        if done:\n",
    "            return episode, initial_reward\n",
    "\n",
    "        while not done:\n",
    "            probs = self.get_probs(self.Q_table[state])\n",
    "            action = np.random.choice(np.arange(2), p=probs)\n",
    "            next_state, reward, done, _ = env.action(action)\n",
    "            episode.append((state, action, reward))\n",
    "            state = next_state\n",
    "\n",
    "        return episode, 0\n",
    "    \n",
    "    def learn(self, env, num_episodes, discount_factor=1.0):\n",
    "        '''\n",
    "        Learn from multiple episodes.\n",
    "\n",
    "        Parameters:\n",
    "            env: The environment in which the agent acts.\n",
    "            num_episodes: Number of episodes from which to learn.\n",
    "            discount_factor: The factor by which to discount future rewards.\n",
    "\n",
    "        '''\n",
    "        for i_episode in range(1, num_episodes + 1):\n",
    "            episode, initial_reward = self.generate_episode(env)\n",
    "            self.reward += initial_reward\n",
    "            \n",
    "            # Check if episode is empty and skip to next iteration if so.\n",
    "            if not episode:\n",
    "                continue\n",
    "            \n",
    "            states, actions, rewards = zip(*episode)\n",
    "            discounts = np.array([discount_factor**i for i in range(len(rewards)+1)])\n",
    "            for i, state in enumerate(states):\n",
    "                self.returns_sum[(state, actions[i])] += sum(rewards[i:]*discounts[:-(1+i)])\n",
    "                self.returns_count[(state, actions[i])] += 1.0\n",
    "                self.Q_table[state][actions[i]] = self.returns_sum[(state, actions[i])] / self.returns_count[(state, actions[i])]\n",
    "            for state in self.Q_table:\n",
    "                self.policy[state] = np.argmax(self.Q_table[state])\n",
    "    \n",
    "    def update_policy(self, state):\n",
    "        '''\n",
    "        Update the policy for a specific state.\n",
    "\n",
    "        Parameters:\n",
    "            state: The state for which to update the policy.\n",
    "\n",
    "        '''\n",
    "        self.policy[state] = np.argmax(self.Q_table[state])\n",
    "        \n",
    "    def step(self, env: Blackjack):\n",
    "        '''\n",
    "        Take one step in the environment following the policy.\n",
    "\n",
    "        Parameters:\n",
    "            env: The environment in which the agent acts.\n",
    "        '''\n",
    "        # Get current state\n",
    "        state = env.get_observations()\n",
    "        # Choose an action based on the current policy\n",
    "        action = self.policy[state]\n",
    "        # Take action and get reward\n",
    "        next_state, reward, done, _ = env.action(action)\n",
    "        # Update cumulative reward\n",
    "        self.reward += reward\n",
    "        \n",
    "env = Blackjack(n_decks=3)\n",
    "agent_monte_carlo = MonteCarloAgent(env)\n",
    "agent_monte_carlo.learn(env, num_episodes=100000)\n",
    "\n",
    "value_estimates_monte_carlo_agent, avg_reward = first_visit_mc(env, agent_monte_carlo, n_iterations=100000)\n",
    "plot_value_function(value_estimates_monte_carlo_agent, usable_ace=False)\n",
    "plot_policy(agent_monte_carlo.policy, usable_ace=False, policy_name=\"- Blackjack Optimal Strategy (Partially Converged)\")\n",
    "\n",
    "env.reset()\n",
    "n_episodes = 50\n",
    "n_simulations = 5000\n",
    "total_rewards = run_simulations(agent_monte_carlo, env, n_episodes, n_simulations)\n",
    "plot_rewards_histogram(total_rewards, bins=15)\n",
    "print(f\"Mean reward of: ${(sum(total_rewards)/n_simulations):.2f}\")\n",
    "print(f\"Profitable {(100*sum([i>0 for i in total_rewards])/n_simulations):.2f}% of the time.\")"
   ]
  },
  {
   "cell_type": "markdown",
   "id": "ee0c5c21",
   "metadata": {
    "papermill": {
     "duration": 0.049099,
     "end_time": "2023-06-19T08:42:01.244604",
     "exception": false,
     "start_time": "2023-06-19T08:42:01.195505",
     "status": "completed"
    },
    "tags": []
   },
   "source": [
    "In theory, provided our agent has a non-zero exploratory rate, this agent will necessarily converge to the optimal strategy given an infinite amount of time.\n",
    "\n",
    "This is a good example where theory in reinforcement learning doesn't perfectly intersect with reality.\n",
    "\n",
    "We could let this agent derive a policy approaching optimal if we let it run for hours and hours, but let's try and determine how we could potentially increase convergence rate. There are some issues with finding optimal policies in Blackjack however:\n",
    "\n",
    "**Issue 1**:\n",
    "- Blackjack is a very high variance game. Imagine we're trying to determine the Q-value for the state `(12, 6, False)`. In this situation there's roughly a 50% chance of the player busting if they hit and a 50% chance the dealer will bust accounting for all possible hole cards. This spot is going to be very high variance, and imagine during training we get unlucky playing hit and bust 5 times in a row, creating a very high negative average reward. With this happening we've created a situation where this action is rarely going to be selected, and when the difference between hit and stick is going to be only a percent or two, it's going to be very difficult for the state-action values to converge to their true values. This could ultimately take a very very long time for high variance spots.\n",
    "\n",
    "**Issue 2**:\n",
    "- Some spots are very rare and are not encountered often in the game, for example, the state `(4, 2, False)`, which we will encounter in approximately $(\\frac{1}{52})^3$ = 7e-6 = once in every 140,000 games, the frequency of which can be observed below. In Blackjack these rare spots also happen to be very high variance as both the player and dealer may be hitting several times. The high variance coupled with the rarity of states like this mean that our Monte Carlo control method is unlikely to find accurate Q-values for the state-action pairs in this state.\n",
    "\n",
    "**Issue 3**:\n",
    "- Another issue caused by high variance is that it is difficult to evaluate states that are rare and high variance sufficiently using Monte Carlo first visit. Since in high variance spots where the player or dealer has a roughly 50% chance of busting, we're going to need to simulate those spots thousands of times to get a reasonably accurate estimate, but as an example, we're only reaching the state `(4, 2, False)` once in roughly every 140,000 games. This is going to mean that as policies get closer and closer to optimal, we're going to need to evaluate them with infeasibly large number of simulations to compare their performances."
   ]
  },
  {
   "cell_type": "code",
   "execution_count": 7,
   "id": "9c0f1133",
   "metadata": {
    "_kg_hide-input": true,
    "execution": {
     "iopub.execute_input": "2023-06-19T08:42:01.344202Z",
     "iopub.status.busy": "2023-06-19T08:42:01.343695Z",
     "iopub.status.idle": "2023-06-19T08:42:01.356245Z",
     "shell.execute_reply": "2023-06-19T08:42:01.354909Z"
    },
    "papermill": {
     "duration": 0.065292,
     "end_time": "2023-06-19T08:42:01.358665",
     "exception": false,
     "start_time": "2023-06-19T08:42:01.293373",
     "status": "completed"
    },
    "tags": []
   },
   "outputs": [
    {
     "name": "stdout",
     "output_type": "stream",
     "text": [
      "Suboptimal choice found at: (8, 4, False)\n",
      "Q-values for this suboptimal state: [-1.93717277 -2.72727273]\n",
      "Suboptimal state visited with stick: 191.0 times.\n",
      "Suboptimal state visited with hit: 33.0 times.\n"
     ]
    }
   ],
   "source": [
    "poor_choice_found = False\n",
    "state = (0,0,False)\n",
    "\n",
    "for i in range(11, 4, -1): # It makes no sense to do anything other than hit in these spots.\n",
    "    if poor_choice_found:\n",
    "        break\n",
    "    for j in range(2, 12):\n",
    "        if np.argmax(agent_monte_carlo.Q_table[(i,j,False)]) == 0:\n",
    "            state = (i, j, False)\n",
    "            poor_choice_found = True\n",
    "            break\n",
    "            \n",
    "print(\"Suboptimal choice found at:\", state)\n",
    "print(f\"Q-values for this suboptimal state: {agent_monte_carlo.Q_table[state]}\")\n",
    "print(f\"Suboptimal state visited with stick: {agent_monte_carlo.returns_count[(state,0)]} times.\")\n",
    "print(f\"Suboptimal state visited with hit: {agent_monte_carlo.returns_count[(state,1)]} times.\")"
   ]
  },
  {
   "cell_type": "markdown",
   "id": "cf3a4e54",
   "metadata": {
    "papermill": {
     "duration": 0.050305,
     "end_time": "2023-06-19T08:42:01.459532",
     "exception": false,
     "start_time": "2023-06-19T08:42:01.409227",
     "status": "completed"
    },
    "tags": []
   },
   "source": [
    "#### Observations:\n",
    "- It's possible we could address issues like this by increasing the exploration rate, however since we're using an on-policy method, doing so would also decrease the accuracy of our Q-values. This would fix itself with enough iterations, but this isn't a satisfactory solution.\n",
    "\n",
    "What we're going to do is change 2 things:\n",
    "\n",
    "1. **Prioritized Experience Replay**: We aim to tackle high-variance states by introducing a prioritization scheme in the state initialization. We'll identify \"high-priority\" states as those with the highest variance and therefore require a substantial number of episodes for convergence.\n",
    "\n",
    "2. **Stochastic Initialization**: We propose a stochastic environment initialization strategy, controlled by a random parameter $\\theta \\in [0,1]$. A uniform random number will be generated for each episode. If the number is less than $\\theta$, we'll use a standard random initialization, favoring frequent states. If the number is greater than $\\theta$, we'll initialize the game in a pre-selected high-priority state.\n",
    "\n",
    "#### Calculating the priority\n",
    "The steps to calculate the \"priority\" of a state and initialize the game accordingly are as follows:\n",
    "\n",
    "a. Compute the probability of the dealer busting for each possible upcard, denoted by $p_{dealer bust}(upcard)$.\n",
    "\n",
    "b. Compute the probability of the player busting for each possible hand total, denoted $p_{player bust}(total)$. Note that for total <= 11, $p_{player bust}(total) = 0$ as the player can't bust on the next hit.\n",
    "\n",
    "c. Assign a priority score to each state. The priority score reflects the variance or learning potential of the state, calculated as $priority(state) = 0.5 - abs(0.5 - p_{dealer bust}(upcard)) + 0.5 - abs(0.5 - p_{player bust}(total))$. The priority score is set to 0 for states where the player has a hand total <= 11, as the optimal strategy is to always hit in these states.\n",
    "\n",
    "d. Using this, rather than randomly initializing the environment, we select initial states based on priority. We can convert the priority scores into a probability distribution and randomly select an initial state, weighted by its priority.\n",
    "\n",
    "e. With the initial state selected, the rest of the episode is simulated using standard Monte Carlo control.\n",
    "\n",
    "This strategy seeks to balance the need to sample all states for unbiased learning with the need to focus on high-variance states for efficient learning. The exact choice of $\\theta$ and the epsilon decay schedule should be tuned based on empirical performance.\n",
    "\n",
    "### Calculating bust probabilities\n",
    "Here we're going to calculate and plot the probabilities of busting for the player and dealer. Calculations assume 4 decks, and dealer sticking on a soft 17."
   ]
  },
  {
   "cell_type": "code",
   "execution_count": 8,
   "id": "5b8b097d",
   "metadata": {
    "_kg_hide-input": true,
    "execution": {
     "iopub.execute_input": "2023-06-19T08:42:01.558911Z",
     "iopub.status.busy": "2023-06-19T08:42:01.558471Z",
     "iopub.status.idle": "2023-06-19T08:42:39.901883Z",
     "shell.execute_reply": "2023-06-19T08:42:39.900534Z"
    },
    "papermill": {
     "duration": 38.397536,
     "end_time": "2023-06-19T08:42:39.906025",
     "exception": false,
     "start_time": "2023-06-19T08:42:01.508489",
     "status": "completed"
    },
    "tags": []
   },
   "outputs": [
    {
     "data": {
      "application/vnd.plotly.v1+json": {
       "config": {
        "plotlyServerURL": "https://plot.ly"
       },
       "data": [
        {
         "colorscale": [
          [
           0.0,
           "rgb(255,245,240)"
          ],
          [
           0.125,
           "rgb(254,224,210)"
          ],
          [
           0.25,
           "rgb(252,187,161)"
          ],
          [
           0.375,
           "rgb(252,146,114)"
          ],
          [
           0.5,
           "rgb(251,106,74)"
          ],
          [
           0.625,
           "rgb(239,59,44)"
          ],
          [
           0.75,
           "rgb(203,24,29)"
          ],
          [
           0.875,
           "rgb(165,15,21)"
          ],
          [
           1.0,
           "rgb(103,0,13)"
          ]
         ],
         "hovertemplate": "Dealer Upcard: %{x}<br>Bust Probability: %{z}<extra></extra>",
         "showscale": false,
         "type": "heatmap",
         "x": [
          2,
          3,
          4,
          5,
          6,
          7,
          8,
          9,
          10,
          11
         ],
         "y": [
          ""
         ],
         "z": [
          [
           0.34707463833055946,
           0.37357133684345706,
           0.3974980852693388,
           0.4208084824387011,
           0.422562893081761,
           0.258898847631242,
           0.239625872744039,
           0.22712933753943218,
           0.21252760098714119,
           0.11270761929870815
          ]
         ],
         "zmax": 1
        }
       ],
       "layout": {
        "annotations": [
         {
          "font": {
           "color": "black",
           "size": 12
          },
          "showarrow": false,
          "text": "0.35",
          "x": 2,
          "y": ""
         },
         {
          "font": {
           "color": "black",
           "size": 12
          },
          "showarrow": false,
          "text": "0.37",
          "x": 3,
          "y": ""
         },
         {
          "font": {
           "color": "black",
           "size": 12
          },
          "showarrow": false,
          "text": "0.40",
          "x": 4,
          "y": ""
         },
         {
          "font": {
           "color": "black",
           "size": 12
          },
          "showarrow": false,
          "text": "0.42",
          "x": 5,
          "y": ""
         },
         {
          "font": {
           "color": "black",
           "size": 12
          },
          "showarrow": false,
          "text": "0.42",
          "x": 6,
          "y": ""
         },
         {
          "font": {
           "color": "black",
           "size": 12
          },
          "showarrow": false,
          "text": "0.26",
          "x": 7,
          "y": ""
         },
         {
          "font": {
           "color": "black",
           "size": 12
          },
          "showarrow": false,
          "text": "0.24",
          "x": 8,
          "y": ""
         },
         {
          "font": {
           "color": "black",
           "size": 12
          },
          "showarrow": false,
          "text": "0.23",
          "x": 9,
          "y": ""
         },
         {
          "font": {
           "color": "black",
           "size": 12
          },
          "showarrow": false,
          "text": "0.21",
          "x": 10,
          "y": ""
         },
         {
          "font": {
           "color": "black",
           "size": 12
          },
          "showarrow": false,
          "text": "0.11",
          "x": 11,
          "y": ""
         }
        ],
        "height": 250,
        "template": {
         "data": {
          "bar": [
           {
            "error_x": {
             "color": "#2a3f5f"
            },
            "error_y": {
             "color": "#2a3f5f"
            },
            "marker": {
             "line": {
              "color": "#E5ECF6",
              "width": 0.5
             },
             "pattern": {
              "fillmode": "overlay",
              "size": 10,
              "solidity": 0.2
             }
            },
            "type": "bar"
           }
          ],
          "barpolar": [
           {
            "marker": {
             "line": {
              "color": "#E5ECF6",
              "width": 0.5
             },
             "pattern": {
              "fillmode": "overlay",
              "size": 10,
              "solidity": 0.2
             }
            },
            "type": "barpolar"
           }
          ],
          "carpet": [
           {
            "aaxis": {
             "endlinecolor": "#2a3f5f",
             "gridcolor": "white",
             "linecolor": "white",
             "minorgridcolor": "white",
             "startlinecolor": "#2a3f5f"
            },
            "baxis": {
             "endlinecolor": "#2a3f5f",
             "gridcolor": "white",
             "linecolor": "white",
             "minorgridcolor": "white",
             "startlinecolor": "#2a3f5f"
            },
            "type": "carpet"
           }
          ],
          "choropleth": [
           {
            "colorbar": {
             "outlinewidth": 0,
             "ticks": ""
            },
            "type": "choropleth"
           }
          ],
          "contour": [
           {
            "colorbar": {
             "outlinewidth": 0,
             "ticks": ""
            },
            "colorscale": [
             [
              0.0,
              "#0d0887"
             ],
             [
              0.1111111111111111,
              "#46039f"
             ],
             [
              0.2222222222222222,
              "#7201a8"
             ],
             [
              0.3333333333333333,
              "#9c179e"
             ],
             [
              0.4444444444444444,
              "#bd3786"
             ],
             [
              0.5555555555555556,
              "#d8576b"
             ],
             [
              0.6666666666666666,
              "#ed7953"
             ],
             [
              0.7777777777777778,
              "#fb9f3a"
             ],
             [
              0.8888888888888888,
              "#fdca26"
             ],
             [
              1.0,
              "#f0f921"
             ]
            ],
            "type": "contour"
           }
          ],
          "contourcarpet": [
           {
            "colorbar": {
             "outlinewidth": 0,
             "ticks": ""
            },
            "type": "contourcarpet"
           }
          ],
          "heatmap": [
           {
            "colorbar": {
             "outlinewidth": 0,
             "ticks": ""
            },
            "colorscale": [
             [
              0.0,
              "#0d0887"
             ],
             [
              0.1111111111111111,
              "#46039f"
             ],
             [
              0.2222222222222222,
              "#7201a8"
             ],
             [
              0.3333333333333333,
              "#9c179e"
             ],
             [
              0.4444444444444444,
              "#bd3786"
             ],
             [
              0.5555555555555556,
              "#d8576b"
             ],
             [
              0.6666666666666666,
              "#ed7953"
             ],
             [
              0.7777777777777778,
              "#fb9f3a"
             ],
             [
              0.8888888888888888,
              "#fdca26"
             ],
             [
              1.0,
              "#f0f921"
             ]
            ],
            "type": "heatmap"
           }
          ],
          "heatmapgl": [
           {
            "colorbar": {
             "outlinewidth": 0,
             "ticks": ""
            },
            "colorscale": [
             [
              0.0,
              "#0d0887"
             ],
             [
              0.1111111111111111,
              "#46039f"
             ],
             [
              0.2222222222222222,
              "#7201a8"
             ],
             [
              0.3333333333333333,
              "#9c179e"
             ],
             [
              0.4444444444444444,
              "#bd3786"
             ],
             [
              0.5555555555555556,
              "#d8576b"
             ],
             [
              0.6666666666666666,
              "#ed7953"
             ],
             [
              0.7777777777777778,
              "#fb9f3a"
             ],
             [
              0.8888888888888888,
              "#fdca26"
             ],
             [
              1.0,
              "#f0f921"
             ]
            ],
            "type": "heatmapgl"
           }
          ],
          "histogram": [
           {
            "marker": {
             "pattern": {
              "fillmode": "overlay",
              "size": 10,
              "solidity": 0.2
             }
            },
            "type": "histogram"
           }
          ],
          "histogram2d": [
           {
            "colorbar": {
             "outlinewidth": 0,
             "ticks": ""
            },
            "colorscale": [
             [
              0.0,
              "#0d0887"
             ],
             [
              0.1111111111111111,
              "#46039f"
             ],
             [
              0.2222222222222222,
              "#7201a8"
             ],
             [
              0.3333333333333333,
              "#9c179e"
             ],
             [
              0.4444444444444444,
              "#bd3786"
             ],
             [
              0.5555555555555556,
              "#d8576b"
             ],
             [
              0.6666666666666666,
              "#ed7953"
             ],
             [
              0.7777777777777778,
              "#fb9f3a"
             ],
             [
              0.8888888888888888,
              "#fdca26"
             ],
             [
              1.0,
              "#f0f921"
             ]
            ],
            "type": "histogram2d"
           }
          ],
          "histogram2dcontour": [
           {
            "colorbar": {
             "outlinewidth": 0,
             "ticks": ""
            },
            "colorscale": [
             [
              0.0,
              "#0d0887"
             ],
             [
              0.1111111111111111,
              "#46039f"
             ],
             [
              0.2222222222222222,
              "#7201a8"
             ],
             [
              0.3333333333333333,
              "#9c179e"
             ],
             [
              0.4444444444444444,
              "#bd3786"
             ],
             [
              0.5555555555555556,
              "#d8576b"
             ],
             [
              0.6666666666666666,
              "#ed7953"
             ],
             [
              0.7777777777777778,
              "#fb9f3a"
             ],
             [
              0.8888888888888888,
              "#fdca26"
             ],
             [
              1.0,
              "#f0f921"
             ]
            ],
            "type": "histogram2dcontour"
           }
          ],
          "mesh3d": [
           {
            "colorbar": {
             "outlinewidth": 0,
             "ticks": ""
            },
            "type": "mesh3d"
           }
          ],
          "parcoords": [
           {
            "line": {
             "colorbar": {
              "outlinewidth": 0,
              "ticks": ""
             }
            },
            "type": "parcoords"
           }
          ],
          "pie": [
           {
            "automargin": true,
            "type": "pie"
           }
          ],
          "scatter": [
           {
            "fillpattern": {
             "fillmode": "overlay",
             "size": 10,
             "solidity": 0.2
            },
            "type": "scatter"
           }
          ],
          "scatter3d": [
           {
            "line": {
             "colorbar": {
              "outlinewidth": 0,
              "ticks": ""
             }
            },
            "marker": {
             "colorbar": {
              "outlinewidth": 0,
              "ticks": ""
             }
            },
            "type": "scatter3d"
           }
          ],
          "scattercarpet": [
           {
            "marker": {
             "colorbar": {
              "outlinewidth": 0,
              "ticks": ""
             }
            },
            "type": "scattercarpet"
           }
          ],
          "scattergeo": [
           {
            "marker": {
             "colorbar": {
              "outlinewidth": 0,
              "ticks": ""
             }
            },
            "type": "scattergeo"
           }
          ],
          "scattergl": [
           {
            "marker": {
             "colorbar": {
              "outlinewidth": 0,
              "ticks": ""
             }
            },
            "type": "scattergl"
           }
          ],
          "scattermapbox": [
           {
            "marker": {
             "colorbar": {
              "outlinewidth": 0,
              "ticks": ""
             }
            },
            "type": "scattermapbox"
           }
          ],
          "scatterpolar": [
           {
            "marker": {
             "colorbar": {
              "outlinewidth": 0,
              "ticks": ""
             }
            },
            "type": "scatterpolar"
           }
          ],
          "scatterpolargl": [
           {
            "marker": {
             "colorbar": {
              "outlinewidth": 0,
              "ticks": ""
             }
            },
            "type": "scatterpolargl"
           }
          ],
          "scatterternary": [
           {
            "marker": {
             "colorbar": {
              "outlinewidth": 0,
              "ticks": ""
             }
            },
            "type": "scatterternary"
           }
          ],
          "surface": [
           {
            "colorbar": {
             "outlinewidth": 0,
             "ticks": ""
            },
            "colorscale": [
             [
              0.0,
              "#0d0887"
             ],
             [
              0.1111111111111111,
              "#46039f"
             ],
             [
              0.2222222222222222,
              "#7201a8"
             ],
             [
              0.3333333333333333,
              "#9c179e"
             ],
             [
              0.4444444444444444,
              "#bd3786"
             ],
             [
              0.5555555555555556,
              "#d8576b"
             ],
             [
              0.6666666666666666,
              "#ed7953"
             ],
             [
              0.7777777777777778,
              "#fb9f3a"
             ],
             [
              0.8888888888888888,
              "#fdca26"
             ],
             [
              1.0,
              "#f0f921"
             ]
            ],
            "type": "surface"
           }
          ],
          "table": [
           {
            "cells": {
             "fill": {
              "color": "#EBF0F8"
             },
             "line": {
              "color": "white"
             }
            },
            "header": {
             "fill": {
              "color": "#C8D4E3"
             },
             "line": {
              "color": "white"
             }
            },
            "type": "table"
           }
          ]
         },
         "layout": {
          "annotationdefaults": {
           "arrowcolor": "#2a3f5f",
           "arrowhead": 0,
           "arrowwidth": 1
          },
          "autotypenumbers": "strict",
          "coloraxis": {
           "colorbar": {
            "outlinewidth": 0,
            "ticks": ""
           }
          },
          "colorscale": {
           "diverging": [
            [
             0,
             "#8e0152"
            ],
            [
             0.1,
             "#c51b7d"
            ],
            [
             0.2,
             "#de77ae"
            ],
            [
             0.3,
             "#f1b6da"
            ],
            [
             0.4,
             "#fde0ef"
            ],
            [
             0.5,
             "#f7f7f7"
            ],
            [
             0.6,
             "#e6f5d0"
            ],
            [
             0.7,
             "#b8e186"
            ],
            [
             0.8,
             "#7fbc41"
            ],
            [
             0.9,
             "#4d9221"
            ],
            [
             1,
             "#276419"
            ]
           ],
           "sequential": [
            [
             0.0,
             "#0d0887"
            ],
            [
             0.1111111111111111,
             "#46039f"
            ],
            [
             0.2222222222222222,
             "#7201a8"
            ],
            [
             0.3333333333333333,
             "#9c179e"
            ],
            [
             0.4444444444444444,
             "#bd3786"
            ],
            [
             0.5555555555555556,
             "#d8576b"
            ],
            [
             0.6666666666666666,
             "#ed7953"
            ],
            [
             0.7777777777777778,
             "#fb9f3a"
            ],
            [
             0.8888888888888888,
             "#fdca26"
            ],
            [
             1.0,
             "#f0f921"
            ]
           ],
           "sequentialminus": [
            [
             0.0,
             "#0d0887"
            ],
            [
             0.1111111111111111,
             "#46039f"
            ],
            [
             0.2222222222222222,
             "#7201a8"
            ],
            [
             0.3333333333333333,
             "#9c179e"
            ],
            [
             0.4444444444444444,
             "#bd3786"
            ],
            [
             0.5555555555555556,
             "#d8576b"
            ],
            [
             0.6666666666666666,
             "#ed7953"
            ],
            [
             0.7777777777777778,
             "#fb9f3a"
            ],
            [
             0.8888888888888888,
             "#fdca26"
            ],
            [
             1.0,
             "#f0f921"
            ]
           ]
          },
          "colorway": [
           "#636efa",
           "#EF553B",
           "#00cc96",
           "#ab63fa",
           "#FFA15A",
           "#19d3f3",
           "#FF6692",
           "#B6E880",
           "#FF97FF",
           "#FECB52"
          ],
          "font": {
           "color": "#2a3f5f"
          },
          "geo": {
           "bgcolor": "white",
           "lakecolor": "white",
           "landcolor": "#E5ECF6",
           "showlakes": true,
           "showland": true,
           "subunitcolor": "white"
          },
          "hoverlabel": {
           "align": "left"
          },
          "hovermode": "closest",
          "mapbox": {
           "style": "light"
          },
          "paper_bgcolor": "white",
          "plot_bgcolor": "#E5ECF6",
          "polar": {
           "angularaxis": {
            "gridcolor": "white",
            "linecolor": "white",
            "ticks": ""
           },
           "bgcolor": "#E5ECF6",
           "radialaxis": {
            "gridcolor": "white",
            "linecolor": "white",
            "ticks": ""
           }
          },
          "scene": {
           "xaxis": {
            "backgroundcolor": "#E5ECF6",
            "gridcolor": "white",
            "gridwidth": 2,
            "linecolor": "white",
            "showbackground": true,
            "ticks": "",
            "zerolinecolor": "white"
           },
           "yaxis": {
            "backgroundcolor": "#E5ECF6",
            "gridcolor": "white",
            "gridwidth": 2,
            "linecolor": "white",
            "showbackground": true,
            "ticks": "",
            "zerolinecolor": "white"
           },
           "zaxis": {
            "backgroundcolor": "#E5ECF6",
            "gridcolor": "white",
            "gridwidth": 2,
            "linecolor": "white",
            "showbackground": true,
            "ticks": "",
            "zerolinecolor": "white"
           }
          },
          "shapedefaults": {
           "line": {
            "color": "#2a3f5f"
           }
          },
          "ternary": {
           "aaxis": {
            "gridcolor": "white",
            "linecolor": "white",
            "ticks": ""
           },
           "baxis": {
            "gridcolor": "white",
            "linecolor": "white",
            "ticks": ""
           },
           "bgcolor": "#E5ECF6",
           "caxis": {
            "gridcolor": "white",
            "linecolor": "white",
            "ticks": ""
           }
          },
          "title": {
           "x": 0.05
          },
          "xaxis": {
           "automargin": true,
           "gridcolor": "white",
           "linecolor": "white",
           "ticks": "",
           "title": {
            "standoff": 15
           },
           "zerolinecolor": "white",
           "zerolinewidth": 2
          },
          "yaxis": {
           "automargin": true,
           "gridcolor": "white",
           "linecolor": "white",
           "ticks": "",
           "title": {
            "standoff": 15
           },
           "zerolinecolor": "white",
           "zerolinewidth": 2
          }
         }
        },
        "title": {
         "text": "Dealer Card Bust Probabilities"
        },
        "width": 800,
        "xaxis": {
         "title": {
          "text": "Dealer Upcard"
         }
        },
        "yaxis": {
         "showticklabels": false,
         "title": {
          "text": ""
         }
        }
       }
      },
      "text/html": [
       "<div>                            <div id=\"db3ab8f7-de26-4c43-b656-7d0164fad6c3\" class=\"plotly-graph-div\" style=\"height:250px; width:800px;\"></div>            <script type=\"text/javascript\">                require([\"plotly\"], function(Plotly) {                    window.PLOTLYENV=window.PLOTLYENV || {};                                    if (document.getElementById(\"db3ab8f7-de26-4c43-b656-7d0164fad6c3\")) {                    Plotly.newPlot(                        \"db3ab8f7-de26-4c43-b656-7d0164fad6c3\",                        [{\"colorscale\":[[0.0,\"rgb(255,245,240)\"],[0.125,\"rgb(254,224,210)\"],[0.25,\"rgb(252,187,161)\"],[0.375,\"rgb(252,146,114)\"],[0.5,\"rgb(251,106,74)\"],[0.625,\"rgb(239,59,44)\"],[0.75,\"rgb(203,24,29)\"],[0.875,\"rgb(165,15,21)\"],[1.0,\"rgb(103,0,13)\"]],\"hovertemplate\":\"Dealer Upcard: %{x}<br>Bust Probability: %{z}<extra></extra>\",\"showscale\":false,\"x\":[2,3,4,5,6,7,8,9,10,11],\"y\":[\"\"],\"z\":[[0.34707463833055946,0.37357133684345706,0.3974980852693388,0.4208084824387011,0.422562893081761,0.258898847631242,0.239625872744039,0.22712933753943218,0.21252760098714119,0.11270761929870815]],\"zmax\":1,\"type\":\"heatmap\"}],                        {\"template\":{\"data\":{\"histogram2dcontour\":[{\"type\":\"histogram2dcontour\",\"colorbar\":{\"outlinewidth\":0,\"ticks\":\"\"},\"colorscale\":[[0.0,\"#0d0887\"],[0.1111111111111111,\"#46039f\"],[0.2222222222222222,\"#7201a8\"],[0.3333333333333333,\"#9c179e\"],[0.4444444444444444,\"#bd3786\"],[0.5555555555555556,\"#d8576b\"],[0.6666666666666666,\"#ed7953\"],[0.7777777777777778,\"#fb9f3a\"],[0.8888888888888888,\"#fdca26\"],[1.0,\"#f0f921\"]]}],\"choropleth\":[{\"type\":\"choropleth\",\"colorbar\":{\"outlinewidth\":0,\"ticks\":\"\"}}],\"histogram2d\":[{\"type\":\"histogram2d\",\"colorbar\":{\"outlinewidth\":0,\"ticks\":\"\"},\"colorscale\":[[0.0,\"#0d0887\"],[0.1111111111111111,\"#46039f\"],[0.2222222222222222,\"#7201a8\"],[0.3333333333333333,\"#9c179e\"],[0.4444444444444444,\"#bd3786\"],[0.5555555555555556,\"#d8576b\"],[0.6666666666666666,\"#ed7953\"],[0.7777777777777778,\"#fb9f3a\"],[0.8888888888888888,\"#fdca26\"],[1.0,\"#f0f921\"]]}],\"heatmap\":[{\"type\":\"heatmap\",\"colorbar\":{\"outlinewidth\":0,\"ticks\":\"\"},\"colorscale\":[[0.0,\"#0d0887\"],[0.1111111111111111,\"#46039f\"],[0.2222222222222222,\"#7201a8\"],[0.3333333333333333,\"#9c179e\"],[0.4444444444444444,\"#bd3786\"],[0.5555555555555556,\"#d8576b\"],[0.6666666666666666,\"#ed7953\"],[0.7777777777777778,\"#fb9f3a\"],[0.8888888888888888,\"#fdca26\"],[1.0,\"#f0f921\"]]}],\"heatmapgl\":[{\"type\":\"heatmapgl\",\"colorbar\":{\"outlinewidth\":0,\"ticks\":\"\"},\"colorscale\":[[0.0,\"#0d0887\"],[0.1111111111111111,\"#46039f\"],[0.2222222222222222,\"#7201a8\"],[0.3333333333333333,\"#9c179e\"],[0.4444444444444444,\"#bd3786\"],[0.5555555555555556,\"#d8576b\"],[0.6666666666666666,\"#ed7953\"],[0.7777777777777778,\"#fb9f3a\"],[0.8888888888888888,\"#fdca26\"],[1.0,\"#f0f921\"]]}],\"contourcarpet\":[{\"type\":\"contourcarpet\",\"colorbar\":{\"outlinewidth\":0,\"ticks\":\"\"}}],\"contour\":[{\"type\":\"contour\",\"colorbar\":{\"outlinewidth\":0,\"ticks\":\"\"},\"colorscale\":[[0.0,\"#0d0887\"],[0.1111111111111111,\"#46039f\"],[0.2222222222222222,\"#7201a8\"],[0.3333333333333333,\"#9c179e\"],[0.4444444444444444,\"#bd3786\"],[0.5555555555555556,\"#d8576b\"],[0.6666666666666666,\"#ed7953\"],[0.7777777777777778,\"#fb9f3a\"],[0.8888888888888888,\"#fdca26\"],[1.0,\"#f0f921\"]]}],\"surface\":[{\"type\":\"surface\",\"colorbar\":{\"outlinewidth\":0,\"ticks\":\"\"},\"colorscale\":[[0.0,\"#0d0887\"],[0.1111111111111111,\"#46039f\"],[0.2222222222222222,\"#7201a8\"],[0.3333333333333333,\"#9c179e\"],[0.4444444444444444,\"#bd3786\"],[0.5555555555555556,\"#d8576b\"],[0.6666666666666666,\"#ed7953\"],[0.7777777777777778,\"#fb9f3a\"],[0.8888888888888888,\"#fdca26\"],[1.0,\"#f0f921\"]]}],\"mesh3d\":[{\"type\":\"mesh3d\",\"colorbar\":{\"outlinewidth\":0,\"ticks\":\"\"}}],\"scatter\":[{\"fillpattern\":{\"fillmode\":\"overlay\",\"size\":10,\"solidity\":0.2},\"type\":\"scatter\"}],\"parcoords\":[{\"type\":\"parcoords\",\"line\":{\"colorbar\":{\"outlinewidth\":0,\"ticks\":\"\"}}}],\"scatterpolargl\":[{\"type\":\"scatterpolargl\",\"marker\":{\"colorbar\":{\"outlinewidth\":0,\"ticks\":\"\"}}}],\"bar\":[{\"error_x\":{\"color\":\"#2a3f5f\"},\"error_y\":{\"color\":\"#2a3f5f\"},\"marker\":{\"line\":{\"color\":\"#E5ECF6\",\"width\":0.5},\"pattern\":{\"fillmode\":\"overlay\",\"size\":10,\"solidity\":0.2}},\"type\":\"bar\"}],\"scattergeo\":[{\"type\":\"scattergeo\",\"marker\":{\"colorbar\":{\"outlinewidth\":0,\"ticks\":\"\"}}}],\"scatterpolar\":[{\"type\":\"scatterpolar\",\"marker\":{\"colorbar\":{\"outlinewidth\":0,\"ticks\":\"\"}}}],\"histogram\":[{\"marker\":{\"pattern\":{\"fillmode\":\"overlay\",\"size\":10,\"solidity\":0.2}},\"type\":\"histogram\"}],\"scattergl\":[{\"type\":\"scattergl\",\"marker\":{\"colorbar\":{\"outlinewidth\":0,\"ticks\":\"\"}}}],\"scatter3d\":[{\"type\":\"scatter3d\",\"line\":{\"colorbar\":{\"outlinewidth\":0,\"ticks\":\"\"}},\"marker\":{\"colorbar\":{\"outlinewidth\":0,\"ticks\":\"\"}}}],\"scattermapbox\":[{\"type\":\"scattermapbox\",\"marker\":{\"colorbar\":{\"outlinewidth\":0,\"ticks\":\"\"}}}],\"scatterternary\":[{\"type\":\"scatterternary\",\"marker\":{\"colorbar\":{\"outlinewidth\":0,\"ticks\":\"\"}}}],\"scattercarpet\":[{\"type\":\"scattercarpet\",\"marker\":{\"colorbar\":{\"outlinewidth\":0,\"ticks\":\"\"}}}],\"carpet\":[{\"aaxis\":{\"endlinecolor\":\"#2a3f5f\",\"gridcolor\":\"white\",\"linecolor\":\"white\",\"minorgridcolor\":\"white\",\"startlinecolor\":\"#2a3f5f\"},\"baxis\":{\"endlinecolor\":\"#2a3f5f\",\"gridcolor\":\"white\",\"linecolor\":\"white\",\"minorgridcolor\":\"white\",\"startlinecolor\":\"#2a3f5f\"},\"type\":\"carpet\"}],\"table\":[{\"cells\":{\"fill\":{\"color\":\"#EBF0F8\"},\"line\":{\"color\":\"white\"}},\"header\":{\"fill\":{\"color\":\"#C8D4E3\"},\"line\":{\"color\":\"white\"}},\"type\":\"table\"}],\"barpolar\":[{\"marker\":{\"line\":{\"color\":\"#E5ECF6\",\"width\":0.5},\"pattern\":{\"fillmode\":\"overlay\",\"size\":10,\"solidity\":0.2}},\"type\":\"barpolar\"}],\"pie\":[{\"automargin\":true,\"type\":\"pie\"}]},\"layout\":{\"autotypenumbers\":\"strict\",\"colorway\":[\"#636efa\",\"#EF553B\",\"#00cc96\",\"#ab63fa\",\"#FFA15A\",\"#19d3f3\",\"#FF6692\",\"#B6E880\",\"#FF97FF\",\"#FECB52\"],\"font\":{\"color\":\"#2a3f5f\"},\"hovermode\":\"closest\",\"hoverlabel\":{\"align\":\"left\"},\"paper_bgcolor\":\"white\",\"plot_bgcolor\":\"#E5ECF6\",\"polar\":{\"bgcolor\":\"#E5ECF6\",\"angularaxis\":{\"gridcolor\":\"white\",\"linecolor\":\"white\",\"ticks\":\"\"},\"radialaxis\":{\"gridcolor\":\"white\",\"linecolor\":\"white\",\"ticks\":\"\"}},\"ternary\":{\"bgcolor\":\"#E5ECF6\",\"aaxis\":{\"gridcolor\":\"white\",\"linecolor\":\"white\",\"ticks\":\"\"},\"baxis\":{\"gridcolor\":\"white\",\"linecolor\":\"white\",\"ticks\":\"\"},\"caxis\":{\"gridcolor\":\"white\",\"linecolor\":\"white\",\"ticks\":\"\"}},\"coloraxis\":{\"colorbar\":{\"outlinewidth\":0,\"ticks\":\"\"}},\"colorscale\":{\"sequential\":[[0.0,\"#0d0887\"],[0.1111111111111111,\"#46039f\"],[0.2222222222222222,\"#7201a8\"],[0.3333333333333333,\"#9c179e\"],[0.4444444444444444,\"#bd3786\"],[0.5555555555555556,\"#d8576b\"],[0.6666666666666666,\"#ed7953\"],[0.7777777777777778,\"#fb9f3a\"],[0.8888888888888888,\"#fdca26\"],[1.0,\"#f0f921\"]],\"sequentialminus\":[[0.0,\"#0d0887\"],[0.1111111111111111,\"#46039f\"],[0.2222222222222222,\"#7201a8\"],[0.3333333333333333,\"#9c179e\"],[0.4444444444444444,\"#bd3786\"],[0.5555555555555556,\"#d8576b\"],[0.6666666666666666,\"#ed7953\"],[0.7777777777777778,\"#fb9f3a\"],[0.8888888888888888,\"#fdca26\"],[1.0,\"#f0f921\"]],\"diverging\":[[0,\"#8e0152\"],[0.1,\"#c51b7d\"],[0.2,\"#de77ae\"],[0.3,\"#f1b6da\"],[0.4,\"#fde0ef\"],[0.5,\"#f7f7f7\"],[0.6,\"#e6f5d0\"],[0.7,\"#b8e186\"],[0.8,\"#7fbc41\"],[0.9,\"#4d9221\"],[1,\"#276419\"]]},\"xaxis\":{\"gridcolor\":\"white\",\"linecolor\":\"white\",\"ticks\":\"\",\"title\":{\"standoff\":15},\"zerolinecolor\":\"white\",\"automargin\":true,\"zerolinewidth\":2},\"yaxis\":{\"gridcolor\":\"white\",\"linecolor\":\"white\",\"ticks\":\"\",\"title\":{\"standoff\":15},\"zerolinecolor\":\"white\",\"automargin\":true,\"zerolinewidth\":2},\"scene\":{\"xaxis\":{\"backgroundcolor\":\"#E5ECF6\",\"gridcolor\":\"white\",\"linecolor\":\"white\",\"showbackground\":true,\"ticks\":\"\",\"zerolinecolor\":\"white\",\"gridwidth\":2},\"yaxis\":{\"backgroundcolor\":\"#E5ECF6\",\"gridcolor\":\"white\",\"linecolor\":\"white\",\"showbackground\":true,\"ticks\":\"\",\"zerolinecolor\":\"white\",\"gridwidth\":2},\"zaxis\":{\"backgroundcolor\":\"#E5ECF6\",\"gridcolor\":\"white\",\"linecolor\":\"white\",\"showbackground\":true,\"ticks\":\"\",\"zerolinecolor\":\"white\",\"gridwidth\":2}},\"shapedefaults\":{\"line\":{\"color\":\"#2a3f5f\"}},\"annotationdefaults\":{\"arrowcolor\":\"#2a3f5f\",\"arrowhead\":0,\"arrowwidth\":1},\"geo\":{\"bgcolor\":\"white\",\"landcolor\":\"#E5ECF6\",\"subunitcolor\":\"white\",\"showland\":true,\"showlakes\":true,\"lakecolor\":\"white\"},\"title\":{\"x\":0.05},\"mapbox\":{\"style\":\"light\"}}},\"annotations\":[{\"font\":{\"color\":\"black\",\"size\":12},\"showarrow\":false,\"text\":\"0.35\",\"x\":2,\"y\":\"\"},{\"font\":{\"color\":\"black\",\"size\":12},\"showarrow\":false,\"text\":\"0.37\",\"x\":3,\"y\":\"\"},{\"font\":{\"color\":\"black\",\"size\":12},\"showarrow\":false,\"text\":\"0.40\",\"x\":4,\"y\":\"\"},{\"font\":{\"color\":\"black\",\"size\":12},\"showarrow\":false,\"text\":\"0.42\",\"x\":5,\"y\":\"\"},{\"font\":{\"color\":\"black\",\"size\":12},\"showarrow\":false,\"text\":\"0.42\",\"x\":6,\"y\":\"\"},{\"font\":{\"color\":\"black\",\"size\":12},\"showarrow\":false,\"text\":\"0.26\",\"x\":7,\"y\":\"\"},{\"font\":{\"color\":\"black\",\"size\":12},\"showarrow\":false,\"text\":\"0.24\",\"x\":8,\"y\":\"\"},{\"font\":{\"color\":\"black\",\"size\":12},\"showarrow\":false,\"text\":\"0.23\",\"x\":9,\"y\":\"\"},{\"font\":{\"color\":\"black\",\"size\":12},\"showarrow\":false,\"text\":\"0.21\",\"x\":10,\"y\":\"\"},{\"font\":{\"color\":\"black\",\"size\":12},\"showarrow\":false,\"text\":\"0.11\",\"x\":11,\"y\":\"\"}],\"yaxis\":{\"title\":{\"text\":\"\"},\"showticklabels\":false},\"title\":{\"text\":\"Dealer Card Bust Probabilities\"},\"xaxis\":{\"title\":{\"text\":\"Dealer Upcard\"}},\"width\":800,\"height\":250},                        {\"responsive\": true}                    ).then(function(){\n",
       "                            \n",
       "var gd = document.getElementById('db3ab8f7-de26-4c43-b656-7d0164fad6c3');\n",
       "var x = new MutationObserver(function (mutations, observer) {{\n",
       "        var display = window.getComputedStyle(gd).display;\n",
       "        if (!display || display === 'none') {{\n",
       "            console.log([gd, 'removed!']);\n",
       "            Plotly.purge(gd);\n",
       "            observer.disconnect();\n",
       "        }}\n",
       "}});\n",
       "\n",
       "// Listen for the removal of the full notebook cells\n",
       "var notebookContainer = gd.closest('#notebook-container');\n",
       "if (notebookContainer) {{\n",
       "    x.observe(notebookContainer, {childList: true});\n",
       "}}\n",
       "\n",
       "// Listen for the clearing of the current output cell\n",
       "var outputEl = gd.closest('.output');\n",
       "if (outputEl) {{\n",
       "    x.observe(outputEl, {childList: true});\n",
       "}}\n",
       "\n",
       "                        })                };                });            </script>        </div>"
      ]
     },
     "metadata": {},
     "output_type": "display_data"
    },
    {
     "data": {
      "application/vnd.plotly.v1+json": {
       "config": {
        "plotlyServerURL": "https://plot.ly"
       },
       "data": [
        {
         "colorscale": [
          [
           0.0,
           "rgb(255,245,240)"
          ],
          [
           0.125,
           "rgb(254,224,210)"
          ],
          [
           0.25,
           "rgb(252,187,161)"
          ],
          [
           0.375,
           "rgb(252,146,114)"
          ],
          [
           0.5,
           "rgb(251,106,74)"
          ],
          [
           0.625,
           "rgb(239,59,44)"
          ],
          [
           0.75,
           "rgb(203,24,29)"
          ],
          [
           0.875,
           "rgb(165,15,21)"
          ],
          [
           1.0,
           "rgb(103,0,13)"
          ]
         ],
         "hovertemplate": "Player Hand: %{x}<br>Usable Ace: %{y}<br>Bust Probability: %{z}<extra></extra>",
         "showscale": false,
         "type": "heatmap",
         "x": [
          12,
          12,
          13,
          13,
          14,
          14,
          15,
          15,
          16,
          16,
          17,
          17,
          18,
          18,
          19,
          19,
          20,
          20,
          21,
          21
         ],
         "y": [
          "Usable Ace",
          "No Usable Ace",
          "Usable Ace",
          "No Usable Ace",
          "Usable Ace",
          "No Usable Ace",
          "Usable Ace",
          "No Usable Ace",
          "Usable Ace",
          "No Usable Ace",
          "Usable Ace",
          "No Usable Ace",
          "Usable Ace",
          "No Usable Ace",
          "Usable Ace",
          "No Usable Ace",
          "Usable Ace",
          "No Usable Ace",
          "Usable Ace",
          "No Usable Ace"
         ],
         "z": [
          0.0,
          0.31372367934983375,
          0.0,
          0.3884143348060874,
          0.0,
          0.46304459251665814,
          0.0,
          0.5327940533449934,
          0.0,
          0.6116066257384455,
          0.0,
          0.6932400349868799,
          0.0,
          0.7633608442700581,
          0.0,
          0.844332642793726,
          0.0,
          0.9188323246707013,
          0.07101947308132875,
          1.0
         ],
         "zmax": 1
        }
       ],
       "layout": {
        "annotations": [
         {
          "font": {
           "color": "black",
           "size": 12
          },
          "showarrow": false,
          "text": "0.00",
          "x": 12,
          "y": "Usable Ace"
         },
         {
          "font": {
           "color": "black",
           "size": 12
          },
          "showarrow": false,
          "text": "0.31",
          "x": 12,
          "y": "No Usable Ace"
         },
         {
          "font": {
           "color": "black",
           "size": 12
          },
          "showarrow": false,
          "text": "0.00",
          "x": 13,
          "y": "Usable Ace"
         },
         {
          "font": {
           "color": "black",
           "size": 12
          },
          "showarrow": false,
          "text": "0.39",
          "x": 13,
          "y": "No Usable Ace"
         },
         {
          "font": {
           "color": "black",
           "size": 12
          },
          "showarrow": false,
          "text": "0.00",
          "x": 14,
          "y": "Usable Ace"
         },
         {
          "font": {
           "color": "black",
           "size": 12
          },
          "showarrow": false,
          "text": "0.46",
          "x": 14,
          "y": "No Usable Ace"
         },
         {
          "font": {
           "color": "black",
           "size": 12
          },
          "showarrow": false,
          "text": "0.00",
          "x": 15,
          "y": "Usable Ace"
         },
         {
          "font": {
           "color": "black",
           "size": 12
          },
          "showarrow": false,
          "text": "0.53",
          "x": 15,
          "y": "No Usable Ace"
         },
         {
          "font": {
           "color": "black",
           "size": 12
          },
          "showarrow": false,
          "text": "0.00",
          "x": 16,
          "y": "Usable Ace"
         },
         {
          "font": {
           "color": "black",
           "size": 12
          },
          "showarrow": false,
          "text": "0.61",
          "x": 16,
          "y": "No Usable Ace"
         },
         {
          "font": {
           "color": "black",
           "size": 12
          },
          "showarrow": false,
          "text": "0.00",
          "x": 17,
          "y": "Usable Ace"
         },
         {
          "font": {
           "color": "black",
           "size": 12
          },
          "showarrow": false,
          "text": "0.69",
          "x": 17,
          "y": "No Usable Ace"
         },
         {
          "font": {
           "color": "black",
           "size": 12
          },
          "showarrow": false,
          "text": "0.00",
          "x": 18,
          "y": "Usable Ace"
         },
         {
          "font": {
           "color": "black",
           "size": 12
          },
          "showarrow": false,
          "text": "0.76",
          "x": 18,
          "y": "No Usable Ace"
         },
         {
          "font": {
           "color": "black",
           "size": 12
          },
          "showarrow": false,
          "text": "0.00",
          "x": 19,
          "y": "Usable Ace"
         },
         {
          "font": {
           "color": "black",
           "size": 12
          },
          "showarrow": false,
          "text": "0.84",
          "x": 19,
          "y": "No Usable Ace"
         },
         {
          "font": {
           "color": "black",
           "size": 12
          },
          "showarrow": false,
          "text": "0.00",
          "x": 20,
          "y": "Usable Ace"
         },
         {
          "font": {
           "color": "black",
           "size": 12
          },
          "showarrow": false,
          "text": "0.92",
          "x": 20,
          "y": "No Usable Ace"
         },
         {
          "font": {
           "color": "black",
           "size": 12
          },
          "showarrow": false,
          "text": "0.07",
          "x": 21,
          "y": "Usable Ace"
         },
         {
          "font": {
           "color": "black",
           "size": 12
          },
          "showarrow": false,
          "text": "1.00",
          "x": 21,
          "y": "No Usable Ace"
         }
        ],
        "height": 300,
        "template": {
         "data": {
          "bar": [
           {
            "error_x": {
             "color": "#2a3f5f"
            },
            "error_y": {
             "color": "#2a3f5f"
            },
            "marker": {
             "line": {
              "color": "#E5ECF6",
              "width": 0.5
             },
             "pattern": {
              "fillmode": "overlay",
              "size": 10,
              "solidity": 0.2
             }
            },
            "type": "bar"
           }
          ],
          "barpolar": [
           {
            "marker": {
             "line": {
              "color": "#E5ECF6",
              "width": 0.5
             },
             "pattern": {
              "fillmode": "overlay",
              "size": 10,
              "solidity": 0.2
             }
            },
            "type": "barpolar"
           }
          ],
          "carpet": [
           {
            "aaxis": {
             "endlinecolor": "#2a3f5f",
             "gridcolor": "white",
             "linecolor": "white",
             "minorgridcolor": "white",
             "startlinecolor": "#2a3f5f"
            },
            "baxis": {
             "endlinecolor": "#2a3f5f",
             "gridcolor": "white",
             "linecolor": "white",
             "minorgridcolor": "white",
             "startlinecolor": "#2a3f5f"
            },
            "type": "carpet"
           }
          ],
          "choropleth": [
           {
            "colorbar": {
             "outlinewidth": 0,
             "ticks": ""
            },
            "type": "choropleth"
           }
          ],
          "contour": [
           {
            "colorbar": {
             "outlinewidth": 0,
             "ticks": ""
            },
            "colorscale": [
             [
              0.0,
              "#0d0887"
             ],
             [
              0.1111111111111111,
              "#46039f"
             ],
             [
              0.2222222222222222,
              "#7201a8"
             ],
             [
              0.3333333333333333,
              "#9c179e"
             ],
             [
              0.4444444444444444,
              "#bd3786"
             ],
             [
              0.5555555555555556,
              "#d8576b"
             ],
             [
              0.6666666666666666,
              "#ed7953"
             ],
             [
              0.7777777777777778,
              "#fb9f3a"
             ],
             [
              0.8888888888888888,
              "#fdca26"
             ],
             [
              1.0,
              "#f0f921"
             ]
            ],
            "type": "contour"
           }
          ],
          "contourcarpet": [
           {
            "colorbar": {
             "outlinewidth": 0,
             "ticks": ""
            },
            "type": "contourcarpet"
           }
          ],
          "heatmap": [
           {
            "colorbar": {
             "outlinewidth": 0,
             "ticks": ""
            },
            "colorscale": [
             [
              0.0,
              "#0d0887"
             ],
             [
              0.1111111111111111,
              "#46039f"
             ],
             [
              0.2222222222222222,
              "#7201a8"
             ],
             [
              0.3333333333333333,
              "#9c179e"
             ],
             [
              0.4444444444444444,
              "#bd3786"
             ],
             [
              0.5555555555555556,
              "#d8576b"
             ],
             [
              0.6666666666666666,
              "#ed7953"
             ],
             [
              0.7777777777777778,
              "#fb9f3a"
             ],
             [
              0.8888888888888888,
              "#fdca26"
             ],
             [
              1.0,
              "#f0f921"
             ]
            ],
            "type": "heatmap"
           }
          ],
          "heatmapgl": [
           {
            "colorbar": {
             "outlinewidth": 0,
             "ticks": ""
            },
            "colorscale": [
             [
              0.0,
              "#0d0887"
             ],
             [
              0.1111111111111111,
              "#46039f"
             ],
             [
              0.2222222222222222,
              "#7201a8"
             ],
             [
              0.3333333333333333,
              "#9c179e"
             ],
             [
              0.4444444444444444,
              "#bd3786"
             ],
             [
              0.5555555555555556,
              "#d8576b"
             ],
             [
              0.6666666666666666,
              "#ed7953"
             ],
             [
              0.7777777777777778,
              "#fb9f3a"
             ],
             [
              0.8888888888888888,
              "#fdca26"
             ],
             [
              1.0,
              "#f0f921"
             ]
            ],
            "type": "heatmapgl"
           }
          ],
          "histogram": [
           {
            "marker": {
             "pattern": {
              "fillmode": "overlay",
              "size": 10,
              "solidity": 0.2
             }
            },
            "type": "histogram"
           }
          ],
          "histogram2d": [
           {
            "colorbar": {
             "outlinewidth": 0,
             "ticks": ""
            },
            "colorscale": [
             [
              0.0,
              "#0d0887"
             ],
             [
              0.1111111111111111,
              "#46039f"
             ],
             [
              0.2222222222222222,
              "#7201a8"
             ],
             [
              0.3333333333333333,
              "#9c179e"
             ],
             [
              0.4444444444444444,
              "#bd3786"
             ],
             [
              0.5555555555555556,
              "#d8576b"
             ],
             [
              0.6666666666666666,
              "#ed7953"
             ],
             [
              0.7777777777777778,
              "#fb9f3a"
             ],
             [
              0.8888888888888888,
              "#fdca26"
             ],
             [
              1.0,
              "#f0f921"
             ]
            ],
            "type": "histogram2d"
           }
          ],
          "histogram2dcontour": [
           {
            "colorbar": {
             "outlinewidth": 0,
             "ticks": ""
            },
            "colorscale": [
             [
              0.0,
              "#0d0887"
             ],
             [
              0.1111111111111111,
              "#46039f"
             ],
             [
              0.2222222222222222,
              "#7201a8"
             ],
             [
              0.3333333333333333,
              "#9c179e"
             ],
             [
              0.4444444444444444,
              "#bd3786"
             ],
             [
              0.5555555555555556,
              "#d8576b"
             ],
             [
              0.6666666666666666,
              "#ed7953"
             ],
             [
              0.7777777777777778,
              "#fb9f3a"
             ],
             [
              0.8888888888888888,
              "#fdca26"
             ],
             [
              1.0,
              "#f0f921"
             ]
            ],
            "type": "histogram2dcontour"
           }
          ],
          "mesh3d": [
           {
            "colorbar": {
             "outlinewidth": 0,
             "ticks": ""
            },
            "type": "mesh3d"
           }
          ],
          "parcoords": [
           {
            "line": {
             "colorbar": {
              "outlinewidth": 0,
              "ticks": ""
             }
            },
            "type": "parcoords"
           }
          ],
          "pie": [
           {
            "automargin": true,
            "type": "pie"
           }
          ],
          "scatter": [
           {
            "fillpattern": {
             "fillmode": "overlay",
             "size": 10,
             "solidity": 0.2
            },
            "type": "scatter"
           }
          ],
          "scatter3d": [
           {
            "line": {
             "colorbar": {
              "outlinewidth": 0,
              "ticks": ""
             }
            },
            "marker": {
             "colorbar": {
              "outlinewidth": 0,
              "ticks": ""
             }
            },
            "type": "scatter3d"
           }
          ],
          "scattercarpet": [
           {
            "marker": {
             "colorbar": {
              "outlinewidth": 0,
              "ticks": ""
             }
            },
            "type": "scattercarpet"
           }
          ],
          "scattergeo": [
           {
            "marker": {
             "colorbar": {
              "outlinewidth": 0,
              "ticks": ""
             }
            },
            "type": "scattergeo"
           }
          ],
          "scattergl": [
           {
            "marker": {
             "colorbar": {
              "outlinewidth": 0,
              "ticks": ""
             }
            },
            "type": "scattergl"
           }
          ],
          "scattermapbox": [
           {
            "marker": {
             "colorbar": {
              "outlinewidth": 0,
              "ticks": ""
             }
            },
            "type": "scattermapbox"
           }
          ],
          "scatterpolar": [
           {
            "marker": {
             "colorbar": {
              "outlinewidth": 0,
              "ticks": ""
             }
            },
            "type": "scatterpolar"
           }
          ],
          "scatterpolargl": [
           {
            "marker": {
             "colorbar": {
              "outlinewidth": 0,
              "ticks": ""
             }
            },
            "type": "scatterpolargl"
           }
          ],
          "scatterternary": [
           {
            "marker": {
             "colorbar": {
              "outlinewidth": 0,
              "ticks": ""
             }
            },
            "type": "scatterternary"
           }
          ],
          "surface": [
           {
            "colorbar": {
             "outlinewidth": 0,
             "ticks": ""
            },
            "colorscale": [
             [
              0.0,
              "#0d0887"
             ],
             [
              0.1111111111111111,
              "#46039f"
             ],
             [
              0.2222222222222222,
              "#7201a8"
             ],
             [
              0.3333333333333333,
              "#9c179e"
             ],
             [
              0.4444444444444444,
              "#bd3786"
             ],
             [
              0.5555555555555556,
              "#d8576b"
             ],
             [
              0.6666666666666666,
              "#ed7953"
             ],
             [
              0.7777777777777778,
              "#fb9f3a"
             ],
             [
              0.8888888888888888,
              "#fdca26"
             ],
             [
              1.0,
              "#f0f921"
             ]
            ],
            "type": "surface"
           }
          ],
          "table": [
           {
            "cells": {
             "fill": {
              "color": "#EBF0F8"
             },
             "line": {
              "color": "white"
             }
            },
            "header": {
             "fill": {
              "color": "#C8D4E3"
             },
             "line": {
              "color": "white"
             }
            },
            "type": "table"
           }
          ]
         },
         "layout": {
          "annotationdefaults": {
           "arrowcolor": "#2a3f5f",
           "arrowhead": 0,
           "arrowwidth": 1
          },
          "autotypenumbers": "strict",
          "coloraxis": {
           "colorbar": {
            "outlinewidth": 0,
            "ticks": ""
           }
          },
          "colorscale": {
           "diverging": [
            [
             0,
             "#8e0152"
            ],
            [
             0.1,
             "#c51b7d"
            ],
            [
             0.2,
             "#de77ae"
            ],
            [
             0.3,
             "#f1b6da"
            ],
            [
             0.4,
             "#fde0ef"
            ],
            [
             0.5,
             "#f7f7f7"
            ],
            [
             0.6,
             "#e6f5d0"
            ],
            [
             0.7,
             "#b8e186"
            ],
            [
             0.8,
             "#7fbc41"
            ],
            [
             0.9,
             "#4d9221"
            ],
            [
             1,
             "#276419"
            ]
           ],
           "sequential": [
            [
             0.0,
             "#0d0887"
            ],
            [
             0.1111111111111111,
             "#46039f"
            ],
            [
             0.2222222222222222,
             "#7201a8"
            ],
            [
             0.3333333333333333,
             "#9c179e"
            ],
            [
             0.4444444444444444,
             "#bd3786"
            ],
            [
             0.5555555555555556,
             "#d8576b"
            ],
            [
             0.6666666666666666,
             "#ed7953"
            ],
            [
             0.7777777777777778,
             "#fb9f3a"
            ],
            [
             0.8888888888888888,
             "#fdca26"
            ],
            [
             1.0,
             "#f0f921"
            ]
           ],
           "sequentialminus": [
            [
             0.0,
             "#0d0887"
            ],
            [
             0.1111111111111111,
             "#46039f"
            ],
            [
             0.2222222222222222,
             "#7201a8"
            ],
            [
             0.3333333333333333,
             "#9c179e"
            ],
            [
             0.4444444444444444,
             "#bd3786"
            ],
            [
             0.5555555555555556,
             "#d8576b"
            ],
            [
             0.6666666666666666,
             "#ed7953"
            ],
            [
             0.7777777777777778,
             "#fb9f3a"
            ],
            [
             0.8888888888888888,
             "#fdca26"
            ],
            [
             1.0,
             "#f0f921"
            ]
           ]
          },
          "colorway": [
           "#636efa",
           "#EF553B",
           "#00cc96",
           "#ab63fa",
           "#FFA15A",
           "#19d3f3",
           "#FF6692",
           "#B6E880",
           "#FF97FF",
           "#FECB52"
          ],
          "font": {
           "color": "#2a3f5f"
          },
          "geo": {
           "bgcolor": "white",
           "lakecolor": "white",
           "landcolor": "#E5ECF6",
           "showlakes": true,
           "showland": true,
           "subunitcolor": "white"
          },
          "hoverlabel": {
           "align": "left"
          },
          "hovermode": "closest",
          "mapbox": {
           "style": "light"
          },
          "paper_bgcolor": "white",
          "plot_bgcolor": "#E5ECF6",
          "polar": {
           "angularaxis": {
            "gridcolor": "white",
            "linecolor": "white",
            "ticks": ""
           },
           "bgcolor": "#E5ECF6",
           "radialaxis": {
            "gridcolor": "white",
            "linecolor": "white",
            "ticks": ""
           }
          },
          "scene": {
           "xaxis": {
            "backgroundcolor": "#E5ECF6",
            "gridcolor": "white",
            "gridwidth": 2,
            "linecolor": "white",
            "showbackground": true,
            "ticks": "",
            "zerolinecolor": "white"
           },
           "yaxis": {
            "backgroundcolor": "#E5ECF6",
            "gridcolor": "white",
            "gridwidth": 2,
            "linecolor": "white",
            "showbackground": true,
            "ticks": "",
            "zerolinecolor": "white"
           },
           "zaxis": {
            "backgroundcolor": "#E5ECF6",
            "gridcolor": "white",
            "gridwidth": 2,
            "linecolor": "white",
            "showbackground": true,
            "ticks": "",
            "zerolinecolor": "white"
           }
          },
          "shapedefaults": {
           "line": {
            "color": "#2a3f5f"
           }
          },
          "ternary": {
           "aaxis": {
            "gridcolor": "white",
            "linecolor": "white",
            "ticks": ""
           },
           "baxis": {
            "gridcolor": "white",
            "linecolor": "white",
            "ticks": ""
           },
           "bgcolor": "#E5ECF6",
           "caxis": {
            "gridcolor": "white",
            "linecolor": "white",
            "ticks": ""
           }
          },
          "title": {
           "x": 0.05
          },
          "xaxis": {
           "automargin": true,
           "gridcolor": "white",
           "linecolor": "white",
           "ticks": "",
           "title": {
            "standoff": 15
           },
           "zerolinecolor": "white",
           "zerolinewidth": 2
          },
          "yaxis": {
           "automargin": true,
           "gridcolor": "white",
           "linecolor": "white",
           "ticks": "",
           "title": {
            "standoff": 15
           },
           "zerolinecolor": "white",
           "zerolinewidth": 2
          }
         }
        },
        "title": {
         "text": "Player Bust Probabilities"
        },
        "width": 800,
        "xaxis": {
         "title": {
          "text": "Player Hand"
         }
        },
        "yaxis": {
         "showticklabels": true,
         "title": {
          "text": ""
         }
        }
       }
      },
      "text/html": [
       "<div>                            <div id=\"5801afa4-eac1-4d3e-a5fb-2a55c0f13ff2\" class=\"plotly-graph-div\" style=\"height:300px; width:800px;\"></div>            <script type=\"text/javascript\">                require([\"plotly\"], function(Plotly) {                    window.PLOTLYENV=window.PLOTLYENV || {};                                    if (document.getElementById(\"5801afa4-eac1-4d3e-a5fb-2a55c0f13ff2\")) {                    Plotly.newPlot(                        \"5801afa4-eac1-4d3e-a5fb-2a55c0f13ff2\",                        [{\"colorscale\":[[0.0,\"rgb(255,245,240)\"],[0.125,\"rgb(254,224,210)\"],[0.25,\"rgb(252,187,161)\"],[0.375,\"rgb(252,146,114)\"],[0.5,\"rgb(251,106,74)\"],[0.625,\"rgb(239,59,44)\"],[0.75,\"rgb(203,24,29)\"],[0.875,\"rgb(165,15,21)\"],[1.0,\"rgb(103,0,13)\"]],\"hovertemplate\":\"Player Hand: %{x}<br>Usable Ace: %{y}<br>Bust Probability: %{z}<extra></extra>\",\"showscale\":false,\"x\":[12,12,13,13,14,14,15,15,16,16,17,17,18,18,19,19,20,20,21,21],\"y\":[\"Usable Ace\",\"No Usable Ace\",\"Usable Ace\",\"No Usable Ace\",\"Usable Ace\",\"No Usable Ace\",\"Usable Ace\",\"No Usable Ace\",\"Usable Ace\",\"No Usable Ace\",\"Usable Ace\",\"No Usable Ace\",\"Usable Ace\",\"No Usable Ace\",\"Usable Ace\",\"No Usable Ace\",\"Usable Ace\",\"No Usable Ace\",\"Usable Ace\",\"No Usable Ace\"],\"z\":[0.0,0.31372367934983375,0.0,0.3884143348060874,0.0,0.46304459251665814,0.0,0.5327940533449934,0.0,0.6116066257384455,0.0,0.6932400349868799,0.0,0.7633608442700581,0.0,0.844332642793726,0.0,0.9188323246707013,0.07101947308132875,1.0],\"zmax\":1,\"type\":\"heatmap\"}],                        {\"template\":{\"data\":{\"histogram2dcontour\":[{\"type\":\"histogram2dcontour\",\"colorbar\":{\"outlinewidth\":0,\"ticks\":\"\"},\"colorscale\":[[0.0,\"#0d0887\"],[0.1111111111111111,\"#46039f\"],[0.2222222222222222,\"#7201a8\"],[0.3333333333333333,\"#9c179e\"],[0.4444444444444444,\"#bd3786\"],[0.5555555555555556,\"#d8576b\"],[0.6666666666666666,\"#ed7953\"],[0.7777777777777778,\"#fb9f3a\"],[0.8888888888888888,\"#fdca26\"],[1.0,\"#f0f921\"]]}],\"choropleth\":[{\"type\":\"choropleth\",\"colorbar\":{\"outlinewidth\":0,\"ticks\":\"\"}}],\"histogram2d\":[{\"type\":\"histogram2d\",\"colorbar\":{\"outlinewidth\":0,\"ticks\":\"\"},\"colorscale\":[[0.0,\"#0d0887\"],[0.1111111111111111,\"#46039f\"],[0.2222222222222222,\"#7201a8\"],[0.3333333333333333,\"#9c179e\"],[0.4444444444444444,\"#bd3786\"],[0.5555555555555556,\"#d8576b\"],[0.6666666666666666,\"#ed7953\"],[0.7777777777777778,\"#fb9f3a\"],[0.8888888888888888,\"#fdca26\"],[1.0,\"#f0f921\"]]}],\"heatmap\":[{\"type\":\"heatmap\",\"colorbar\":{\"outlinewidth\":0,\"ticks\":\"\"},\"colorscale\":[[0.0,\"#0d0887\"],[0.1111111111111111,\"#46039f\"],[0.2222222222222222,\"#7201a8\"],[0.3333333333333333,\"#9c179e\"],[0.4444444444444444,\"#bd3786\"],[0.5555555555555556,\"#d8576b\"],[0.6666666666666666,\"#ed7953\"],[0.7777777777777778,\"#fb9f3a\"],[0.8888888888888888,\"#fdca26\"],[1.0,\"#f0f921\"]]}],\"heatmapgl\":[{\"type\":\"heatmapgl\",\"colorbar\":{\"outlinewidth\":0,\"ticks\":\"\"},\"colorscale\":[[0.0,\"#0d0887\"],[0.1111111111111111,\"#46039f\"],[0.2222222222222222,\"#7201a8\"],[0.3333333333333333,\"#9c179e\"],[0.4444444444444444,\"#bd3786\"],[0.5555555555555556,\"#d8576b\"],[0.6666666666666666,\"#ed7953\"],[0.7777777777777778,\"#fb9f3a\"],[0.8888888888888888,\"#fdca26\"],[1.0,\"#f0f921\"]]}],\"contourcarpet\":[{\"type\":\"contourcarpet\",\"colorbar\":{\"outlinewidth\":0,\"ticks\":\"\"}}],\"contour\":[{\"type\":\"contour\",\"colorbar\":{\"outlinewidth\":0,\"ticks\":\"\"},\"colorscale\":[[0.0,\"#0d0887\"],[0.1111111111111111,\"#46039f\"],[0.2222222222222222,\"#7201a8\"],[0.3333333333333333,\"#9c179e\"],[0.4444444444444444,\"#bd3786\"],[0.5555555555555556,\"#d8576b\"],[0.6666666666666666,\"#ed7953\"],[0.7777777777777778,\"#fb9f3a\"],[0.8888888888888888,\"#fdca26\"],[1.0,\"#f0f921\"]]}],\"surface\":[{\"type\":\"surface\",\"colorbar\":{\"outlinewidth\":0,\"ticks\":\"\"},\"colorscale\":[[0.0,\"#0d0887\"],[0.1111111111111111,\"#46039f\"],[0.2222222222222222,\"#7201a8\"],[0.3333333333333333,\"#9c179e\"],[0.4444444444444444,\"#bd3786\"],[0.5555555555555556,\"#d8576b\"],[0.6666666666666666,\"#ed7953\"],[0.7777777777777778,\"#fb9f3a\"],[0.8888888888888888,\"#fdca26\"],[1.0,\"#f0f921\"]]}],\"mesh3d\":[{\"type\":\"mesh3d\",\"colorbar\":{\"outlinewidth\":0,\"ticks\":\"\"}}],\"scatter\":[{\"fillpattern\":{\"fillmode\":\"overlay\",\"size\":10,\"solidity\":0.2},\"type\":\"scatter\"}],\"parcoords\":[{\"type\":\"parcoords\",\"line\":{\"colorbar\":{\"outlinewidth\":0,\"ticks\":\"\"}}}],\"scatterpolargl\":[{\"type\":\"scatterpolargl\",\"marker\":{\"colorbar\":{\"outlinewidth\":0,\"ticks\":\"\"}}}],\"bar\":[{\"error_x\":{\"color\":\"#2a3f5f\"},\"error_y\":{\"color\":\"#2a3f5f\"},\"marker\":{\"line\":{\"color\":\"#E5ECF6\",\"width\":0.5},\"pattern\":{\"fillmode\":\"overlay\",\"size\":10,\"solidity\":0.2}},\"type\":\"bar\"}],\"scattergeo\":[{\"type\":\"scattergeo\",\"marker\":{\"colorbar\":{\"outlinewidth\":0,\"ticks\":\"\"}}}],\"scatterpolar\":[{\"type\":\"scatterpolar\",\"marker\":{\"colorbar\":{\"outlinewidth\":0,\"ticks\":\"\"}}}],\"histogram\":[{\"marker\":{\"pattern\":{\"fillmode\":\"overlay\",\"size\":10,\"solidity\":0.2}},\"type\":\"histogram\"}],\"scattergl\":[{\"type\":\"scattergl\",\"marker\":{\"colorbar\":{\"outlinewidth\":0,\"ticks\":\"\"}}}],\"scatter3d\":[{\"type\":\"scatter3d\",\"line\":{\"colorbar\":{\"outlinewidth\":0,\"ticks\":\"\"}},\"marker\":{\"colorbar\":{\"outlinewidth\":0,\"ticks\":\"\"}}}],\"scattermapbox\":[{\"type\":\"scattermapbox\",\"marker\":{\"colorbar\":{\"outlinewidth\":0,\"ticks\":\"\"}}}],\"scatterternary\":[{\"type\":\"scatterternary\",\"marker\":{\"colorbar\":{\"outlinewidth\":0,\"ticks\":\"\"}}}],\"scattercarpet\":[{\"type\":\"scattercarpet\",\"marker\":{\"colorbar\":{\"outlinewidth\":0,\"ticks\":\"\"}}}],\"carpet\":[{\"aaxis\":{\"endlinecolor\":\"#2a3f5f\",\"gridcolor\":\"white\",\"linecolor\":\"white\",\"minorgridcolor\":\"white\",\"startlinecolor\":\"#2a3f5f\"},\"baxis\":{\"endlinecolor\":\"#2a3f5f\",\"gridcolor\":\"white\",\"linecolor\":\"white\",\"minorgridcolor\":\"white\",\"startlinecolor\":\"#2a3f5f\"},\"type\":\"carpet\"}],\"table\":[{\"cells\":{\"fill\":{\"color\":\"#EBF0F8\"},\"line\":{\"color\":\"white\"}},\"header\":{\"fill\":{\"color\":\"#C8D4E3\"},\"line\":{\"color\":\"white\"}},\"type\":\"table\"}],\"barpolar\":[{\"marker\":{\"line\":{\"color\":\"#E5ECF6\",\"width\":0.5},\"pattern\":{\"fillmode\":\"overlay\",\"size\":10,\"solidity\":0.2}},\"type\":\"barpolar\"}],\"pie\":[{\"automargin\":true,\"type\":\"pie\"}]},\"layout\":{\"autotypenumbers\":\"strict\",\"colorway\":[\"#636efa\",\"#EF553B\",\"#00cc96\",\"#ab63fa\",\"#FFA15A\",\"#19d3f3\",\"#FF6692\",\"#B6E880\",\"#FF97FF\",\"#FECB52\"],\"font\":{\"color\":\"#2a3f5f\"},\"hovermode\":\"closest\",\"hoverlabel\":{\"align\":\"left\"},\"paper_bgcolor\":\"white\",\"plot_bgcolor\":\"#E5ECF6\",\"polar\":{\"bgcolor\":\"#E5ECF6\",\"angularaxis\":{\"gridcolor\":\"white\",\"linecolor\":\"white\",\"ticks\":\"\"},\"radialaxis\":{\"gridcolor\":\"white\",\"linecolor\":\"white\",\"ticks\":\"\"}},\"ternary\":{\"bgcolor\":\"#E5ECF6\",\"aaxis\":{\"gridcolor\":\"white\",\"linecolor\":\"white\",\"ticks\":\"\"},\"baxis\":{\"gridcolor\":\"white\",\"linecolor\":\"white\",\"ticks\":\"\"},\"caxis\":{\"gridcolor\":\"white\",\"linecolor\":\"white\",\"ticks\":\"\"}},\"coloraxis\":{\"colorbar\":{\"outlinewidth\":0,\"ticks\":\"\"}},\"colorscale\":{\"sequential\":[[0.0,\"#0d0887\"],[0.1111111111111111,\"#46039f\"],[0.2222222222222222,\"#7201a8\"],[0.3333333333333333,\"#9c179e\"],[0.4444444444444444,\"#bd3786\"],[0.5555555555555556,\"#d8576b\"],[0.6666666666666666,\"#ed7953\"],[0.7777777777777778,\"#fb9f3a\"],[0.8888888888888888,\"#fdca26\"],[1.0,\"#f0f921\"]],\"sequentialminus\":[[0.0,\"#0d0887\"],[0.1111111111111111,\"#46039f\"],[0.2222222222222222,\"#7201a8\"],[0.3333333333333333,\"#9c179e\"],[0.4444444444444444,\"#bd3786\"],[0.5555555555555556,\"#d8576b\"],[0.6666666666666666,\"#ed7953\"],[0.7777777777777778,\"#fb9f3a\"],[0.8888888888888888,\"#fdca26\"],[1.0,\"#f0f921\"]],\"diverging\":[[0,\"#8e0152\"],[0.1,\"#c51b7d\"],[0.2,\"#de77ae\"],[0.3,\"#f1b6da\"],[0.4,\"#fde0ef\"],[0.5,\"#f7f7f7\"],[0.6,\"#e6f5d0\"],[0.7,\"#b8e186\"],[0.8,\"#7fbc41\"],[0.9,\"#4d9221\"],[1,\"#276419\"]]},\"xaxis\":{\"gridcolor\":\"white\",\"linecolor\":\"white\",\"ticks\":\"\",\"title\":{\"standoff\":15},\"zerolinecolor\":\"white\",\"automargin\":true,\"zerolinewidth\":2},\"yaxis\":{\"gridcolor\":\"white\",\"linecolor\":\"white\",\"ticks\":\"\",\"title\":{\"standoff\":15},\"zerolinecolor\":\"white\",\"automargin\":true,\"zerolinewidth\":2},\"scene\":{\"xaxis\":{\"backgroundcolor\":\"#E5ECF6\",\"gridcolor\":\"white\",\"linecolor\":\"white\",\"showbackground\":true,\"ticks\":\"\",\"zerolinecolor\":\"white\",\"gridwidth\":2},\"yaxis\":{\"backgroundcolor\":\"#E5ECF6\",\"gridcolor\":\"white\",\"linecolor\":\"white\",\"showbackground\":true,\"ticks\":\"\",\"zerolinecolor\":\"white\",\"gridwidth\":2},\"zaxis\":{\"backgroundcolor\":\"#E5ECF6\",\"gridcolor\":\"white\",\"linecolor\":\"white\",\"showbackground\":true,\"ticks\":\"\",\"zerolinecolor\":\"white\",\"gridwidth\":2}},\"shapedefaults\":{\"line\":{\"color\":\"#2a3f5f\"}},\"annotationdefaults\":{\"arrowcolor\":\"#2a3f5f\",\"arrowhead\":0,\"arrowwidth\":1},\"geo\":{\"bgcolor\":\"white\",\"landcolor\":\"#E5ECF6\",\"subunitcolor\":\"white\",\"showland\":true,\"showlakes\":true,\"lakecolor\":\"white\"},\"title\":{\"x\":0.05},\"mapbox\":{\"style\":\"light\"}}},\"annotations\":[{\"font\":{\"color\":\"black\",\"size\":12},\"showarrow\":false,\"text\":\"0.00\",\"x\":12,\"y\":\"Usable Ace\"},{\"font\":{\"color\":\"black\",\"size\":12},\"showarrow\":false,\"text\":\"0.31\",\"x\":12,\"y\":\"No Usable Ace\"},{\"font\":{\"color\":\"black\",\"size\":12},\"showarrow\":false,\"text\":\"0.00\",\"x\":13,\"y\":\"Usable Ace\"},{\"font\":{\"color\":\"black\",\"size\":12},\"showarrow\":false,\"text\":\"0.39\",\"x\":13,\"y\":\"No Usable Ace\"},{\"font\":{\"color\":\"black\",\"size\":12},\"showarrow\":false,\"text\":\"0.00\",\"x\":14,\"y\":\"Usable Ace\"},{\"font\":{\"color\":\"black\",\"size\":12},\"showarrow\":false,\"text\":\"0.46\",\"x\":14,\"y\":\"No Usable Ace\"},{\"font\":{\"color\":\"black\",\"size\":12},\"showarrow\":false,\"text\":\"0.00\",\"x\":15,\"y\":\"Usable Ace\"},{\"font\":{\"color\":\"black\",\"size\":12},\"showarrow\":false,\"text\":\"0.53\",\"x\":15,\"y\":\"No Usable Ace\"},{\"font\":{\"color\":\"black\",\"size\":12},\"showarrow\":false,\"text\":\"0.00\",\"x\":16,\"y\":\"Usable Ace\"},{\"font\":{\"color\":\"black\",\"size\":12},\"showarrow\":false,\"text\":\"0.61\",\"x\":16,\"y\":\"No Usable Ace\"},{\"font\":{\"color\":\"black\",\"size\":12},\"showarrow\":false,\"text\":\"0.00\",\"x\":17,\"y\":\"Usable Ace\"},{\"font\":{\"color\":\"black\",\"size\":12},\"showarrow\":false,\"text\":\"0.69\",\"x\":17,\"y\":\"No Usable Ace\"},{\"font\":{\"color\":\"black\",\"size\":12},\"showarrow\":false,\"text\":\"0.00\",\"x\":18,\"y\":\"Usable Ace\"},{\"font\":{\"color\":\"black\",\"size\":12},\"showarrow\":false,\"text\":\"0.76\",\"x\":18,\"y\":\"No Usable Ace\"},{\"font\":{\"color\":\"black\",\"size\":12},\"showarrow\":false,\"text\":\"0.00\",\"x\":19,\"y\":\"Usable Ace\"},{\"font\":{\"color\":\"black\",\"size\":12},\"showarrow\":false,\"text\":\"0.84\",\"x\":19,\"y\":\"No Usable Ace\"},{\"font\":{\"color\":\"black\",\"size\":12},\"showarrow\":false,\"text\":\"0.00\",\"x\":20,\"y\":\"Usable Ace\"},{\"font\":{\"color\":\"black\",\"size\":12},\"showarrow\":false,\"text\":\"0.92\",\"x\":20,\"y\":\"No Usable Ace\"},{\"font\":{\"color\":\"black\",\"size\":12},\"showarrow\":false,\"text\":\"0.07\",\"x\":21,\"y\":\"Usable Ace\"},{\"font\":{\"color\":\"black\",\"size\":12},\"showarrow\":false,\"text\":\"1.00\",\"x\":21,\"y\":\"No Usable Ace\"}],\"yaxis\":{\"title\":{\"text\":\"\"},\"showticklabels\":true},\"title\":{\"text\":\"Player Bust Probabilities\"},\"xaxis\":{\"title\":{\"text\":\"Player Hand\"}},\"width\":800,\"height\":300},                        {\"responsive\": true}                    ).then(function(){\n",
       "                            \n",
       "var gd = document.getElementById('5801afa4-eac1-4d3e-a5fb-2a55c0f13ff2');\n",
       "var x = new MutationObserver(function (mutations, observer) {{\n",
       "        var display = window.getComputedStyle(gd).display;\n",
       "        if (!display || display === 'none') {{\n",
       "            console.log([gd, 'removed!']);\n",
       "            Plotly.purge(gd);\n",
       "            observer.disconnect();\n",
       "        }}\n",
       "}});\n",
       "\n",
       "// Listen for the removal of the full notebook cells\n",
       "var notebookContainer = gd.closest('#notebook-container');\n",
       "if (notebookContainer) {{\n",
       "    x.observe(notebookContainer, {childList: true});\n",
       "}}\n",
       "\n",
       "// Listen for the clearing of the current output cell\n",
       "var outputEl = gd.closest('.output');\n",
       "if (outputEl) {{\n",
       "    x.observe(outputEl, {childList: true});\n",
       "}}\n",
       "\n",
       "                        })                };                });            </script>        </div>"
      ]
     },
     "metadata": {},
     "output_type": "display_data"
    }
   ],
   "source": [
    "def calculate_dealer_bust(n_trials=10000, n_decks=4):\n",
    "    \n",
    "    probabilities = {i : 0 for i in range(2, 12)}\n",
    "    busts = {i : 0 for i in range(2, 12)}\n",
    "    visits = {i : 0 for i in range(2, 12)}\n",
    "    \n",
    "    def reset_deck():\n",
    "        deck = [2,3,4,5,6,7,8,9,10,10,10,10,11] * 4 * n_decks\n",
    "        random.shuffle(deck)\n",
    "        return deck\n",
    "        \n",
    "    def draw_card(deck):\n",
    "        card = random.choice(deck)\n",
    "        return deck.pop(deck.index(card))\n",
    "    \n",
    "    def calculate_total(hand):\n",
    "        if sum(hand) > 21 and 11 in hand:\n",
    "            hand[hand.index(11)] = 1\n",
    "        return sum(hand)\n",
    "    \n",
    "    for _ in range(n_trials):\n",
    "        deck = reset_deck()\n",
    "\n",
    "        hand = []\n",
    "        start_card = draw_card(deck)\n",
    "        hand.append(start_card)\n",
    "        hand.append(draw_card(deck))\n",
    "        \n",
    "        while calculate_total(hand) < 17:\n",
    "            hand.append(draw_card(deck))\n",
    "            \n",
    "        if calculate_total(hand) > 21:\n",
    "            bust = 1\n",
    "        else:\n",
    "            bust = 0\n",
    "        \n",
    "        visits[start_card] += 1\n",
    "        busts[start_card] += bust\n",
    "        probabilities[start_card] = busts[start_card]/visits[start_card]\n",
    "\n",
    "    return probabilities\n",
    "    \n",
    "def calculate_player_bust(n_trials=10000, n_decks=4):\n",
    "    \n",
    "    probabilities = {(i,t) : 0 for i in range(12, 22) for t in (True,False)}\n",
    "    busts = {(i,t) : 0 for i in range(12, 22) for t in (True,False)}\n",
    "    visits = {(i,t) : 0 for i in range(12, 22) for t in (True,False)}\n",
    "    \n",
    "    def reset_deck():\n",
    "        deck = [2,3,4,5,6,7,8,9,10,10,10,10,11] * 4 * n_decks\n",
    "        random.shuffle(deck)\n",
    "        return deck\n",
    "        \n",
    "    def draw_card(deck):\n",
    "        card = random.choice(deck)\n",
    "        return deck.pop(deck.index(card))\n",
    "    \n",
    "    def calculate_total(hand):\n",
    "        if sum(hand) > 21 and 11 in hand:\n",
    "            hand[hand.index(11)] = 1\n",
    "        return sum(hand)\n",
    "    \n",
    "    for _ in range(n_trials):\n",
    "        deck = reset_deck()\n",
    "\n",
    "        hand = []\n",
    "        hand.append(draw_card(deck))\n",
    "        hand.append(draw_card(deck))\n",
    "        total = calculate_total(hand)\n",
    "        \n",
    "        while total <= 11:\n",
    "            hand.append(draw_card(deck))\n",
    "            total = calculate_total(hand)\n",
    "            \n",
    "        start = total\n",
    "        ace = True if 11 in hand else False\n",
    "        \n",
    "        hand.append(draw_card(deck))\n",
    "            \n",
    "        if calculate_total(hand) > 21:\n",
    "            bust = 1\n",
    "        else:\n",
    "            bust = 0\n",
    "        \n",
    "        visits[(start, ace)] += 1\n",
    "        busts[(start, ace)] += bust\n",
    "        probabilities[(start, ace)] = busts[(start, ace)]/visits[(start, ace)]\n",
    "\n",
    "    return probabilities\n",
    "\n",
    "def plot_dealer_bust_probabilities(prob_dict, title='Dealer Card Bust Probabilities'):\n",
    "    keys = list(prob_dict.keys())\n",
    "    values = list(prob_dict.values())\n",
    "\n",
    "    fig = go.Figure(data=go.Heatmap(\n",
    "        z=[values], \n",
    "        x=keys, \n",
    "        y=[''], \n",
    "        colorscale='Reds',\n",
    "        zmax=1,\n",
    "        showscale=False,\n",
    "        hovertemplate = 'Dealer Upcard: %{x}<br>Bust Probability: %{z}<extra></extra>',\n",
    "    ))\n",
    "\n",
    "    # Adding annotations\n",
    "    for i, val in enumerate(values):\n",
    "        fig.add_annotation(\n",
    "            x=keys[i], \n",
    "            y='', \n",
    "            text=\"{:.2f}\".format(val),\n",
    "            showarrow=False,\n",
    "            font=dict(\n",
    "                color=\"black\",\n",
    "                size=12\n",
    "            )\n",
    "        )\n",
    "\n",
    "    fig.update_layout(\n",
    "        title=title,\n",
    "        xaxis=dict(title='Dealer Upcard'),\n",
    "        yaxis=dict(title='', showticklabels=False),\n",
    "        width=800,\n",
    "        height=250\n",
    "    )\n",
    "    \n",
    "    fig.show()\n",
    "    \n",
    "    \n",
    "def plot_player_bust_probabilities(prob_dict, title='Player Bust Probabilities'):\n",
    "    # Create DataFrame from prob_dict\n",
    "    df = pd.DataFrame(\n",
    "        [(k[0], k[1], v) for k, v in prob_dict.items()],\n",
    "        columns=['Player Hand', 'Usable Ace', 'Bust Probability']\n",
    "    )\n",
    "    df['Usable Ace'] = df['Usable Ace'].map({True: 'Usable Ace', False: 'No Usable Ace'})  # convert boolean to string\n",
    "    \n",
    "    fig = go.Figure(data=go.Heatmap(\n",
    "        z=df['Bust Probability'],\n",
    "        x=df['Player Hand'],\n",
    "        y=df['Usable Ace'],\n",
    "        colorscale='Reds',\n",
    "        zmax=1,\n",
    "        showscale=False,\n",
    "        hovertemplate='Player Hand: %{x}<br>Usable Ace: %{y}<br>Bust Probability: %{z}<extra></extra>',\n",
    "    ))\n",
    "\n",
    "    # Adding annotations\n",
    "    for i, row in df.iterrows():\n",
    "        fig.add_annotation(\n",
    "            x=row['Player Hand'], \n",
    "            y=row['Usable Ace'], \n",
    "            text=\"{:.2f}\".format(row['Bust Probability']),\n",
    "            showarrow=False,\n",
    "            font=dict(color=\"black\", size=12)\n",
    "        )\n",
    "\n",
    "    fig.update_layout(\n",
    "        title=title,\n",
    "        xaxis=dict(title='Player Hand'),\n",
    "        yaxis=dict(title='', showticklabels=True),\n",
    "        width=800,\n",
    "        height=300\n",
    "    )\n",
    "    \n",
    "    fig.show()\n",
    "    \n",
    "dealer_bust_probabilities = calculate_dealer_bust(n_trials=100000)\n",
    "player_bust_probabilities = calculate_player_bust(n_trials=100000)\n",
    "\n",
    "plot_dealer_bust_probabilities(dealer_bust_probabilities)\n",
    "plot_player_bust_probabilities(player_bust_probabilities)"
   ]
  },
  {
   "cell_type": "markdown",
   "id": "1aa16e4a",
   "metadata": {
    "papermill": {
     "duration": 0.06803,
     "end_time": "2023-06-19T08:42:40.042141",
     "exception": false,
     "start_time": "2023-06-19T08:42:39.974111",
     "status": "completed"
    },
    "tags": []
   },
   "source": [
    "### Calculating hand priorities\n",
    "Now let's initialize the priorities dictionary, with a value for each state, then calculate the priority value for each state. States with higher variance get a higher priority. We will then pass this computed dictionary to our Monte Carlo agent and include the four improvements we mentioned prior."
   ]
  },
  {
   "cell_type": "code",
   "execution_count": 9,
   "id": "2cec67e2",
   "metadata": {
    "_kg_hide-input": true,
    "execution": {
     "iopub.execute_input": "2023-06-19T08:42:40.183599Z",
     "iopub.status.busy": "2023-06-19T08:42:40.183139Z",
     "iopub.status.idle": "2023-06-19T12:59:53.473101Z",
     "shell.execute_reply": "2023-06-19T12:59:53.471913Z"
    },
    "papermill": {
     "duration": 15433.459711,
     "end_time": "2023-06-19T12:59:53.569198",
     "exception": false,
     "start_time": "2023-06-19T08:42:40.109487",
     "status": "completed"
    },
    "tags": []
   },
   "outputs": [
    {
     "data": {
      "application/vnd.plotly.v1+json": {
       "config": {
        "plotlyServerURL": "https://plot.ly"
       },
       "data": [
        {
         "cmid": 0,
         "colorscale": [
          [
           0,
           "#0C3584"
          ],
          [
           0.3,
           "#4394A9"
          ],
          [
           0.5,
           "#BCBCBC"
          ],
          [
           0.7,
           "#F29B39"
          ],
          [
           1,
           "#DA201F"
          ]
         ],
         "contours": {
          "x": {
           "color": "rgba(200, 200, 200, 0.95)",
           "end": 11,
           "show": true,
           "size": 1,
           "start": 2
          },
          "y": {
           "color": "rgba(200, 200, 200, 0.95)",
           "end": 21,
           "show": true,
           "size": 1,
           "start": 4
          },
          "z": {
           "color": "white",
           "end": 9.62872971134221,
           "show": false,
           "size": 1,
           "start": -5.472647702407002
          }
         },
         "opacity": 0.85,
         "showscale": true,
         "type": "surface",
         "x": [
          2,
          3,
          4,
          5,
          6,
          7,
          8,
          9,
          10,
          11
         ],
         "y": [
          4,
          5,
          6,
          7,
          8,
          9,
          10,
          11,
          12,
          13,
          14,
          15,
          16,
          17,
          18,
          19,
          20,
          21
         ],
         "z": [
          [
           -1.6986301369863013,
           -0.47393364928909953,
           -0.34934497816593885,
           -0.1201923076923077,
           0.6,
           -2.0,
           -2.803970223325062,
           -2.8636363636363638,
           -3.0421118793211814,
           -3.367003367003367
          ],
          [
           -1.3561190738699007,
           -0.693069306930693,
           -0.03476245654692932,
           -0.4017372421281216,
           -0.1,
           -1.4581066376496192,
           -2.7114967462039044,
           -2.967741935483871,
           -3.339135480127647,
           -2.640901771336554
          ],
          [
           -1.769059955588453,
           -1.3323239969719909,
           -0.436477007014809,
           -0.5377906976744186,
           -0.17458100558659218,
           -2.2149122807017543,
           -3.1227821149751596,
           -3.278453829634932,
           -3.7120185794464873,
           -3.3153347732181424
          ],
          [
           -1.0999471179270228,
           -0.518918918918919,
           -0.3172978505629478,
           0.11505752876438219,
           0.44148936170212766,
           -1.1012987012987012,
           -2.440318302387268,
           -3.4055727554179565,
           -3.301093355761144,
           -3.427719821162444
          ],
          [
           -0.22617124394184168,
           0.09383924928600572,
           0.5047579644187009,
           1.0072815533980584,
           1.5847665847665848,
           0.7592891760904685,
           -0.7220653489310206,
           -2.350835322195704,
           -2.6031499556344277,
           -2.0752498530276307
          ],
          [
           0.5223880597014925,
           1.3416230366492146,
           1.3454777884308087,
           1.7300131061598951,
           1.9446297531687793,
           1.4257490945011524,
           0.6932981181908221,
           -0.4737183646982479,
           -1.5657837603126357,
           -0.7358916478555305
          ],
          [
           2.2515321076472157,
           2.158506897484447,
           2.5910064239828694,
           2.7891339429800968,
           3.095367847411444,
           2.529118136439268,
           1.737265415549598,
           1.1602806260118725,
           0.25088059808784413,
           0.5141980046047583
          ],
          [
           2.4242424242424243,
           2.4917878930079773,
           3.0774410774410774,
           3.079185520361991,
           3.6371861569780592,
           2.5023255813953487,
           2.1094640820980617,
           1.3671344499773652,
           1.1208512181851158,
           1.5392320534223707
          ],
          [
           -3.0434782608695654,
           -2.5253664036076664,
           -2.0686129728501648,
           -1.5608108108108107,
           -1.505339304168102,
           -2.4028349336991313,
           -3.1237788759912655,
           -3.6847469142792435,
           -3.872598584428716,
           -3.7250332889480693
          ],
          [
           -2.989302927001293,
           -2.4283846428146916,
           -2.2083832335329343,
           -1.372595025809479,
           -1.3552663884114904,
           -2.9809885931558937,
           -3.57414036229526,
           -4.037191901408451,
           -4.297848577474724,
           -3.9510321651464233
          ],
          [
           -2.9761757807678064,
           -2.347783129554156,
           -1.8862463822826223,
           -1.4686530105524518,
           -1.6746765249537894,
           -4.633159407943776,
           -5.123235727828102,
           -5.249685270667226,
           -5.387189844200808,
           -4.3752895752895755
          ],
          [
           -3.0296305965278685,
           -2.636165577342048,
           -2.0951998930338283,
           -1.6764548852108916,
           -1.4616922051965355,
           -4.75194660734149,
           -5.269175269175269,
           -5.472647702407002,
           -5.408657417035562,
           -4.828989001054693
          ],
          [
           -2.7790055248618786,
           -2.3639932697700505,
           -2.096045197740113,
           -1.7178516337119618,
           -1.714121368996261,
           -4.6451688831352245,
           -5.137699606572553,
           -5.428905792861323,
           -5.361334940676353,
           -5.1179076747177366
          ],
          [
           -1.4868633494789374,
           -1.3598326359832635,
           -0.8299806288183579,
           -0.24663337872597973,
           0.12204197053132906,
           -1.0829907502569374,
           -3.8805600297360923,
           -4.133738601823708,
           -4.193058787817464,
           -4.85172171468728
          ],
          [
           1.311676909569798,
           1.3953488372093024,
           1.7278314310798946,
           1.9872127181613963,
           2.9711751662971175,
           3.888323396830013,
           0.9849919860119482,
           -1.8509615384615385,
           -1.694559070762647,
           -0.9148313568458339
          ],
          [
           4.010406629408364,
           4.002682506227247,
           4.16208009109888,
           4.367644311600971,
           4.7711538461538465,
           6.194209891435465,
           5.76490016514037,
           2.9113725490196076,
           0.686610274396534,
           2.6992161985630307
          ],
          [
           6.1921586505584685,
           6.398648648648648,
           6.663210047240465,
           6.7320703653585925,
           7.054281703322415,
           7.735620585267407,
           7.922347362181387,
           7.511676438437841,
           5.584433219271088,
           6.583658480605921
          ],
          [
           8.827734095782702,
           8.814872192099148,
           8.699929725931131,
           8.928571428571429,
           9.033850493653032,
           9.23525127458121,
           9.33210332103321,
           9.37964338781575,
           9.62872971134221,
           9.26629640456007
          ]
         ]
        }
       ],
       "layout": {
        "autosize": false,
        "height": 600,
        "scene": {
         "aspectratio": {
          "x": 1,
          "y": 1,
          "z": 0.3
         },
         "camera": {
          "center": {
           "x": 0,
           "y": 0,
           "z": 0
          },
          "eye": {
           "x": 1.4,
           "y": -0.75,
           "z": 0.4
          },
          "up": {
           "x": 0,
           "y": 0,
           "z": 1
          }
         },
         "xaxis": {
          "title": {
           "text": "Dealer Card"
          }
         },
         "yaxis": {
          "title": {
           "text": "Player Total"
          }
         },
         "zaxis": {
          "title": {
           "text": "Value"
          }
         }
        },
        "template": {
         "data": {
          "bar": [
           {
            "error_x": {
             "color": "#2a3f5f"
            },
            "error_y": {
             "color": "#2a3f5f"
            },
            "marker": {
             "line": {
              "color": "#E5ECF6",
              "width": 0.5
             },
             "pattern": {
              "fillmode": "overlay",
              "size": 10,
              "solidity": 0.2
             }
            },
            "type": "bar"
           }
          ],
          "barpolar": [
           {
            "marker": {
             "line": {
              "color": "#E5ECF6",
              "width": 0.5
             },
             "pattern": {
              "fillmode": "overlay",
              "size": 10,
              "solidity": 0.2
             }
            },
            "type": "barpolar"
           }
          ],
          "carpet": [
           {
            "aaxis": {
             "endlinecolor": "#2a3f5f",
             "gridcolor": "white",
             "linecolor": "white",
             "minorgridcolor": "white",
             "startlinecolor": "#2a3f5f"
            },
            "baxis": {
             "endlinecolor": "#2a3f5f",
             "gridcolor": "white",
             "linecolor": "white",
             "minorgridcolor": "white",
             "startlinecolor": "#2a3f5f"
            },
            "type": "carpet"
           }
          ],
          "choropleth": [
           {
            "colorbar": {
             "outlinewidth": 0,
             "ticks": ""
            },
            "type": "choropleth"
           }
          ],
          "contour": [
           {
            "colorbar": {
             "outlinewidth": 0,
             "ticks": ""
            },
            "colorscale": [
             [
              0.0,
              "#0d0887"
             ],
             [
              0.1111111111111111,
              "#46039f"
             ],
             [
              0.2222222222222222,
              "#7201a8"
             ],
             [
              0.3333333333333333,
              "#9c179e"
             ],
             [
              0.4444444444444444,
              "#bd3786"
             ],
             [
              0.5555555555555556,
              "#d8576b"
             ],
             [
              0.6666666666666666,
              "#ed7953"
             ],
             [
              0.7777777777777778,
              "#fb9f3a"
             ],
             [
              0.8888888888888888,
              "#fdca26"
             ],
             [
              1.0,
              "#f0f921"
             ]
            ],
            "type": "contour"
           }
          ],
          "contourcarpet": [
           {
            "colorbar": {
             "outlinewidth": 0,
             "ticks": ""
            },
            "type": "contourcarpet"
           }
          ],
          "heatmap": [
           {
            "colorbar": {
             "outlinewidth": 0,
             "ticks": ""
            },
            "colorscale": [
             [
              0.0,
              "#0d0887"
             ],
             [
              0.1111111111111111,
              "#46039f"
             ],
             [
              0.2222222222222222,
              "#7201a8"
             ],
             [
              0.3333333333333333,
              "#9c179e"
             ],
             [
              0.4444444444444444,
              "#bd3786"
             ],
             [
              0.5555555555555556,
              "#d8576b"
             ],
             [
              0.6666666666666666,
              "#ed7953"
             ],
             [
              0.7777777777777778,
              "#fb9f3a"
             ],
             [
              0.8888888888888888,
              "#fdca26"
             ],
             [
              1.0,
              "#f0f921"
             ]
            ],
            "type": "heatmap"
           }
          ],
          "heatmapgl": [
           {
            "colorbar": {
             "outlinewidth": 0,
             "ticks": ""
            },
            "colorscale": [
             [
              0.0,
              "#0d0887"
             ],
             [
              0.1111111111111111,
              "#46039f"
             ],
             [
              0.2222222222222222,
              "#7201a8"
             ],
             [
              0.3333333333333333,
              "#9c179e"
             ],
             [
              0.4444444444444444,
              "#bd3786"
             ],
             [
              0.5555555555555556,
              "#d8576b"
             ],
             [
              0.6666666666666666,
              "#ed7953"
             ],
             [
              0.7777777777777778,
              "#fb9f3a"
             ],
             [
              0.8888888888888888,
              "#fdca26"
             ],
             [
              1.0,
              "#f0f921"
             ]
            ],
            "type": "heatmapgl"
           }
          ],
          "histogram": [
           {
            "marker": {
             "pattern": {
              "fillmode": "overlay",
              "size": 10,
              "solidity": 0.2
             }
            },
            "type": "histogram"
           }
          ],
          "histogram2d": [
           {
            "colorbar": {
             "outlinewidth": 0,
             "ticks": ""
            },
            "colorscale": [
             [
              0.0,
              "#0d0887"
             ],
             [
              0.1111111111111111,
              "#46039f"
             ],
             [
              0.2222222222222222,
              "#7201a8"
             ],
             [
              0.3333333333333333,
              "#9c179e"
             ],
             [
              0.4444444444444444,
              "#bd3786"
             ],
             [
              0.5555555555555556,
              "#d8576b"
             ],
             [
              0.6666666666666666,
              "#ed7953"
             ],
             [
              0.7777777777777778,
              "#fb9f3a"
             ],
             [
              0.8888888888888888,
              "#fdca26"
             ],
             [
              1.0,
              "#f0f921"
             ]
            ],
            "type": "histogram2d"
           }
          ],
          "histogram2dcontour": [
           {
            "colorbar": {
             "outlinewidth": 0,
             "ticks": ""
            },
            "colorscale": [
             [
              0.0,
              "#0d0887"
             ],
             [
              0.1111111111111111,
              "#46039f"
             ],
             [
              0.2222222222222222,
              "#7201a8"
             ],
             [
              0.3333333333333333,
              "#9c179e"
             ],
             [
              0.4444444444444444,
              "#bd3786"
             ],
             [
              0.5555555555555556,
              "#d8576b"
             ],
             [
              0.6666666666666666,
              "#ed7953"
             ],
             [
              0.7777777777777778,
              "#fb9f3a"
             ],
             [
              0.8888888888888888,
              "#fdca26"
             ],
             [
              1.0,
              "#f0f921"
             ]
            ],
            "type": "histogram2dcontour"
           }
          ],
          "mesh3d": [
           {
            "colorbar": {
             "outlinewidth": 0,
             "ticks": ""
            },
            "type": "mesh3d"
           }
          ],
          "parcoords": [
           {
            "line": {
             "colorbar": {
              "outlinewidth": 0,
              "ticks": ""
             }
            },
            "type": "parcoords"
           }
          ],
          "pie": [
           {
            "automargin": true,
            "type": "pie"
           }
          ],
          "scatter": [
           {
            "fillpattern": {
             "fillmode": "overlay",
             "size": 10,
             "solidity": 0.2
            },
            "type": "scatter"
           }
          ],
          "scatter3d": [
           {
            "line": {
             "colorbar": {
              "outlinewidth": 0,
              "ticks": ""
             }
            },
            "marker": {
             "colorbar": {
              "outlinewidth": 0,
              "ticks": ""
             }
            },
            "type": "scatter3d"
           }
          ],
          "scattercarpet": [
           {
            "marker": {
             "colorbar": {
              "outlinewidth": 0,
              "ticks": ""
             }
            },
            "type": "scattercarpet"
           }
          ],
          "scattergeo": [
           {
            "marker": {
             "colorbar": {
              "outlinewidth": 0,
              "ticks": ""
             }
            },
            "type": "scattergeo"
           }
          ],
          "scattergl": [
           {
            "marker": {
             "colorbar": {
              "outlinewidth": 0,
              "ticks": ""
             }
            },
            "type": "scattergl"
           }
          ],
          "scattermapbox": [
           {
            "marker": {
             "colorbar": {
              "outlinewidth": 0,
              "ticks": ""
             }
            },
            "type": "scattermapbox"
           }
          ],
          "scatterpolar": [
           {
            "marker": {
             "colorbar": {
              "outlinewidth": 0,
              "ticks": ""
             }
            },
            "type": "scatterpolar"
           }
          ],
          "scatterpolargl": [
           {
            "marker": {
             "colorbar": {
              "outlinewidth": 0,
              "ticks": ""
             }
            },
            "type": "scatterpolargl"
           }
          ],
          "scatterternary": [
           {
            "marker": {
             "colorbar": {
              "outlinewidth": 0,
              "ticks": ""
             }
            },
            "type": "scatterternary"
           }
          ],
          "surface": [
           {
            "colorbar": {
             "outlinewidth": 0,
             "ticks": ""
            },
            "colorscale": [
             [
              0.0,
              "#0d0887"
             ],
             [
              0.1111111111111111,
              "#46039f"
             ],
             [
              0.2222222222222222,
              "#7201a8"
             ],
             [
              0.3333333333333333,
              "#9c179e"
             ],
             [
              0.4444444444444444,
              "#bd3786"
             ],
             [
              0.5555555555555556,
              "#d8576b"
             ],
             [
              0.6666666666666666,
              "#ed7953"
             ],
             [
              0.7777777777777778,
              "#fb9f3a"
             ],
             [
              0.8888888888888888,
              "#fdca26"
             ],
             [
              1.0,
              "#f0f921"
             ]
            ],
            "type": "surface"
           }
          ],
          "table": [
           {
            "cells": {
             "fill": {
              "color": "#EBF0F8"
             },
             "line": {
              "color": "white"
             }
            },
            "header": {
             "fill": {
              "color": "#C8D4E3"
             },
             "line": {
              "color": "white"
             }
            },
            "type": "table"
           }
          ]
         },
         "layout": {
          "annotationdefaults": {
           "arrowcolor": "#2a3f5f",
           "arrowhead": 0,
           "arrowwidth": 1
          },
          "autotypenumbers": "strict",
          "coloraxis": {
           "colorbar": {
            "outlinewidth": 0,
            "ticks": ""
           }
          },
          "colorscale": {
           "diverging": [
            [
             0,
             "#8e0152"
            ],
            [
             0.1,
             "#c51b7d"
            ],
            [
             0.2,
             "#de77ae"
            ],
            [
             0.3,
             "#f1b6da"
            ],
            [
             0.4,
             "#fde0ef"
            ],
            [
             0.5,
             "#f7f7f7"
            ],
            [
             0.6,
             "#e6f5d0"
            ],
            [
             0.7,
             "#b8e186"
            ],
            [
             0.8,
             "#7fbc41"
            ],
            [
             0.9,
             "#4d9221"
            ],
            [
             1,
             "#276419"
            ]
           ],
           "sequential": [
            [
             0.0,
             "#0d0887"
            ],
            [
             0.1111111111111111,
             "#46039f"
            ],
            [
             0.2222222222222222,
             "#7201a8"
            ],
            [
             0.3333333333333333,
             "#9c179e"
            ],
            [
             0.4444444444444444,
             "#bd3786"
            ],
            [
             0.5555555555555556,
             "#d8576b"
            ],
            [
             0.6666666666666666,
             "#ed7953"
            ],
            [
             0.7777777777777778,
             "#fb9f3a"
            ],
            [
             0.8888888888888888,
             "#fdca26"
            ],
            [
             1.0,
             "#f0f921"
            ]
           ],
           "sequentialminus": [
            [
             0.0,
             "#0d0887"
            ],
            [
             0.1111111111111111,
             "#46039f"
            ],
            [
             0.2222222222222222,
             "#7201a8"
            ],
            [
             0.3333333333333333,
             "#9c179e"
            ],
            [
             0.4444444444444444,
             "#bd3786"
            ],
            [
             0.5555555555555556,
             "#d8576b"
            ],
            [
             0.6666666666666666,
             "#ed7953"
            ],
            [
             0.7777777777777778,
             "#fb9f3a"
            ],
            [
             0.8888888888888888,
             "#fdca26"
            ],
            [
             1.0,
             "#f0f921"
            ]
           ]
          },
          "colorway": [
           "#636efa",
           "#EF553B",
           "#00cc96",
           "#ab63fa",
           "#FFA15A",
           "#19d3f3",
           "#FF6692",
           "#B6E880",
           "#FF97FF",
           "#FECB52"
          ],
          "font": {
           "color": "#2a3f5f"
          },
          "geo": {
           "bgcolor": "white",
           "lakecolor": "white",
           "landcolor": "#E5ECF6",
           "showlakes": true,
           "showland": true,
           "subunitcolor": "white"
          },
          "hoverlabel": {
           "align": "left"
          },
          "hovermode": "closest",
          "mapbox": {
           "style": "light"
          },
          "paper_bgcolor": "white",
          "plot_bgcolor": "#E5ECF6",
          "polar": {
           "angularaxis": {
            "gridcolor": "white",
            "linecolor": "white",
            "ticks": ""
           },
           "bgcolor": "#E5ECF6",
           "radialaxis": {
            "gridcolor": "white",
            "linecolor": "white",
            "ticks": ""
           }
          },
          "scene": {
           "xaxis": {
            "backgroundcolor": "#E5ECF6",
            "gridcolor": "white",
            "gridwidth": 2,
            "linecolor": "white",
            "showbackground": true,
            "ticks": "",
            "zerolinecolor": "white"
           },
           "yaxis": {
            "backgroundcolor": "#E5ECF6",
            "gridcolor": "white",
            "gridwidth": 2,
            "linecolor": "white",
            "showbackground": true,
            "ticks": "",
            "zerolinecolor": "white"
           },
           "zaxis": {
            "backgroundcolor": "#E5ECF6",
            "gridcolor": "white",
            "gridwidth": 2,
            "linecolor": "white",
            "showbackground": true,
            "ticks": "",
            "zerolinecolor": "white"
           }
          },
          "shapedefaults": {
           "line": {
            "color": "#2a3f5f"
           }
          },
          "ternary": {
           "aaxis": {
            "gridcolor": "white",
            "linecolor": "white",
            "ticks": ""
           },
           "baxis": {
            "gridcolor": "white",
            "linecolor": "white",
            "ticks": ""
           },
           "bgcolor": "#E5ECF6",
           "caxis": {
            "gridcolor": "white",
            "linecolor": "white",
            "ticks": ""
           }
          },
          "title": {
           "x": 0.05
          },
          "xaxis": {
           "automargin": true,
           "gridcolor": "white",
           "linecolor": "white",
           "ticks": "",
           "title": {
            "standoff": 15
           },
           "zerolinecolor": "white",
           "zerolinewidth": 2
          },
          "yaxis": {
           "automargin": true,
           "gridcolor": "white",
           "linecolor": "white",
           "ticks": "",
           "title": {
            "standoff": 15
           },
           "zerolinecolor": "white",
           "zerolinewidth": 2
          }
         }
        },
        "title": {
         "text": "State Value Estimates"
        },
        "width": 700
       }
      },
      "text/html": [
       "<div>                            <div id=\"accb8c68-e01b-4baa-a7e8-525d84c67b27\" class=\"plotly-graph-div\" style=\"height:600px; width:700px;\"></div>            <script type=\"text/javascript\">                require([\"plotly\"], function(Plotly) {                    window.PLOTLYENV=window.PLOTLYENV || {};                                    if (document.getElementById(\"accb8c68-e01b-4baa-a7e8-525d84c67b27\")) {                    Plotly.newPlot(                        \"accb8c68-e01b-4baa-a7e8-525d84c67b27\",                        [{\"cmid\":0,\"colorscale\":[[0,\"#0C3584\"],[0.3,\"#4394A9\"],[0.5,\"#BCBCBC\"],[0.7,\"#F29B39\"],[1,\"#DA201F\"]],\"contours\":{\"x\":{\"color\":\"rgba(200, 200, 200, 0.95)\",\"end\":11,\"show\":true,\"size\":1,\"start\":2},\"y\":{\"color\":\"rgba(200, 200, 200, 0.95)\",\"end\":21,\"show\":true,\"size\":1,\"start\":4},\"z\":{\"color\":\"white\",\"end\":9.62872971134221,\"show\":false,\"size\":1,\"start\":-5.472647702407002}},\"opacity\":0.85,\"showscale\":true,\"x\":[2,3,4,5,6,7,8,9,10,11],\"y\":[4,5,6,7,8,9,10,11,12,13,14,15,16,17,18,19,20,21],\"z\":[[-1.6986301369863013,-0.47393364928909953,-0.34934497816593885,-0.1201923076923077,0.6,-2.0,-2.803970223325062,-2.8636363636363638,-3.0421118793211814,-3.367003367003367],[-1.3561190738699007,-0.693069306930693,-0.03476245654692932,-0.4017372421281216,-0.1,-1.4581066376496192,-2.7114967462039044,-2.967741935483871,-3.339135480127647,-2.640901771336554],[-1.769059955588453,-1.3323239969719909,-0.436477007014809,-0.5377906976744186,-0.17458100558659218,-2.2149122807017543,-3.1227821149751596,-3.278453829634932,-3.7120185794464873,-3.3153347732181424],[-1.0999471179270228,-0.518918918918919,-0.3172978505629478,0.11505752876438219,0.44148936170212766,-1.1012987012987012,-2.440318302387268,-3.4055727554179565,-3.301093355761144,-3.427719821162444],[-0.22617124394184168,0.09383924928600572,0.5047579644187009,1.0072815533980584,1.5847665847665848,0.7592891760904685,-0.7220653489310206,-2.350835322195704,-2.6031499556344277,-2.0752498530276307],[0.5223880597014925,1.3416230366492146,1.3454777884308087,1.7300131061598951,1.9446297531687793,1.4257490945011524,0.6932981181908221,-0.4737183646982479,-1.5657837603126357,-0.7358916478555305],[2.2515321076472157,2.158506897484447,2.5910064239828694,2.7891339429800968,3.095367847411444,2.529118136439268,1.737265415549598,1.1602806260118725,0.25088059808784413,0.5141980046047583],[2.4242424242424243,2.4917878930079773,3.0774410774410774,3.079185520361991,3.6371861569780592,2.5023255813953487,2.1094640820980617,1.3671344499773652,1.1208512181851158,1.5392320534223707],[-3.0434782608695654,-2.5253664036076664,-2.0686129728501648,-1.5608108108108107,-1.505339304168102,-2.4028349336991313,-3.1237788759912655,-3.6847469142792435,-3.872598584428716,-3.7250332889480693],[-2.989302927001293,-2.4283846428146916,-2.2083832335329343,-1.372595025809479,-1.3552663884114904,-2.9809885931558937,-3.57414036229526,-4.037191901408451,-4.297848577474724,-3.9510321651464233],[-2.9761757807678064,-2.347783129554156,-1.8862463822826223,-1.4686530105524518,-1.6746765249537894,-4.633159407943776,-5.123235727828102,-5.249685270667226,-5.387189844200808,-4.3752895752895755],[-3.0296305965278685,-2.636165577342048,-2.0951998930338283,-1.6764548852108916,-1.4616922051965355,-4.75194660734149,-5.269175269175269,-5.472647702407002,-5.408657417035562,-4.828989001054693],[-2.7790055248618786,-2.3639932697700505,-2.096045197740113,-1.7178516337119618,-1.714121368996261,-4.6451688831352245,-5.137699606572553,-5.428905792861323,-5.361334940676353,-5.1179076747177366],[-1.4868633494789374,-1.3598326359832635,-0.8299806288183579,-0.24663337872597973,0.12204197053132906,-1.0829907502569374,-3.8805600297360923,-4.133738601823708,-4.193058787817464,-4.85172171468728],[1.311676909569798,1.3953488372093024,1.7278314310798946,1.9872127181613963,2.9711751662971175,3.888323396830013,0.9849919860119482,-1.8509615384615385,-1.694559070762647,-0.9148313568458339],[4.010406629408364,4.002682506227247,4.16208009109888,4.367644311600971,4.7711538461538465,6.194209891435465,5.76490016514037,2.9113725490196076,0.686610274396534,2.6992161985630307],[6.1921586505584685,6.398648648648648,6.663210047240465,6.7320703653585925,7.054281703322415,7.735620585267407,7.922347362181387,7.511676438437841,5.584433219271088,6.583658480605921],[8.827734095782702,8.814872192099148,8.699929725931131,8.928571428571429,9.033850493653032,9.23525127458121,9.33210332103321,9.37964338781575,9.62872971134221,9.26629640456007]],\"type\":\"surface\"}],                        {\"template\":{\"data\":{\"histogram2dcontour\":[{\"type\":\"histogram2dcontour\",\"colorbar\":{\"outlinewidth\":0,\"ticks\":\"\"},\"colorscale\":[[0.0,\"#0d0887\"],[0.1111111111111111,\"#46039f\"],[0.2222222222222222,\"#7201a8\"],[0.3333333333333333,\"#9c179e\"],[0.4444444444444444,\"#bd3786\"],[0.5555555555555556,\"#d8576b\"],[0.6666666666666666,\"#ed7953\"],[0.7777777777777778,\"#fb9f3a\"],[0.8888888888888888,\"#fdca26\"],[1.0,\"#f0f921\"]]}],\"choropleth\":[{\"type\":\"choropleth\",\"colorbar\":{\"outlinewidth\":0,\"ticks\":\"\"}}],\"histogram2d\":[{\"type\":\"histogram2d\",\"colorbar\":{\"outlinewidth\":0,\"ticks\":\"\"},\"colorscale\":[[0.0,\"#0d0887\"],[0.1111111111111111,\"#46039f\"],[0.2222222222222222,\"#7201a8\"],[0.3333333333333333,\"#9c179e\"],[0.4444444444444444,\"#bd3786\"],[0.5555555555555556,\"#d8576b\"],[0.6666666666666666,\"#ed7953\"],[0.7777777777777778,\"#fb9f3a\"],[0.8888888888888888,\"#fdca26\"],[1.0,\"#f0f921\"]]}],\"heatmap\":[{\"type\":\"heatmap\",\"colorbar\":{\"outlinewidth\":0,\"ticks\":\"\"},\"colorscale\":[[0.0,\"#0d0887\"],[0.1111111111111111,\"#46039f\"],[0.2222222222222222,\"#7201a8\"],[0.3333333333333333,\"#9c179e\"],[0.4444444444444444,\"#bd3786\"],[0.5555555555555556,\"#d8576b\"],[0.6666666666666666,\"#ed7953\"],[0.7777777777777778,\"#fb9f3a\"],[0.8888888888888888,\"#fdca26\"],[1.0,\"#f0f921\"]]}],\"heatmapgl\":[{\"type\":\"heatmapgl\",\"colorbar\":{\"outlinewidth\":0,\"ticks\":\"\"},\"colorscale\":[[0.0,\"#0d0887\"],[0.1111111111111111,\"#46039f\"],[0.2222222222222222,\"#7201a8\"],[0.3333333333333333,\"#9c179e\"],[0.4444444444444444,\"#bd3786\"],[0.5555555555555556,\"#d8576b\"],[0.6666666666666666,\"#ed7953\"],[0.7777777777777778,\"#fb9f3a\"],[0.8888888888888888,\"#fdca26\"],[1.0,\"#f0f921\"]]}],\"contourcarpet\":[{\"type\":\"contourcarpet\",\"colorbar\":{\"outlinewidth\":0,\"ticks\":\"\"}}],\"contour\":[{\"type\":\"contour\",\"colorbar\":{\"outlinewidth\":0,\"ticks\":\"\"},\"colorscale\":[[0.0,\"#0d0887\"],[0.1111111111111111,\"#46039f\"],[0.2222222222222222,\"#7201a8\"],[0.3333333333333333,\"#9c179e\"],[0.4444444444444444,\"#bd3786\"],[0.5555555555555556,\"#d8576b\"],[0.6666666666666666,\"#ed7953\"],[0.7777777777777778,\"#fb9f3a\"],[0.8888888888888888,\"#fdca26\"],[1.0,\"#f0f921\"]]}],\"surface\":[{\"type\":\"surface\",\"colorbar\":{\"outlinewidth\":0,\"ticks\":\"\"},\"colorscale\":[[0.0,\"#0d0887\"],[0.1111111111111111,\"#46039f\"],[0.2222222222222222,\"#7201a8\"],[0.3333333333333333,\"#9c179e\"],[0.4444444444444444,\"#bd3786\"],[0.5555555555555556,\"#d8576b\"],[0.6666666666666666,\"#ed7953\"],[0.7777777777777778,\"#fb9f3a\"],[0.8888888888888888,\"#fdca26\"],[1.0,\"#f0f921\"]]}],\"mesh3d\":[{\"type\":\"mesh3d\",\"colorbar\":{\"outlinewidth\":0,\"ticks\":\"\"}}],\"scatter\":[{\"fillpattern\":{\"fillmode\":\"overlay\",\"size\":10,\"solidity\":0.2},\"type\":\"scatter\"}],\"parcoords\":[{\"type\":\"parcoords\",\"line\":{\"colorbar\":{\"outlinewidth\":0,\"ticks\":\"\"}}}],\"scatterpolargl\":[{\"type\":\"scatterpolargl\",\"marker\":{\"colorbar\":{\"outlinewidth\":0,\"ticks\":\"\"}}}],\"bar\":[{\"error_x\":{\"color\":\"#2a3f5f\"},\"error_y\":{\"color\":\"#2a3f5f\"},\"marker\":{\"line\":{\"color\":\"#E5ECF6\",\"width\":0.5},\"pattern\":{\"fillmode\":\"overlay\",\"size\":10,\"solidity\":0.2}},\"type\":\"bar\"}],\"scattergeo\":[{\"type\":\"scattergeo\",\"marker\":{\"colorbar\":{\"outlinewidth\":0,\"ticks\":\"\"}}}],\"scatterpolar\":[{\"type\":\"scatterpolar\",\"marker\":{\"colorbar\":{\"outlinewidth\":0,\"ticks\":\"\"}}}],\"histogram\":[{\"marker\":{\"pattern\":{\"fillmode\":\"overlay\",\"size\":10,\"solidity\":0.2}},\"type\":\"histogram\"}],\"scattergl\":[{\"type\":\"scattergl\",\"marker\":{\"colorbar\":{\"outlinewidth\":0,\"ticks\":\"\"}}}],\"scatter3d\":[{\"type\":\"scatter3d\",\"line\":{\"colorbar\":{\"outlinewidth\":0,\"ticks\":\"\"}},\"marker\":{\"colorbar\":{\"outlinewidth\":0,\"ticks\":\"\"}}}],\"scattermapbox\":[{\"type\":\"scattermapbox\",\"marker\":{\"colorbar\":{\"outlinewidth\":0,\"ticks\":\"\"}}}],\"scatterternary\":[{\"type\":\"scatterternary\",\"marker\":{\"colorbar\":{\"outlinewidth\":0,\"ticks\":\"\"}}}],\"scattercarpet\":[{\"type\":\"scattercarpet\",\"marker\":{\"colorbar\":{\"outlinewidth\":0,\"ticks\":\"\"}}}],\"carpet\":[{\"aaxis\":{\"endlinecolor\":\"#2a3f5f\",\"gridcolor\":\"white\",\"linecolor\":\"white\",\"minorgridcolor\":\"white\",\"startlinecolor\":\"#2a3f5f\"},\"baxis\":{\"endlinecolor\":\"#2a3f5f\",\"gridcolor\":\"white\",\"linecolor\":\"white\",\"minorgridcolor\":\"white\",\"startlinecolor\":\"#2a3f5f\"},\"type\":\"carpet\"}],\"table\":[{\"cells\":{\"fill\":{\"color\":\"#EBF0F8\"},\"line\":{\"color\":\"white\"}},\"header\":{\"fill\":{\"color\":\"#C8D4E3\"},\"line\":{\"color\":\"white\"}},\"type\":\"table\"}],\"barpolar\":[{\"marker\":{\"line\":{\"color\":\"#E5ECF6\",\"width\":0.5},\"pattern\":{\"fillmode\":\"overlay\",\"size\":10,\"solidity\":0.2}},\"type\":\"barpolar\"}],\"pie\":[{\"automargin\":true,\"type\":\"pie\"}]},\"layout\":{\"autotypenumbers\":\"strict\",\"colorway\":[\"#636efa\",\"#EF553B\",\"#00cc96\",\"#ab63fa\",\"#FFA15A\",\"#19d3f3\",\"#FF6692\",\"#B6E880\",\"#FF97FF\",\"#FECB52\"],\"font\":{\"color\":\"#2a3f5f\"},\"hovermode\":\"closest\",\"hoverlabel\":{\"align\":\"left\"},\"paper_bgcolor\":\"white\",\"plot_bgcolor\":\"#E5ECF6\",\"polar\":{\"bgcolor\":\"#E5ECF6\",\"angularaxis\":{\"gridcolor\":\"white\",\"linecolor\":\"white\",\"ticks\":\"\"},\"radialaxis\":{\"gridcolor\":\"white\",\"linecolor\":\"white\",\"ticks\":\"\"}},\"ternary\":{\"bgcolor\":\"#E5ECF6\",\"aaxis\":{\"gridcolor\":\"white\",\"linecolor\":\"white\",\"ticks\":\"\"},\"baxis\":{\"gridcolor\":\"white\",\"linecolor\":\"white\",\"ticks\":\"\"},\"caxis\":{\"gridcolor\":\"white\",\"linecolor\":\"white\",\"ticks\":\"\"}},\"coloraxis\":{\"colorbar\":{\"outlinewidth\":0,\"ticks\":\"\"}},\"colorscale\":{\"sequential\":[[0.0,\"#0d0887\"],[0.1111111111111111,\"#46039f\"],[0.2222222222222222,\"#7201a8\"],[0.3333333333333333,\"#9c179e\"],[0.4444444444444444,\"#bd3786\"],[0.5555555555555556,\"#d8576b\"],[0.6666666666666666,\"#ed7953\"],[0.7777777777777778,\"#fb9f3a\"],[0.8888888888888888,\"#fdca26\"],[1.0,\"#f0f921\"]],\"sequentialminus\":[[0.0,\"#0d0887\"],[0.1111111111111111,\"#46039f\"],[0.2222222222222222,\"#7201a8\"],[0.3333333333333333,\"#9c179e\"],[0.4444444444444444,\"#bd3786\"],[0.5555555555555556,\"#d8576b\"],[0.6666666666666666,\"#ed7953\"],[0.7777777777777778,\"#fb9f3a\"],[0.8888888888888888,\"#fdca26\"],[1.0,\"#f0f921\"]],\"diverging\":[[0,\"#8e0152\"],[0.1,\"#c51b7d\"],[0.2,\"#de77ae\"],[0.3,\"#f1b6da\"],[0.4,\"#fde0ef\"],[0.5,\"#f7f7f7\"],[0.6,\"#e6f5d0\"],[0.7,\"#b8e186\"],[0.8,\"#7fbc41\"],[0.9,\"#4d9221\"],[1,\"#276419\"]]},\"xaxis\":{\"gridcolor\":\"white\",\"linecolor\":\"white\",\"ticks\":\"\",\"title\":{\"standoff\":15},\"zerolinecolor\":\"white\",\"automargin\":true,\"zerolinewidth\":2},\"yaxis\":{\"gridcolor\":\"white\",\"linecolor\":\"white\",\"ticks\":\"\",\"title\":{\"standoff\":15},\"zerolinecolor\":\"white\",\"automargin\":true,\"zerolinewidth\":2},\"scene\":{\"xaxis\":{\"backgroundcolor\":\"#E5ECF6\",\"gridcolor\":\"white\",\"linecolor\":\"white\",\"showbackground\":true,\"ticks\":\"\",\"zerolinecolor\":\"white\",\"gridwidth\":2},\"yaxis\":{\"backgroundcolor\":\"#E5ECF6\",\"gridcolor\":\"white\",\"linecolor\":\"white\",\"showbackground\":true,\"ticks\":\"\",\"zerolinecolor\":\"white\",\"gridwidth\":2},\"zaxis\":{\"backgroundcolor\":\"#E5ECF6\",\"gridcolor\":\"white\",\"linecolor\":\"white\",\"showbackground\":true,\"ticks\":\"\",\"zerolinecolor\":\"white\",\"gridwidth\":2}},\"shapedefaults\":{\"line\":{\"color\":\"#2a3f5f\"}},\"annotationdefaults\":{\"arrowcolor\":\"#2a3f5f\",\"arrowhead\":0,\"arrowwidth\":1},\"geo\":{\"bgcolor\":\"white\",\"landcolor\":\"#E5ECF6\",\"subunitcolor\":\"white\",\"showland\":true,\"showlakes\":true,\"lakecolor\":\"white\"},\"title\":{\"x\":0.05},\"mapbox\":{\"style\":\"light\"}}},\"scene\":{\"aspectratio\":{\"x\":1,\"y\":1,\"z\":0.3},\"camera\":{\"up\":{\"x\":0,\"y\":0,\"z\":1},\"center\":{\"x\":0,\"y\":0,\"z\":0},\"eye\":{\"x\":1.4,\"y\":-0.75,\"z\":0.4}},\"xaxis\":{\"title\":{\"text\":\"Dealer Card\"}},\"yaxis\":{\"title\":{\"text\":\"Player Total\"}},\"zaxis\":{\"title\":{\"text\":\"Value\"}}},\"title\":{\"text\":\"State Value Estimates\"},\"autosize\":false,\"width\":700,\"height\":600},                        {\"responsive\": true}                    ).then(function(){\n",
       "                            \n",
       "var gd = document.getElementById('accb8c68-e01b-4baa-a7e8-525d84c67b27');\n",
       "var x = new MutationObserver(function (mutations, observer) {{\n",
       "        var display = window.getComputedStyle(gd).display;\n",
       "        if (!display || display === 'none') {{\n",
       "            console.log([gd, 'removed!']);\n",
       "            Plotly.purge(gd);\n",
       "            observer.disconnect();\n",
       "        }}\n",
       "}});\n",
       "\n",
       "// Listen for the removal of the full notebook cells\n",
       "var notebookContainer = gd.closest('#notebook-container');\n",
       "if (notebookContainer) {{\n",
       "    x.observe(notebookContainer, {childList: true});\n",
       "}}\n",
       "\n",
       "// Listen for the clearing of the current output cell\n",
       "var outputEl = gd.closest('.output');\n",
       "if (outputEl) {{\n",
       "    x.observe(outputEl, {childList: true});\n",
       "}}\n",
       "\n",
       "                        })                };                });            </script>        </div>"
      ]
     },
     "metadata": {},
     "output_type": "display_data"
    },
    {
     "data": {
      "application/vnd.plotly.v1+json": {
       "config": {
        "plotlyServerURL": "https://plot.ly"
       },
       "data": [
        {
         "colorscale": [
          [
           0.0,
           "#cccccc"
          ],
          [
           1.0,
           "#eb7632"
          ]
         ],
         "hoverinfo": "text",
         "hovertext": [
          [
           "Player Total: 4<br>Dealer Upcard: 2<br>Action: Hit",
           "Player Total: 5<br>Dealer Upcard: 2<br>Action: Hit",
           "Player Total: 6<br>Dealer Upcard: 2<br>Action: Hit",
           "Player Total: 7<br>Dealer Upcard: 2<br>Action: Hit",
           "Player Total: 8<br>Dealer Upcard: 2<br>Action: Hit",
           "Player Total: 9<br>Dealer Upcard: 2<br>Action: Hit",
           "Player Total: 10<br>Dealer Upcard: 2<br>Action: Hit",
           "Player Total: 11<br>Dealer Upcard: 2<br>Action: Hit",
           "Player Total: 12<br>Dealer Upcard: 2<br>Action: Stick",
           "Player Total: 13<br>Dealer Upcard: 2<br>Action: Stick",
           "Player Total: 14<br>Dealer Upcard: 2<br>Action: Stick",
           "Player Total: 15<br>Dealer Upcard: 2<br>Action: Stick",
           "Player Total: 16<br>Dealer Upcard: 2<br>Action: Stick",
           "Player Total: 17<br>Dealer Upcard: 2<br>Action: Stick",
           "Player Total: 18<br>Dealer Upcard: 2<br>Action: Stick",
           "Player Total: 19<br>Dealer Upcard: 2<br>Action: Stick",
           "Player Total: 20<br>Dealer Upcard: 2<br>Action: Stick",
           "Player Total: 21<br>Dealer Upcard: 2<br>Action: Stick"
          ],
          [
           "Player Total: 4<br>Dealer Upcard: 3<br>Action: Hit",
           "Player Total: 5<br>Dealer Upcard: 3<br>Action: Hit",
           "Player Total: 6<br>Dealer Upcard: 3<br>Action: Hit",
           "Player Total: 7<br>Dealer Upcard: 3<br>Action: Hit",
           "Player Total: 8<br>Dealer Upcard: 3<br>Action: Hit",
           "Player Total: 9<br>Dealer Upcard: 3<br>Action: Hit",
           "Player Total: 10<br>Dealer Upcard: 3<br>Action: Hit",
           "Player Total: 11<br>Dealer Upcard: 3<br>Action: Hit",
           "Player Total: 12<br>Dealer Upcard: 3<br>Action: Stick",
           "Player Total: 13<br>Dealer Upcard: 3<br>Action: Stick",
           "Player Total: 14<br>Dealer Upcard: 3<br>Action: Stick",
           "Player Total: 15<br>Dealer Upcard: 3<br>Action: Stick",
           "Player Total: 16<br>Dealer Upcard: 3<br>Action: Stick",
           "Player Total: 17<br>Dealer Upcard: 3<br>Action: Stick",
           "Player Total: 18<br>Dealer Upcard: 3<br>Action: Stick",
           "Player Total: 19<br>Dealer Upcard: 3<br>Action: Stick",
           "Player Total: 20<br>Dealer Upcard: 3<br>Action: Stick",
           "Player Total: 21<br>Dealer Upcard: 3<br>Action: Stick"
          ],
          [
           "Player Total: 4<br>Dealer Upcard: 4<br>Action: Hit",
           "Player Total: 5<br>Dealer Upcard: 4<br>Action: Hit",
           "Player Total: 6<br>Dealer Upcard: 4<br>Action: Hit",
           "Player Total: 7<br>Dealer Upcard: 4<br>Action: Hit",
           "Player Total: 8<br>Dealer Upcard: 4<br>Action: Hit",
           "Player Total: 9<br>Dealer Upcard: 4<br>Action: Hit",
           "Player Total: 10<br>Dealer Upcard: 4<br>Action: Hit",
           "Player Total: 11<br>Dealer Upcard: 4<br>Action: Hit",
           "Player Total: 12<br>Dealer Upcard: 4<br>Action: Stick",
           "Player Total: 13<br>Dealer Upcard: 4<br>Action: Stick",
           "Player Total: 14<br>Dealer Upcard: 4<br>Action: Stick",
           "Player Total: 15<br>Dealer Upcard: 4<br>Action: Stick",
           "Player Total: 16<br>Dealer Upcard: 4<br>Action: Stick",
           "Player Total: 17<br>Dealer Upcard: 4<br>Action: Stick",
           "Player Total: 18<br>Dealer Upcard: 4<br>Action: Stick",
           "Player Total: 19<br>Dealer Upcard: 4<br>Action: Stick",
           "Player Total: 20<br>Dealer Upcard: 4<br>Action: Stick",
           "Player Total: 21<br>Dealer Upcard: 4<br>Action: Stick"
          ],
          [
           "Player Total: 4<br>Dealer Upcard: 5<br>Action: Hit",
           "Player Total: 5<br>Dealer Upcard: 5<br>Action: Hit",
           "Player Total: 6<br>Dealer Upcard: 5<br>Action: Hit",
           "Player Total: 7<br>Dealer Upcard: 5<br>Action: Hit",
           "Player Total: 8<br>Dealer Upcard: 5<br>Action: Hit",
           "Player Total: 9<br>Dealer Upcard: 5<br>Action: Hit",
           "Player Total: 10<br>Dealer Upcard: 5<br>Action: Hit",
           "Player Total: 11<br>Dealer Upcard: 5<br>Action: Hit",
           "Player Total: 12<br>Dealer Upcard: 5<br>Action: Stick",
           "Player Total: 13<br>Dealer Upcard: 5<br>Action: Stick",
           "Player Total: 14<br>Dealer Upcard: 5<br>Action: Stick",
           "Player Total: 15<br>Dealer Upcard: 5<br>Action: Stick",
           "Player Total: 16<br>Dealer Upcard: 5<br>Action: Stick",
           "Player Total: 17<br>Dealer Upcard: 5<br>Action: Stick",
           "Player Total: 18<br>Dealer Upcard: 5<br>Action: Stick",
           "Player Total: 19<br>Dealer Upcard: 5<br>Action: Stick",
           "Player Total: 20<br>Dealer Upcard: 5<br>Action: Stick",
           "Player Total: 21<br>Dealer Upcard: 5<br>Action: Stick"
          ],
          [
           "Player Total: 4<br>Dealer Upcard: 6<br>Action: Hit",
           "Player Total: 5<br>Dealer Upcard: 6<br>Action: Hit",
           "Player Total: 6<br>Dealer Upcard: 6<br>Action: Hit",
           "Player Total: 7<br>Dealer Upcard: 6<br>Action: Hit",
           "Player Total: 8<br>Dealer Upcard: 6<br>Action: Hit",
           "Player Total: 9<br>Dealer Upcard: 6<br>Action: Hit",
           "Player Total: 10<br>Dealer Upcard: 6<br>Action: Hit",
           "Player Total: 11<br>Dealer Upcard: 6<br>Action: Hit",
           "Player Total: 12<br>Dealer Upcard: 6<br>Action: Stick",
           "Player Total: 13<br>Dealer Upcard: 6<br>Action: Stick",
           "Player Total: 14<br>Dealer Upcard: 6<br>Action: Stick",
           "Player Total: 15<br>Dealer Upcard: 6<br>Action: Stick",
           "Player Total: 16<br>Dealer Upcard: 6<br>Action: Stick",
           "Player Total: 17<br>Dealer Upcard: 6<br>Action: Stick",
           "Player Total: 18<br>Dealer Upcard: 6<br>Action: Stick",
           "Player Total: 19<br>Dealer Upcard: 6<br>Action: Stick",
           "Player Total: 20<br>Dealer Upcard: 6<br>Action: Stick",
           "Player Total: 21<br>Dealer Upcard: 6<br>Action: Stick"
          ],
          [
           "Player Total: 4<br>Dealer Upcard: 7<br>Action: Hit",
           "Player Total: 5<br>Dealer Upcard: 7<br>Action: Hit",
           "Player Total: 6<br>Dealer Upcard: 7<br>Action: Hit",
           "Player Total: 7<br>Dealer Upcard: 7<br>Action: Hit",
           "Player Total: 8<br>Dealer Upcard: 7<br>Action: Hit",
           "Player Total: 9<br>Dealer Upcard: 7<br>Action: Hit",
           "Player Total: 10<br>Dealer Upcard: 7<br>Action: Hit",
           "Player Total: 11<br>Dealer Upcard: 7<br>Action: Hit",
           "Player Total: 12<br>Dealer Upcard: 7<br>Action: Hit",
           "Player Total: 13<br>Dealer Upcard: 7<br>Action: Hit",
           "Player Total: 14<br>Dealer Upcard: 7<br>Action: Stick",
           "Player Total: 15<br>Dealer Upcard: 7<br>Action: Stick",
           "Player Total: 16<br>Dealer Upcard: 7<br>Action: Stick",
           "Player Total: 17<br>Dealer Upcard: 7<br>Action: Stick",
           "Player Total: 18<br>Dealer Upcard: 7<br>Action: Stick",
           "Player Total: 19<br>Dealer Upcard: 7<br>Action: Stick",
           "Player Total: 20<br>Dealer Upcard: 7<br>Action: Stick",
           "Player Total: 21<br>Dealer Upcard: 7<br>Action: Stick"
          ],
          [
           "Player Total: 4<br>Dealer Upcard: 8<br>Action: Hit",
           "Player Total: 5<br>Dealer Upcard: 8<br>Action: Hit",
           "Player Total: 6<br>Dealer Upcard: 8<br>Action: Hit",
           "Player Total: 7<br>Dealer Upcard: 8<br>Action: Hit",
           "Player Total: 8<br>Dealer Upcard: 8<br>Action: Hit",
           "Player Total: 9<br>Dealer Upcard: 8<br>Action: Hit",
           "Player Total: 10<br>Dealer Upcard: 8<br>Action: Hit",
           "Player Total: 11<br>Dealer Upcard: 8<br>Action: Hit",
           "Player Total: 12<br>Dealer Upcard: 8<br>Action: Hit",
           "Player Total: 13<br>Dealer Upcard: 8<br>Action: Hit",
           "Player Total: 14<br>Dealer Upcard: 8<br>Action: Stick",
           "Player Total: 15<br>Dealer Upcard: 8<br>Action: Stick",
           "Player Total: 16<br>Dealer Upcard: 8<br>Action: Stick",
           "Player Total: 17<br>Dealer Upcard: 8<br>Action: Stick",
           "Player Total: 18<br>Dealer Upcard: 8<br>Action: Stick",
           "Player Total: 19<br>Dealer Upcard: 8<br>Action: Stick",
           "Player Total: 20<br>Dealer Upcard: 8<br>Action: Stick",
           "Player Total: 21<br>Dealer Upcard: 8<br>Action: Stick"
          ],
          [
           "Player Total: 4<br>Dealer Upcard: 9<br>Action: Hit",
           "Player Total: 5<br>Dealer Upcard: 9<br>Action: Hit",
           "Player Total: 6<br>Dealer Upcard: 9<br>Action: Hit",
           "Player Total: 7<br>Dealer Upcard: 9<br>Action: Hit",
           "Player Total: 8<br>Dealer Upcard: 9<br>Action: Hit",
           "Player Total: 9<br>Dealer Upcard: 9<br>Action: Hit",
           "Player Total: 10<br>Dealer Upcard: 9<br>Action: Hit",
           "Player Total: 11<br>Dealer Upcard: 9<br>Action: Hit",
           "Player Total: 12<br>Dealer Upcard: 9<br>Action: Hit",
           "Player Total: 13<br>Dealer Upcard: 9<br>Action: Hit",
           "Player Total: 14<br>Dealer Upcard: 9<br>Action: Stick",
           "Player Total: 15<br>Dealer Upcard: 9<br>Action: Stick",
           "Player Total: 16<br>Dealer Upcard: 9<br>Action: Stick",
           "Player Total: 17<br>Dealer Upcard: 9<br>Action: Stick",
           "Player Total: 18<br>Dealer Upcard: 9<br>Action: Stick",
           "Player Total: 19<br>Dealer Upcard: 9<br>Action: Stick",
           "Player Total: 20<br>Dealer Upcard: 9<br>Action: Stick",
           "Player Total: 21<br>Dealer Upcard: 9<br>Action: Stick"
          ],
          [
           "Player Total: 4<br>Dealer Upcard: 10<br>Action: Hit",
           "Player Total: 5<br>Dealer Upcard: 10<br>Action: Hit",
           "Player Total: 6<br>Dealer Upcard: 10<br>Action: Hit",
           "Player Total: 7<br>Dealer Upcard: 10<br>Action: Hit",
           "Player Total: 8<br>Dealer Upcard: 10<br>Action: Hit",
           "Player Total: 9<br>Dealer Upcard: 10<br>Action: Hit",
           "Player Total: 10<br>Dealer Upcard: 10<br>Action: Hit",
           "Player Total: 11<br>Dealer Upcard: 10<br>Action: Hit",
           "Player Total: 12<br>Dealer Upcard: 10<br>Action: Hit",
           "Player Total: 13<br>Dealer Upcard: 10<br>Action: Hit",
           "Player Total: 14<br>Dealer Upcard: 10<br>Action: Stick",
           "Player Total: 15<br>Dealer Upcard: 10<br>Action: Stick",
           "Player Total: 16<br>Dealer Upcard: 10<br>Action: Stick",
           "Player Total: 17<br>Dealer Upcard: 10<br>Action: Stick",
           "Player Total: 18<br>Dealer Upcard: 10<br>Action: Stick",
           "Player Total: 19<br>Dealer Upcard: 10<br>Action: Stick",
           "Player Total: 20<br>Dealer Upcard: 10<br>Action: Stick",
           "Player Total: 21<br>Dealer Upcard: 10<br>Action: Stick"
          ],
          [
           "Player Total: 4<br>Dealer Upcard: 11<br>Action: Hit",
           "Player Total: 5<br>Dealer Upcard: 11<br>Action: Hit",
           "Player Total: 6<br>Dealer Upcard: 11<br>Action: Hit",
           "Player Total: 7<br>Dealer Upcard: 11<br>Action: Hit",
           "Player Total: 8<br>Dealer Upcard: 11<br>Action: Hit",
           "Player Total: 9<br>Dealer Upcard: 11<br>Action: Hit",
           "Player Total: 10<br>Dealer Upcard: 11<br>Action: Hit",
           "Player Total: 11<br>Dealer Upcard: 11<br>Action: Hit",
           "Player Total: 12<br>Dealer Upcard: 11<br>Action: Hit",
           "Player Total: 13<br>Dealer Upcard: 11<br>Action: Hit",
           "Player Total: 14<br>Dealer Upcard: 11<br>Action: Hit",
           "Player Total: 15<br>Dealer Upcard: 11<br>Action: Hit",
           "Player Total: 16<br>Dealer Upcard: 11<br>Action: Hit",
           "Player Total: 17<br>Dealer Upcard: 11<br>Action: Stick",
           "Player Total: 18<br>Dealer Upcard: 11<br>Action: Stick",
           "Player Total: 19<br>Dealer Upcard: 11<br>Action: Stick",
           "Player Total: 20<br>Dealer Upcard: 11<br>Action: Stick",
           "Player Total: 21<br>Dealer Upcard: 11<br>Action: Stick"
          ]
         ],
         "showscale": false,
         "type": "heatmap",
         "x": [
          4,
          5,
          6,
          7,
          8,
          9,
          10,
          11,
          12,
          13,
          14,
          15,
          16,
          17,
          18,
          19,
          20,
          21
         ],
         "xgap": 4,
         "y": [
          2,
          3,
          4,
          5,
          6,
          7,
          8,
          9,
          10,
          11
         ],
         "ygap": 4,
         "z": [
          [
           1,
           1,
           1,
           1,
           1,
           1,
           1,
           1,
           0,
           0,
           0,
           0,
           0,
           0,
           0,
           0,
           0,
           0
          ],
          [
           1,
           1,
           1,
           1,
           1,
           1,
           1,
           1,
           0,
           0,
           0,
           0,
           0,
           0,
           0,
           0,
           0,
           0
          ],
          [
           1,
           1,
           1,
           1,
           1,
           1,
           1,
           1,
           0,
           0,
           0,
           0,
           0,
           0,
           0,
           0,
           0,
           0
          ],
          [
           1,
           1,
           1,
           1,
           1,
           1,
           1,
           1,
           0,
           0,
           0,
           0,
           0,
           0,
           0,
           0,
           0,
           0
          ],
          [
           1,
           1,
           1,
           1,
           1,
           1,
           1,
           1,
           0,
           0,
           0,
           0,
           0,
           0,
           0,
           0,
           0,
           0
          ],
          [
           1,
           1,
           1,
           1,
           1,
           1,
           1,
           1,
           1,
           1,
           0,
           0,
           0,
           0,
           0,
           0,
           0,
           0
          ],
          [
           1,
           1,
           1,
           1,
           1,
           1,
           1,
           1,
           1,
           1,
           0,
           0,
           0,
           0,
           0,
           0,
           0,
           0
          ],
          [
           1,
           1,
           1,
           1,
           1,
           1,
           1,
           1,
           1,
           1,
           0,
           0,
           0,
           0,
           0,
           0,
           0,
           0
          ],
          [
           1,
           1,
           1,
           1,
           1,
           1,
           1,
           1,
           1,
           1,
           0,
           0,
           0,
           0,
           0,
           0,
           0,
           0
          ],
          [
           1,
           1,
           1,
           1,
           1,
           1,
           1,
           1,
           1,
           1,
           1,
           1,
           1,
           0,
           0,
           0,
           0,
           0
          ]
         ],
         "zmax": 1,
         "zmin": 0
        }
       ],
       "layout": {
        "autosize": true,
        "template": {
         "data": {
          "bar": [
           {
            "error_x": {
             "color": "#2a3f5f"
            },
            "error_y": {
             "color": "#2a3f5f"
            },
            "marker": {
             "line": {
              "color": "#E5ECF6",
              "width": 0.5
             },
             "pattern": {
              "fillmode": "overlay",
              "size": 10,
              "solidity": 0.2
             }
            },
            "type": "bar"
           }
          ],
          "barpolar": [
           {
            "marker": {
             "line": {
              "color": "#E5ECF6",
              "width": 0.5
             },
             "pattern": {
              "fillmode": "overlay",
              "size": 10,
              "solidity": 0.2
             }
            },
            "type": "barpolar"
           }
          ],
          "carpet": [
           {
            "aaxis": {
             "endlinecolor": "#2a3f5f",
             "gridcolor": "white",
             "linecolor": "white",
             "minorgridcolor": "white",
             "startlinecolor": "#2a3f5f"
            },
            "baxis": {
             "endlinecolor": "#2a3f5f",
             "gridcolor": "white",
             "linecolor": "white",
             "minorgridcolor": "white",
             "startlinecolor": "#2a3f5f"
            },
            "type": "carpet"
           }
          ],
          "choropleth": [
           {
            "colorbar": {
             "outlinewidth": 0,
             "ticks": ""
            },
            "type": "choropleth"
           }
          ],
          "contour": [
           {
            "colorbar": {
             "outlinewidth": 0,
             "ticks": ""
            },
            "colorscale": [
             [
              0.0,
              "#0d0887"
             ],
             [
              0.1111111111111111,
              "#46039f"
             ],
             [
              0.2222222222222222,
              "#7201a8"
             ],
             [
              0.3333333333333333,
              "#9c179e"
             ],
             [
              0.4444444444444444,
              "#bd3786"
             ],
             [
              0.5555555555555556,
              "#d8576b"
             ],
             [
              0.6666666666666666,
              "#ed7953"
             ],
             [
              0.7777777777777778,
              "#fb9f3a"
             ],
             [
              0.8888888888888888,
              "#fdca26"
             ],
             [
              1.0,
              "#f0f921"
             ]
            ],
            "type": "contour"
           }
          ],
          "contourcarpet": [
           {
            "colorbar": {
             "outlinewidth": 0,
             "ticks": ""
            },
            "type": "contourcarpet"
           }
          ],
          "heatmap": [
           {
            "colorbar": {
             "outlinewidth": 0,
             "ticks": ""
            },
            "colorscale": [
             [
              0.0,
              "#0d0887"
             ],
             [
              0.1111111111111111,
              "#46039f"
             ],
             [
              0.2222222222222222,
              "#7201a8"
             ],
             [
              0.3333333333333333,
              "#9c179e"
             ],
             [
              0.4444444444444444,
              "#bd3786"
             ],
             [
              0.5555555555555556,
              "#d8576b"
             ],
             [
              0.6666666666666666,
              "#ed7953"
             ],
             [
              0.7777777777777778,
              "#fb9f3a"
             ],
             [
              0.8888888888888888,
              "#fdca26"
             ],
             [
              1.0,
              "#f0f921"
             ]
            ],
            "type": "heatmap"
           }
          ],
          "heatmapgl": [
           {
            "colorbar": {
             "outlinewidth": 0,
             "ticks": ""
            },
            "colorscale": [
             [
              0.0,
              "#0d0887"
             ],
             [
              0.1111111111111111,
              "#46039f"
             ],
             [
              0.2222222222222222,
              "#7201a8"
             ],
             [
              0.3333333333333333,
              "#9c179e"
             ],
             [
              0.4444444444444444,
              "#bd3786"
             ],
             [
              0.5555555555555556,
              "#d8576b"
             ],
             [
              0.6666666666666666,
              "#ed7953"
             ],
             [
              0.7777777777777778,
              "#fb9f3a"
             ],
             [
              0.8888888888888888,
              "#fdca26"
             ],
             [
              1.0,
              "#f0f921"
             ]
            ],
            "type": "heatmapgl"
           }
          ],
          "histogram": [
           {
            "marker": {
             "pattern": {
              "fillmode": "overlay",
              "size": 10,
              "solidity": 0.2
             }
            },
            "type": "histogram"
           }
          ],
          "histogram2d": [
           {
            "colorbar": {
             "outlinewidth": 0,
             "ticks": ""
            },
            "colorscale": [
             [
              0.0,
              "#0d0887"
             ],
             [
              0.1111111111111111,
              "#46039f"
             ],
             [
              0.2222222222222222,
              "#7201a8"
             ],
             [
              0.3333333333333333,
              "#9c179e"
             ],
             [
              0.4444444444444444,
              "#bd3786"
             ],
             [
              0.5555555555555556,
              "#d8576b"
             ],
             [
              0.6666666666666666,
              "#ed7953"
             ],
             [
              0.7777777777777778,
              "#fb9f3a"
             ],
             [
              0.8888888888888888,
              "#fdca26"
             ],
             [
              1.0,
              "#f0f921"
             ]
            ],
            "type": "histogram2d"
           }
          ],
          "histogram2dcontour": [
           {
            "colorbar": {
             "outlinewidth": 0,
             "ticks": ""
            },
            "colorscale": [
             [
              0.0,
              "#0d0887"
             ],
             [
              0.1111111111111111,
              "#46039f"
             ],
             [
              0.2222222222222222,
              "#7201a8"
             ],
             [
              0.3333333333333333,
              "#9c179e"
             ],
             [
              0.4444444444444444,
              "#bd3786"
             ],
             [
              0.5555555555555556,
              "#d8576b"
             ],
             [
              0.6666666666666666,
              "#ed7953"
             ],
             [
              0.7777777777777778,
              "#fb9f3a"
             ],
             [
              0.8888888888888888,
              "#fdca26"
             ],
             [
              1.0,
              "#f0f921"
             ]
            ],
            "type": "histogram2dcontour"
           }
          ],
          "mesh3d": [
           {
            "colorbar": {
             "outlinewidth": 0,
             "ticks": ""
            },
            "type": "mesh3d"
           }
          ],
          "parcoords": [
           {
            "line": {
             "colorbar": {
              "outlinewidth": 0,
              "ticks": ""
             }
            },
            "type": "parcoords"
           }
          ],
          "pie": [
           {
            "automargin": true,
            "type": "pie"
           }
          ],
          "scatter": [
           {
            "fillpattern": {
             "fillmode": "overlay",
             "size": 10,
             "solidity": 0.2
            },
            "type": "scatter"
           }
          ],
          "scatter3d": [
           {
            "line": {
             "colorbar": {
              "outlinewidth": 0,
              "ticks": ""
             }
            },
            "marker": {
             "colorbar": {
              "outlinewidth": 0,
              "ticks": ""
             }
            },
            "type": "scatter3d"
           }
          ],
          "scattercarpet": [
           {
            "marker": {
             "colorbar": {
              "outlinewidth": 0,
              "ticks": ""
             }
            },
            "type": "scattercarpet"
           }
          ],
          "scattergeo": [
           {
            "marker": {
             "colorbar": {
              "outlinewidth": 0,
              "ticks": ""
             }
            },
            "type": "scattergeo"
           }
          ],
          "scattergl": [
           {
            "marker": {
             "colorbar": {
              "outlinewidth": 0,
              "ticks": ""
             }
            },
            "type": "scattergl"
           }
          ],
          "scattermapbox": [
           {
            "marker": {
             "colorbar": {
              "outlinewidth": 0,
              "ticks": ""
             }
            },
            "type": "scattermapbox"
           }
          ],
          "scatterpolar": [
           {
            "marker": {
             "colorbar": {
              "outlinewidth": 0,
              "ticks": ""
             }
            },
            "type": "scatterpolar"
           }
          ],
          "scatterpolargl": [
           {
            "marker": {
             "colorbar": {
              "outlinewidth": 0,
              "ticks": ""
             }
            },
            "type": "scatterpolargl"
           }
          ],
          "scatterternary": [
           {
            "marker": {
             "colorbar": {
              "outlinewidth": 0,
              "ticks": ""
             }
            },
            "type": "scatterternary"
           }
          ],
          "surface": [
           {
            "colorbar": {
             "outlinewidth": 0,
             "ticks": ""
            },
            "colorscale": [
             [
              0.0,
              "#0d0887"
             ],
             [
              0.1111111111111111,
              "#46039f"
             ],
             [
              0.2222222222222222,
              "#7201a8"
             ],
             [
              0.3333333333333333,
              "#9c179e"
             ],
             [
              0.4444444444444444,
              "#bd3786"
             ],
             [
              0.5555555555555556,
              "#d8576b"
             ],
             [
              0.6666666666666666,
              "#ed7953"
             ],
             [
              0.7777777777777778,
              "#fb9f3a"
             ],
             [
              0.8888888888888888,
              "#fdca26"
             ],
             [
              1.0,
              "#f0f921"
             ]
            ],
            "type": "surface"
           }
          ],
          "table": [
           {
            "cells": {
             "fill": {
              "color": "#EBF0F8"
             },
             "line": {
              "color": "white"
             }
            },
            "header": {
             "fill": {
              "color": "#C8D4E3"
             },
             "line": {
              "color": "white"
             }
            },
            "type": "table"
           }
          ]
         },
         "layout": {
          "annotationdefaults": {
           "arrowcolor": "#2a3f5f",
           "arrowhead": 0,
           "arrowwidth": 1
          },
          "autotypenumbers": "strict",
          "coloraxis": {
           "colorbar": {
            "outlinewidth": 0,
            "ticks": ""
           }
          },
          "colorscale": {
           "diverging": [
            [
             0,
             "#8e0152"
            ],
            [
             0.1,
             "#c51b7d"
            ],
            [
             0.2,
             "#de77ae"
            ],
            [
             0.3,
             "#f1b6da"
            ],
            [
             0.4,
             "#fde0ef"
            ],
            [
             0.5,
             "#f7f7f7"
            ],
            [
             0.6,
             "#e6f5d0"
            ],
            [
             0.7,
             "#b8e186"
            ],
            [
             0.8,
             "#7fbc41"
            ],
            [
             0.9,
             "#4d9221"
            ],
            [
             1,
             "#276419"
            ]
           ],
           "sequential": [
            [
             0.0,
             "#0d0887"
            ],
            [
             0.1111111111111111,
             "#46039f"
            ],
            [
             0.2222222222222222,
             "#7201a8"
            ],
            [
             0.3333333333333333,
             "#9c179e"
            ],
            [
             0.4444444444444444,
             "#bd3786"
            ],
            [
             0.5555555555555556,
             "#d8576b"
            ],
            [
             0.6666666666666666,
             "#ed7953"
            ],
            [
             0.7777777777777778,
             "#fb9f3a"
            ],
            [
             0.8888888888888888,
             "#fdca26"
            ],
            [
             1.0,
             "#f0f921"
            ]
           ],
           "sequentialminus": [
            [
             0.0,
             "#0d0887"
            ],
            [
             0.1111111111111111,
             "#46039f"
            ],
            [
             0.2222222222222222,
             "#7201a8"
            ],
            [
             0.3333333333333333,
             "#9c179e"
            ],
            [
             0.4444444444444444,
             "#bd3786"
            ],
            [
             0.5555555555555556,
             "#d8576b"
            ],
            [
             0.6666666666666666,
             "#ed7953"
            ],
            [
             0.7777777777777778,
             "#fb9f3a"
            ],
            [
             0.8888888888888888,
             "#fdca26"
            ],
            [
             1.0,
             "#f0f921"
            ]
           ]
          },
          "colorway": [
           "#636efa",
           "#EF553B",
           "#00cc96",
           "#ab63fa",
           "#FFA15A",
           "#19d3f3",
           "#FF6692",
           "#B6E880",
           "#FF97FF",
           "#FECB52"
          ],
          "font": {
           "color": "#2a3f5f"
          },
          "geo": {
           "bgcolor": "white",
           "lakecolor": "white",
           "landcolor": "#E5ECF6",
           "showlakes": true,
           "showland": true,
           "subunitcolor": "white"
          },
          "hoverlabel": {
           "align": "left"
          },
          "hovermode": "closest",
          "mapbox": {
           "style": "light"
          },
          "paper_bgcolor": "white",
          "plot_bgcolor": "#E5ECF6",
          "polar": {
           "angularaxis": {
            "gridcolor": "white",
            "linecolor": "white",
            "ticks": ""
           },
           "bgcolor": "#E5ECF6",
           "radialaxis": {
            "gridcolor": "white",
            "linecolor": "white",
            "ticks": ""
           }
          },
          "scene": {
           "xaxis": {
            "backgroundcolor": "#E5ECF6",
            "gridcolor": "white",
            "gridwidth": 2,
            "linecolor": "white",
            "showbackground": true,
            "ticks": "",
            "zerolinecolor": "white"
           },
           "yaxis": {
            "backgroundcolor": "#E5ECF6",
            "gridcolor": "white",
            "gridwidth": 2,
            "linecolor": "white",
            "showbackground": true,
            "ticks": "",
            "zerolinecolor": "white"
           },
           "zaxis": {
            "backgroundcolor": "#E5ECF6",
            "gridcolor": "white",
            "gridwidth": 2,
            "linecolor": "white",
            "showbackground": true,
            "ticks": "",
            "zerolinecolor": "white"
           }
          },
          "shapedefaults": {
           "line": {
            "color": "#2a3f5f"
           }
          },
          "ternary": {
           "aaxis": {
            "gridcolor": "white",
            "linecolor": "white",
            "ticks": ""
           },
           "baxis": {
            "gridcolor": "white",
            "linecolor": "white",
            "ticks": ""
           },
           "bgcolor": "#E5ECF6",
           "caxis": {
            "gridcolor": "white",
            "linecolor": "white",
            "ticks": ""
           }
          },
          "title": {
           "x": 0.05
          },
          "xaxis": {
           "automargin": true,
           "gridcolor": "white",
           "linecolor": "white",
           "ticks": "",
           "title": {
            "standoff": 15
           },
           "zerolinecolor": "white",
           "zerolinewidth": 2
          },
          "yaxis": {
           "automargin": true,
           "gridcolor": "white",
           "linecolor": "white",
           "ticks": "",
           "title": {
            "standoff": 15
           },
           "zerolinecolor": "white",
           "zerolinewidth": 2
          }
         }
        },
        "title": {
         "text": "Blackjack Strategy - Blackjack Optimal Strategy"
        },
        "xaxis": {
         "title": {
          "text": "Player Total"
         }
        },
        "yaxis": {
         "title": {
          "text": "Dealer Upcard"
         }
        }
       }
      },
      "text/html": [
       "<div>                            <div id=\"d891721b-4b42-4132-9f6a-ab88527377df\" class=\"plotly-graph-div\" style=\"height:525px; width:100%;\"></div>            <script type=\"text/javascript\">                require([\"plotly\"], function(Plotly) {                    window.PLOTLYENV=window.PLOTLYENV || {};                                    if (document.getElementById(\"d891721b-4b42-4132-9f6a-ab88527377df\")) {                    Plotly.newPlot(                        \"d891721b-4b42-4132-9f6a-ab88527377df\",                        [{\"colorscale\":[[0.0,\"#cccccc\"],[1.0,\"#eb7632\"]],\"hoverinfo\":\"text\",\"hovertext\":[[\"Player Total: 4<br>Dealer Upcard: 2<br>Action: Hit\",\"Player Total: 5<br>Dealer Upcard: 2<br>Action: Hit\",\"Player Total: 6<br>Dealer Upcard: 2<br>Action: Hit\",\"Player Total: 7<br>Dealer Upcard: 2<br>Action: Hit\",\"Player Total: 8<br>Dealer Upcard: 2<br>Action: Hit\",\"Player Total: 9<br>Dealer Upcard: 2<br>Action: Hit\",\"Player Total: 10<br>Dealer Upcard: 2<br>Action: Hit\",\"Player Total: 11<br>Dealer Upcard: 2<br>Action: Hit\",\"Player Total: 12<br>Dealer Upcard: 2<br>Action: Stick\",\"Player Total: 13<br>Dealer Upcard: 2<br>Action: Stick\",\"Player Total: 14<br>Dealer Upcard: 2<br>Action: Stick\",\"Player Total: 15<br>Dealer Upcard: 2<br>Action: Stick\",\"Player Total: 16<br>Dealer Upcard: 2<br>Action: Stick\",\"Player Total: 17<br>Dealer Upcard: 2<br>Action: Stick\",\"Player Total: 18<br>Dealer Upcard: 2<br>Action: Stick\",\"Player Total: 19<br>Dealer Upcard: 2<br>Action: Stick\",\"Player Total: 20<br>Dealer Upcard: 2<br>Action: Stick\",\"Player Total: 21<br>Dealer Upcard: 2<br>Action: Stick\"],[\"Player Total: 4<br>Dealer Upcard: 3<br>Action: Hit\",\"Player Total: 5<br>Dealer Upcard: 3<br>Action: Hit\",\"Player Total: 6<br>Dealer Upcard: 3<br>Action: Hit\",\"Player Total: 7<br>Dealer Upcard: 3<br>Action: Hit\",\"Player Total: 8<br>Dealer Upcard: 3<br>Action: Hit\",\"Player Total: 9<br>Dealer Upcard: 3<br>Action: Hit\",\"Player Total: 10<br>Dealer Upcard: 3<br>Action: Hit\",\"Player Total: 11<br>Dealer Upcard: 3<br>Action: Hit\",\"Player Total: 12<br>Dealer Upcard: 3<br>Action: Stick\",\"Player Total: 13<br>Dealer Upcard: 3<br>Action: Stick\",\"Player Total: 14<br>Dealer Upcard: 3<br>Action: Stick\",\"Player Total: 15<br>Dealer Upcard: 3<br>Action: Stick\",\"Player Total: 16<br>Dealer Upcard: 3<br>Action: Stick\",\"Player Total: 17<br>Dealer Upcard: 3<br>Action: Stick\",\"Player Total: 18<br>Dealer Upcard: 3<br>Action: Stick\",\"Player Total: 19<br>Dealer Upcard: 3<br>Action: Stick\",\"Player Total: 20<br>Dealer Upcard: 3<br>Action: Stick\",\"Player Total: 21<br>Dealer Upcard: 3<br>Action: Stick\"],[\"Player Total: 4<br>Dealer Upcard: 4<br>Action: Hit\",\"Player Total: 5<br>Dealer Upcard: 4<br>Action: Hit\",\"Player Total: 6<br>Dealer Upcard: 4<br>Action: Hit\",\"Player Total: 7<br>Dealer Upcard: 4<br>Action: Hit\",\"Player Total: 8<br>Dealer Upcard: 4<br>Action: Hit\",\"Player Total: 9<br>Dealer Upcard: 4<br>Action: Hit\",\"Player Total: 10<br>Dealer Upcard: 4<br>Action: Hit\",\"Player Total: 11<br>Dealer Upcard: 4<br>Action: Hit\",\"Player Total: 12<br>Dealer Upcard: 4<br>Action: Stick\",\"Player Total: 13<br>Dealer Upcard: 4<br>Action: Stick\",\"Player Total: 14<br>Dealer Upcard: 4<br>Action: Stick\",\"Player Total: 15<br>Dealer Upcard: 4<br>Action: Stick\",\"Player Total: 16<br>Dealer Upcard: 4<br>Action: Stick\",\"Player Total: 17<br>Dealer Upcard: 4<br>Action: Stick\",\"Player Total: 18<br>Dealer Upcard: 4<br>Action: Stick\",\"Player Total: 19<br>Dealer Upcard: 4<br>Action: Stick\",\"Player Total: 20<br>Dealer Upcard: 4<br>Action: Stick\",\"Player Total: 21<br>Dealer Upcard: 4<br>Action: Stick\"],[\"Player Total: 4<br>Dealer Upcard: 5<br>Action: Hit\",\"Player Total: 5<br>Dealer Upcard: 5<br>Action: Hit\",\"Player Total: 6<br>Dealer Upcard: 5<br>Action: Hit\",\"Player Total: 7<br>Dealer Upcard: 5<br>Action: Hit\",\"Player Total: 8<br>Dealer Upcard: 5<br>Action: Hit\",\"Player Total: 9<br>Dealer Upcard: 5<br>Action: Hit\",\"Player Total: 10<br>Dealer Upcard: 5<br>Action: Hit\",\"Player Total: 11<br>Dealer Upcard: 5<br>Action: Hit\",\"Player Total: 12<br>Dealer Upcard: 5<br>Action: Stick\",\"Player Total: 13<br>Dealer Upcard: 5<br>Action: Stick\",\"Player Total: 14<br>Dealer Upcard: 5<br>Action: Stick\",\"Player Total: 15<br>Dealer Upcard: 5<br>Action: Stick\",\"Player Total: 16<br>Dealer Upcard: 5<br>Action: Stick\",\"Player Total: 17<br>Dealer Upcard: 5<br>Action: Stick\",\"Player Total: 18<br>Dealer Upcard: 5<br>Action: Stick\",\"Player Total: 19<br>Dealer Upcard: 5<br>Action: Stick\",\"Player Total: 20<br>Dealer Upcard: 5<br>Action: Stick\",\"Player Total: 21<br>Dealer Upcard: 5<br>Action: Stick\"],[\"Player Total: 4<br>Dealer Upcard: 6<br>Action: Hit\",\"Player Total: 5<br>Dealer Upcard: 6<br>Action: Hit\",\"Player Total: 6<br>Dealer Upcard: 6<br>Action: Hit\",\"Player Total: 7<br>Dealer Upcard: 6<br>Action: Hit\",\"Player Total: 8<br>Dealer Upcard: 6<br>Action: Hit\",\"Player Total: 9<br>Dealer Upcard: 6<br>Action: Hit\",\"Player Total: 10<br>Dealer Upcard: 6<br>Action: Hit\",\"Player Total: 11<br>Dealer Upcard: 6<br>Action: Hit\",\"Player Total: 12<br>Dealer Upcard: 6<br>Action: Stick\",\"Player Total: 13<br>Dealer Upcard: 6<br>Action: Stick\",\"Player Total: 14<br>Dealer Upcard: 6<br>Action: Stick\",\"Player Total: 15<br>Dealer Upcard: 6<br>Action: Stick\",\"Player Total: 16<br>Dealer Upcard: 6<br>Action: Stick\",\"Player Total: 17<br>Dealer Upcard: 6<br>Action: Stick\",\"Player Total: 18<br>Dealer Upcard: 6<br>Action: Stick\",\"Player Total: 19<br>Dealer Upcard: 6<br>Action: Stick\",\"Player Total: 20<br>Dealer Upcard: 6<br>Action: Stick\",\"Player Total: 21<br>Dealer Upcard: 6<br>Action: Stick\"],[\"Player Total: 4<br>Dealer Upcard: 7<br>Action: Hit\",\"Player Total: 5<br>Dealer Upcard: 7<br>Action: Hit\",\"Player Total: 6<br>Dealer Upcard: 7<br>Action: Hit\",\"Player Total: 7<br>Dealer Upcard: 7<br>Action: Hit\",\"Player Total: 8<br>Dealer Upcard: 7<br>Action: Hit\",\"Player Total: 9<br>Dealer Upcard: 7<br>Action: Hit\",\"Player Total: 10<br>Dealer Upcard: 7<br>Action: Hit\",\"Player Total: 11<br>Dealer Upcard: 7<br>Action: Hit\",\"Player Total: 12<br>Dealer Upcard: 7<br>Action: Hit\",\"Player Total: 13<br>Dealer Upcard: 7<br>Action: Hit\",\"Player Total: 14<br>Dealer Upcard: 7<br>Action: Stick\",\"Player Total: 15<br>Dealer Upcard: 7<br>Action: Stick\",\"Player Total: 16<br>Dealer Upcard: 7<br>Action: Stick\",\"Player Total: 17<br>Dealer Upcard: 7<br>Action: Stick\",\"Player Total: 18<br>Dealer Upcard: 7<br>Action: Stick\",\"Player Total: 19<br>Dealer Upcard: 7<br>Action: Stick\",\"Player Total: 20<br>Dealer Upcard: 7<br>Action: Stick\",\"Player Total: 21<br>Dealer Upcard: 7<br>Action: Stick\"],[\"Player Total: 4<br>Dealer Upcard: 8<br>Action: Hit\",\"Player Total: 5<br>Dealer Upcard: 8<br>Action: Hit\",\"Player Total: 6<br>Dealer Upcard: 8<br>Action: Hit\",\"Player Total: 7<br>Dealer Upcard: 8<br>Action: Hit\",\"Player Total: 8<br>Dealer Upcard: 8<br>Action: Hit\",\"Player Total: 9<br>Dealer Upcard: 8<br>Action: Hit\",\"Player Total: 10<br>Dealer Upcard: 8<br>Action: Hit\",\"Player Total: 11<br>Dealer Upcard: 8<br>Action: Hit\",\"Player Total: 12<br>Dealer Upcard: 8<br>Action: Hit\",\"Player Total: 13<br>Dealer Upcard: 8<br>Action: Hit\",\"Player Total: 14<br>Dealer Upcard: 8<br>Action: Stick\",\"Player Total: 15<br>Dealer Upcard: 8<br>Action: Stick\",\"Player Total: 16<br>Dealer Upcard: 8<br>Action: Stick\",\"Player Total: 17<br>Dealer Upcard: 8<br>Action: Stick\",\"Player Total: 18<br>Dealer Upcard: 8<br>Action: Stick\",\"Player Total: 19<br>Dealer Upcard: 8<br>Action: Stick\",\"Player Total: 20<br>Dealer Upcard: 8<br>Action: Stick\",\"Player Total: 21<br>Dealer Upcard: 8<br>Action: Stick\"],[\"Player Total: 4<br>Dealer Upcard: 9<br>Action: Hit\",\"Player Total: 5<br>Dealer Upcard: 9<br>Action: Hit\",\"Player Total: 6<br>Dealer Upcard: 9<br>Action: Hit\",\"Player Total: 7<br>Dealer Upcard: 9<br>Action: Hit\",\"Player Total: 8<br>Dealer Upcard: 9<br>Action: Hit\",\"Player Total: 9<br>Dealer Upcard: 9<br>Action: Hit\",\"Player Total: 10<br>Dealer Upcard: 9<br>Action: Hit\",\"Player Total: 11<br>Dealer Upcard: 9<br>Action: Hit\",\"Player Total: 12<br>Dealer Upcard: 9<br>Action: Hit\",\"Player Total: 13<br>Dealer Upcard: 9<br>Action: Hit\",\"Player Total: 14<br>Dealer Upcard: 9<br>Action: Stick\",\"Player Total: 15<br>Dealer Upcard: 9<br>Action: Stick\",\"Player Total: 16<br>Dealer Upcard: 9<br>Action: Stick\",\"Player Total: 17<br>Dealer Upcard: 9<br>Action: Stick\",\"Player Total: 18<br>Dealer Upcard: 9<br>Action: Stick\",\"Player Total: 19<br>Dealer Upcard: 9<br>Action: Stick\",\"Player Total: 20<br>Dealer Upcard: 9<br>Action: Stick\",\"Player Total: 21<br>Dealer Upcard: 9<br>Action: Stick\"],[\"Player Total: 4<br>Dealer Upcard: 10<br>Action: Hit\",\"Player Total: 5<br>Dealer Upcard: 10<br>Action: Hit\",\"Player Total: 6<br>Dealer Upcard: 10<br>Action: Hit\",\"Player Total: 7<br>Dealer Upcard: 10<br>Action: Hit\",\"Player Total: 8<br>Dealer Upcard: 10<br>Action: Hit\",\"Player Total: 9<br>Dealer Upcard: 10<br>Action: Hit\",\"Player Total: 10<br>Dealer Upcard: 10<br>Action: Hit\",\"Player Total: 11<br>Dealer Upcard: 10<br>Action: Hit\",\"Player Total: 12<br>Dealer Upcard: 10<br>Action: Hit\",\"Player Total: 13<br>Dealer Upcard: 10<br>Action: Hit\",\"Player Total: 14<br>Dealer Upcard: 10<br>Action: Stick\",\"Player Total: 15<br>Dealer Upcard: 10<br>Action: Stick\",\"Player Total: 16<br>Dealer Upcard: 10<br>Action: Stick\",\"Player Total: 17<br>Dealer Upcard: 10<br>Action: Stick\",\"Player Total: 18<br>Dealer Upcard: 10<br>Action: Stick\",\"Player Total: 19<br>Dealer Upcard: 10<br>Action: Stick\",\"Player Total: 20<br>Dealer Upcard: 10<br>Action: Stick\",\"Player Total: 21<br>Dealer Upcard: 10<br>Action: Stick\"],[\"Player Total: 4<br>Dealer Upcard: 11<br>Action: Hit\",\"Player Total: 5<br>Dealer Upcard: 11<br>Action: Hit\",\"Player Total: 6<br>Dealer Upcard: 11<br>Action: Hit\",\"Player Total: 7<br>Dealer Upcard: 11<br>Action: Hit\",\"Player Total: 8<br>Dealer Upcard: 11<br>Action: Hit\",\"Player Total: 9<br>Dealer Upcard: 11<br>Action: Hit\",\"Player Total: 10<br>Dealer Upcard: 11<br>Action: Hit\",\"Player Total: 11<br>Dealer Upcard: 11<br>Action: Hit\",\"Player Total: 12<br>Dealer Upcard: 11<br>Action: Hit\",\"Player Total: 13<br>Dealer Upcard: 11<br>Action: Hit\",\"Player Total: 14<br>Dealer Upcard: 11<br>Action: Hit\",\"Player Total: 15<br>Dealer Upcard: 11<br>Action: Hit\",\"Player Total: 16<br>Dealer Upcard: 11<br>Action: Hit\",\"Player Total: 17<br>Dealer Upcard: 11<br>Action: Stick\",\"Player Total: 18<br>Dealer Upcard: 11<br>Action: Stick\",\"Player Total: 19<br>Dealer Upcard: 11<br>Action: Stick\",\"Player Total: 20<br>Dealer Upcard: 11<br>Action: Stick\",\"Player Total: 21<br>Dealer Upcard: 11<br>Action: Stick\"]],\"showscale\":false,\"x\":[4,5,6,7,8,9,10,11,12,13,14,15,16,17,18,19,20,21],\"xgap\":4,\"y\":[2,3,4,5,6,7,8,9,10,11],\"ygap\":4,\"z\":[[1,1,1,1,1,1,1,1,0,0,0,0,0,0,0,0,0,0],[1,1,1,1,1,1,1,1,0,0,0,0,0,0,0,0,0,0],[1,1,1,1,1,1,1,1,0,0,0,0,0,0,0,0,0,0],[1,1,1,1,1,1,1,1,0,0,0,0,0,0,0,0,0,0],[1,1,1,1,1,1,1,1,0,0,0,0,0,0,0,0,0,0],[1,1,1,1,1,1,1,1,1,1,0,0,0,0,0,0,0,0],[1,1,1,1,1,1,1,1,1,1,0,0,0,0,0,0,0,0],[1,1,1,1,1,1,1,1,1,1,0,0,0,0,0,0,0,0],[1,1,1,1,1,1,1,1,1,1,0,0,0,0,0,0,0,0],[1,1,1,1,1,1,1,1,1,1,1,1,1,0,0,0,0,0]],\"zmax\":1,\"zmin\":0,\"type\":\"heatmap\"}],                        {\"template\":{\"data\":{\"histogram2dcontour\":[{\"type\":\"histogram2dcontour\",\"colorbar\":{\"outlinewidth\":0,\"ticks\":\"\"},\"colorscale\":[[0.0,\"#0d0887\"],[0.1111111111111111,\"#46039f\"],[0.2222222222222222,\"#7201a8\"],[0.3333333333333333,\"#9c179e\"],[0.4444444444444444,\"#bd3786\"],[0.5555555555555556,\"#d8576b\"],[0.6666666666666666,\"#ed7953\"],[0.7777777777777778,\"#fb9f3a\"],[0.8888888888888888,\"#fdca26\"],[1.0,\"#f0f921\"]]}],\"choropleth\":[{\"type\":\"choropleth\",\"colorbar\":{\"outlinewidth\":0,\"ticks\":\"\"}}],\"histogram2d\":[{\"type\":\"histogram2d\",\"colorbar\":{\"outlinewidth\":0,\"ticks\":\"\"},\"colorscale\":[[0.0,\"#0d0887\"],[0.1111111111111111,\"#46039f\"],[0.2222222222222222,\"#7201a8\"],[0.3333333333333333,\"#9c179e\"],[0.4444444444444444,\"#bd3786\"],[0.5555555555555556,\"#d8576b\"],[0.6666666666666666,\"#ed7953\"],[0.7777777777777778,\"#fb9f3a\"],[0.8888888888888888,\"#fdca26\"],[1.0,\"#f0f921\"]]}],\"heatmap\":[{\"type\":\"heatmap\",\"colorbar\":{\"outlinewidth\":0,\"ticks\":\"\"},\"colorscale\":[[0.0,\"#0d0887\"],[0.1111111111111111,\"#46039f\"],[0.2222222222222222,\"#7201a8\"],[0.3333333333333333,\"#9c179e\"],[0.4444444444444444,\"#bd3786\"],[0.5555555555555556,\"#d8576b\"],[0.6666666666666666,\"#ed7953\"],[0.7777777777777778,\"#fb9f3a\"],[0.8888888888888888,\"#fdca26\"],[1.0,\"#f0f921\"]]}],\"heatmapgl\":[{\"type\":\"heatmapgl\",\"colorbar\":{\"outlinewidth\":0,\"ticks\":\"\"},\"colorscale\":[[0.0,\"#0d0887\"],[0.1111111111111111,\"#46039f\"],[0.2222222222222222,\"#7201a8\"],[0.3333333333333333,\"#9c179e\"],[0.4444444444444444,\"#bd3786\"],[0.5555555555555556,\"#d8576b\"],[0.6666666666666666,\"#ed7953\"],[0.7777777777777778,\"#fb9f3a\"],[0.8888888888888888,\"#fdca26\"],[1.0,\"#f0f921\"]]}],\"contourcarpet\":[{\"type\":\"contourcarpet\",\"colorbar\":{\"outlinewidth\":0,\"ticks\":\"\"}}],\"contour\":[{\"type\":\"contour\",\"colorbar\":{\"outlinewidth\":0,\"ticks\":\"\"},\"colorscale\":[[0.0,\"#0d0887\"],[0.1111111111111111,\"#46039f\"],[0.2222222222222222,\"#7201a8\"],[0.3333333333333333,\"#9c179e\"],[0.4444444444444444,\"#bd3786\"],[0.5555555555555556,\"#d8576b\"],[0.6666666666666666,\"#ed7953\"],[0.7777777777777778,\"#fb9f3a\"],[0.8888888888888888,\"#fdca26\"],[1.0,\"#f0f921\"]]}],\"surface\":[{\"type\":\"surface\",\"colorbar\":{\"outlinewidth\":0,\"ticks\":\"\"},\"colorscale\":[[0.0,\"#0d0887\"],[0.1111111111111111,\"#46039f\"],[0.2222222222222222,\"#7201a8\"],[0.3333333333333333,\"#9c179e\"],[0.4444444444444444,\"#bd3786\"],[0.5555555555555556,\"#d8576b\"],[0.6666666666666666,\"#ed7953\"],[0.7777777777777778,\"#fb9f3a\"],[0.8888888888888888,\"#fdca26\"],[1.0,\"#f0f921\"]]}],\"mesh3d\":[{\"type\":\"mesh3d\",\"colorbar\":{\"outlinewidth\":0,\"ticks\":\"\"}}],\"scatter\":[{\"fillpattern\":{\"fillmode\":\"overlay\",\"size\":10,\"solidity\":0.2},\"type\":\"scatter\"}],\"parcoords\":[{\"type\":\"parcoords\",\"line\":{\"colorbar\":{\"outlinewidth\":0,\"ticks\":\"\"}}}],\"scatterpolargl\":[{\"type\":\"scatterpolargl\",\"marker\":{\"colorbar\":{\"outlinewidth\":0,\"ticks\":\"\"}}}],\"bar\":[{\"error_x\":{\"color\":\"#2a3f5f\"},\"error_y\":{\"color\":\"#2a3f5f\"},\"marker\":{\"line\":{\"color\":\"#E5ECF6\",\"width\":0.5},\"pattern\":{\"fillmode\":\"overlay\",\"size\":10,\"solidity\":0.2}},\"type\":\"bar\"}],\"scattergeo\":[{\"type\":\"scattergeo\",\"marker\":{\"colorbar\":{\"outlinewidth\":0,\"ticks\":\"\"}}}],\"scatterpolar\":[{\"type\":\"scatterpolar\",\"marker\":{\"colorbar\":{\"outlinewidth\":0,\"ticks\":\"\"}}}],\"histogram\":[{\"marker\":{\"pattern\":{\"fillmode\":\"overlay\",\"size\":10,\"solidity\":0.2}},\"type\":\"histogram\"}],\"scattergl\":[{\"type\":\"scattergl\",\"marker\":{\"colorbar\":{\"outlinewidth\":0,\"ticks\":\"\"}}}],\"scatter3d\":[{\"type\":\"scatter3d\",\"line\":{\"colorbar\":{\"outlinewidth\":0,\"ticks\":\"\"}},\"marker\":{\"colorbar\":{\"outlinewidth\":0,\"ticks\":\"\"}}}],\"scattermapbox\":[{\"type\":\"scattermapbox\",\"marker\":{\"colorbar\":{\"outlinewidth\":0,\"ticks\":\"\"}}}],\"scatterternary\":[{\"type\":\"scatterternary\",\"marker\":{\"colorbar\":{\"outlinewidth\":0,\"ticks\":\"\"}}}],\"scattercarpet\":[{\"type\":\"scattercarpet\",\"marker\":{\"colorbar\":{\"outlinewidth\":0,\"ticks\":\"\"}}}],\"carpet\":[{\"aaxis\":{\"endlinecolor\":\"#2a3f5f\",\"gridcolor\":\"white\",\"linecolor\":\"white\",\"minorgridcolor\":\"white\",\"startlinecolor\":\"#2a3f5f\"},\"baxis\":{\"endlinecolor\":\"#2a3f5f\",\"gridcolor\":\"white\",\"linecolor\":\"white\",\"minorgridcolor\":\"white\",\"startlinecolor\":\"#2a3f5f\"},\"type\":\"carpet\"}],\"table\":[{\"cells\":{\"fill\":{\"color\":\"#EBF0F8\"},\"line\":{\"color\":\"white\"}},\"header\":{\"fill\":{\"color\":\"#C8D4E3\"},\"line\":{\"color\":\"white\"}},\"type\":\"table\"}],\"barpolar\":[{\"marker\":{\"line\":{\"color\":\"#E5ECF6\",\"width\":0.5},\"pattern\":{\"fillmode\":\"overlay\",\"size\":10,\"solidity\":0.2}},\"type\":\"barpolar\"}],\"pie\":[{\"automargin\":true,\"type\":\"pie\"}]},\"layout\":{\"autotypenumbers\":\"strict\",\"colorway\":[\"#636efa\",\"#EF553B\",\"#00cc96\",\"#ab63fa\",\"#FFA15A\",\"#19d3f3\",\"#FF6692\",\"#B6E880\",\"#FF97FF\",\"#FECB52\"],\"font\":{\"color\":\"#2a3f5f\"},\"hovermode\":\"closest\",\"hoverlabel\":{\"align\":\"left\"},\"paper_bgcolor\":\"white\",\"plot_bgcolor\":\"#E5ECF6\",\"polar\":{\"bgcolor\":\"#E5ECF6\",\"angularaxis\":{\"gridcolor\":\"white\",\"linecolor\":\"white\",\"ticks\":\"\"},\"radialaxis\":{\"gridcolor\":\"white\",\"linecolor\":\"white\",\"ticks\":\"\"}},\"ternary\":{\"bgcolor\":\"#E5ECF6\",\"aaxis\":{\"gridcolor\":\"white\",\"linecolor\":\"white\",\"ticks\":\"\"},\"baxis\":{\"gridcolor\":\"white\",\"linecolor\":\"white\",\"ticks\":\"\"},\"caxis\":{\"gridcolor\":\"white\",\"linecolor\":\"white\",\"ticks\":\"\"}},\"coloraxis\":{\"colorbar\":{\"outlinewidth\":0,\"ticks\":\"\"}},\"colorscale\":{\"sequential\":[[0.0,\"#0d0887\"],[0.1111111111111111,\"#46039f\"],[0.2222222222222222,\"#7201a8\"],[0.3333333333333333,\"#9c179e\"],[0.4444444444444444,\"#bd3786\"],[0.5555555555555556,\"#d8576b\"],[0.6666666666666666,\"#ed7953\"],[0.7777777777777778,\"#fb9f3a\"],[0.8888888888888888,\"#fdca26\"],[1.0,\"#f0f921\"]],\"sequentialminus\":[[0.0,\"#0d0887\"],[0.1111111111111111,\"#46039f\"],[0.2222222222222222,\"#7201a8\"],[0.3333333333333333,\"#9c179e\"],[0.4444444444444444,\"#bd3786\"],[0.5555555555555556,\"#d8576b\"],[0.6666666666666666,\"#ed7953\"],[0.7777777777777778,\"#fb9f3a\"],[0.8888888888888888,\"#fdca26\"],[1.0,\"#f0f921\"]],\"diverging\":[[0,\"#8e0152\"],[0.1,\"#c51b7d\"],[0.2,\"#de77ae\"],[0.3,\"#f1b6da\"],[0.4,\"#fde0ef\"],[0.5,\"#f7f7f7\"],[0.6,\"#e6f5d0\"],[0.7,\"#b8e186\"],[0.8,\"#7fbc41\"],[0.9,\"#4d9221\"],[1,\"#276419\"]]},\"xaxis\":{\"gridcolor\":\"white\",\"linecolor\":\"white\",\"ticks\":\"\",\"title\":{\"standoff\":15},\"zerolinecolor\":\"white\",\"automargin\":true,\"zerolinewidth\":2},\"yaxis\":{\"gridcolor\":\"white\",\"linecolor\":\"white\",\"ticks\":\"\",\"title\":{\"standoff\":15},\"zerolinecolor\":\"white\",\"automargin\":true,\"zerolinewidth\":2},\"scene\":{\"xaxis\":{\"backgroundcolor\":\"#E5ECF6\",\"gridcolor\":\"white\",\"linecolor\":\"white\",\"showbackground\":true,\"ticks\":\"\",\"zerolinecolor\":\"white\",\"gridwidth\":2},\"yaxis\":{\"backgroundcolor\":\"#E5ECF6\",\"gridcolor\":\"white\",\"linecolor\":\"white\",\"showbackground\":true,\"ticks\":\"\",\"zerolinecolor\":\"white\",\"gridwidth\":2},\"zaxis\":{\"backgroundcolor\":\"#E5ECF6\",\"gridcolor\":\"white\",\"linecolor\":\"white\",\"showbackground\":true,\"ticks\":\"\",\"zerolinecolor\":\"white\",\"gridwidth\":2}},\"shapedefaults\":{\"line\":{\"color\":\"#2a3f5f\"}},\"annotationdefaults\":{\"arrowcolor\":\"#2a3f5f\",\"arrowhead\":0,\"arrowwidth\":1},\"geo\":{\"bgcolor\":\"white\",\"landcolor\":\"#E5ECF6\",\"subunitcolor\":\"white\",\"showland\":true,\"showlakes\":true,\"lakecolor\":\"white\"},\"title\":{\"x\":0.05},\"mapbox\":{\"style\":\"light\"}}},\"title\":{\"text\":\"Blackjack Strategy - Blackjack Optimal Strategy\"},\"xaxis\":{\"title\":{\"text\":\"Player Total\"}},\"yaxis\":{\"title\":{\"text\":\"Dealer Upcard\"}},\"autosize\":true},                        {\"responsive\": true}                    ).then(function(){\n",
       "                            \n",
       "var gd = document.getElementById('d891721b-4b42-4132-9f6a-ab88527377df');\n",
       "var x = new MutationObserver(function (mutations, observer) {{\n",
       "        var display = window.getComputedStyle(gd).display;\n",
       "        if (!display || display === 'none') {{\n",
       "            console.log([gd, 'removed!']);\n",
       "            Plotly.purge(gd);\n",
       "            observer.disconnect();\n",
       "        }}\n",
       "}});\n",
       "\n",
       "// Listen for the removal of the full notebook cells\n",
       "var notebookContainer = gd.closest('#notebook-container');\n",
       "if (notebookContainer) {{\n",
       "    x.observe(notebookContainer, {childList: true});\n",
       "}}\n",
       "\n",
       "// Listen for the clearing of the current output cell\n",
       "var outputEl = gd.closest('.output');\n",
       "if (outputEl) {{\n",
       "    x.observe(outputEl, {childList: true});\n",
       "}}\n",
       "\n",
       "                        })                };                });            </script>        </div>"
      ]
     },
     "metadata": {},
     "output_type": "display_data"
    },
    {
     "data": {
      "application/vnd.plotly.v1+json": {
       "config": {
        "plotlyServerURL": "https://plot.ly"
       },
       "data": [
        {
         "type": "bar",
         "x": [
          -240.0,
          -208.66666666666666,
          -177.33333333333334,
          -146.0,
          -114.66666666666667,
          -83.33333333333334,
          -52.0,
          -20.666666666666686,
          10.666666666666657,
          42.0,
          73.33333333333331,
          104.66666666666663,
          136.0,
          167.33333333333331,
          198.66666666666663,
          230.0
         ],
         "y": [
          19,
          41,
          110,
          261,
          531,
          707,
          952,
          1114,
          651,
          346,
          186,
          63,
          14,
          3,
          2
         ]
        }
       ],
       "layout": {
        "shapes": [
         {
          "line": {
           "color": "Black",
           "dash": "dot",
           "width": 1.5
          },
          "type": "line",
          "x0": -28.554,
          "x1": -28.554,
          "y0": 0,
          "y1": 1114
         },
         {
          "line": {
           "color": "#cccccc",
           "width": 0.5
          },
          "type": "line",
          "x0": 0,
          "x1": 0,
          "y0": 0,
          "y1": 1114
         }
        ],
        "template": {
         "data": {
          "bar": [
           {
            "error_x": {
             "color": "#2a3f5f"
            },
            "error_y": {
             "color": "#2a3f5f"
            },
            "marker": {
             "line": {
              "color": "#E5ECF6",
              "width": 0.5
             },
             "pattern": {
              "fillmode": "overlay",
              "size": 10,
              "solidity": 0.2
             }
            },
            "type": "bar"
           }
          ],
          "barpolar": [
           {
            "marker": {
             "line": {
              "color": "#E5ECF6",
              "width": 0.5
             },
             "pattern": {
              "fillmode": "overlay",
              "size": 10,
              "solidity": 0.2
             }
            },
            "type": "barpolar"
           }
          ],
          "carpet": [
           {
            "aaxis": {
             "endlinecolor": "#2a3f5f",
             "gridcolor": "white",
             "linecolor": "white",
             "minorgridcolor": "white",
             "startlinecolor": "#2a3f5f"
            },
            "baxis": {
             "endlinecolor": "#2a3f5f",
             "gridcolor": "white",
             "linecolor": "white",
             "minorgridcolor": "white",
             "startlinecolor": "#2a3f5f"
            },
            "type": "carpet"
           }
          ],
          "choropleth": [
           {
            "colorbar": {
             "outlinewidth": 0,
             "ticks": ""
            },
            "type": "choropleth"
           }
          ],
          "contour": [
           {
            "colorbar": {
             "outlinewidth": 0,
             "ticks": ""
            },
            "colorscale": [
             [
              0.0,
              "#0d0887"
             ],
             [
              0.1111111111111111,
              "#46039f"
             ],
             [
              0.2222222222222222,
              "#7201a8"
             ],
             [
              0.3333333333333333,
              "#9c179e"
             ],
             [
              0.4444444444444444,
              "#bd3786"
             ],
             [
              0.5555555555555556,
              "#d8576b"
             ],
             [
              0.6666666666666666,
              "#ed7953"
             ],
             [
              0.7777777777777778,
              "#fb9f3a"
             ],
             [
              0.8888888888888888,
              "#fdca26"
             ],
             [
              1.0,
              "#f0f921"
             ]
            ],
            "type": "contour"
           }
          ],
          "contourcarpet": [
           {
            "colorbar": {
             "outlinewidth": 0,
             "ticks": ""
            },
            "type": "contourcarpet"
           }
          ],
          "heatmap": [
           {
            "colorbar": {
             "outlinewidth": 0,
             "ticks": ""
            },
            "colorscale": [
             [
              0.0,
              "#0d0887"
             ],
             [
              0.1111111111111111,
              "#46039f"
             ],
             [
              0.2222222222222222,
              "#7201a8"
             ],
             [
              0.3333333333333333,
              "#9c179e"
             ],
             [
              0.4444444444444444,
              "#bd3786"
             ],
             [
              0.5555555555555556,
              "#d8576b"
             ],
             [
              0.6666666666666666,
              "#ed7953"
             ],
             [
              0.7777777777777778,
              "#fb9f3a"
             ],
             [
              0.8888888888888888,
              "#fdca26"
             ],
             [
              1.0,
              "#f0f921"
             ]
            ],
            "type": "heatmap"
           }
          ],
          "heatmapgl": [
           {
            "colorbar": {
             "outlinewidth": 0,
             "ticks": ""
            },
            "colorscale": [
             [
              0.0,
              "#0d0887"
             ],
             [
              0.1111111111111111,
              "#46039f"
             ],
             [
              0.2222222222222222,
              "#7201a8"
             ],
             [
              0.3333333333333333,
              "#9c179e"
             ],
             [
              0.4444444444444444,
              "#bd3786"
             ],
             [
              0.5555555555555556,
              "#d8576b"
             ],
             [
              0.6666666666666666,
              "#ed7953"
             ],
             [
              0.7777777777777778,
              "#fb9f3a"
             ],
             [
              0.8888888888888888,
              "#fdca26"
             ],
             [
              1.0,
              "#f0f921"
             ]
            ],
            "type": "heatmapgl"
           }
          ],
          "histogram": [
           {
            "marker": {
             "pattern": {
              "fillmode": "overlay",
              "size": 10,
              "solidity": 0.2
             }
            },
            "type": "histogram"
           }
          ],
          "histogram2d": [
           {
            "colorbar": {
             "outlinewidth": 0,
             "ticks": ""
            },
            "colorscale": [
             [
              0.0,
              "#0d0887"
             ],
             [
              0.1111111111111111,
              "#46039f"
             ],
             [
              0.2222222222222222,
              "#7201a8"
             ],
             [
              0.3333333333333333,
              "#9c179e"
             ],
             [
              0.4444444444444444,
              "#bd3786"
             ],
             [
              0.5555555555555556,
              "#d8576b"
             ],
             [
              0.6666666666666666,
              "#ed7953"
             ],
             [
              0.7777777777777778,
              "#fb9f3a"
             ],
             [
              0.8888888888888888,
              "#fdca26"
             ],
             [
              1.0,
              "#f0f921"
             ]
            ],
            "type": "histogram2d"
           }
          ],
          "histogram2dcontour": [
           {
            "colorbar": {
             "outlinewidth": 0,
             "ticks": ""
            },
            "colorscale": [
             [
              0.0,
              "#0d0887"
             ],
             [
              0.1111111111111111,
              "#46039f"
             ],
             [
              0.2222222222222222,
              "#7201a8"
             ],
             [
              0.3333333333333333,
              "#9c179e"
             ],
             [
              0.4444444444444444,
              "#bd3786"
             ],
             [
              0.5555555555555556,
              "#d8576b"
             ],
             [
              0.6666666666666666,
              "#ed7953"
             ],
             [
              0.7777777777777778,
              "#fb9f3a"
             ],
             [
              0.8888888888888888,
              "#fdca26"
             ],
             [
              1.0,
              "#f0f921"
             ]
            ],
            "type": "histogram2dcontour"
           }
          ],
          "mesh3d": [
           {
            "colorbar": {
             "outlinewidth": 0,
             "ticks": ""
            },
            "type": "mesh3d"
           }
          ],
          "parcoords": [
           {
            "line": {
             "colorbar": {
              "outlinewidth": 0,
              "ticks": ""
             }
            },
            "type": "parcoords"
           }
          ],
          "pie": [
           {
            "automargin": true,
            "type": "pie"
           }
          ],
          "scatter": [
           {
            "fillpattern": {
             "fillmode": "overlay",
             "size": 10,
             "solidity": 0.2
            },
            "type": "scatter"
           }
          ],
          "scatter3d": [
           {
            "line": {
             "colorbar": {
              "outlinewidth": 0,
              "ticks": ""
             }
            },
            "marker": {
             "colorbar": {
              "outlinewidth": 0,
              "ticks": ""
             }
            },
            "type": "scatter3d"
           }
          ],
          "scattercarpet": [
           {
            "marker": {
             "colorbar": {
              "outlinewidth": 0,
              "ticks": ""
             }
            },
            "type": "scattercarpet"
           }
          ],
          "scattergeo": [
           {
            "marker": {
             "colorbar": {
              "outlinewidth": 0,
              "ticks": ""
             }
            },
            "type": "scattergeo"
           }
          ],
          "scattergl": [
           {
            "marker": {
             "colorbar": {
              "outlinewidth": 0,
              "ticks": ""
             }
            },
            "type": "scattergl"
           }
          ],
          "scattermapbox": [
           {
            "marker": {
             "colorbar": {
              "outlinewidth": 0,
              "ticks": ""
             }
            },
            "type": "scattermapbox"
           }
          ],
          "scatterpolar": [
           {
            "marker": {
             "colorbar": {
              "outlinewidth": 0,
              "ticks": ""
             }
            },
            "type": "scatterpolar"
           }
          ],
          "scatterpolargl": [
           {
            "marker": {
             "colorbar": {
              "outlinewidth": 0,
              "ticks": ""
             }
            },
            "type": "scatterpolargl"
           }
          ],
          "scatterternary": [
           {
            "marker": {
             "colorbar": {
              "outlinewidth": 0,
              "ticks": ""
             }
            },
            "type": "scatterternary"
           }
          ],
          "surface": [
           {
            "colorbar": {
             "outlinewidth": 0,
             "ticks": ""
            },
            "colorscale": [
             [
              0.0,
              "#0d0887"
             ],
             [
              0.1111111111111111,
              "#46039f"
             ],
             [
              0.2222222222222222,
              "#7201a8"
             ],
             [
              0.3333333333333333,
              "#9c179e"
             ],
             [
              0.4444444444444444,
              "#bd3786"
             ],
             [
              0.5555555555555556,
              "#d8576b"
             ],
             [
              0.6666666666666666,
              "#ed7953"
             ],
             [
              0.7777777777777778,
              "#fb9f3a"
             ],
             [
              0.8888888888888888,
              "#fdca26"
             ],
             [
              1.0,
              "#f0f921"
             ]
            ],
            "type": "surface"
           }
          ],
          "table": [
           {
            "cells": {
             "fill": {
              "color": "#EBF0F8"
             },
             "line": {
              "color": "white"
             }
            },
            "header": {
             "fill": {
              "color": "#C8D4E3"
             },
             "line": {
              "color": "white"
             }
            },
            "type": "table"
           }
          ]
         },
         "layout": {
          "annotationdefaults": {
           "arrowcolor": "#2a3f5f",
           "arrowhead": 0,
           "arrowwidth": 1
          },
          "autotypenumbers": "strict",
          "coloraxis": {
           "colorbar": {
            "outlinewidth": 0,
            "ticks": ""
           }
          },
          "colorscale": {
           "diverging": [
            [
             0,
             "#8e0152"
            ],
            [
             0.1,
             "#c51b7d"
            ],
            [
             0.2,
             "#de77ae"
            ],
            [
             0.3,
             "#f1b6da"
            ],
            [
             0.4,
             "#fde0ef"
            ],
            [
             0.5,
             "#f7f7f7"
            ],
            [
             0.6,
             "#e6f5d0"
            ],
            [
             0.7,
             "#b8e186"
            ],
            [
             0.8,
             "#7fbc41"
            ],
            [
             0.9,
             "#4d9221"
            ],
            [
             1,
             "#276419"
            ]
           ],
           "sequential": [
            [
             0.0,
             "#0d0887"
            ],
            [
             0.1111111111111111,
             "#46039f"
            ],
            [
             0.2222222222222222,
             "#7201a8"
            ],
            [
             0.3333333333333333,
             "#9c179e"
            ],
            [
             0.4444444444444444,
             "#bd3786"
            ],
            [
             0.5555555555555556,
             "#d8576b"
            ],
            [
             0.6666666666666666,
             "#ed7953"
            ],
            [
             0.7777777777777778,
             "#fb9f3a"
            ],
            [
             0.8888888888888888,
             "#fdca26"
            ],
            [
             1.0,
             "#f0f921"
            ]
           ],
           "sequentialminus": [
            [
             0.0,
             "#0d0887"
            ],
            [
             0.1111111111111111,
             "#46039f"
            ],
            [
             0.2222222222222222,
             "#7201a8"
            ],
            [
             0.3333333333333333,
             "#9c179e"
            ],
            [
             0.4444444444444444,
             "#bd3786"
            ],
            [
             0.5555555555555556,
             "#d8576b"
            ],
            [
             0.6666666666666666,
             "#ed7953"
            ],
            [
             0.7777777777777778,
             "#fb9f3a"
            ],
            [
             0.8888888888888888,
             "#fdca26"
            ],
            [
             1.0,
             "#f0f921"
            ]
           ]
          },
          "colorway": [
           "#636efa",
           "#EF553B",
           "#00cc96",
           "#ab63fa",
           "#FFA15A",
           "#19d3f3",
           "#FF6692",
           "#B6E880",
           "#FF97FF",
           "#FECB52"
          ],
          "font": {
           "color": "#2a3f5f"
          },
          "geo": {
           "bgcolor": "white",
           "lakecolor": "white",
           "landcolor": "#E5ECF6",
           "showlakes": true,
           "showland": true,
           "subunitcolor": "white"
          },
          "hoverlabel": {
           "align": "left"
          },
          "hovermode": "closest",
          "mapbox": {
           "style": "light"
          },
          "paper_bgcolor": "white",
          "plot_bgcolor": "#E5ECF6",
          "polar": {
           "angularaxis": {
            "gridcolor": "white",
            "linecolor": "white",
            "ticks": ""
           },
           "bgcolor": "#E5ECF6",
           "radialaxis": {
            "gridcolor": "white",
            "linecolor": "white",
            "ticks": ""
           }
          },
          "scene": {
           "xaxis": {
            "backgroundcolor": "#E5ECF6",
            "gridcolor": "white",
            "gridwidth": 2,
            "linecolor": "white",
            "showbackground": true,
            "ticks": "",
            "zerolinecolor": "white"
           },
           "yaxis": {
            "backgroundcolor": "#E5ECF6",
            "gridcolor": "white",
            "gridwidth": 2,
            "linecolor": "white",
            "showbackground": true,
            "ticks": "",
            "zerolinecolor": "white"
           },
           "zaxis": {
            "backgroundcolor": "#E5ECF6",
            "gridcolor": "white",
            "gridwidth": 2,
            "linecolor": "white",
            "showbackground": true,
            "ticks": "",
            "zerolinecolor": "white"
           }
          },
          "shapedefaults": {
           "line": {
            "color": "#2a3f5f"
           }
          },
          "ternary": {
           "aaxis": {
            "gridcolor": "white",
            "linecolor": "white",
            "ticks": ""
           },
           "baxis": {
            "gridcolor": "white",
            "linecolor": "white",
            "ticks": ""
           },
           "bgcolor": "#E5ECF6",
           "caxis": {
            "gridcolor": "white",
            "linecolor": "white",
            "ticks": ""
           }
          },
          "title": {
           "x": 0.05
          },
          "xaxis": {
           "automargin": true,
           "gridcolor": "white",
           "linecolor": "white",
           "ticks": "",
           "title": {
            "standoff": 15
           },
           "zerolinecolor": "white",
           "zerolinewidth": 2
          },
          "yaxis": {
           "automargin": true,
           "gridcolor": "white",
           "linecolor": "white",
           "ticks": "",
           "title": {
            "standoff": 15
           },
           "zerolinecolor": "white",
           "zerolinewidth": 2
          }
         }
        },
        "title": {
         "text": "Total Rewards Distribution"
        },
        "xaxis": {
         "range": [
          -500,
          500
         ],
         "title": {
          "text": "Reward"
         }
        },
        "yaxis": {
         "title": {
          "text": "Count"
         }
        }
       }
      },
      "text/html": [
       "<div>                            <div id=\"b8655ee4-507b-4449-a3c5-df7478e296f7\" class=\"plotly-graph-div\" style=\"height:525px; width:100%;\"></div>            <script type=\"text/javascript\">                require([\"plotly\"], function(Plotly) {                    window.PLOTLYENV=window.PLOTLYENV || {};                                    if (document.getElementById(\"b8655ee4-507b-4449-a3c5-df7478e296f7\")) {                    Plotly.newPlot(                        \"b8655ee4-507b-4449-a3c5-df7478e296f7\",                        [{\"x\":[-240.0,-208.66666666666666,-177.33333333333334,-146.0,-114.66666666666667,-83.33333333333334,-52.0,-20.666666666666686,10.666666666666657,42.0,73.33333333333331,104.66666666666663,136.0,167.33333333333331,198.66666666666663,230.0],\"y\":[19,41,110,261,531,707,952,1114,651,346,186,63,14,3,2],\"type\":\"bar\"}],                        {\"template\":{\"data\":{\"histogram2dcontour\":[{\"type\":\"histogram2dcontour\",\"colorbar\":{\"outlinewidth\":0,\"ticks\":\"\"},\"colorscale\":[[0.0,\"#0d0887\"],[0.1111111111111111,\"#46039f\"],[0.2222222222222222,\"#7201a8\"],[0.3333333333333333,\"#9c179e\"],[0.4444444444444444,\"#bd3786\"],[0.5555555555555556,\"#d8576b\"],[0.6666666666666666,\"#ed7953\"],[0.7777777777777778,\"#fb9f3a\"],[0.8888888888888888,\"#fdca26\"],[1.0,\"#f0f921\"]]}],\"choropleth\":[{\"type\":\"choropleth\",\"colorbar\":{\"outlinewidth\":0,\"ticks\":\"\"}}],\"histogram2d\":[{\"type\":\"histogram2d\",\"colorbar\":{\"outlinewidth\":0,\"ticks\":\"\"},\"colorscale\":[[0.0,\"#0d0887\"],[0.1111111111111111,\"#46039f\"],[0.2222222222222222,\"#7201a8\"],[0.3333333333333333,\"#9c179e\"],[0.4444444444444444,\"#bd3786\"],[0.5555555555555556,\"#d8576b\"],[0.6666666666666666,\"#ed7953\"],[0.7777777777777778,\"#fb9f3a\"],[0.8888888888888888,\"#fdca26\"],[1.0,\"#f0f921\"]]}],\"heatmap\":[{\"type\":\"heatmap\",\"colorbar\":{\"outlinewidth\":0,\"ticks\":\"\"},\"colorscale\":[[0.0,\"#0d0887\"],[0.1111111111111111,\"#46039f\"],[0.2222222222222222,\"#7201a8\"],[0.3333333333333333,\"#9c179e\"],[0.4444444444444444,\"#bd3786\"],[0.5555555555555556,\"#d8576b\"],[0.6666666666666666,\"#ed7953\"],[0.7777777777777778,\"#fb9f3a\"],[0.8888888888888888,\"#fdca26\"],[1.0,\"#f0f921\"]]}],\"heatmapgl\":[{\"type\":\"heatmapgl\",\"colorbar\":{\"outlinewidth\":0,\"ticks\":\"\"},\"colorscale\":[[0.0,\"#0d0887\"],[0.1111111111111111,\"#46039f\"],[0.2222222222222222,\"#7201a8\"],[0.3333333333333333,\"#9c179e\"],[0.4444444444444444,\"#bd3786\"],[0.5555555555555556,\"#d8576b\"],[0.6666666666666666,\"#ed7953\"],[0.7777777777777778,\"#fb9f3a\"],[0.8888888888888888,\"#fdca26\"],[1.0,\"#f0f921\"]]}],\"contourcarpet\":[{\"type\":\"contourcarpet\",\"colorbar\":{\"outlinewidth\":0,\"ticks\":\"\"}}],\"contour\":[{\"type\":\"contour\",\"colorbar\":{\"outlinewidth\":0,\"ticks\":\"\"},\"colorscale\":[[0.0,\"#0d0887\"],[0.1111111111111111,\"#46039f\"],[0.2222222222222222,\"#7201a8\"],[0.3333333333333333,\"#9c179e\"],[0.4444444444444444,\"#bd3786\"],[0.5555555555555556,\"#d8576b\"],[0.6666666666666666,\"#ed7953\"],[0.7777777777777778,\"#fb9f3a\"],[0.8888888888888888,\"#fdca26\"],[1.0,\"#f0f921\"]]}],\"surface\":[{\"type\":\"surface\",\"colorbar\":{\"outlinewidth\":0,\"ticks\":\"\"},\"colorscale\":[[0.0,\"#0d0887\"],[0.1111111111111111,\"#46039f\"],[0.2222222222222222,\"#7201a8\"],[0.3333333333333333,\"#9c179e\"],[0.4444444444444444,\"#bd3786\"],[0.5555555555555556,\"#d8576b\"],[0.6666666666666666,\"#ed7953\"],[0.7777777777777778,\"#fb9f3a\"],[0.8888888888888888,\"#fdca26\"],[1.0,\"#f0f921\"]]}],\"mesh3d\":[{\"type\":\"mesh3d\",\"colorbar\":{\"outlinewidth\":0,\"ticks\":\"\"}}],\"scatter\":[{\"fillpattern\":{\"fillmode\":\"overlay\",\"size\":10,\"solidity\":0.2},\"type\":\"scatter\"}],\"parcoords\":[{\"type\":\"parcoords\",\"line\":{\"colorbar\":{\"outlinewidth\":0,\"ticks\":\"\"}}}],\"scatterpolargl\":[{\"type\":\"scatterpolargl\",\"marker\":{\"colorbar\":{\"outlinewidth\":0,\"ticks\":\"\"}}}],\"bar\":[{\"error_x\":{\"color\":\"#2a3f5f\"},\"error_y\":{\"color\":\"#2a3f5f\"},\"marker\":{\"line\":{\"color\":\"#E5ECF6\",\"width\":0.5},\"pattern\":{\"fillmode\":\"overlay\",\"size\":10,\"solidity\":0.2}},\"type\":\"bar\"}],\"scattergeo\":[{\"type\":\"scattergeo\",\"marker\":{\"colorbar\":{\"outlinewidth\":0,\"ticks\":\"\"}}}],\"scatterpolar\":[{\"type\":\"scatterpolar\",\"marker\":{\"colorbar\":{\"outlinewidth\":0,\"ticks\":\"\"}}}],\"histogram\":[{\"marker\":{\"pattern\":{\"fillmode\":\"overlay\",\"size\":10,\"solidity\":0.2}},\"type\":\"histogram\"}],\"scattergl\":[{\"type\":\"scattergl\",\"marker\":{\"colorbar\":{\"outlinewidth\":0,\"ticks\":\"\"}}}],\"scatter3d\":[{\"type\":\"scatter3d\",\"line\":{\"colorbar\":{\"outlinewidth\":0,\"ticks\":\"\"}},\"marker\":{\"colorbar\":{\"outlinewidth\":0,\"ticks\":\"\"}}}],\"scattermapbox\":[{\"type\":\"scattermapbox\",\"marker\":{\"colorbar\":{\"outlinewidth\":0,\"ticks\":\"\"}}}],\"scatterternary\":[{\"type\":\"scatterternary\",\"marker\":{\"colorbar\":{\"outlinewidth\":0,\"ticks\":\"\"}}}],\"scattercarpet\":[{\"type\":\"scattercarpet\",\"marker\":{\"colorbar\":{\"outlinewidth\":0,\"ticks\":\"\"}}}],\"carpet\":[{\"aaxis\":{\"endlinecolor\":\"#2a3f5f\",\"gridcolor\":\"white\",\"linecolor\":\"white\",\"minorgridcolor\":\"white\",\"startlinecolor\":\"#2a3f5f\"},\"baxis\":{\"endlinecolor\":\"#2a3f5f\",\"gridcolor\":\"white\",\"linecolor\":\"white\",\"minorgridcolor\":\"white\",\"startlinecolor\":\"#2a3f5f\"},\"type\":\"carpet\"}],\"table\":[{\"cells\":{\"fill\":{\"color\":\"#EBF0F8\"},\"line\":{\"color\":\"white\"}},\"header\":{\"fill\":{\"color\":\"#C8D4E3\"},\"line\":{\"color\":\"white\"}},\"type\":\"table\"}],\"barpolar\":[{\"marker\":{\"line\":{\"color\":\"#E5ECF6\",\"width\":0.5},\"pattern\":{\"fillmode\":\"overlay\",\"size\":10,\"solidity\":0.2}},\"type\":\"barpolar\"}],\"pie\":[{\"automargin\":true,\"type\":\"pie\"}]},\"layout\":{\"autotypenumbers\":\"strict\",\"colorway\":[\"#636efa\",\"#EF553B\",\"#00cc96\",\"#ab63fa\",\"#FFA15A\",\"#19d3f3\",\"#FF6692\",\"#B6E880\",\"#FF97FF\",\"#FECB52\"],\"font\":{\"color\":\"#2a3f5f\"},\"hovermode\":\"closest\",\"hoverlabel\":{\"align\":\"left\"},\"paper_bgcolor\":\"white\",\"plot_bgcolor\":\"#E5ECF6\",\"polar\":{\"bgcolor\":\"#E5ECF6\",\"angularaxis\":{\"gridcolor\":\"white\",\"linecolor\":\"white\",\"ticks\":\"\"},\"radialaxis\":{\"gridcolor\":\"white\",\"linecolor\":\"white\",\"ticks\":\"\"}},\"ternary\":{\"bgcolor\":\"#E5ECF6\",\"aaxis\":{\"gridcolor\":\"white\",\"linecolor\":\"white\",\"ticks\":\"\"},\"baxis\":{\"gridcolor\":\"white\",\"linecolor\":\"white\",\"ticks\":\"\"},\"caxis\":{\"gridcolor\":\"white\",\"linecolor\":\"white\",\"ticks\":\"\"}},\"coloraxis\":{\"colorbar\":{\"outlinewidth\":0,\"ticks\":\"\"}},\"colorscale\":{\"sequential\":[[0.0,\"#0d0887\"],[0.1111111111111111,\"#46039f\"],[0.2222222222222222,\"#7201a8\"],[0.3333333333333333,\"#9c179e\"],[0.4444444444444444,\"#bd3786\"],[0.5555555555555556,\"#d8576b\"],[0.6666666666666666,\"#ed7953\"],[0.7777777777777778,\"#fb9f3a\"],[0.8888888888888888,\"#fdca26\"],[1.0,\"#f0f921\"]],\"sequentialminus\":[[0.0,\"#0d0887\"],[0.1111111111111111,\"#46039f\"],[0.2222222222222222,\"#7201a8\"],[0.3333333333333333,\"#9c179e\"],[0.4444444444444444,\"#bd3786\"],[0.5555555555555556,\"#d8576b\"],[0.6666666666666666,\"#ed7953\"],[0.7777777777777778,\"#fb9f3a\"],[0.8888888888888888,\"#fdca26\"],[1.0,\"#f0f921\"]],\"diverging\":[[0,\"#8e0152\"],[0.1,\"#c51b7d\"],[0.2,\"#de77ae\"],[0.3,\"#f1b6da\"],[0.4,\"#fde0ef\"],[0.5,\"#f7f7f7\"],[0.6,\"#e6f5d0\"],[0.7,\"#b8e186\"],[0.8,\"#7fbc41\"],[0.9,\"#4d9221\"],[1,\"#276419\"]]},\"xaxis\":{\"gridcolor\":\"white\",\"linecolor\":\"white\",\"ticks\":\"\",\"title\":{\"standoff\":15},\"zerolinecolor\":\"white\",\"automargin\":true,\"zerolinewidth\":2},\"yaxis\":{\"gridcolor\":\"white\",\"linecolor\":\"white\",\"ticks\":\"\",\"title\":{\"standoff\":15},\"zerolinecolor\":\"white\",\"automargin\":true,\"zerolinewidth\":2},\"scene\":{\"xaxis\":{\"backgroundcolor\":\"#E5ECF6\",\"gridcolor\":\"white\",\"linecolor\":\"white\",\"showbackground\":true,\"ticks\":\"\",\"zerolinecolor\":\"white\",\"gridwidth\":2},\"yaxis\":{\"backgroundcolor\":\"#E5ECF6\",\"gridcolor\":\"white\",\"linecolor\":\"white\",\"showbackground\":true,\"ticks\":\"\",\"zerolinecolor\":\"white\",\"gridwidth\":2},\"zaxis\":{\"backgroundcolor\":\"#E5ECF6\",\"gridcolor\":\"white\",\"linecolor\":\"white\",\"showbackground\":true,\"ticks\":\"\",\"zerolinecolor\":\"white\",\"gridwidth\":2}},\"shapedefaults\":{\"line\":{\"color\":\"#2a3f5f\"}},\"annotationdefaults\":{\"arrowcolor\":\"#2a3f5f\",\"arrowhead\":0,\"arrowwidth\":1},\"geo\":{\"bgcolor\":\"white\",\"landcolor\":\"#E5ECF6\",\"subunitcolor\":\"white\",\"showland\":true,\"showlakes\":true,\"lakecolor\":\"white\"},\"title\":{\"x\":0.05},\"mapbox\":{\"style\":\"light\"}}},\"title\":{\"text\":\"Total Rewards Distribution\"},\"xaxis\":{\"title\":{\"text\":\"Reward\"},\"range\":[-500,500]},\"yaxis\":{\"title\":{\"text\":\"Count\"}},\"shapes\":[{\"line\":{\"color\":\"Black\",\"dash\":\"dot\",\"width\":1.5},\"type\":\"line\",\"x0\":-28.554,\"x1\":-28.554,\"y0\":0,\"y1\":1114},{\"line\":{\"color\":\"#cccccc\",\"width\":0.5},\"type\":\"line\",\"x0\":0,\"x1\":0,\"y0\":0,\"y1\":1114}]},                        {\"responsive\": true}                    ).then(function(){\n",
       "                            \n",
       "var gd = document.getElementById('b8655ee4-507b-4449-a3c5-df7478e296f7');\n",
       "var x = new MutationObserver(function (mutations, observer) {{\n",
       "        var display = window.getComputedStyle(gd).display;\n",
       "        if (!display || display === 'none') {{\n",
       "            console.log([gd, 'removed!']);\n",
       "            Plotly.purge(gd);\n",
       "            observer.disconnect();\n",
       "        }}\n",
       "}});\n",
       "\n",
       "// Listen for the removal of the full notebook cells\n",
       "var notebookContainer = gd.closest('#notebook-container');\n",
       "if (notebookContainer) {{\n",
       "    x.observe(notebookContainer, {childList: true});\n",
       "}}\n",
       "\n",
       "// Listen for the clearing of the current output cell\n",
       "var outputEl = gd.closest('.output');\n",
       "if (outputEl) {{\n",
       "    x.observe(outputEl, {childList: true});\n",
       "}}\n",
       "\n",
       "                        })                };                });            </script>        </div>"
      ]
     },
     "metadata": {},
     "output_type": "display_data"
    },
    {
     "name": "stdout",
     "output_type": "stream",
     "text": [
      "Mean reward of: $-28.55\n",
      "Profitable 30.42% of the time.\n"
     ]
    }
   ],
   "source": [
    "def calculate_priority(player_total, dealer_upcard, usable_ace):\n",
    "    if player_total < 12 or player_total > 19:\n",
    "        return 0 \n",
    "    else:\n",
    "        dealer_variance = 0.5 - abs(0.5 - dealer_bust_probabilities[dealer_upcard])\n",
    "        player_variance = 0.5 - abs(0.5 - player_bust_probabilities[(player_total, usable_ace)])\n",
    "        return dealer_variance + player_variance\n",
    "        \n",
    "priorities ={(i,j,k) : 0 for i in range(4,22) for j in range (2, 12) for k in (True, False)}\n",
    "\n",
    "for i,j,k in priorities.keys():\n",
    "    if i < 12:\n",
    "        priorities[i,j,k] = 0\n",
    "    elif i == 21:\n",
    "        priorities[i,j,k] = 0\n",
    "    else:\n",
    "        priorities[i,j,k] = calculate_priority(i,j,k)\n",
    "        \n",
    "\n",
    "class MonteCarloAgent:\n",
    "    def __init__(self, env, priorities, epsilon=0.25, theta=0.5):\n",
    "        '''\n",
    "        Initialize a new agent.\n",
    "\n",
    "        Parameters:\n",
    "            env: The environment in which the agent acts.\n",
    "            epsilon: The probability with which the agent will take a random action (exploration). \n",
    "                     The remaining (1-epsilon) probability will be to choose the best known action (exploitation).\n",
    "\n",
    "        '''\n",
    "        self.reward = 0 \n",
    "        self.priorities = priorities\n",
    "        self.epsilon = epsilon\n",
    "        self.original_epsilon = epsilon\n",
    "        self.theta = theta\n",
    "        self.action_space_size = 2 # Number of actions, in this case just two: hit and stick.\n",
    "        \n",
    "        # State-Action pair Function: Each state-action pair maps to a vector of Q-values.\n",
    "        # For each possible action, there is a Q-value, which is an estimate of the total reward \n",
    "        # the agent can achieve starting from the given state and taking the given action.\n",
    "        self.Q_table = defaultdict(lambda: np.zeros(self.action_space_size))\n",
    "        \n",
    "        # Cumulative sum of rewards for state-action pairs.\n",
    "        self.returns_sum = defaultdict(float)\n",
    "        \n",
    "        # Number of times each state-action pair has been visited.\n",
    "        self.returns_count = defaultdict(float)\n",
    "        \n",
    "        # The policy: Mapping from each state to an action.\n",
    "        self.policy = defaultdict(int)  # Initialize policy dictionary\n",
    "        \n",
    "        # Use our simple stick on 20 strategy as the initial policy\n",
    "        for player_total in range(4, 22):\n",
    "            for dealer_upcard in range(2, 12):\n",
    "                for usable_ace in [False, True]:\n",
    "                    if player_total < 20:\n",
    "                        self.policy[(player_total, dealer_upcard, usable_ace)] = 1\n",
    "        \n",
    "    def reset(self):\n",
    "        '''\n",
    "        Resets the cumulative reward.\n",
    "        '''\n",
    "        self.reward = 0\n",
    "        \n",
    "    def get_probs(self, Q_s):\n",
    "        '''\n",
    "        This function implements an epsilon-greedy policy for a given state.\n",
    "\n",
    "        Parameters:\n",
    "        - Q_s: A numpy array containing the Q-values of all possible actions in the given state.\n",
    "\n",
    "        Returns:\n",
    "        - policy_s: A numpy array representing a probability distribution over all possible actions in the given state. \n",
    "                     The action with the highest Q-value has a probability of 1 - epsilon / action_space_size, \n",
    "                     and all other actions have a probability of epsilon / action_space_size.\n",
    "        '''\n",
    "        # Initialize an array of equal probabilities for each possible action.\n",
    "        # Initially, set all actions to have a probability of epsilon / action_space_size.\n",
    "        # This represents the 'exploration' part of the policy where we choose a random action.\n",
    "        policy_s = np.ones(self.action_space_size) * self.epsilon / self.action_space_size\n",
    "        \n",
    "        # Find the action that has the highest Q-value in the given state.\n",
    "        best_a = np.argmax(Q_s)\n",
    "        \n",
    "        # Update the probability of the best action to be 1 - epsilon (the 'exploitation' part where we choose the best known action),\n",
    "        # plus epsilon / action_space_size (the small chance of selecting the best action randomly during the 'exploration' part).\n",
    "        policy_s[best_a] = 1 - self.epsilon + (self.epsilon / self.action_space_size)\n",
    "        return policy_s\n",
    "        \n",
    "        \n",
    "    def sample_priority(self):\n",
    "        keys = list(self.priorities.keys())\n",
    "        values = list(self.priorities.values())\n",
    "\n",
    "        weighted_random_key = random.choices(keys, weights=values, k=1)[0]\n",
    "        return weighted_random_key\n",
    "\n",
    "\n",
    "    def stochastic_priority_sample(self):\n",
    "        if random.random() > self.theta: # If greater than theta use a weighted priority sample\n",
    "            initial_state = self.sample_priority()\n",
    "            state = env.reset(initial_state)\n",
    "            return state\n",
    "        else:                            # Else just initialize a state normally\n",
    "            state = env.reset()\n",
    "            return state\n",
    "\n",
    "    def generate_episode(self, env):\n",
    "        '''\n",
    "        Generate an episode following the epsilon-greedy policy.\n",
    "\n",
    "        Parameters:\n",
    "            env: The environment in which the agent acts.\n",
    "\n",
    "        Returns:\n",
    "            episode: List of tuples, where each tuple is a (state, action, reward) triplet.\n",
    "            initial_reward: Reward from the initial state, before any actions were taken.\n",
    "\n",
    "        '''\n",
    "        state = self.stochastic_priority_sample()\n",
    "        initial_reward, done = env.calculate_reward(), env.is_done()\n",
    "\n",
    "        episode = []\n",
    "\n",
    "        # If the game ends before the agent can take an action, return the reward but do not generate an episode\n",
    "        if done:\n",
    "            return episode, initial_reward\n",
    "\n",
    "        while not done:\n",
    "            probs = self.get_probs(self.Q_table[state])\n",
    "            action = np.random.choice([0,1], p=probs)\n",
    "\n",
    "            next_state, reward, done, _ = env.action(action)\n",
    "            episode.append((state, action, reward))\n",
    "            state = next_state\n",
    "\n",
    "        return episode, 0\n",
    "    \n",
    "    def learn(self, env, num_episodes, discount_factor=1.0):\n",
    "        '''\n",
    "        Learn from multiple episodes.\n",
    "\n",
    "        Parameters:\n",
    "            env: The environment in which the agent acts.\n",
    "            num_episodes: Number of episodes from which to learn.\n",
    "            discount_factor: The factor by which to discount future rewards.\n",
    "\n",
    "        '''\n",
    "        for i_episode in range(1, num_episodes + 1):\n",
    "            episode, initial_reward = self.generate_episode(env)\n",
    "            self.reward += initial_reward\n",
    "            \n",
    "            # Check if episode is empty and skip to next iteration if so.\n",
    "            if not episode:\n",
    "                continue\n",
    "            \n",
    "            states, actions, rewards = zip(*episode)\n",
    "            discounts = np.array([discount_factor**i for i in range(len(rewards)+1)])\n",
    "            for i, state in enumerate(states):\n",
    "                self.returns_sum[(state, actions[i])] += sum(rewards[i:]*discounts[:-(1+i)])\n",
    "                self.returns_count[(state, actions[i])] += 1.0\n",
    "                self.Q_table[state][actions[i]] = self.returns_sum[(state, actions[i])] / self.returns_count[(state, actions[i])]\n",
    "            for state in self.Q_table:\n",
    "                self.policy[state] = np.argmax(self.Q_table[state])\n",
    "    \n",
    "    def update_policy(self, state):\n",
    "        '''\n",
    "        Update the policy for a specific state.\n",
    "\n",
    "        Parameters:\n",
    "            state: The state for which to update the policy.\n",
    "\n",
    "        '''\n",
    "        self.policy[state] = np.argmax(self.Q_table[state])\n",
    "        \n",
    "        \n",
    "    def step(self, env: Blackjack):\n",
    "        '''\n",
    "        Take one step in the environment following the policy.\n",
    "\n",
    "        Parameters:\n",
    "            env: The environment in which the agent acts.\n",
    "        '''\n",
    "        # Get current state\n",
    "        state = env.get_observations()\n",
    "        # Choose an action based on the current policy\n",
    "        action = self.policy[state]\n",
    "        # Take action and get reward\n",
    "        next_state, reward, done, _ = env.action(action)\n",
    "        # Update cumulative reward\n",
    "        self.reward += reward\n",
    "    \n",
    "        \n",
    "env = Blackjack(n_decks=4)\n",
    "agent_monte_carlo = MonteCarloAgent(env, priorities, epsilon=0.25, theta=0.5)\n",
    "agent_monte_carlo.learn(env, num_episodes=10000000)\n",
    "\n",
    "value_estimates_monte_carlo_agent, avg_reward = first_visit_mc(env, agent_monte_carlo, n_iterations=1000000)\n",
    "plot_value_function(value_estimates_monte_carlo_agent, usable_ace=False)\n",
    "plot_policy(agent_monte_carlo.policy, usable_ace=False, policy_name=\"- Blackjack Optimal Strategy\")\n",
    "\n",
    "env.reset()\n",
    "n_episodes = 50\n",
    "n_simulations = 5000\n",
    "total_rewards = run_simulations(agent_monte_carlo, env, n_episodes, n_simulations)\n",
    "plot_rewards_histogram(total_rewards, bins=15)\n",
    "print(f\"Mean reward of: ${(sum(total_rewards)/n_simulations):.2f}\")\n",
    "print(f\"Profitable {(100*sum([i>0 for i in total_rewards])/n_simulations):.2f}% of the time.\")"
   ]
  }
 ],
 "metadata": {
  "kernelspec": {
   "display_name": "Python 3",
   "language": "python",
   "name": "python3"
  },
  "language_info": {
   "codemirror_mode": {
    "name": "ipython",
    "version": 3
   },
   "file_extension": ".py",
   "mimetype": "text/x-python",
   "name": "python",
   "nbconvert_exporter": "python",
   "pygments_lexer": "ipython3",
   "version": "3.10.10"
  },
  "papermill": {
   "default_parameters": {},
   "duration": 15773.73955,
   "end_time": "2023-06-19T12:59:55.224544",
   "environment_variables": {},
   "exception": null,
   "input_path": "__notebook__.ipynb",
   "output_path": "__notebook__.ipynb",
   "parameters": {},
   "start_time": "2023-06-19T08:37:01.484994",
   "version": "2.4.0"
  }
 },
 "nbformat": 4,
 "nbformat_minor": 5
}
